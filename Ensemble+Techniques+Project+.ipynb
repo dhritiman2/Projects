{
 "cells": [
  {
   "cell_type": "code",
   "execution_count": 1,
   "id": "0cca2c4b",
   "metadata": {},
   "outputs": [],
   "source": [
    "# load the necessary packages  \n",
    "import time\n",
    "start_time = time.time() \n",
    "import numpy as np    \n",
    "import pandas as pd  \n",
    "import scipy.stats as stats \n",
    "from scipy.stats import zscore \n",
    "import matplotlib.pyplot as plt \n",
    "%matplotlib inline\n",
    "import matplotlib.cm as cm\n",
    "from matplotlib.gridspec import GridSpec\n",
    "import seaborn as sns   \n",
    "sns.set(color_codes=True)\n",
    "from sklearn.tree import export_graphviz\n",
    "from six import StringIO  \n",
    "from IPython.display import Image   \n",
    "import pydotplus\n",
    "import graphviz\n",
    "from sklearn.linear_model import LinearRegression\n",
    "from sklearn.linear_model import LogisticRegression\n",
    "from sklearn.linear_model import Ridge\n",
    "from sklearn.linear_model import Lasso\n",
    "from sklearn.naive_bayes import GaussianNB,BernoulliNB,MultinomialNB  \n",
    "from sklearn.neighbors import KNeighborsClassifier \n",
    "from sklearn.svm import SVC \n",
    "from sklearn.tree import DecisionTreeClassifier\n",
    "from sklearn.tree import DecisionTreeRegressor\n",
    "from sklearn.ensemble import BaggingClassifier\n",
    "from sklearn.ensemble import AdaBoostClassifier\n",
    "from sklearn.ensemble import GradientBoostingClassifier \n",
    "from sklearn.ensemble import RandomForestClassifier \n",
    "import xgboost as xgb \n",
    "xgb.set_config (verbosity=0)\n",
    "from xgboost import XGBClassifier \n",
    "from sklearn.model_selection import train_test_split \n",
    "from sklearn import metrics\n",
    "from sklearn.model_selection import KFold \n",
    "from sklearn.model_selection import cross_val_score \n",
    "from sklearn import preprocessing\n",
    "from sklearn.metrics import average_precision_score \n",
    "from sklearn.metrics import confusion_matrix\n",
    "from sklearn.metrics import accuracy_score,f1_score,recall_score,precision_score\n",
    "from sklearn.metrics import classification_report\n",
    "from sklearn.metrics import plot_confusion_matrix \n",
    "from sklearn.metrics import roc_curve \n",
    "from sklearn.metrics import auc\n",
    "from sklearn.metrics import mean_squared_error\n",
    "from sklearn.metrics import mean_absolute_error \n",
    "from sklearn.metrics import r2_score \n",
    "from sklearn.model_selection import GridSearchCV\n",
    "from sklearn.model_selection import RandomizedSearchCV \n",
    "from hyperopt import hp\n",
    "from sklearn.impute import SimpleImputer \n",
    "from sklearn.impute import KNNImputer  \n",
    "from sklearn.preprocessing import LabelEncoder \n",
    "from sklearn.preprocessing import LabelBinarizer \n",
    "from sklearn.preprocessing import Normalizer   \n",
    "from sklearn.preprocessing import OneHotEncoder \n",
    "from sklearn.pipeline import Pipeline, FeatureUnion\n",
    "from sklearn.base import BaseEstimator, TransformerMixin\n",
    "from sklearn.compose import ColumnTransformer\n",
    "from pyspark.ml.feature import StringIndexer \n",
    "import statsmodels.formula.api as sm \n",
    "import math \n",
    "import pickle\n",
    "import joblib\n",
    "import os\n",
    "from hyperopt import STATUS_OK, Trials, fmin, hp, tpe \n",
    "from flask import Flask, request, jsonify \n",
    "import requests\n",
    "import json \n",
    "from collections import Counter\n",
    "random_state = np.random.RandomState(0) \n",
    "from sklearn.feature_extraction.text import CountVectorizer   \n",
    "from sklearn.preprocessing import MinMaxScaler\n",
    "from sklearn.preprocessing import StandardScaler \n",
    "from sklearn.preprocessing import RobustScaler\n",
    "import copy \n",
    "import warnings \n",
    "warnings.filterwarnings('ignore')    "
   ]
  },
  {
   "cell_type": "code",
   "execution_count": 2,
   "id": "36372f70",
   "metadata": {},
   "outputs": [],
   "source": [
    "# Part A \n",
    "# Domain: Telecom"
   ]
  },
  {
   "cell_type": "code",
   "execution_count": 3,
   "id": "e980cbd9",
   "metadata": {},
   "outputs": [],
   "source": [
    "# 1. Data Understanding & Exploration"
   ]
  },
  {
   "cell_type": "code",
   "execution_count": 4,
   "id": "9b5c06a1",
   "metadata": {},
   "outputs": [],
   "source": [
    "# Part A 1(A) \n",
    "# Read ‘TelcomCustomer-Churn_1.csv’ as a DataFrame and assign it to a variable \n",
    "# Solution \n",
    "TelcomCustomerChurn_1 = pd.read_csv ('TelcomCustomer-Churn_1.csv')\n",
    "TelcomCustomerChurn_1_New = pd.DataFrame(TelcomCustomerChurn_1)"
   ]
  },
  {
   "cell_type": "code",
   "execution_count": 5,
   "id": "17f91a3c",
   "metadata": {},
   "outputs": [],
   "source": [
    "# Part A 1(B) \n",
    "# Read ‘TelcomCustomer-Churn_2.csv’ as a DataFrame and assign it to a variable. \n",
    "TelcomCustomerChurn_2 = pd.read_csv ('TelcomCustomer-Churn_2.csv')\n",
    "TelcomCustomerChurn_2_New = pd.DataFrame(TelcomCustomerChurn_2) "
   ]
  },
  {
   "cell_type": "code",
   "execution_count": 6,
   "id": "ec3c1ff3",
   "metadata": {},
   "outputs": [],
   "source": [
    "# Part A 1(C) \n",
    "# Merge both the DataFrames on key ‘customerID’ to form a single DataFrame\n",
    "# Solution \n",
    "TelcomCustomerChurn = pd.merge(TelcomCustomerChurn_1_New,TelcomCustomerChurn_2_New, on='customerID')"
   ]
  },
  {
   "cell_type": "code",
   "execution_count": 7,
   "id": "6afca966",
   "metadata": {},
   "outputs": [],
   "source": [
    "# Part A 1(D) \n",
    "# Verify if all the columns are incorporated in the merged DataFrame by using simple comparison Operator in Python"
   ]
  },
  {
   "cell_type": "code",
   "execution_count": 8,
   "id": "e99d6b0d",
   "metadata": {},
   "outputs": [
    {
     "name": "stdout",
     "output_type": "stream",
     "text": [
      "DIFFERENT COLUMNS\n"
     ]
    }
   ],
   "source": [
    "# Solution  \n",
    "columns = list(map(lambda x: list(x.columns),[TelcomCustomerChurn_1_New,TelcomCustomerChurn_2_New,TelcomCustomerChurn]))\n",
    "data = pd.DataFrame(columns)\n",
    "data = data.fillna(\"\") \n",
    "data.drop_duplicates(keep=\"first\", inplace=True)\n",
    "if len(data) > 1:\n",
    "  print(\"DIFFERENT COLUMNS\") "
   ]
  },
  {
   "cell_type": "code",
   "execution_count": 9,
   "id": "2dbc1330",
   "metadata": {},
   "outputs": [
    {
     "data": {
      "text/plain": [
       "Index(['customerID', 'gender', 'SeniorCitizen', 'Partner', 'Dependents',\n",
       "       'tenure', 'PhoneService', 'MultipleLines', 'InternetService',\n",
       "       'OnlineSecurity'],\n",
       "      dtype='object')"
      ]
     },
     "execution_count": 9,
     "metadata": {},
     "output_type": "execute_result"
    }
   ],
   "source": [
    "TelcomCustomerChurn_1_New.columns  "
   ]
  },
  {
   "cell_type": "code",
   "execution_count": 10,
   "id": "cc7e5f61",
   "metadata": {},
   "outputs": [
    {
     "data": {
      "text/plain": [
       "Index(['customerID', 'OnlineBackup', 'DeviceProtection', 'TechSupport',\n",
       "       'StreamingTV', 'StreamingMovies', 'Contract', 'PaperlessBilling',\n",
       "       'PaymentMethod', 'MonthlyCharges', 'TotalCharges', 'Churn'],\n",
       "      dtype='object')"
      ]
     },
     "execution_count": 10,
     "metadata": {},
     "output_type": "execute_result"
    }
   ],
   "source": [
    "TelcomCustomerChurn_2_New.columns "
   ]
  },
  {
   "cell_type": "code",
   "execution_count": 11,
   "id": "67b742dd",
   "metadata": {},
   "outputs": [
    {
     "data": {
      "text/plain": [
       "Index(['customerID', 'gender', 'SeniorCitizen', 'Partner', 'Dependents',\n",
       "       'tenure', 'PhoneService', 'MultipleLines', 'InternetService',\n",
       "       'OnlineSecurity', 'OnlineBackup', 'DeviceProtection', 'TechSupport',\n",
       "       'StreamingTV', 'StreamingMovies', 'Contract', 'PaperlessBilling',\n",
       "       'PaymentMethod', 'MonthlyCharges', 'TotalCharges', 'Churn'],\n",
       "      dtype='object')"
      ]
     },
     "execution_count": 11,
     "metadata": {},
     "output_type": "execute_result"
    }
   ],
   "source": [
    "TelcomCustomerChurn.columns "
   ]
  },
  {
   "cell_type": "code",
   "execution_count": 12,
   "id": "857282b6",
   "metadata": {},
   "outputs": [],
   "source": [
    "# Method 1: (For verifying that all the columns are incorporated in the merged DataFrame) "
   ]
  },
  {
   "cell_type": "code",
   "execution_count": 13,
   "id": "6ef0ff12",
   "metadata": {},
   "outputs": [
    {
     "data": {
      "text/plain": [
       "Index([], dtype='object')"
      ]
     },
     "execution_count": 13,
     "metadata": {},
     "output_type": "execute_result"
    }
   ],
   "source": [
    "# Columns in TelcomCustomerChurn_1_New not in the merged dataframe TelcomCustomerChurn\n",
    "TelcomCustomerChurn_1_New.columns.difference(TelcomCustomerChurn.columns) "
   ]
  },
  {
   "cell_type": "code",
   "execution_count": 14,
   "id": "379f4537",
   "metadata": {},
   "outputs": [
    {
     "data": {
      "text/plain": [
       "Index([], dtype='object')"
      ]
     },
     "execution_count": 14,
     "metadata": {},
     "output_type": "execute_result"
    }
   ],
   "source": [
    "# Columns in TelcomCustomerChurn_2_New not in merged dataframe TelcomCustomerChurn\n",
    "TelcomCustomerChurn_2_New.columns.difference(TelcomCustomerChurn.columns)  "
   ]
  },
  {
   "cell_type": "code",
   "execution_count": 15,
   "id": "562b4e6b",
   "metadata": {},
   "outputs": [],
   "source": [
    "# The empty index shows that all the columns in TelcomCustomerChurn_1_New and TelcomCustomerChurn_2_New \n",
    "# are incorporated in the merged dataFrame TelcomCustomerChurn"
   ]
  },
  {
   "cell_type": "code",
   "execution_count": 16,
   "id": "eee7eb43",
   "metadata": {},
   "outputs": [],
   "source": [
    "# Method 2: (For verifying that all the columns are incorporated in the merged DataFrame) "
   ]
  },
  {
   "cell_type": "code",
   "execution_count": 17,
   "id": "38a3c797",
   "metadata": {},
   "outputs": [
    {
     "name": "stdout",
     "output_type": "stream",
     "text": [
      "{'InternetService', 'Contract', 'OnlineBackup', 'PhoneService', 'OnlineSecurity', 'tenure', 'gender', 'StreamingTV', 'Dependents', 'Partner', 'TechSupport', 'StreamingMovies', 'DeviceProtection', 'MultipleLines', 'TotalCharges', 'Churn', 'SeniorCitizen', 'customerID', 'PaymentMethod', 'MonthlyCharges', 'PaperlessBilling'}\n"
     ]
    }
   ],
   "source": [
    "# Using Set theory \n",
    "Union = set(TelcomCustomerChurn_1_New.columns).union(set(TelcomCustomerChurn_2_New.columns)) \n",
    "print(Union)"
   ]
  },
  {
   "cell_type": "code",
   "execution_count": 18,
   "id": "0e12fdfa",
   "metadata": {},
   "outputs": [
    {
     "name": "stdout",
     "output_type": "stream",
     "text": [
      "{'tenure', 'TechSupport', 'StreamingMovies', 'MultipleLines', 'customerID', 'PaymentMethod', 'InternetService', 'Contract', 'OnlineBackup', 'PhoneService', 'OnlineSecurity', 'gender', 'StreamingTV', 'Dependents', 'Partner', 'DeviceProtection', 'TotalCharges', 'Churn', 'SeniorCitizen', 'MonthlyCharges', 'PaperlessBilling'}\n"
     ]
    }
   ],
   "source": [
    "MergedDataframe = set(TelcomCustomerChurn.columns)\n",
    "print(MergedDataframe)"
   ]
  },
  {
   "cell_type": "code",
   "execution_count": 19,
   "id": "4830cf3e",
   "metadata": {},
   "outputs": [
    {
     "name": "stdout",
     "output_type": "stream",
     "text": [
      "True\n"
     ]
    }
   ],
   "source": [
    "if (Union == MergedDataframe):\n",
    "    print(\"True\")\n",
    "else:\n",
    "    print(\"False\")"
   ]
  },
  {
   "cell_type": "code",
   "execution_count": 20,
   "id": "98f1147c",
   "metadata": {},
   "outputs": [],
   "source": [
    "# Hence, all the columns of TelcomCustomerChurn_1_New and TelcomCustomerChurn_2_New were incorporated in the merged \n",
    "# dataframe TelcomCustomerChurn"
   ]
  },
  {
   "cell_type": "code",
   "execution_count": 21,
   "id": "e2c1a293",
   "metadata": {},
   "outputs": [],
   "source": [
    "# 2. Data Cleaning & Analysis:"
   ]
  },
  {
   "cell_type": "code",
   "execution_count": 22,
   "id": "100e45a6",
   "metadata": {},
   "outputs": [],
   "source": [
    "# Part A 2(A) \n",
    "# Impute missing/unexpected values in the DataFrame "
   ]
  },
  {
   "cell_type": "code",
   "execution_count": 23,
   "id": "a765a116",
   "metadata": {},
   "outputs": [
    {
     "data": {
      "text/plain": [
       "(7043, 21)"
      ]
     },
     "execution_count": 23,
     "metadata": {},
     "output_type": "execute_result"
    }
   ],
   "source": [
    "TelcomCustomerChurn.shape   "
   ]
  },
  {
   "cell_type": "code",
   "execution_count": 24,
   "id": "0a848977",
   "metadata": {},
   "outputs": [
    {
     "data": {
      "text/plain": [
       "customerID          0\n",
       "gender              0\n",
       "SeniorCitizen       0\n",
       "Partner             0\n",
       "Dependents          0\n",
       "tenure              0\n",
       "PhoneService        0\n",
       "MultipleLines       0\n",
       "InternetService     0\n",
       "OnlineSecurity      0\n",
       "OnlineBackup        0\n",
       "DeviceProtection    0\n",
       "TechSupport         0\n",
       "StreamingTV         0\n",
       "StreamingMovies     0\n",
       "Contract            0\n",
       "PaperlessBilling    0\n",
       "PaymentMethod       0\n",
       "MonthlyCharges      0\n",
       "TotalCharges        0\n",
       "Churn               0\n",
       "dtype: int64"
      ]
     },
     "execution_count": 24,
     "metadata": {},
     "output_type": "execute_result"
    }
   ],
   "source": [
    "TelcomCustomerChurn.isnull().sum()"
   ]
  },
  {
   "cell_type": "code",
   "execution_count": 25,
   "id": "97e9ec1d",
   "metadata": {},
   "outputs": [
    {
     "data": {
      "text/plain": [
       "customerID          7043\n",
       "gender              7043\n",
       "SeniorCitizen       7043\n",
       "Partner             7043\n",
       "Dependents          7043\n",
       "tenure              7043\n",
       "PhoneService        7043\n",
       "MultipleLines       7043\n",
       "InternetService     7043\n",
       "OnlineSecurity      7043\n",
       "OnlineBackup        7043\n",
       "DeviceProtection    7043\n",
       "TechSupport         7043\n",
       "StreamingTV         7043\n",
       "StreamingMovies     7043\n",
       "Contract            7043\n",
       "PaperlessBilling    7043\n",
       "PaymentMethod       7043\n",
       "MonthlyCharges      7043\n",
       "TotalCharges        7043\n",
       "Churn               7043\n",
       "dtype: int64"
      ]
     },
     "execution_count": 25,
     "metadata": {},
     "output_type": "execute_result"
    }
   ],
   "source": [
    "TelcomCustomerChurn.notnull().count()  "
   ]
  },
  {
   "cell_type": "code",
   "execution_count": 26,
   "id": "93567fe2",
   "metadata": {},
   "outputs": [],
   "source": [
    "# There are no null values in the dataset "
   ]
  },
  {
   "cell_type": "code",
   "execution_count": 27,
   "id": "e23139ca",
   "metadata": {},
   "outputs": [
    {
     "name": "stdout",
     "output_type": "stream",
     "text": [
      "<class 'pandas.core.frame.DataFrame'>\n",
      "Int64Index: 7043 entries, 0 to 7042\n",
      "Data columns (total 21 columns):\n",
      " #   Column            Non-Null Count  Dtype  \n",
      "---  ------            --------------  -----  \n",
      " 0   customerID        7043 non-null   object \n",
      " 1   gender            7043 non-null   object \n",
      " 2   SeniorCitizen     7043 non-null   int64  \n",
      " 3   Partner           7043 non-null   object \n",
      " 4   Dependents        7043 non-null   object \n",
      " 5   tenure            7043 non-null   int64  \n",
      " 6   PhoneService      7043 non-null   object \n",
      " 7   MultipleLines     7043 non-null   object \n",
      " 8   InternetService   7043 non-null   object \n",
      " 9   OnlineSecurity    7043 non-null   object \n",
      " 10  OnlineBackup      7043 non-null   object \n",
      " 11  DeviceProtection  7043 non-null   object \n",
      " 12  TechSupport       7043 non-null   object \n",
      " 13  StreamingTV       7043 non-null   object \n",
      " 14  StreamingMovies   7043 non-null   object \n",
      " 15  Contract          7043 non-null   object \n",
      " 16  PaperlessBilling  7043 non-null   object \n",
      " 17  PaymentMethod     7043 non-null   object \n",
      " 18  MonthlyCharges    7043 non-null   float64\n",
      " 19  TotalCharges      7043 non-null   object \n",
      " 20  Churn             7043 non-null   object \n",
      "dtypes: float64(1), int64(2), object(18)\n",
      "memory usage: 1.2+ MB\n"
     ]
    }
   ],
   "source": [
    "TelcomCustomerChurn.info()"
   ]
  },
  {
   "cell_type": "code",
   "execution_count": 28,
   "id": "07a17f33",
   "metadata": {},
   "outputs": [],
   "source": [
    "# Here, we found an anomaly in TotalCharges datatype. Ideally, it should have been Float but it was idenifed as \n",
    "# Object datatype. Upon closer inspection, I found that the TotalCharges column has blank data which Python was unable \n",
    "# to detect as null values. That may have resulted in TotalCharges datatype being tagged as Object in lieu of Float. "
   ]
  },
  {
   "cell_type": "code",
   "execution_count": 29,
   "id": "1df7ab21",
   "metadata": {},
   "outputs": [],
   "source": [
    "# Replacing the blank values with nan\n",
    "TelcomCustomerChurn1 = TelcomCustomerChurn.replace(r'^\\s*$', np.nan, regex=True)"
   ]
  },
  {
   "cell_type": "code",
   "execution_count": 30,
   "id": "edac6b3a",
   "metadata": {},
   "outputs": [
    {
     "name": "stdout",
     "output_type": "stream",
     "text": [
      "<class 'pandas.core.frame.DataFrame'>\n",
      "Int64Index: 7043 entries, 0 to 7042\n",
      "Data columns (total 21 columns):\n",
      " #   Column            Non-Null Count  Dtype  \n",
      "---  ------            --------------  -----  \n",
      " 0   customerID        7043 non-null   object \n",
      " 1   gender            7043 non-null   object \n",
      " 2   SeniorCitizen     7043 non-null   int64  \n",
      " 3   Partner           7043 non-null   object \n",
      " 4   Dependents        7043 non-null   object \n",
      " 5   tenure            7043 non-null   int64  \n",
      " 6   PhoneService      7043 non-null   object \n",
      " 7   MultipleLines     7043 non-null   object \n",
      " 8   InternetService   7043 non-null   object \n",
      " 9   OnlineSecurity    7043 non-null   object \n",
      " 10  OnlineBackup      7043 non-null   object \n",
      " 11  DeviceProtection  7043 non-null   object \n",
      " 12  TechSupport       7043 non-null   object \n",
      " 13  StreamingTV       7043 non-null   object \n",
      " 14  StreamingMovies   7043 non-null   object \n",
      " 15  Contract          7043 non-null   object \n",
      " 16  PaperlessBilling  7043 non-null   object \n",
      " 17  PaymentMethod     7043 non-null   object \n",
      " 18  MonthlyCharges    7043 non-null   float64\n",
      " 19  TotalCharges      7032 non-null   object \n",
      " 20  Churn             7043 non-null   object \n",
      "dtypes: float64(1), int64(2), object(18)\n",
      "memory usage: 1.2+ MB\n"
     ]
    }
   ],
   "source": [
    "TelcomCustomerChurn1.info()"
   ]
  },
  {
   "cell_type": "code",
   "execution_count": 31,
   "id": "dbbc974d",
   "metadata": {},
   "outputs": [],
   "source": [
    "# TelcomCustomerChurn1['TotalCharges'] has 7032 non null values"
   ]
  },
  {
   "cell_type": "code",
   "execution_count": 32,
   "id": "b4cf5575",
   "metadata": {},
   "outputs": [
    {
     "data": {
      "text/plain": [
       "11"
      ]
     },
     "execution_count": 32,
     "metadata": {},
     "output_type": "execute_result"
    }
   ],
   "source": [
    "TelcomCustomerChurn1['TotalCharges'].isnull().sum() "
   ]
  },
  {
   "cell_type": "code",
   "execution_count": 33,
   "id": "665da9e3",
   "metadata": {},
   "outputs": [],
   "source": [
    "# 11 observations in TelcomCustomerChurn1['TotalCharges'] are Null\n",
    "# As MonthlyCharges data is given corresponding the missing TotalCharges, so we can't impute 0 in place of Null values\n",
    "# Proportion of null values "
   ]
  },
  {
   "cell_type": "code",
   "execution_count": 34,
   "id": "9a6d2d75",
   "metadata": {},
   "outputs": [
    {
     "data": {
      "text/plain": [
       "0.001561834445548772"
      ]
     },
     "execution_count": 34,
     "metadata": {},
     "output_type": "execute_result"
    }
   ],
   "source": [
    "11/7043"
   ]
  },
  {
   "cell_type": "code",
   "execution_count": 35,
   "id": "c762dbdc",
   "metadata": {},
   "outputs": [],
   "source": [
    "# A paltry 0.16% of the observations is null. As few instances contain missing values, removing them from the dataset won't be\n",
    "# a cause of worry. \n",
    "# The missing values in TelcomCustomerChurn1['TotalCharges'] is a Missing at Random data. \n",
    "# As per Wikipedia, 'Missing at random (MAR) occurs when the missingness is not random, but where missingness can be fully \n",
    "# accounted for by variables where there is complete information.'\n",
    "# Its essentially a recording error. "
   ]
  },
  {
   "cell_type": "code",
   "execution_count": 36,
   "id": "0548d409",
   "metadata": {},
   "outputs": [
    {
     "data": {
      "text/plain": [
       "<AxesSubplot:xlabel='TotalCharges', ylabel='Density'>"
      ]
     },
     "execution_count": 36,
     "metadata": {},
     "output_type": "execute_result"
    },
    {
     "data": {
      "image/png": "[encoded data removed]",
      "text/plain": [
       "<Figure size 1080x216 with 1 Axes>"
      ]
     },
     "metadata": {},
     "output_type": "display_data"
    }
   ],
   "source": [
    "# Distribution of TelcomCustomerChurn1['TotalCharges']\n",
    "ax = plt.subplots(figsize=(15,3))      \n",
    "plt.grid(False)\n",
    "sns.distplot(TelcomCustomerChurn1.TotalCharges)"
   ]
  },
  {
   "cell_type": "code",
   "execution_count": 37,
   "id": "cf7102ef",
   "metadata": {},
   "outputs": [],
   "source": [
    "# TelcomCustomerChurn1['TotalCharges'] is a skewed distribution, hence Median can be used as substitute for \n",
    "# imputation of missing values "
   ]
  },
  {
   "cell_type": "code",
   "execution_count": 38,
   "id": "e15e3e3d",
   "metadata": {},
   "outputs": [
    {
     "name": "stdout",
     "output_type": "stream",
     "text": [
      "<class 'pandas.core.frame.DataFrame'>\n",
      "Int64Index: 7043 entries, 0 to 7042\n",
      "Data columns (total 21 columns):\n",
      " #   Column            Non-Null Count  Dtype  \n",
      "---  ------            --------------  -----  \n",
      " 0   customerID        7043 non-null   object \n",
      " 1   gender            7043 non-null   object \n",
      " 2   SeniorCitizen     7043 non-null   int64  \n",
      " 3   Partner           7043 non-null   object \n",
      " 4   Dependents        7043 non-null   object \n",
      " 5   tenure            7043 non-null   int64  \n",
      " 6   PhoneService      7043 non-null   object \n",
      " 7   MultipleLines     7043 non-null   object \n",
      " 8   InternetService   7043 non-null   object \n",
      " 9   OnlineSecurity    7043 non-null   object \n",
      " 10  OnlineBackup      7043 non-null   object \n",
      " 11  DeviceProtection  7043 non-null   object \n",
      " 12  TechSupport       7043 non-null   object \n",
      " 13  StreamingTV       7043 non-null   object \n",
      " 14  StreamingMovies   7043 non-null   object \n",
      " 15  Contract          7043 non-null   object \n",
      " 16  PaperlessBilling  7043 non-null   object \n",
      " 17  PaymentMethod     7043 non-null   object \n",
      " 18  MonthlyCharges    7043 non-null   float64\n",
      " 19  TotalCharges      7043 non-null   float64\n",
      " 20  Churn             7043 non-null   object \n",
      "dtypes: float64(2), int64(2), object(17)\n",
      "memory usage: 1.2+ MB\n"
     ]
    }
   ],
   "source": [
    "imputer = SimpleImputer(strategy='median', missing_values=np.nan)\n",
    "imputer = imputer.fit(TelcomCustomerChurn1[['TotalCharges']])\n",
    "TelcomCustomerChurn1[['TotalCharges']] = imputer.transform(TelcomCustomerChurn1[['TotalCharges']])\n",
    "TelcomCustomerChurn1.info()"
   ]
  },
  {
   "cell_type": "code",
   "execution_count": 39,
   "id": "eb548a7b",
   "metadata": {},
   "outputs": [
    {
     "data": {
      "text/plain": [
       "1397.475"
      ]
     },
     "execution_count": 39,
     "metadata": {},
     "output_type": "execute_result"
    }
   ],
   "source": [
    "TelcomCustomerChurn1['TotalCharges'].median()"
   ]
  },
  {
   "cell_type": "code",
   "execution_count": 40,
   "id": "4d34f6bc",
   "metadata": {},
   "outputs": [],
   "source": [
    "# TelcomCustomerChurn1 has no null values as we have substituted the null values in TelcomCustomerChurn1['TotalCharges'] with \n",
    "# Median. The data type of TotalCharges changes to Float from Object. "
   ]
  },
  {
   "cell_type": "code",
   "execution_count": 41,
   "id": "f6edc152",
   "metadata": {},
   "outputs": [
    {
     "data": {
      "text/plain": [
       "Index(['customerID', 'gender', 'Partner', 'Dependents', 'tenure',\n",
       "       'PhoneService', 'MultipleLines', 'InternetService', 'OnlineSecurity',\n",
       "       'OnlineBackup', 'DeviceProtection', 'TechSupport', 'StreamingTV',\n",
       "       'StreamingMovies', 'Contract', 'PaperlessBilling', 'PaymentMethod',\n",
       "       'MonthlyCharges', 'TotalCharges', 'Churn'],\n",
       "      dtype='object')"
      ]
     },
     "execution_count": 41,
     "metadata": {},
     "output_type": "execute_result"
    }
   ],
   "source": [
    "# Dropping TelcomCustomerChurn1(['SeniorCitizen'] as it's Boolean. Summary statistics on Boolean data does not make sense.  \n",
    "TelcomCustomerChurn1.drop(['SeniorCitizen'], axis=1).columns"
   ]
  },
  {
   "cell_type": "code",
   "execution_count": 42,
   "id": "873f7482",
   "metadata": {},
   "outputs": [
    {
     "data": {
      "text/html": [
       "<div>\n",
       "<style scoped>\n",
       "    .dataframe tbody tr th:only-of-type {\n",
       "        vertical-align: middle;\n",
       "    }\n",
       "\n",
       "    .dataframe tbody tr th {\n",
       "        vertical-align: top;\n",
       "    }\n",
       "\n",
       "    .dataframe thead th {\n",
       "        text-align: right;\n",
       "    }\n",
       "</style>\n",
       "<table border=\"1\" class=\"dataframe\">\n",
       "  <thead>\n",
       "    <tr style=\"text-align: right;\">\n",
       "      <th></th>\n",
       "      <th>count</th>\n",
       "      <th>mean</th>\n",
       "      <th>std</th>\n",
       "      <th>min</th>\n",
       "      <th>25%</th>\n",
       "      <th>50%</th>\n",
       "      <th>75%</th>\n",
       "      <th>max</th>\n",
       "    </tr>\n",
       "  </thead>\n",
       "  <tbody>\n",
       "    <tr>\n",
       "      <th>tenure</th>\n",
       "      <td>7043.0</td>\n",
       "      <td>32.371149</td>\n",
       "      <td>24.559481</td>\n",
       "      <td>0.00</td>\n",
       "      <td>9.000</td>\n",
       "      <td>29.000</td>\n",
       "      <td>55.00</td>\n",
       "      <td>72.00</td>\n",
       "    </tr>\n",
       "    <tr>\n",
       "      <th>MonthlyCharges</th>\n",
       "      <td>7043.0</td>\n",
       "      <td>64.761692</td>\n",
       "      <td>30.090047</td>\n",
       "      <td>18.25</td>\n",
       "      <td>35.500</td>\n",
       "      <td>70.350</td>\n",
       "      <td>89.85</td>\n",
       "      <td>118.75</td>\n",
       "    </tr>\n",
       "    <tr>\n",
       "      <th>TotalCharges</th>\n",
       "      <td>7043.0</td>\n",
       "      <td>2281.916928</td>\n",
       "      <td>2265.270398</td>\n",
       "      <td>18.80</td>\n",
       "      <td>402.225</td>\n",
       "      <td>1397.475</td>\n",
       "      <td>3786.60</td>\n",
       "      <td>8684.80</td>\n",
       "    </tr>\n",
       "  </tbody>\n",
       "</table>\n",
       "</div>"
      ],
      "text/plain": [
       "                 count         mean          std    min      25%       50%  \\\n",
       "tenure          7043.0    32.371149    24.559481   0.00    9.000    29.000   \n",
       "MonthlyCharges  7043.0    64.761692    30.090047  18.25   35.500    70.350   \n",
       "TotalCharges    7043.0  2281.916928  2265.270398  18.80  402.225  1397.475   \n",
       "\n",
       "                    75%      max  \n",
       "tenure            55.00    72.00  \n",
       "MonthlyCharges    89.85   118.75  \n",
       "TotalCharges    3786.60  8684.80  "
      ]
     },
     "execution_count": 42,
     "metadata": {},
     "output_type": "execute_result"
    }
   ],
   "source": [
    "TelcomCustomerChurn1.drop(['SeniorCitizen'], axis=1).describe(exclude=['object']).transpose()"
   ]
  },
  {
   "cell_type": "code",
   "execution_count": 43,
   "id": "49c77661",
   "metadata": {},
   "outputs": [
    {
     "data": {
      "text/plain": [
       "Index(['customerID', 'gender', 'SeniorCitizen', 'Partner', 'Dependents',\n",
       "       'tenure', 'PhoneService', 'MultipleLines', 'InternetService',\n",
       "       'OnlineSecurity', 'OnlineBackup', 'DeviceProtection', 'TechSupport',\n",
       "       'StreamingTV', 'StreamingMovies', 'Contract', 'PaperlessBilling',\n",
       "       'PaymentMethod', 'MonthlyCharges', 'TotalCharges', 'Churn'],\n",
       "      dtype='object')"
      ]
     },
     "execution_count": 43,
     "metadata": {},
     "output_type": "execute_result"
    }
   ],
   "source": [
    "# Resultant merged dataframe after imputation of missing values \n",
    "TelcomCustomerChurn1.columns "
   ]
  },
  {
   "cell_type": "code",
   "execution_count": 44,
   "id": "f4be7f46",
   "metadata": {},
   "outputs": [],
   "source": [
    "# Part A 2(B) \n",
    "# Make sure all the variables with continuous values are of ‘Float’ type"
   ]
  },
  {
   "cell_type": "code",
   "execution_count": 45,
   "id": "f124cd2e",
   "metadata": {},
   "outputs": [
    {
     "data": {
      "text/plain": [
       "0        29.85\n",
       "1        56.95\n",
       "2        53.85\n",
       "3        42.30\n",
       "4        70.70\n",
       "         ...  \n",
       "7038     84.80\n",
       "7039    103.20\n",
       "7040     29.60\n",
       "7041     74.40\n",
       "7042    105.65\n",
       "Name: MonthlyCharges, Length: 7043, dtype: float64"
      ]
     },
     "execution_count": 45,
     "metadata": {},
     "output_type": "execute_result"
    }
   ],
   "source": [
    "# Solution\n",
    "TelcomCustomerChurn1.MonthlyCharges = TelcomCustomerChurn1.MonthlyCharges.astype(float)\n",
    "TelcomCustomerChurn1.MonthlyCharges"
   ]
  },
  {
   "cell_type": "code",
   "execution_count": 46,
   "id": "a9d9c26b",
   "metadata": {},
   "outputs": [
    {
     "data": {
      "text/plain": [
       "0         29.85\n",
       "1       1889.50\n",
       "2        108.15\n",
       "3       1840.75\n",
       "4        151.65\n",
       "         ...   \n",
       "7038    1990.50\n",
       "7039    7362.90\n",
       "7040     346.45\n",
       "7041     306.60\n",
       "7042    6844.50\n",
       "Name: TotalCharges, Length: 7043, dtype: float64"
      ]
     },
     "execution_count": 46,
     "metadata": {},
     "output_type": "execute_result"
    }
   ],
   "source": [
    "TelcomCustomerChurn1.TotalCharges = TelcomCustomerChurn1.TotalCharges.astype(float)\n",
    "TelcomCustomerChurn1.TotalCharges"
   ]
  },
  {
   "cell_type": "code",
   "execution_count": 47,
   "id": "b2be4157",
   "metadata": {},
   "outputs": [],
   "source": [
    "# Part A 2(C) \n",
    "# Create a function that will accept a DataFrame as input and return pie-charts for all the appropriate Categorical features. \n",
    "# Cearly show percentage distribution in the pie-chart. "
   ]
  },
  {
   "cell_type": "code",
   "execution_count": 48,
   "id": "8a792fde",
   "metadata": {},
   "outputs": [
    {
     "name": "stdout",
     "output_type": "stream",
     "text": [
      "<class 'pandas.core.frame.DataFrame'>\n",
      "Int64Index: 7043 entries, 0 to 7042\n",
      "Data columns (total 21 columns):\n",
      " #   Column            Non-Null Count  Dtype  \n",
      "---  ------            --------------  -----  \n",
      " 0   customerID        7043 non-null   object \n",
      " 1   gender            7043 non-null   object \n",
      " 2   SeniorCitizen     7043 non-null   int64  \n",
      " 3   Partner           7043 non-null   object \n",
      " 4   Dependents        7043 non-null   object \n",
      " 5   tenure            7043 non-null   int64  \n",
      " 6   PhoneService      7043 non-null   object \n",
      " 7   MultipleLines     7043 non-null   object \n",
      " 8   InternetService   7043 non-null   object \n",
      " 9   OnlineSecurity    7043 non-null   object \n",
      " 10  OnlineBackup      7043 non-null   object \n",
      " 11  DeviceProtection  7043 non-null   object \n",
      " 12  TechSupport       7043 non-null   object \n",
      " 13  StreamingTV       7043 non-null   object \n",
      " 14  StreamingMovies   7043 non-null   object \n",
      " 15  Contract          7043 non-null   object \n",
      " 16  PaperlessBilling  7043 non-null   object \n",
      " 17  PaymentMethod     7043 non-null   object \n",
      " 18  MonthlyCharges    7043 non-null   float64\n",
      " 19  TotalCharges      7043 non-null   float64\n",
      " 20  Churn             7043 non-null   object \n",
      "dtypes: float64(2), int64(2), object(17)\n",
      "memory usage: 1.2+ MB\n"
     ]
    }
   ],
   "source": [
    "# Solution \n",
    "TelcomCustomerChurn1.info()  "
   ]
  },
  {
   "cell_type": "code",
   "execution_count": 49,
   "id": "53b24578",
   "metadata": {},
   "outputs": [],
   "source": [
    "# We can use the ‘Counter’ method from the collections module in order to get an idea of the distribution in \n",
    "# categorical values. All variables except Customer ID with Object datatype are taken into considertaion  "
   ]
  },
  {
   "cell_type": "code",
   "execution_count": 50,
   "id": "a4608f5b",
   "metadata": {},
   "outputs": [
    {
     "name": "stdout",
     "output_type": "stream",
     "text": [
      "Counter({'Male': 3555, 'Female': 3488})\n"
     ]
    },
    {
     "data": {
      "image/png": "[encoded data removed]",
      "text/plain": [
       "<Figure size 1440x720 with 1 Axes>"
      ]
     },
     "metadata": {},
     "output_type": "display_data"
    }
   ],
   "source": [
    "print(Counter(TelcomCustomerChurn1['gender']))\n",
    "gender_1 = TelcomCustomerChurn1.groupby('gender').agg('count')\n",
    "gender_labels = gender_1.customerID.sort_values().index \n",
    "gender_counts = gender_1.customerID.sort_values()\n",
    "plt.figure(1, figsize=(20,10)) \n",
    "the_grid = GridSpec(2, 2)\n",
    "cmap = plt.get_cmap('Spectral')\n",
    "colors = [cmap(i) for i in np.linspace(0, 1, 8)]\n",
    "plt.subplot(the_grid[0, 1], aspect=1, title='gender')\n",
    "plt.pie(gender_counts, labels=gender_labels, autopct='%1.1f%%', shadow=True, colors=colors)\n",
    "plt.show()"
   ]
  },
  {
   "cell_type": "code",
   "execution_count": 51,
   "id": "63c71dc9",
   "metadata": {},
   "outputs": [
    {
     "name": "stdout",
     "output_type": "stream",
     "text": [
      "Counter({'No': 3641, 'Yes': 3402})\n"
     ]
    },
    {
     "data": {
      "image/png": "[encoded data removed]",
      "text/plain": [
       "<Figure size 1440x720 with 1 Axes>"
      ]
     },
     "metadata": {},
     "output_type": "display_data"
    }
   ],
   "source": [
    "print(Counter(TelcomCustomerChurn1['Partner']))\n",
    "Partner_1 = TelcomCustomerChurn1.groupby('Partner').agg('count')\n",
    "Partner_labels = Partner_1.customerID.sort_values().index \n",
    "Partner_counts = Partner_1.customerID.sort_values()\n",
    "plt.figure(1, figsize=(20,10)) \n",
    "the_grid = GridSpec(2, 2)\n",
    "cmap = plt.get_cmap('Spectral')\n",
    "colors = [cmap(i) for i in np.linspace(0, 1, 8)]\n",
    "plt.subplot(the_grid[0, 1], aspect=1, title='Partner')\n",
    "plt.pie(Partner_counts, labels=Partner_labels, autopct='%1.1f%%', shadow=True, colors=colors)\n",
    "plt.show()"
   ]
  },
  {
   "cell_type": "code",
   "execution_count": 52,
   "id": "5fef3d13",
   "metadata": {},
   "outputs": [
    {
     "name": "stdout",
     "output_type": "stream",
     "text": [
      "Counter({'No': 4933, 'Yes': 2110})\n"
     ]
    },
    {
     "data": {
      "image/png": "[encoded data removed]",
      "text/plain": [
       "<Figure size 1440x720 with 1 Axes>"
      ]
     },
     "metadata": {},
     "output_type": "display_data"
    }
   ],
   "source": [
    "print(Counter(TelcomCustomerChurn1['Dependents']))\n",
    "Dependents_1 = TelcomCustomerChurn1.groupby('Dependents').agg('count')\n",
    "Dependents_labels = Dependents_1.customerID.sort_values().index \n",
    "Dependents_counts = Dependents_1.customerID.sort_values()\n",
    "plt.figure(1, figsize=(20,10)) \n",
    "the_grid = GridSpec(2, 2)\n",
    "cmap = plt.get_cmap('Spectral')\n",
    "colors = [cmap(i) for i in np.linspace(0, 1, 8)]\n",
    "plt.subplot(the_grid[0, 1], aspect=1, title='Dependents')\n",
    "plt.pie(Dependents_counts, labels=Dependents_labels, autopct='%1.1f%%', shadow=True, colors=colors)\n",
    "plt.show()"
   ]
  },
  {
   "cell_type": "code",
   "execution_count": 53,
   "id": "0c8c0dd8",
   "metadata": {},
   "outputs": [
    {
     "name": "stdout",
     "output_type": "stream",
     "text": [
      "Counter({'Yes': 6361, 'No': 682})\n"
     ]
    },
    {
     "data": {
      "image/png": "[encoded data removed]",
      "text/plain": [
       "<Figure size 1440x720 with 1 Axes>"
      ]
     },
     "metadata": {},
     "output_type": "display_data"
    }
   ],
   "source": [
    "print(Counter(TelcomCustomerChurn1['PhoneService']))\n",
    "PhoneService_1 = TelcomCustomerChurn1.groupby('PhoneService').agg('count')\n",
    "PhoneService_labels = PhoneService_1.customerID.sort_values().index \n",
    "PhoneService_counts = PhoneService_1.customerID.sort_values()\n",
    "plt.figure(1, figsize=(20,10)) \n",
    "the_grid = GridSpec(2, 2)\n",
    "cmap = plt.get_cmap('Spectral')\n",
    "colors = [cmap(i) for i in np.linspace(0, 1, 8)]\n",
    "plt.subplot(the_grid[0, 1], aspect=1, title='PhoneService')\n",
    "plt.pie(PhoneService_counts, labels=PhoneService_labels, autopct='%1.1f%%', shadow=True, colors=colors)\n",
    "plt.show()"
   ]
  },
  {
   "cell_type": "code",
   "execution_count": 54,
   "id": "003925c6",
   "metadata": {},
   "outputs": [
    {
     "name": "stdout",
     "output_type": "stream",
     "text": [
      "Counter({'No': 3390, 'Yes': 2971, 'No phone service': 682})\n"
     ]
    },
    {
     "data": {
      "image/png": "[encoded data removed]",
      "text/plain": [
       "<Figure size 1440x720 with 1 Axes>"
      ]
     },
     "metadata": {},
     "output_type": "display_data"
    }
   ],
   "source": [
    "print(Counter(TelcomCustomerChurn1['MultipleLines']))\n",
    "MultipleLines_1 = TelcomCustomerChurn1.groupby('MultipleLines').agg('count')\n",
    "MultipleLines_labels = MultipleLines_1.customerID.sort_values().index \n",
    "MultipleLines_counts = MultipleLines_1.customerID.sort_values()\n",
    "plt.figure(1, figsize=(20,10)) \n",
    "the_grid = GridSpec(2, 2)\n",
    "cmap = plt.get_cmap('Spectral')\n",
    "colors = [cmap(i) for i in np.linspace(0, 1, 8)]\n",
    "plt.subplot(the_grid[0, 1], aspect=1, title='MultipleLines') \n",
    "plt.pie(MultipleLines_counts, labels=MultipleLines_labels, autopct='%1.1f%%', shadow=True, colors=colors)\n",
    "plt.show()"
   ]
  },
  {
   "cell_type": "code",
   "execution_count": 55,
   "id": "20830e9c",
   "metadata": {},
   "outputs": [
    {
     "name": "stdout",
     "output_type": "stream",
     "text": [
      "Counter({'Fiber optic': 3096, 'DSL': 2421, 'No': 1526})\n"
     ]
    },
    {
     "data": {
      "image/png": "[encoded data removed]",
      "text/plain": [
       "<Figure size 1440x720 with 1 Axes>"
      ]
     },
     "metadata": {},
     "output_type": "display_data"
    }
   ],
   "source": [
    "print(Counter(TelcomCustomerChurn1['InternetService']))\n",
    "InternetService_1 = TelcomCustomerChurn1.groupby('InternetService').agg('count')\n",
    "InternetService_labels = InternetService_1.customerID.sort_values().index \n",
    "InternetService_counts = InternetService_1.customerID.sort_values()\n",
    "plt.figure(1, figsize=(20,10)) \n",
    "the_grid = GridSpec(2, 2)\n",
    "cmap = plt.get_cmap('Spectral')\n",
    "colors = [cmap(i) for i in np.linspace(0, 1, 8)]\n",
    "plt.subplot(the_grid[0, 1], aspect=1, title='InternetService') \n",
    "plt.pie(InternetService_counts, labels=InternetService_labels, autopct='%1.1f%%', shadow=True, colors=colors)\n",
    "plt.show()"
   ]
  },
  {
   "cell_type": "code",
   "execution_count": 56,
   "id": "63d929f6",
   "metadata": {},
   "outputs": [
    {
     "name": "stdout",
     "output_type": "stream",
     "text": [
      "Counter({'No': 3498, 'Yes': 2019, 'No internet service': 1526})\n"
     ]
    },
    {
     "data": {
      "image/png": "[encoded data removed]",
      "text/plain": [
       "<Figure size 1440x720 with 1 Axes>"
      ]
     },
     "metadata": {},
     "output_type": "display_data"
    }
   ],
   "source": [
    "print(Counter(TelcomCustomerChurn1['OnlineSecurity']))\n",
    "OnlineSecurity_1 = TelcomCustomerChurn1.groupby('OnlineSecurity').agg('count')\n",
    "OnlineSecurity_labels = OnlineSecurity_1.customerID.sort_values().index \n",
    "OnlineSecurity_counts = OnlineSecurity_1.customerID.sort_values()\n",
    "plt.figure(1, figsize=(20,10)) \n",
    "the_grid = GridSpec(2, 2)\n",
    "cmap = plt.get_cmap('Spectral')\n",
    "colors = [cmap(i) for i in np.linspace(0, 1, 8)]\n",
    "plt.subplot(the_grid[0, 1], aspect=1, title='OnlineSecurity') \n",
    "plt.pie(OnlineSecurity_counts, labels=OnlineSecurity_labels, autopct='%1.1f%%', shadow=True, colors=colors)\n",
    "plt.show()"
   ]
  },
  {
   "cell_type": "code",
   "execution_count": 57,
   "id": "79bb0912",
   "metadata": {},
   "outputs": [
    {
     "name": "stdout",
     "output_type": "stream",
     "text": [
      "Counter({'No': 3088, 'Yes': 2429, 'No internet service': 1526})\n"
     ]
    },
    {
     "data": {
      "image/png": "[encoded data removed]",
      "text/plain": [
       "<Figure size 1440x720 with 1 Axes>"
      ]
     },
     "metadata": {},
     "output_type": "display_data"
    }
   ],
   "source": [
    "print(Counter(TelcomCustomerChurn1['OnlineBackup']))\n",
    "OnlineBackup_1 = TelcomCustomerChurn1.groupby('OnlineBackup').agg('count')\n",
    "OnlineBackup_labels = OnlineBackup_1.customerID.sort_values().index \n",
    "OnlineBackup_counts = OnlineBackup_1.customerID.sort_values()\n",
    "plt.figure(1, figsize=(20,10)) \n",
    "the_grid = GridSpec(2, 2)\n",
    "cmap = plt.get_cmap('Spectral')\n",
    "colors = [cmap(i) for i in np.linspace(0, 1, 8)]\n",
    "plt.subplot(the_grid[0, 1], aspect=1, title='OnlineBackup') \n",
    "plt.pie(OnlineBackup_counts, labels=OnlineBackup_labels, autopct='%1.1f%%', shadow=True, colors=colors)\n",
    "plt.show()"
   ]
  },
  {
   "cell_type": "code",
   "execution_count": 58,
   "id": "e0eab891",
   "metadata": {},
   "outputs": [
    {
     "name": "stdout",
     "output_type": "stream",
     "text": [
      "Counter({'No': 3095, 'Yes': 2422, 'No internet service': 1526})\n"
     ]
    },
    {
     "data": {
      "image/png": "[encoded data removed]",
      "text/plain": [
       "<Figure size 1440x720 with 1 Axes>"
      ]
     },
     "metadata": {},
     "output_type": "display_data"
    }
   ],
   "source": [
    "print(Counter(TelcomCustomerChurn1['DeviceProtection']))\n",
    "DeviceProtection_1 = TelcomCustomerChurn1.groupby('DeviceProtection').agg('count')\n",
    "DeviceProtection_labels = DeviceProtection_1.customerID.sort_values().index \n",
    "DeviceProtection_counts = DeviceProtection_1.customerID.sort_values()\n",
    "plt.figure(1, figsize=(20,10)) \n",
    "the_grid = GridSpec(2, 2)\n",
    "cmap = plt.get_cmap('Spectral')\n",
    "colors = [cmap(i) for i in np.linspace(0, 1, 8)]\n",
    "plt.subplot(the_grid[0, 1], aspect=1, title='DeviceProtection') \n",
    "plt.pie(DeviceProtection_counts, labels=DeviceProtection_labels, autopct='%1.1f%%', shadow=True, colors=colors)\n",
    "plt.show()"
   ]
  },
  {
   "cell_type": "code",
   "execution_count": 59,
   "id": "5466e0b5",
   "metadata": {},
   "outputs": [
    {
     "name": "stdout",
     "output_type": "stream",
     "text": [
      "Counter({'No': 3473, 'Yes': 2044, 'No internet service': 1526})\n"
     ]
    },
    {
     "data": {
      "image/png": "[encoded data removed]",
      "text/plain": [
       "<Figure size 1440x720 with 1 Axes>"
      ]
     },
     "metadata": {},
     "output_type": "display_data"
    }
   ],
   "source": [
    "print(Counter(TelcomCustomerChurn1['TechSupport']))\n",
    "TechSupport_1 = TelcomCustomerChurn1.groupby('TechSupport').agg('count')\n",
    "TechSupport_labels = TechSupport_1.customerID.sort_values().index \n",
    "TechSupport_counts = TechSupport_1.customerID.sort_values()\n",
    "plt.figure(1, figsize=(20,10)) \n",
    "the_grid = GridSpec(2, 2)\n",
    "cmap = plt.get_cmap('Spectral')\n",
    "colors = [cmap(i) for i in np.linspace(0, 1, 8)]\n",
    "plt.subplot(the_grid[0, 1], aspect=1, title='TechSupport') \n",
    "plt.pie(TechSupport_counts, labels=TechSupport_labels, autopct='%1.1f%%', shadow=True, colors=colors)\n",
    "plt.show()"
   ]
  },
  {
   "cell_type": "code",
   "execution_count": 60,
   "id": "3a0d87a9",
   "metadata": {},
   "outputs": [
    {
     "name": "stdout",
     "output_type": "stream",
     "text": [
      "Counter({'No': 2810, 'Yes': 2707, 'No internet service': 1526})\n"
     ]
    },
    {
     "data": {
      "image/png": "[encoded data removed]",
      "text/plain": [
       "<Figure size 1440x720 with 1 Axes>"
      ]
     },
     "metadata": {},
     "output_type": "display_data"
    }
   ],
   "source": [
    "print(Counter(TelcomCustomerChurn1['StreamingTV']))\n",
    "StreamingTV_1 = TelcomCustomerChurn1.groupby('StreamingTV').agg('count')\n",
    "StreamingTV_labels = StreamingTV_1.customerID.sort_values().index \n",
    "StreamingTV_counts = StreamingTV_1.customerID.sort_values()\n",
    "plt.figure(1, figsize=(20,10)) \n",
    "the_grid = GridSpec(2, 2)\n",
    "cmap = plt.get_cmap('Spectral')\n",
    "colors = [cmap(i) for i in np.linspace(0, 1, 8)]\n",
    "plt.subplot(the_grid[0, 1], aspect=1, title='StreamingTV') \n",
    "plt.pie(StreamingTV_counts, labels=StreamingTV_labels, autopct='%1.1f%%', shadow=True, colors=colors)\n",
    "plt.show()"
   ]
  },
  {
   "cell_type": "code",
   "execution_count": 61,
   "id": "01b2cafe",
   "metadata": {},
   "outputs": [
    {
     "name": "stdout",
     "output_type": "stream",
     "text": [
      "Counter({'No': 2785, 'Yes': 2732, 'No internet service': 1526})\n"
     ]
    },
    {
     "data": {
      "image/png": "[encoded data removed]",
      "text/plain": [
       "<Figure size 1440x720 with 1 Axes>"
      ]
     },
     "metadata": {},
     "output_type": "display_data"
    }
   ],
   "source": [
    "print(Counter(TelcomCustomerChurn1['StreamingMovies']))\n",
    "StreamingMovies_1 = TelcomCustomerChurn1.groupby('StreamingMovies').agg('count')\n",
    "StreamingMovies_labels = StreamingMovies_1.customerID.sort_values().index \n",
    "StreamingMovies_counts = StreamingMovies_1.customerID.sort_values()\n",
    "plt.figure(1, figsize=(20,10)) \n",
    "the_grid = GridSpec(2, 2)\n",
    "cmap = plt.get_cmap('Spectral')\n",
    "colors = [cmap(i) for i in np.linspace(0, 1, 8)]\n",
    "plt.subplot(the_grid[0, 1], aspect=1, title='StreamingMovies') \n",
    "plt.pie(StreamingMovies_counts, labels=StreamingMovies_labels, autopct='%1.1f%%', shadow=True, colors=colors)\n",
    "plt.show()"
   ]
  },
  {
   "cell_type": "code",
   "execution_count": 62,
   "id": "c0c495ef",
   "metadata": {},
   "outputs": [
    {
     "name": "stdout",
     "output_type": "stream",
     "text": [
      "Counter({'Month-to-month': 3875, 'Two year': 1695, 'One year': 1473})\n"
     ]
    },
    {
     "data": {
      "image/png": "[encoded data removed]",
      "text/plain": [
       "<Figure size 1440x720 with 1 Axes>"
      ]
     },
     "metadata": {},
     "output_type": "display_data"
    }
   ],
   "source": [
    "print(Counter(TelcomCustomerChurn1['Contract']))\n",
    "Contract_1 = TelcomCustomerChurn1.groupby('Contract').agg('count')\n",
    "Contract_labels = Contract_1.customerID.sort_values().index \n",
    "Contract_counts = Contract_1.customerID.sort_values()\n",
    "plt.figure(1, figsize=(20,10)) \n",
    "the_grid = GridSpec(2, 2)\n",
    "cmap = plt.get_cmap('Spectral')\n",
    "colors = [cmap(i) for i in np.linspace(0, 1, 8)]\n",
    "plt.subplot(the_grid[0, 1], aspect=1, title='Contract') \n",
    "plt.pie(Contract_counts, labels=Contract_labels, autopct='%1.1f%%', shadow=True, colors=colors)\n",
    "plt.show()"
   ]
  },
  {
   "cell_type": "code",
   "execution_count": 63,
   "id": "312c28e0",
   "metadata": {},
   "outputs": [
    {
     "name": "stdout",
     "output_type": "stream",
     "text": [
      "Counter({'Yes': 4171, 'No': 2872})\n"
     ]
    },
    {
     "data": {
      "image/png": "[encoded data removed]",
      "text/plain": [
       "<Figure size 1440x720 with 1 Axes>"
      ]
     },
     "metadata": {},
     "output_type": "display_data"
    }
   ],
   "source": [
    "print(Counter(TelcomCustomerChurn1['PaperlessBilling']))\n",
    "PaperlessBilling_1 = TelcomCustomerChurn1.groupby('PaperlessBilling').agg('count')\n",
    "PaperlessBilling_labels = PaperlessBilling_1.customerID.sort_values().index \n",
    "PaperlessBilling_counts = PaperlessBilling_1.customerID.sort_values()\n",
    "plt.figure(1, figsize=(20,10)) \n",
    "the_grid = GridSpec(2, 2)\n",
    "cmap = plt.get_cmap('Spectral')\n",
    "colors = [cmap(i) for i in np.linspace(0, 1, 8)]\n",
    "plt.subplot(the_grid[0, 1], aspect=1, title='PaperlessBilling') \n",
    "plt.pie(PaperlessBilling_counts, labels=PaperlessBilling_labels, autopct='%1.1f%%', shadow=True, colors=colors)\n",
    "plt.show()"
   ]
  },
  {
   "cell_type": "code",
   "execution_count": 64,
   "id": "3da58684",
   "metadata": {},
   "outputs": [
    {
     "name": "stdout",
     "output_type": "stream",
     "text": [
      "Counter({'Electronic check': 2365, 'Mailed check': 1612, 'Bank transfer (automatic)': 1544, 'Credit card (automatic)': 1522})\n"
     ]
    },
    {
     "data": {
      "image/png": "[encoded data removed]",
      "text/plain": [
       "<Figure size 1440x720 with 1 Axes>"
      ]
     },
     "metadata": {},
     "output_type": "display_data"
    }
   ],
   "source": [
    "print(Counter(TelcomCustomerChurn1['PaymentMethod'])) \n",
    "PaymentMethod_1 = TelcomCustomerChurn1.groupby('PaymentMethod').agg('count')\n",
    "PaymentMethod_labels = PaymentMethod_1.customerID.sort_values().index \n",
    "PaymentMethod_counts = PaymentMethod_1.customerID.sort_values()\n",
    "plt.figure(1, figsize=(20,10)) \n",
    "the_grid = GridSpec(2, 2)\n",
    "cmap = plt.get_cmap('Spectral')\n",
    "colors = [cmap(i) for i in np.linspace(0, 1, 8)]\n",
    "plt.subplot(the_grid[0, 1], aspect=1, title='PaymentMethod') \n",
    "plt.pie(PaymentMethod_counts, labels=PaymentMethod_labels, autopct='%1.1f%%', shadow=True, colors=colors)\n",
    "plt.show()"
   ]
  },
  {
   "cell_type": "code",
   "execution_count": 65,
   "id": "ad6497fa",
   "metadata": {},
   "outputs": [
    {
     "name": "stdout",
     "output_type": "stream",
     "text": [
      "Counter({'No': 5174, 'Yes': 1869})\n"
     ]
    },
    {
     "data": {
      "image/png": "[encoded data removed]",
      "text/plain": [
       "<Figure size 1440x720 with 1 Axes>"
      ]
     },
     "metadata": {},
     "output_type": "display_data"
    }
   ],
   "source": [
    "print(Counter(TelcomCustomerChurn1['Churn'])) \n",
    "Churn_1 = TelcomCustomerChurn1.groupby('Churn').agg('count')\n",
    "Churn_labels = Churn_1.customerID.sort_values().index \n",
    "Churn_counts = Churn_1.customerID.sort_values()\n",
    "plt.figure(1, figsize=(20,10)) \n",
    "the_grid = GridSpec(2, 2)\n",
    "cmap = plt.get_cmap('Spectral')  \n",
    "colors = [cmap(i) for i in np.linspace(0, 1, 8)]\n",
    "plt.subplot(the_grid[0, 1], aspect=1, title='Churn') \n",
    "plt.pie(Churn_counts, labels=Churn_labels, autopct='%1.1f%%', shadow=True, colors=colors)\n",
    "plt.show()"
   ]
  },
  {
   "cell_type": "code",
   "execution_count": 66,
   "id": "8fd4d4c6",
   "metadata": {},
   "outputs": [],
   "source": [
    "# Part A 2(D) \n",
    "# Share insights for Q2.c. \n",
    "# Solution\n",
    "# The distribution of male and female customers are almost same\n",
    "# In 48% of the cases, the customer's partner is also a customer \n",
    "# 70% of the customers are not dependents \n",
    "# 90% of the customers have opted for phone service \n",
    "# 42% of the customers have opted for multiple lines \n",
    "# 78% of the customers have opted for internet service. 44% have opted for fiber optic and 34% have opted for DSL\n",
    "# Almost 29% of the customers have opted for Online security \n",
    "# Almost 35% of the customers have opted for Online backup\n",
    "# Almost 35% of the customers have opted for device protection \n",
    "# 29% of the customers have opted for tech support\n",
    "# 38% of the customers have opted for Streaming TV\n",
    "# Almost 39% have opted for Streaming movies\n",
    "# 55% of the customers have opted for Month-to-Month contract. 24% and 21% have opted for 2 year and 1 year contract respectively   \n",
    "# 59% of the customers have opted for paperless billing \n",
    "# Almost 34% of the customers have opted for electronic check, 23% for mailed check, 22% for automatic bank transfer, 22% for automatic credit card payment \n",
    "# The retention proportion is good at approximately 74% "
   ]
  },
  {
   "cell_type": "code",
   "execution_count": 67,
   "id": "9886e20a",
   "metadata": {},
   "outputs": [
    {
     "name": "stdout",
     "output_type": "stream",
     "text": [
      "<class 'pandas.core.frame.DataFrame'>\n",
      "Int64Index: 7043 entries, 0 to 7042\n",
      "Data columns (total 21 columns):\n",
      " #   Column            Non-Null Count  Dtype  \n",
      "---  ------            --------------  -----  \n",
      " 0   customerID        7043 non-null   object \n",
      " 1   gender            7043 non-null   object \n",
      " 2   SeniorCitizen     7043 non-null   int64  \n",
      " 3   Partner           7043 non-null   object \n",
      " 4   Dependents        7043 non-null   object \n",
      " 5   tenure            7043 non-null   int64  \n",
      " 6   PhoneService      7043 non-null   object \n",
      " 7   MultipleLines     7043 non-null   object \n",
      " 8   InternetService   7043 non-null   object \n",
      " 9   OnlineSecurity    7043 non-null   object \n",
      " 10  OnlineBackup      7043 non-null   object \n",
      " 11  DeviceProtection  7043 non-null   object \n",
      " 12  TechSupport       7043 non-null   object \n",
      " 13  StreamingTV       7043 non-null   object \n",
      " 14  StreamingMovies   7043 non-null   object \n",
      " 15  Contract          7043 non-null   object \n",
      " 16  PaperlessBilling  7043 non-null   object \n",
      " 17  PaymentMethod     7043 non-null   object \n",
      " 18  MonthlyCharges    7043 non-null   float64\n",
      " 19  TotalCharges      7043 non-null   float64\n",
      " 20  Churn             7043 non-null   object \n",
      "dtypes: float64(2), int64(2), object(17)\n",
      "memory usage: 1.2+ MB\n"
     ]
    }
   ],
   "source": [
    "# Part A 2(E) \n",
    "# Encode all the appropriate Categorical features with the best suitable approach. \n",
    "# Solution \n",
    "TelcomCustomerChurn1.info()"
   ]
  },
  {
   "cell_type": "code",
   "execution_count": 68,
   "id": "b1577800",
   "metadata": {},
   "outputs": [
    {
     "data": {
      "text/html": [
       "<div>\n",
       "<style scoped>\n",
       "    .dataframe tbody tr th:only-of-type {\n",
       "        vertical-align: middle;\n",
       "    }\n",
       "\n",
       "    .dataframe tbody tr th {\n",
       "        vertical-align: top;\n",
       "    }\n",
       "\n",
       "    .dataframe thead th {\n",
       "        text-align: right;\n",
       "    }\n",
       "</style>\n",
       "<table border=\"1\" class=\"dataframe\">\n",
       "  <thead>\n",
       "    <tr style=\"text-align: right;\">\n",
       "      <th></th>\n",
       "      <th>customerID</th>\n",
       "      <th>gender</th>\n",
       "      <th>SeniorCitizen</th>\n",
       "      <th>Partner</th>\n",
       "      <th>Dependents</th>\n",
       "      <th>tenure</th>\n",
       "      <th>PhoneService</th>\n",
       "      <th>MultipleLines</th>\n",
       "      <th>InternetService</th>\n",
       "      <th>OnlineSecurity</th>\n",
       "      <th>...</th>\n",
       "      <th>DeviceProtection</th>\n",
       "      <th>TechSupport</th>\n",
       "      <th>StreamingTV</th>\n",
       "      <th>StreamingMovies</th>\n",
       "      <th>Contract</th>\n",
       "      <th>PaperlessBilling</th>\n",
       "      <th>PaymentMethod</th>\n",
       "      <th>MonthlyCharges</th>\n",
       "      <th>TotalCharges</th>\n",
       "      <th>Churn</th>\n",
       "    </tr>\n",
       "  </thead>\n",
       "  <tbody>\n",
       "    <tr>\n",
       "      <th>0</th>\n",
       "      <td>7590-VHVEG</td>\n",
       "      <td>0</td>\n",
       "      <td>0</td>\n",
       "      <td>1</td>\n",
       "      <td>0</td>\n",
       "      <td>1</td>\n",
       "      <td>0</td>\n",
       "      <td>1</td>\n",
       "      <td>0</td>\n",
       "      <td>0</td>\n",
       "      <td>...</td>\n",
       "      <td>0</td>\n",
       "      <td>0</td>\n",
       "      <td>0</td>\n",
       "      <td>0</td>\n",
       "      <td>0</td>\n",
       "      <td>1</td>\n",
       "      <td>2</td>\n",
       "      <td>29.85</td>\n",
       "      <td>29.85</td>\n",
       "      <td>0</td>\n",
       "    </tr>\n",
       "    <tr>\n",
       "      <th>1</th>\n",
       "      <td>5575-GNVDE</td>\n",
       "      <td>1</td>\n",
       "      <td>0</td>\n",
       "      <td>0</td>\n",
       "      <td>0</td>\n",
       "      <td>34</td>\n",
       "      <td>1</td>\n",
       "      <td>0</td>\n",
       "      <td>0</td>\n",
       "      <td>2</td>\n",
       "      <td>...</td>\n",
       "      <td>2</td>\n",
       "      <td>0</td>\n",
       "      <td>0</td>\n",
       "      <td>0</td>\n",
       "      <td>1</td>\n",
       "      <td>0</td>\n",
       "      <td>3</td>\n",
       "      <td>56.95</td>\n",
       "      <td>1889.50</td>\n",
       "      <td>0</td>\n",
       "    </tr>\n",
       "    <tr>\n",
       "      <th>2</th>\n",
       "      <td>3668-QPYBK</td>\n",
       "      <td>1</td>\n",
       "      <td>0</td>\n",
       "      <td>0</td>\n",
       "      <td>0</td>\n",
       "      <td>2</td>\n",
       "      <td>1</td>\n",
       "      <td>0</td>\n",
       "      <td>0</td>\n",
       "      <td>2</td>\n",
       "      <td>...</td>\n",
       "      <td>0</td>\n",
       "      <td>0</td>\n",
       "      <td>0</td>\n",
       "      <td>0</td>\n",
       "      <td>0</td>\n",
       "      <td>1</td>\n",
       "      <td>3</td>\n",
       "      <td>53.85</td>\n",
       "      <td>108.15</td>\n",
       "      <td>1</td>\n",
       "    </tr>\n",
       "    <tr>\n",
       "      <th>3</th>\n",
       "      <td>7795-CFOCW</td>\n",
       "      <td>1</td>\n",
       "      <td>0</td>\n",
       "      <td>0</td>\n",
       "      <td>0</td>\n",
       "      <td>45</td>\n",
       "      <td>0</td>\n",
       "      <td>1</td>\n",
       "      <td>0</td>\n",
       "      <td>2</td>\n",
       "      <td>...</td>\n",
       "      <td>2</td>\n",
       "      <td>2</td>\n",
       "      <td>0</td>\n",
       "      <td>0</td>\n",
       "      <td>1</td>\n",
       "      <td>0</td>\n",
       "      <td>0</td>\n",
       "      <td>42.30</td>\n",
       "      <td>1840.75</td>\n",
       "      <td>0</td>\n",
       "    </tr>\n",
       "    <tr>\n",
       "      <th>4</th>\n",
       "      <td>9237-HQITU</td>\n",
       "      <td>0</td>\n",
       "      <td>0</td>\n",
       "      <td>0</td>\n",
       "      <td>0</td>\n",
       "      <td>2</td>\n",
       "      <td>1</td>\n",
       "      <td>0</td>\n",
       "      <td>1</td>\n",
       "      <td>0</td>\n",
       "      <td>...</td>\n",
       "      <td>0</td>\n",
       "      <td>0</td>\n",
       "      <td>0</td>\n",
       "      <td>0</td>\n",
       "      <td>0</td>\n",
       "      <td>1</td>\n",
       "      <td>2</td>\n",
       "      <td>70.70</td>\n",
       "      <td>151.65</td>\n",
       "      <td>1</td>\n",
       "    </tr>\n",
       "  </tbody>\n",
       "</table>\n",
       "<p>5 rows × 21 columns</p>\n",
       "</div>"
      ],
      "text/plain": [
       "   customerID  gender  SeniorCitizen  Partner  Dependents  tenure  \\\n",
       "0  7590-VHVEG       0              0        1           0       1   \n",
       "1  5575-GNVDE       1              0        0           0      34   \n",
       "2  3668-QPYBK       1              0        0           0       2   \n",
       "3  7795-CFOCW       1              0        0           0      45   \n",
       "4  9237-HQITU       0              0        0           0       2   \n",
       "\n",
       "   PhoneService  MultipleLines  InternetService  OnlineSecurity  ...  \\\n",
       "0             0              1                0               0  ...   \n",
       "1             1              0                0               2  ...   \n",
       "2             1              0                0               2  ...   \n",
       "3             0              1                0               2  ...   \n",
       "4             1              0                1               0  ...   \n",
       "\n",
       "   DeviceProtection  TechSupport  StreamingTV  StreamingMovies  Contract  \\\n",
       "0                 0            0            0                0         0   \n",
       "1                 2            0            0                0         1   \n",
       "2                 0            0            0                0         0   \n",
       "3                 2            2            0                0         1   \n",
       "4                 0            0            0                0         0   \n",
       "\n",
       "   PaperlessBilling  PaymentMethod  MonthlyCharges  TotalCharges  Churn  \n",
       "0                 1              2           29.85         29.85      0  \n",
       "1                 0              3           56.95       1889.50      0  \n",
       "2                 1              3           53.85        108.15      1  \n",
       "3                 0              0           42.30       1840.75      0  \n",
       "4                 1              2           70.70        151.65      1  \n",
       "\n",
       "[5 rows x 21 columns]"
      ]
     },
     "execution_count": 68,
     "metadata": {},
     "output_type": "execute_result"
    }
   ],
   "source": [
    "class_label_encoder = LabelEncoder()\n",
    "TelcomCustomerChurn1['gender'] = class_label_encoder.fit_transform(TelcomCustomerChurn1['gender'])\n",
    "TelcomCustomerChurn1['Partner'] = class_label_encoder.fit_transform(TelcomCustomerChurn1['Partner'])\n",
    "TelcomCustomerChurn1['Dependents'] = class_label_encoder.fit_transform(TelcomCustomerChurn1['Dependents'])\n",
    "TelcomCustomerChurn1['PhoneService'] = class_label_encoder.fit_transform(TelcomCustomerChurn1['PhoneService'])\n",
    "TelcomCustomerChurn1['MultipleLines'] = class_label_encoder.fit_transform(TelcomCustomerChurn1['MultipleLines'])\n",
    "TelcomCustomerChurn1['InternetService'] = class_label_encoder.fit_transform(TelcomCustomerChurn1['InternetService'])\n",
    "TelcomCustomerChurn1['OnlineSecurity'] = class_label_encoder.fit_transform(TelcomCustomerChurn1['OnlineSecurity'])\n",
    "TelcomCustomerChurn1['OnlineBackup'] = class_label_encoder.fit_transform(TelcomCustomerChurn1['OnlineBackup'])\n",
    "TelcomCustomerChurn1['DeviceProtection'] = class_label_encoder.fit_transform(TelcomCustomerChurn1['DeviceProtection'])\n",
    "TelcomCustomerChurn1['TechSupport'] = class_label_encoder.fit_transform(TelcomCustomerChurn1['TechSupport'])\n",
    "TelcomCustomerChurn1['StreamingTV'] = class_label_encoder.fit_transform(TelcomCustomerChurn1['StreamingTV'])\n",
    "TelcomCustomerChurn1['StreamingMovies'] = class_label_encoder.fit_transform(TelcomCustomerChurn1['StreamingMovies'])\n",
    "TelcomCustomerChurn1['Contract'] = class_label_encoder.fit_transform(TelcomCustomerChurn1['Contract'])\n",
    "TelcomCustomerChurn1['PaperlessBilling'] = class_label_encoder.fit_transform(TelcomCustomerChurn1['PaperlessBilling'])\n",
    "TelcomCustomerChurn1['PaymentMethod'] = class_label_encoder.fit_transform(TelcomCustomerChurn1['PaymentMethod'])\n",
    "TelcomCustomerChurn1['Churn'] = class_label_encoder.fit_transform(TelcomCustomerChurn1['Churn'])\n",
    "TelcomCustomerChurn1.head()"
   ]
  },
  {
   "cell_type": "code",
   "execution_count": 69,
   "id": "2156b8a2",
   "metadata": {},
   "outputs": [],
   "source": [
    "# Part A 2(F)\n",
    "# Split the data into 80% train and 20% test\n",
    "# Transform data into features and target\n",
    "X = TelcomCustomerChurn1.drop(['customerID','Churn'], axis=1)\n",
    "Y = TelcomCustomerChurn1['Churn']\n",
    "# split into train and test\n",
    "X_train, X_test, Y_train, Y_test = train_test_split(X, Y, test_size=0.2, random_state=7)"
   ]
  },
  {
   "cell_type": "code",
   "execution_count": 70,
   "id": "f02c536f",
   "metadata": {},
   "outputs": [],
   "source": [
    "# Part A 2(G)\n",
    "# Normalize/Standardize the data with the best suitable approach."
   ]
  },
  {
   "cell_type": "code",
   "execution_count": 71,
   "id": "58fe448a",
   "metadata": {},
   "outputs": [],
   "source": [
    "# Solution\n",
    "# Distribution of numerial variables in the dataset "
   ]
  },
  {
   "cell_type": "code",
   "execution_count": 72,
   "id": "03e6fe63",
   "metadata": {},
   "outputs": [
    {
     "data": {
      "text/plain": [
       "<AxesSubplot:ylabel='Density'>"
      ]
     },
     "execution_count": 72,
     "metadata": {},
     "output_type": "execute_result"
    },
    {
     "data": {
      "image/png": "[encoded data removed]",
      "text/plain": [
       "<Figure size 1080x360 with 1 Axes>"
      ]
     },
     "metadata": {},
     "output_type": "display_data"
    }
   ],
   "source": [
    "ax = plt.subplots(figsize=(15,5)) \n",
    "TelcomCustomerChurn1.tenure.plot(kind='density') "
   ]
  },
  {
   "cell_type": "code",
   "execution_count": 73,
   "id": "a7e65833",
   "metadata": {},
   "outputs": [
    {
     "data": {
      "text/plain": [
       "<AxesSubplot:ylabel='Density'>"
      ]
     },
     "execution_count": 73,
     "metadata": {},
     "output_type": "execute_result"
    },
    {
     "data": {
      "image/png": "[encoded data removed]",
      "text/plain": [
       "<Figure size 1080x360 with 1 Axes>"
      ]
     },
     "metadata": {},
     "output_type": "display_data"
    }
   ],
   "source": [
    "ax = plt.subplots(figsize=(15,5)) \n",
    "TelcomCustomerChurn1.MonthlyCharges.plot(kind='density') "
   ]
  },
  {
   "cell_type": "code",
   "execution_count": 74,
   "id": "7cc4ecad",
   "metadata": {},
   "outputs": [
    {
     "data": {
      "text/plain": [
       "<AxesSubplot:ylabel='Density'>"
      ]
     },
     "execution_count": 74,
     "metadata": {},
     "output_type": "execute_result"
    },
    {
     "data": {
      "image/png": "[encoded data removed]",
      "text/plain": [
       "<Figure size 1080x360 with 1 Axes>"
      ]
     },
     "metadata": {},
     "output_type": "display_data"
    }
   ],
   "source": [
    "ax = plt.subplots(figsize=(15,5)) \n",
    "TelcomCustomerChurn1.TotalCharges.plot(kind='density') "
   ]
  },
  {
   "cell_type": "code",
   "execution_count": 75,
   "id": "cef4898f",
   "metadata": {},
   "outputs": [],
   "source": [
    "# None of the three numerical variables follow a normal distribution "
   ]
  },
  {
   "cell_type": "code",
   "execution_count": 76,
   "id": "9670ee4d",
   "metadata": {},
   "outputs": [],
   "source": [
    "# We will use StandardScaler in order to standardise the numerical variables\n",
    "# We won't standardise the encoded categorical variables. StandardScaler outputs positive or negative float \n",
    "# Hence, we won't apply StandardScaler on categorical variables as the as the label column must be a positive Integer \n",
    "# StandardScaler makes the mean of the distribution approximately 0 and standard deviation 1"
   ]
  },
  {
   "cell_type": "code",
   "execution_count": 77,
   "id": "ba6e7bd2",
   "metadata": {},
   "outputs": [],
   "source": [
    "X = TelcomCustomerChurn1.drop(['customerID','Churn'], axis=1)\n",
    "Y = TelcomCustomerChurn1['Churn']\n",
    "# split into train and test\n",
    "X_train, X_test, Y_train, Y_test = train_test_split(X, Y, test_size=0.2, random_state=7)\n",
    "# copy of datasets\n",
    "X_train_standard = X_train.copy()\n",
    "X_test_standard = X_test.copy() \n",
    "# numerical features\n",
    "num_cols = ['tenure','MonthlyCharges','TotalCharges']\n",
    "# apply standardization on numerical features\n",
    "for i in num_cols:\n",
    "    # fit on training data column\n",
    "    scale = StandardScaler().fit(X_train_standard[[i]])\n",
    "    # transform the training data column\n",
    "    X_train_standard[i] = scale.transform(X_train_standard[[i]])\n",
    "    # transform the testing data column\n",
    "    X_test_standard[i] = scale.transform(X_test_standard[[i]])"
   ]
  },
  {
   "cell_type": "code",
   "execution_count": 78,
   "id": "7b8858ba",
   "metadata": {},
   "outputs": [
    {
     "data": {
      "text/html": [
       "<div>\n",
       "<style scoped>\n",
       "    .dataframe tbody tr th:only-of-type {\n",
       "        vertical-align: middle;\n",
       "    }\n",
       "\n",
       "    .dataframe tbody tr th {\n",
       "        vertical-align: top;\n",
       "    }\n",
       "\n",
       "    .dataframe thead th {\n",
       "        text-align: right;\n",
       "    }\n",
       "</style>\n",
       "<table border=\"1\" class=\"dataframe\">\n",
       "  <thead>\n",
       "    <tr style=\"text-align: right;\">\n",
       "      <th></th>\n",
       "      <th>gender</th>\n",
       "      <th>SeniorCitizen</th>\n",
       "      <th>Partner</th>\n",
       "      <th>Dependents</th>\n",
       "      <th>tenure</th>\n",
       "      <th>PhoneService</th>\n",
       "      <th>MultipleLines</th>\n",
       "      <th>InternetService</th>\n",
       "      <th>OnlineSecurity</th>\n",
       "      <th>OnlineBackup</th>\n",
       "      <th>DeviceProtection</th>\n",
       "      <th>TechSupport</th>\n",
       "      <th>StreamingTV</th>\n",
       "      <th>StreamingMovies</th>\n",
       "      <th>Contract</th>\n",
       "      <th>PaperlessBilling</th>\n",
       "      <th>PaymentMethod</th>\n",
       "      <th>MonthlyCharges</th>\n",
       "      <th>TotalCharges</th>\n",
       "    </tr>\n",
       "  </thead>\n",
       "  <tbody>\n",
       "    <tr>\n",
       "      <th>2338</th>\n",
       "      <td>1</td>\n",
       "      <td>0</td>\n",
       "      <td>1</td>\n",
       "      <td>1</td>\n",
       "      <td>1.613062</td>\n",
       "      <td>1</td>\n",
       "      <td>0</td>\n",
       "      <td>2</td>\n",
       "      <td>1</td>\n",
       "      <td>1</td>\n",
       "      <td>1</td>\n",
       "      <td>1</td>\n",
       "      <td>1</td>\n",
       "      <td>1</td>\n",
       "      <td>2</td>\n",
       "      <td>0</td>\n",
       "      <td>0</td>\n",
       "      <td>-1.492048</td>\n",
       "      <td>-0.426060</td>\n",
       "    </tr>\n",
       "    <tr>\n",
       "      <th>4705</th>\n",
       "      <td>1</td>\n",
       "      <td>0</td>\n",
       "      <td>0</td>\n",
       "      <td>0</td>\n",
       "      <td>-1.075464</td>\n",
       "      <td>1</td>\n",
       "      <td>0</td>\n",
       "      <td>1</td>\n",
       "      <td>2</td>\n",
       "      <td>2</td>\n",
       "      <td>0</td>\n",
       "      <td>0</td>\n",
       "      <td>0</td>\n",
       "      <td>0</td>\n",
       "      <td>0</td>\n",
       "      <td>1</td>\n",
       "      <td>2</td>\n",
       "      <td>0.470826</td>\n",
       "      <td>-0.792927</td>\n",
       "    </tr>\n",
       "    <tr>\n",
       "      <th>3514</th>\n",
       "      <td>1</td>\n",
       "      <td>0</td>\n",
       "      <td>1</td>\n",
       "      <td>1</td>\n",
       "      <td>1.124239</td>\n",
       "      <td>1</td>\n",
       "      <td>2</td>\n",
       "      <td>1</td>\n",
       "      <td>2</td>\n",
       "      <td>0</td>\n",
       "      <td>2</td>\n",
       "      <td>2</td>\n",
       "      <td>2</td>\n",
       "      <td>2</td>\n",
       "      <td>2</td>\n",
       "      <td>1</td>\n",
       "      <td>2</td>\n",
       "      <td>1.523791</td>\n",
       "      <td>1.906580</td>\n",
       "    </tr>\n",
       "    <tr>\n",
       "      <th>1549</th>\n",
       "      <td>1</td>\n",
       "      <td>0</td>\n",
       "      <td>0</td>\n",
       "      <td>0</td>\n",
       "      <td>-1.279140</td>\n",
       "      <td>1</td>\n",
       "      <td>0</td>\n",
       "      <td>0</td>\n",
       "      <td>0</td>\n",
       "      <td>0</td>\n",
       "      <td>0</td>\n",
       "      <td>0</td>\n",
       "      <td>0</td>\n",
       "      <td>0</td>\n",
       "      <td>0</td>\n",
       "      <td>1</td>\n",
       "      <td>3</td>\n",
       "      <td>-0.630379</td>\n",
       "      <td>-0.991937</td>\n",
       "    </tr>\n",
       "    <tr>\n",
       "      <th>5757</th>\n",
       "      <td>0</td>\n",
       "      <td>1</td>\n",
       "      <td>1</td>\n",
       "      <td>0</td>\n",
       "      <td>-0.179289</td>\n",
       "      <td>1</td>\n",
       "      <td>2</td>\n",
       "      <td>2</td>\n",
       "      <td>1</td>\n",
       "      <td>1</td>\n",
       "      <td>1</td>\n",
       "      <td>1</td>\n",
       "      <td>1</td>\n",
       "      <td>1</td>\n",
       "      <td>0</td>\n",
       "      <td>0</td>\n",
       "      <td>3</td>\n",
       "      <td>-1.300751</td>\n",
       "      <td>-0.686731</td>\n",
       "    </tr>\n",
       "    <tr>\n",
       "      <th>...</th>\n",
       "      <td>...</td>\n",
       "      <td>...</td>\n",
       "      <td>...</td>\n",
       "      <td>...</td>\n",
       "      <td>...</td>\n",
       "      <td>...</td>\n",
       "      <td>...</td>\n",
       "      <td>...</td>\n",
       "      <td>...</td>\n",
       "      <td>...</td>\n",
       "      <td>...</td>\n",
       "      <td>...</td>\n",
       "      <td>...</td>\n",
       "      <td>...</td>\n",
       "      <td>...</td>\n",
       "      <td>...</td>\n",
       "      <td>...</td>\n",
       "      <td>...</td>\n",
       "      <td>...</td>\n",
       "    </tr>\n",
       "    <tr>\n",
       "      <th>5699</th>\n",
       "      <td>1</td>\n",
       "      <td>0</td>\n",
       "      <td>0</td>\n",
       "      <td>0</td>\n",
       "      <td>-0.708847</td>\n",
       "      <td>1</td>\n",
       "      <td>0</td>\n",
       "      <td>1</td>\n",
       "      <td>0</td>\n",
       "      <td>0</td>\n",
       "      <td>2</td>\n",
       "      <td>0</td>\n",
       "      <td>2</td>\n",
       "      <td>0</td>\n",
       "      <td>0</td>\n",
       "      <td>0</td>\n",
       "      <td>2</td>\n",
       "      <td>0.682084</td>\n",
       "      <td>-0.471702</td>\n",
       "    </tr>\n",
       "    <tr>\n",
       "      <th>2550</th>\n",
       "      <td>0</td>\n",
       "      <td>0</td>\n",
       "      <td>1</td>\n",
       "      <td>1</td>\n",
       "      <td>0.961298</td>\n",
       "      <td>1</td>\n",
       "      <td>0</td>\n",
       "      <td>2</td>\n",
       "      <td>1</td>\n",
       "      <td>1</td>\n",
       "      <td>1</td>\n",
       "      <td>1</td>\n",
       "      <td>1</td>\n",
       "      <td>1</td>\n",
       "      <td>2</td>\n",
       "      <td>0</td>\n",
       "      <td>3</td>\n",
       "      <td>-1.488721</td>\n",
       "      <td>-0.529198</td>\n",
       "    </tr>\n",
       "    <tr>\n",
       "      <th>537</th>\n",
       "      <td>0</td>\n",
       "      <td>0</td>\n",
       "      <td>1</td>\n",
       "      <td>1</td>\n",
       "      <td>0.024388</td>\n",
       "      <td>1</td>\n",
       "      <td>0</td>\n",
       "      <td>0</td>\n",
       "      <td>2</td>\n",
       "      <td>2</td>\n",
       "      <td>2</td>\n",
       "      <td>0</td>\n",
       "      <td>0</td>\n",
       "      <td>0</td>\n",
       "      <td>1</td>\n",
       "      <td>1</td>\n",
       "      <td>3</td>\n",
       "      <td>-0.211190</td>\n",
       "      <td>-0.145757</td>\n",
       "    </tr>\n",
       "    <tr>\n",
       "      <th>1220</th>\n",
       "      <td>1</td>\n",
       "      <td>0</td>\n",
       "      <td>0</td>\n",
       "      <td>0</td>\n",
       "      <td>-0.627376</td>\n",
       "      <td>1</td>\n",
       "      <td>2</td>\n",
       "      <td>0</td>\n",
       "      <td>2</td>\n",
       "      <td>0</td>\n",
       "      <td>0</td>\n",
       "      <td>0</td>\n",
       "      <td>0</td>\n",
       "      <td>2</td>\n",
       "      <td>0</td>\n",
       "      <td>0</td>\n",
       "      <td>0</td>\n",
       "      <td>0.031674</td>\n",
       "      <td>-0.519848</td>\n",
       "    </tr>\n",
       "    <tr>\n",
       "      <th>4271</th>\n",
       "      <td>0</td>\n",
       "      <td>0</td>\n",
       "      <td>1</td>\n",
       "      <td>1</td>\n",
       "      <td>-0.179289</td>\n",
       "      <td>1</td>\n",
       "      <td>0</td>\n",
       "      <td>2</td>\n",
       "      <td>1</td>\n",
       "      <td>1</td>\n",
       "      <td>1</td>\n",
       "      <td>1</td>\n",
       "      <td>1</td>\n",
       "      <td>1</td>\n",
       "      <td>1</td>\n",
       "      <td>0</td>\n",
       "      <td>3</td>\n",
       "      <td>-1.493711</td>\n",
       "      <td>-0.771635</td>\n",
       "    </tr>\n",
       "  </tbody>\n",
       "</table>\n",
       "<p>5634 rows × 19 columns</p>\n",
       "</div>"
      ],
      "text/plain": [
       "      gender  SeniorCitizen  Partner  Dependents    tenure  PhoneService  \\\n",
       "2338       1              0        1           1  1.613062             1   \n",
       "4705       1              0        0           0 -1.075464             1   \n",
       "3514       1              0        1           1  1.124239             1   \n",
       "1549       1              0        0           0 -1.279140             1   \n",
       "5757       0              1        1           0 -0.179289             1   \n",
       "...      ...            ...      ...         ...       ...           ...   \n",
       "5699       1              0        0           0 -0.708847             1   \n",
       "2550       0              0        1           1  0.961298             1   \n",
       "537        0              0        1           1  0.024388             1   \n",
       "1220       1              0        0           0 -0.627376             1   \n",
       "4271       0              0        1           1 -0.179289             1   \n",
       "\n",
       "      MultipleLines  InternetService  OnlineSecurity  OnlineBackup  \\\n",
       "2338              0                2               1             1   \n",
       "4705              0                1               2             2   \n",
       "3514              2                1               2             0   \n",
       "1549              0                0               0             0   \n",
       "5757              2                2               1             1   \n",
       "...             ...              ...             ...           ...   \n",
       "5699              0                1               0             0   \n",
       "2550              0                2               1             1   \n",
       "537               0                0               2             2   \n",
       "1220              2                0               2             0   \n",
       "4271              0                2               1             1   \n",
       "\n",
       "      DeviceProtection  TechSupport  StreamingTV  StreamingMovies  Contract  \\\n",
       "2338                 1            1            1                1         2   \n",
       "4705                 0            0            0                0         0   \n",
       "3514                 2            2            2                2         2   \n",
       "1549                 0            0            0                0         0   \n",
       "5757                 1            1            1                1         0   \n",
       "...                ...          ...          ...              ...       ...   \n",
       "5699                 2            0            2                0         0   \n",
       "2550                 1            1            1                1         2   \n",
       "537                  2            0            0                0         1   \n",
       "1220                 0            0            0                2         0   \n",
       "4271                 1            1            1                1         1   \n",
       "\n",
       "      PaperlessBilling  PaymentMethod  MonthlyCharges  TotalCharges  \n",
       "2338                 0              0       -1.492048     -0.426060  \n",
       "4705                 1              2        0.470826     -0.792927  \n",
       "3514                 1              2        1.523791      1.906580  \n",
       "1549                 1              3       -0.630379     -0.991937  \n",
       "5757                 0              3       -1.300751     -0.686731  \n",
       "...                ...            ...             ...           ...  \n",
       "5699                 0              2        0.682084     -0.471702  \n",
       "2550                 0              3       -1.488721     -0.529198  \n",
       "537                  1              3       -0.211190     -0.145757  \n",
       "1220                 0              0        0.031674     -0.519848  \n",
       "4271                 0              3       -1.493711     -0.771635  \n",
       "\n",
       "[5634 rows x 19 columns]"
      ]
     },
     "execution_count": 78,
     "metadata": {},
     "output_type": "execute_result"
    }
   ],
   "source": [
    "# Training data: 80% of the total data (80%*7043 = 5634)\n",
    "X_train_standard "
   ]
  },
  {
   "cell_type": "code",
   "execution_count": 79,
   "id": "2139705d",
   "metadata": {},
   "outputs": [],
   "source": [
    "# Part A 3(A)\n",
    "# Train a model using XGBoost. Also print best performing parameters along with train and test performance."
   ]
  },
  {
   "cell_type": "code",
   "execution_count": 80,
   "id": "c315584d",
   "metadata": {},
   "outputs": [],
   "source": [
    "# Model (Predicting using test data after fitting with training data)\n",
    "xgb_model = XGBClassifier()\n",
    "# Fiting the XGBoost model \n",
    "xgb_model.fit(X_train_standard,Y_train) \n",
    "# predict the response\n",
    "Y_pred = xgb_model.predict(X_test_standard) "
   ]
  },
  {
   "cell_type": "code",
   "execution_count": 81,
   "id": "80b2c4ea",
   "metadata": {},
   "outputs": [
    {
     "name": "stdout",
     "output_type": "stream",
     "text": [
      "Accuracy: 79.63%\n"
     ]
    }
   ],
   "source": [
    "# evaluate predictions\n",
    "accuracy = accuracy_score(Y_test, Y_pred)\n",
    "print(\"Accuracy: %.2f%%\" % (accuracy * 100.0))"
   ]
  },
  {
   "cell_type": "code",
   "execution_count": 82,
   "id": "2fa8b010",
   "metadata": {},
   "outputs": [
    {
     "name": "stdout",
     "output_type": "stream",
     "text": [
      "accuracy :  0.8\n",
      "precision:  0.83\n",
      "recall   :  0.9\n",
      "F1 score :  0.87\n"
     ]
    }
   ],
   "source": [
    "# Evalation metrics \n",
    "df_table = metrics.confusion_matrix(Y_test, Y_pred, labels=[1, 0])\n",
    "a = (df_table[0,0] + df_table[1,1]) / (df_table[0,0] + df_table[0,1] + df_table[1,0] + df_table[1,1])\n",
    "p = df_table[1,1] / (df_table[1,1] + df_table[0,1])\n",
    "r = df_table[1,1] / (df_table[1,1] + df_table[1,0])\n",
    "f = (2 * p * r) / (p + r)\n",
    "print(\"accuracy : \",round(a,2))\n",
    "print(\"precision: \",round(p,2))\n",
    "print(\"recall   : \",round(r,2))\n",
    "print(\"F1 score : \",round(f,2))"
   ]
  },
  {
   "cell_type": "code",
   "execution_count": 83,
   "id": "d9344bc6",
   "metadata": {},
   "outputs": [],
   "source": [
    "# Model (Predicting using training data after fitting with training data)\n",
    "xgb_model = XGBClassifier()  \n",
    "# Fiting the XGBoost model \n",
    "xgb_model.fit(X_train_standard,Y_train) \n",
    "# predict the response\n",
    "Y_pred_1 = xgb_model.predict(X_train_standard) "
   ]
  },
  {
   "cell_type": "code",
   "execution_count": 84,
   "id": "75c96cd2",
   "metadata": {},
   "outputs": [
    {
     "name": "stdout",
     "output_type": "stream",
     "text": [
      "Accuracy: 94.23%\n"
     ]
    }
   ],
   "source": [
    "# evaluate predictions\n",
    "accuracy = accuracy_score(Y_train, Y_pred_1)  \n",
    "print(\"Accuracy: %.2f%%\" % (accuracy * 100.0))"
   ]
  },
  {
   "cell_type": "code",
   "execution_count": 85,
   "id": "4b81f06f",
   "metadata": {},
   "outputs": [
    {
     "name": "stdout",
     "output_type": "stream",
     "text": [
      "accuracy :  0.94\n",
      "precision:  0.95\n",
      "recall   :  0.97\n",
      "F1 score :  0.96\n"
     ]
    }
   ],
   "source": [
    "# Evalation metrics \n",
    "df_table_1 = metrics.confusion_matrix(Y_train, Y_pred_1, labels=[1, 0])\n",
    "a = (df_table_1[0,0] + df_table_1[1,1]) / (df_table_1[0,0] + df_table_1[0,1] + df_table_1[1,0] + df_table_1[1,1])\n",
    "p = df_table_1[1,1] / (df_table_1[1,1] + df_table_1[0,1])\n",
    "r = df_table_1[1,1] / (df_table_1[1,1] + df_table_1[1,0])\n",
    "f = (2 * p * r) / (p + r)\n",
    "print(\"accuracy : \",round(a,2))\n",
    "print(\"precision: \",round(p,2))\n",
    "print(\"recall   : \",round(r,2))\n",
    "print(\"F1 score : \",round(f,2))"
   ]
  },
  {
   "cell_type": "code",
   "execution_count": 86,
   "id": "567d42b7",
   "metadata": {},
   "outputs": [],
   "source": [
    "X1 = TelcomCustomerChurn1.drop(['customerID','Churn'], axis=1)\n",
    "Y1 = TelcomCustomerChurn1['Churn']\n",
    "# copy of datasets\n",
    "X1 = X1.copy()\n",
    "# numerical features\n",
    "num_cols = ['tenure','MonthlyCharges','TotalCharges']\n",
    "# apply standardization on numerical features\n",
    "for i in num_cols:\n",
    "    # fit on numerical data column\n",
    "    scale = StandardScaler().fit(X1[[i]])\n",
    "    # transform the numerical data column\n",
    "    X1[i] = scale.transform(X1[[i]])"
   ]
  },
  {
   "cell_type": "code",
   "execution_count": 87,
   "id": "2e73cd4a",
   "metadata": {},
   "outputs": [
    {
     "name": "stdout",
     "output_type": "stream",
     "text": [
      "Accuracy: 78.59% (0.74%)\n"
     ]
    }
   ],
   "source": [
    "# K-Fold cross validation on whole dataset \n",
    "kfold = KFold(n_splits=5, random_state=0, shuffle=True)\n",
    "results = cross_val_score(xgb_model, X1,Y1, cv=kfold)\n",
    "print(\"Accuracy: %.2f%% (%.2f%%)\" % (results.mean()*100, results.std()*100))"
   ]
  },
  {
   "cell_type": "code",
   "execution_count": 88,
   "id": "d9d6cdae",
   "metadata": {},
   "outputs": [
    {
     "data": {
      "text/plain": [
       "{'objective': 'binary:logistic',\n",
       " 'use_label_encoder': True,\n",
       " 'base_score': 0.5,\n",
       " 'booster': 'gbtree',\n",
       " 'colsample_bylevel': 1,\n",
       " 'colsample_bynode': 1,\n",
       " 'colsample_bytree': 1,\n",
       " 'enable_categorical': False,\n",
       " 'gamma': 0,\n",
       " 'gpu_id': -1,\n",
       " 'importance_type': None,\n",
       " 'interaction_constraints': '',\n",
       " 'learning_rate': 0.300000012,\n",
       " 'max_delta_step': 0,\n",
       " 'max_depth': 6,\n",
       " 'min_child_weight': 1,\n",
       " 'missing': nan,\n",
       " 'monotone_constraints': '()',\n",
       " 'n_estimators': 100,\n",
       " 'n_jobs': 4,\n",
       " 'num_parallel_tree': 1,\n",
       " 'predictor': 'auto',\n",
       " 'random_state': 0,\n",
       " 'reg_alpha': 0,\n",
       " 'reg_lambda': 1,\n",
       " 'scale_pos_weight': 1,\n",
       " 'subsample': 1,\n",
       " 'tree_method': 'exact',\n",
       " 'validate_parameters': 1,\n",
       " 'verbosity': None}"
      ]
     },
     "execution_count": 88,
     "metadata": {},
     "output_type": "execute_result"
    }
   ],
   "source": [
    "xgb_model.get_params()"
   ]
  },
  {
   "cell_type": "code",
   "execution_count": 89,
   "id": "1a79a2fc",
   "metadata": {},
   "outputs": [],
   "source": [
    "# # Part A 3(B)\n",
    "# Improve performance of the XGBoost as much as possible. Also print best performing parameters along with \n",
    "# train and test performance"
   ]
  },
  {
   "cell_type": "code",
   "execution_count": 132,
   "id": "2c6dd104",
   "metadata": {},
   "outputs": [
    {
     "name": "stdout",
     "output_type": "stream",
     "text": [
      "100%|██████████| 500/500 [48:23<00:00,  5.81s/trial, best loss: -0.8056450659652231]  \n",
      "Best: {'colsample_bytree': 0.5700000000000001, 'gamma': 0.45, 'learning_rate': 0.06, 'max_depth': 24, 'min_child_weight': 10.0, 'n_estimators': 30, 'reg_alpha': 0.2352198306309863, 'reg_lambda': 0.7388710833598566, 'subsample': 0.12}\n"
     ]
    }
   ],
   "source": [
    "# Solution\n",
    "# Distributed Asynchronous Hyper-parameter Optimization using HyperOpt. It is based on Bayesian Optimization and supported by the \n",
    "# SMBO (Sequential Model-Based Global Optimization)\n",
    "# define objective function \n",
    "def hyperparameter_tuning(params):\n",
    "    clf = XGBClassifier(**params)\n",
    "    acc = cross_val_score(clf,X_train_standard,Y_train,scoring=\"accuracy\").mean()\n",
    "    return {\"loss\": -acc, \"status\": STATUS_OK}\n",
    "# HyperOpt minimizes the function, that's why, acc is preceded by a negative sign\n",
    "\n",
    "Search_space = {\n",
    "    'max_depth' : hp.choice('max_depth', range(5, 30, 1)),\n",
    "    'learning_rate' : hp.quniform('learning_rate', 0.01, 0.5, 0.01),\n",
    "    'n_estimators' : hp.choice('n_estimators', range(20, 205, 5)),\n",
    "    'reg_alpha': hp.uniform('reg_alpha', 0.0, 1.0),\n",
    "    'reg_lambda': hp.uniform('reg_lambda', 0.0, 1.0),\n",
    "    'gamma' : hp.quniform('gamma', 0, 0.50, 0.01),\n",
    "    'min_child_weight' : hp.quniform('min_child_weight', 1, 10, 1),\n",
    "    'subsample' : hp.quniform('subsample', 0.1, 1, 0.01),\n",
    "    'colsample_bytree' : hp.quniform('colsample_bytree', 0.1, 1.0, 0.01)\n",
    "}\n",
    "\n",
    "trials = Trials()\n",
    "\n",
    "# fmin function : Optimization function  \n",
    "# tpe : Tree Parzen Estimators\n",
    "\n",
    "best = fmin(\n",
    "    fn=hyperparameter_tuning,\n",
    "    space = Search_space, \n",
    "    algo=tpe.suggest, \n",
    "    max_evals=500,  \n",
    "    trials=trials\n",
    ")\n",
    "\n",
    "print(\"Best: {}\".format(best))"
   ]
  },
  {
   "cell_type": "code",
   "execution_count": 119,
   "id": "c7a7b938",
   "metadata": {},
   "outputs": [],
   "source": [
    "# After performing hyperparameter optimization, the loss is -0.8056 meaning that the model performance has \n",
    "# an accuracy of 80.56% by using 'colsample_bytree': 0.5700000000000001, 'gamma': 0.45, 'learning_rate': 0.06, \n",
    "# 'max_depth': 24, 'min_child_weight': 10.0, 'n_estimators': 30, 'reg_alpha': 0.2352198306309863, \n",
    "#'reg_lambda': 0.7388710833598566, 'subsample': 0.12"
   ]
  },
  {
   "cell_type": "code",
   "execution_count": 134,
   "id": "23d3bae4",
   "metadata": {},
   "outputs": [],
   "source": [
    "# Using the best performing parameters on evaluating the performance of train and test data\n",
    "# New XGB Classifier named xgb1 with the best performing parameters "
   ]
  },
  {
   "cell_type": "code",
   "execution_count": 135,
   "id": "93117fd3",
   "metadata": {},
   "outputs": [],
   "source": [
    "xgb1 = XGBClassifier(\n",
    " learning_rate =0.06,\n",
    " n_estimators=30,\n",
    " max_depth=24,\n",
    " max_delta_step=0,\n",
    " min_child_weight=10.0,\n",
    " gamma=0.45,\n",
    " subsample=0.12,\n",
    " colsample_bylevel=1,\n",
    " colsample_bynode=1,\n",
    " colsample_bytree=0.5700000000000001,\n",
    " objective='binary:logistic',\n",
    " nthread=4,\n",
    " scale_pos_weight=1,\n",
    " use_label_encoder=True,\n",
    " base_score=0.5,\n",
    " booster='gbtree',\n",
    " enable_categorical=False,\n",
    " gpu_id=-1,\n",
    " importance_type=None,\n",
    " n_jobs=4,\n",
    " num_parallel_tree=1,\n",
    " predictor='auto',\n",
    " random_state=0,\n",
    " reg_alpha=0.2352198306309863,\n",
    " reg_lambda=0.7388710833598566,\n",
    " tree_method='exact',\n",
    " validate_parameters=1,\n",
    " interaction_constraints='',\n",
    " monotone_constraints='()',\n",
    " verbosity=None)"
   ]
  },
  {
   "cell_type": "code",
   "execution_count": 136,
   "id": "989d3991",
   "metadata": {},
   "outputs": [
    {
     "data": {
      "text/html": [
       "<style>#sk-c03d36bc-0929-4328-9bd2-f19f22ed510b {color: black;background-color: white;}#sk-c03d36bc-0929-4328-9bd2-f19f22ed510b pre{padding: 0;}#sk-c03d36bc-0929-4328-9bd2-f19f22ed510b div.sk-toggleable {background-color: white;}#sk-c03d36bc-0929-4328-9bd2-f19f22ed510b label.sk-toggleable__label {cursor: pointer;display: block;width: 100%;margin-bottom: 0;padding: 0.3em;box-sizing: border-box;text-align: center;}#sk-c03d36bc-0929-4328-9bd2-f19f22ed510b label.sk-toggleable__label-arrow:before {content: \"▸\";float: left;margin-right: 0.25em;color: #696969;}#sk-c03d36bc-0929-4328-9bd2-f19f22ed510b label.sk-toggleable__label-arrow:hover:before {color: black;}#sk-c03d36bc-0929-4328-9bd2-f19f22ed510b div.sk-estimator:hover label.sk-toggleable__label-arrow:before {color: black;}#sk-c03d36bc-0929-4328-9bd2-f19f22ed510b div.sk-toggleable__content {max-height: 0;max-width: 0;overflow: hidden;text-align: left;background-color: #f0f8ff;}#sk-c03d36bc-0929-4328-9bd2-f19f22ed510b div.sk-toggleable__content pre {margin: 0.2em;color: black;border-radius: 0.25em;background-color: #f0f8ff;}#sk-c03d36bc-0929-4328-9bd2-f19f22ed510b input.sk-toggleable__control:checked~div.sk-toggleable__content {max-height: 200px;max-width: 100%;overflow: auto;}#sk-c03d36bc-0929-4328-9bd2-f19f22ed510b input.sk-toggleable__control:checked~label.sk-toggleable__label-arrow:before {content: \"▾\";}#sk-c03d36bc-0929-4328-9bd2-f19f22ed510b div.sk-estimator input.sk-toggleable__control:checked~label.sk-toggleable__label {background-color: #d4ebff;}#sk-c03d36bc-0929-4328-9bd2-f19f22ed510b div.sk-label input.sk-toggleable__control:checked~label.sk-toggleable__label {background-color: #d4ebff;}#sk-c03d36bc-0929-4328-9bd2-f19f22ed510b input.sk-hidden--visually {border: 0;clip: rect(1px 1px 1px 1px);clip: rect(1px, 1px, 1px, 1px);height: 1px;margin: -1px;overflow: hidden;padding: 0;position: absolute;width: 1px;}#sk-c03d36bc-0929-4328-9bd2-f19f22ed510b div.sk-estimator {font-family: monospace;background-color: #f0f8ff;border: 1px dotted black;border-radius: 0.25em;box-sizing: border-box;margin-bottom: 0.5em;}#sk-c03d36bc-0929-4328-9bd2-f19f22ed510b div.sk-estimator:hover {background-color: #d4ebff;}#sk-c03d36bc-0929-4328-9bd2-f19f22ed510b div.sk-parallel-item::after {content: \"\";width: 100%;border-bottom: 1px solid gray;flex-grow: 1;}#sk-c03d36bc-0929-4328-9bd2-f19f22ed510b div.sk-label:hover label.sk-toggleable__label {background-color: #d4ebff;}#sk-c03d36bc-0929-4328-9bd2-f19f22ed510b div.sk-serial::before {content: \"\";position: absolute;border-left: 1px solid gray;box-sizing: border-box;top: 2em;bottom: 0;left: 50%;}#sk-c03d36bc-0929-4328-9bd2-f19f22ed510b div.sk-serial {display: flex;flex-direction: column;align-items: center;background-color: white;padding-right: 0.2em;padding-left: 0.2em;}#sk-c03d36bc-0929-4328-9bd2-f19f22ed510b div.sk-item {z-index: 1;}#sk-c03d36bc-0929-4328-9bd2-f19f22ed510b div.sk-parallel {display: flex;align-items: stretch;justify-content: center;background-color: white;}#sk-c03d36bc-0929-4328-9bd2-f19f22ed510b div.sk-parallel::before {content: \"\";position: absolute;border-left: 1px solid gray;box-sizing: border-box;top: 2em;bottom: 0;left: 50%;}#sk-c03d36bc-0929-4328-9bd2-f19f22ed510b div.sk-parallel-item {display: flex;flex-direction: column;position: relative;background-color: white;}#sk-c03d36bc-0929-4328-9bd2-f19f22ed510b div.sk-parallel-item:first-child::after {align-self: flex-end;width: 50%;}#sk-c03d36bc-0929-4328-9bd2-f19f22ed510b div.sk-parallel-item:last-child::after {align-self: flex-start;width: 50%;}#sk-c03d36bc-0929-4328-9bd2-f19f22ed510b div.sk-parallel-item:only-child::after {width: 0;}#sk-c03d36bc-0929-4328-9bd2-f19f22ed510b div.sk-dashed-wrapped {border: 1px dashed gray;margin: 0 0.4em 0.5em 0.4em;box-sizing: border-box;padding-bottom: 0.4em;background-color: white;position: relative;}#sk-c03d36bc-0929-4328-9bd2-f19f22ed510b div.sk-label label {font-family: monospace;font-weight: bold;background-color: white;display: inline-block;line-height: 1.2em;}#sk-c03d36bc-0929-4328-9bd2-f19f22ed510b div.sk-label-container {position: relative;z-index: 2;text-align: center;}#sk-c03d36bc-0929-4328-9bd2-f19f22ed510b div.sk-container {/* jupyter's `normalize.less` sets `[hidden] { display: none; }` but bootstrap.min.css set `[hidden] { display: none !important; }` so we also need the `!important` here to be able to override the default hidden behavior on the sphinx rendered scikit-learn.org. See: https://github.com/scikit-learn/scikit-learn/issues/21755 */display: inline-block !important;position: relative;}#sk-c03d36bc-0929-4328-9bd2-f19f22ed510b div.sk-text-repr-fallback {display: none;}</style><div id=\"sk-c03d36bc-0929-4328-9bd2-f19f22ed510b\" class=\"sk-top-container\"><div class=\"sk-text-repr-fallback\"><pre>XGBClassifier(base_score=0.5, booster=&#x27;gbtree&#x27;, colsample_bylevel=1,\n",
       "              colsample_bynode=1, colsample_bytree=0.5700000000000001,\n",
       "              enable_categorical=False, gamma=0.45, gpu_id=-1,\n",
       "              importance_type=None, interaction_constraints=&#x27;&#x27;,\n",
       "              learning_rate=0.06, max_delta_step=0, max_depth=24,\n",
       "              min_child_weight=10.0, missing=nan, monotone_constraints=&#x27;()&#x27;,\n",
       "              n_estimators=30, n_jobs=4, nthread=4, num_parallel_tree=1,\n",
       "              predictor=&#x27;auto&#x27;, random_state=0, reg_alpha=0.2352198306309863,\n",
       "              reg_lambda=0.7388710833598566, scale_pos_weight=1, subsample=0.12,\n",
       "              tree_method=&#x27;exact&#x27;, validate_parameters=1, verbosity=None)</pre><b>Please rerun this cell to show the HTML repr or trust the notebook.</b></div><div class=\"sk-container\" hidden><div class=\"sk-item\"><div class=\"sk-estimator sk-toggleable\"><input class=\"sk-toggleable__control sk-hidden--visually\" id=\"2a4758df-3480-4b2d-8476-7c78a2bd8861\" type=\"checkbox\" checked><label for=\"2a4758df-3480-4b2d-8476-7c78a2bd8861\" class=\"sk-toggleable__label sk-toggleable__label-arrow\">XGBClassifier</label><div class=\"sk-toggleable__content\"><pre>XGBClassifier(base_score=0.5, booster=&#x27;gbtree&#x27;, colsample_bylevel=1,\n",
       "              colsample_bynode=1, colsample_bytree=0.5700000000000001,\n",
       "              enable_categorical=False, gamma=0.45, gpu_id=-1,\n",
       "              importance_type=None, interaction_constraints=&#x27;&#x27;,\n",
       "              learning_rate=0.06, max_delta_step=0, max_depth=24,\n",
       "              min_child_weight=10.0, missing=nan, monotone_constraints=&#x27;()&#x27;,\n",
       "              n_estimators=30, n_jobs=4, nthread=4, num_parallel_tree=1,\n",
       "              predictor=&#x27;auto&#x27;, random_state=0, reg_alpha=0.2352198306309863,\n",
       "              reg_lambda=0.7388710833598566, scale_pos_weight=1, subsample=0.12,\n",
       "              tree_method=&#x27;exact&#x27;, validate_parameters=1, verbosity=None)</pre></div></div></div></div></div>"
      ],
      "text/plain": [
       "XGBClassifier(base_score=0.5, booster='gbtree', colsample_bylevel=1,\n",
       "              colsample_bynode=1, colsample_bytree=0.5700000000000001,\n",
       "              enable_categorical=False, gamma=0.45, gpu_id=-1,\n",
       "              importance_type=None, interaction_constraints='',\n",
       "              learning_rate=0.06, max_delta_step=0, max_depth=24,\n",
       "              min_child_weight=10.0, missing=nan, monotone_constraints='()',\n",
       "              n_estimators=30, n_jobs=4, nthread=4, num_parallel_tree=1,\n",
       "              predictor='auto', random_state=0, reg_alpha=0.2352198306309863,\n",
       "              reg_lambda=0.7388710833598566, scale_pos_weight=1, subsample=0.12,\n",
       "              tree_method='exact', validate_parameters=1, verbosity=None)"
      ]
     },
     "execution_count": 136,
     "metadata": {},
     "output_type": "execute_result"
    }
   ],
   "source": [
    "xgb1"
   ]
  },
  {
   "cell_type": "code",
   "execution_count": 137,
   "id": "4f53f575",
   "metadata": {},
   "outputs": [],
   "source": [
    "# Using different notations for variables \n",
    "X2 = TelcomCustomerChurn1.drop(['customerID','Churn'], axis=1)\n",
    "Y2 = TelcomCustomerChurn1['Churn']\n",
    "# split into train and test\n",
    "X2_train, X2_test, Y2_train, Y2_test = train_test_split(X2, Y2, test_size=0.2, random_state=7)\n",
    "# copy of datasets\n",
    "X2_train_standard = X2_train.copy()\n",
    "X2_test_standard = X2_test.copy() \n",
    "# numerical features\n",
    "num_cols = ['tenure','MonthlyCharges','TotalCharges']\n",
    "# apply standardization on numerical features\n",
    "for i in num_cols:\n",
    "    # fit on training data column\n",
    "    scale = StandardScaler().fit(X2_train_standard[[i]])\n",
    "    # transform the training data column\n",
    "    X2_train_standard[i] = scale.transform(X2_train_standard[[i]])\n",
    "    # transform the testing data column\n",
    "    X2_test_standard[i] = scale.transform(X2_test_standard[[i]])"
   ]
  },
  {
   "cell_type": "code",
   "execution_count": 138,
   "id": "f9ea2c4c",
   "metadata": {},
   "outputs": [],
   "source": [
    "# Model (Predicting using test data) \n",
    "# Fiting the XGBoost model with the best parameters  \n",
    "xgb1.fit(X2_train_standard,Y2_train) \n",
    "# predict the response\n",
    "Y2_pred = xgb1.predict(X2_test_standard) "
   ]
  },
  {
   "cell_type": "code",
   "execution_count": 139,
   "id": "c3a3897d",
   "metadata": {},
   "outputs": [
    {
     "name": "stdout",
     "output_type": "stream",
     "text": [
      "Accuracy: 80.62%\n"
     ]
    }
   ],
   "source": [
    "# evaluate predictions\n",
    "accuracy = accuracy_score(Y2_test, Y2_pred)\n",
    "print(\"Accuracy: %.2f%%\" % (accuracy * 100.0))"
   ]
  },
  {
   "cell_type": "code",
   "execution_count": 140,
   "id": "9130d2bf",
   "metadata": {},
   "outputs": [
    {
     "name": "stdout",
     "output_type": "stream",
     "text": [
      "accuracy :  0.81\n",
      "precision:  0.83\n",
      "recall   :  0.92\n",
      "F1 score :  0.87\n"
     ]
    }
   ],
   "source": [
    "# Evalation metrics \n",
    "df_table2 = metrics.confusion_matrix(Y2_test, Y2_pred, labels=[1, 0])\n",
    "a = (df_table2[0,0] + df_table2[1,1]) / (df_table2[0,0] + df_table2[0,1] + df_table2[1,0] + df_table2[1,1])\n",
    "p = df_table2[1,1] / (df_table2[1,1] + df_table2[0,1])\n",
    "r = df_table2[1,1] / (df_table2[1,1] + df_table2[1,0])\n",
    "f = (2 * p * r) / (p + r)\n",
    "print(\"accuracy : \",round(a,2))\n",
    "print(\"precision: \",round(p,2))\n",
    "print(\"recall   : \",round(r,2))\n",
    "print(\"F1 score : \",round(f,2))"
   ]
  },
  {
   "cell_type": "code",
   "execution_count": 141,
   "id": "c2fbcd36",
   "metadata": {},
   "outputs": [],
   "source": [
    "# Model (Predicting using training data )  \n",
    "# Fiting the XGBoost model \n",
    "xgb1.fit(X2_train_standard,Y2_train) \n",
    "# predict the response\n",
    "Y2_pred_1 = xgb1.predict(X2_train_standard) "
   ]
  },
  {
   "cell_type": "code",
   "execution_count": 142,
   "id": "27db57a2",
   "metadata": {},
   "outputs": [
    {
     "name": "stdout",
     "output_type": "stream",
     "text": [
      "Accuracy: 80.67%\n"
     ]
    }
   ],
   "source": [
    "# evaluate predictions\n",
    "accuracy = accuracy_score(Y2_train,Y2_pred_1)\n",
    "print(\"Accuracy: %.2f%%\" % (accuracy * 100.0))"
   ]
  },
  {
   "cell_type": "code",
   "execution_count": 143,
   "id": "8364169c",
   "metadata": {},
   "outputs": [
    {
     "name": "stdout",
     "output_type": "stream",
     "text": [
      "accuracy :  0.81\n",
      "precision:  0.83\n",
      "recall   :  0.92\n",
      "F1 score :  0.88\n"
     ]
    }
   ],
   "source": [
    "# Evalation metrics \n",
    "df_table3 = metrics.confusion_matrix(Y2_train, Y2_pred_1, labels=[1, 0])\n",
    "a = (df_table3[0,0] + df_table3[1,1]) / (df_table3[0,0] + df_table3[0,1] + df_table3[1,0] + df_table3[1,1])\n",
    "p = df_table3[1,1] / (df_table3[1,1] + df_table3[0,1])\n",
    "r = df_table3[1,1] / (df_table3[1,1] + df_table3[1,0])\n",
    "f = (2 * p * r) / (p + r)\n",
    "print(\"accuracy : \",round(a,2))\n",
    "print(\"precision: \",round(p,2))\n",
    "print(\"recall   : \",round(r,2))\n",
    "print(\"F1 score : \",round(f,2))"
   ]
  },
  {
   "cell_type": "code",
   "execution_count": 102,
   "id": "bce3a6c3",
   "metadata": {},
   "outputs": [],
   "source": [
    "# Comparison \n",
    "# Baseline model: \n",
    "# On Test Data\n",
    "# Accuracy:79.63%, Precision:83%, Recall:90%, F1 score:87% \n",
    "# On Training data\n",
    "# Accuracy:94.23%, Precision:95%, Recall:97%, F1 score:96% \n",
    "\n",
    "# Optimised model: \n",
    "# On Test Data\n",
    "# Accuracy:80.62%, Precision:83%, Recall:92%, F1 score:87% \n",
    "# On Training data  \n",
    "# Accuracy:80.67%, Precision:83%, Recall:92%, F1 score:88% \n",
    "\n",
    "# In terms of accuracy score, the model performance on both training data and test data are approximately same (80.6%)\n",
    "# in the case of Optimised model \n",
    "\n",
    "# Baseline model with an accuracy score of 94% on training data looks like an overfit model but its performance on test data \n",
    "# (approx. 80%) is almost similar to that of the optimised model "
   ]
  },
  {
   "cell_type": "code",
   "execution_count": 103,
   "id": "70f15e43",
   "metadata": {},
   "outputs": [],
   "source": [
    "# Part B\n",
    "# Domain: IT\n",
    "# CONTEXT: The purpose is to build a machine learning workflow that will work autonomously irrespective of Data and users \n",
    "# can save efforts involved in building workflows for each dataset."
   ]
  },
  {
   "cell_type": "code",
   "execution_count": 104,
   "id": "8f952031",
   "metadata": {},
   "outputs": [],
   "source": [
    "# Solution\n",
    "# Machine Learning Workflow \n",
    "# 1. Gathering data\n",
    "# 2. Data pre-processing\n",
    "# 3. Researching the model that will be best for the type of data\n",
    "# 4. Training and testing the model\n",
    "# 5. Evaluation"
   ]
  },
  {
   "cell_type": "code",
   "execution_count": 105,
   "id": "652852b9",
   "metadata": {},
   "outputs": [],
   "source": [
    "# For automating the workflow, I will use  \n",
    "# 1. TPOT (Tree-based Pipeline Optimization Tool). TPOT is a Python Automated Machine Learning tool that optimizes \n",
    "# machine learning pipelines using genetic programming.  "
   ]
  },
  {
   "cell_type": "code",
   "execution_count": 106,
   "id": "84120dff",
   "metadata": {},
   "outputs": [],
   "source": [
    "# Tree-based Pipeline Optimization Tool, TPOT"
   ]
  },
  {
   "cell_type": "code",
   "execution_count": 107,
   "id": "6fc87c32",
   "metadata": {},
   "outputs": [],
   "source": [
    "Data = TelcomCustomerChurn"
   ]
  },
  {
   "cell_type": "code",
   "execution_count": 108,
   "id": "30ef0e93",
   "metadata": {},
   "outputs": [],
   "source": [
    "# Data pre-processing \n",
    "# Here, we found an anomaly in TotalCharges datatype undetected by isnull() function. \n",
    "# Ideally, it should have been Float but it was idenifed as Object datatype. \n",
    "# Upon closer inspection, I found that the TotalCharges column has blank data which Python was unable to detect as null values.\n",
    "# That may have resulted in TotalCharges datatype being tagged as Object in lieu of Float. \n",
    "# Hence, besides isnull() functon, I recommend manual checking of dataset in order to remove any discrepancy.  "
   ]
  },
  {
   "cell_type": "code",
   "execution_count": 109,
   "id": "2278b41d",
   "metadata": {},
   "outputs": [],
   "source": [
    "# Pre-processing\n",
    "Data1 = Data.replace(r'^\\s*$', np.nan, regex=True)\n",
    "# Imputation\n",
    "imputer = SimpleImputer(strategy='median', missing_values=np.nan)\n",
    "imputer = imputer.fit(Data1[['TotalCharges']])\n",
    "Data1[['TotalCharges']] = imputer.transform(Data1[['TotalCharges']])\n",
    "# Encoding\n",
    "Data1['gender'] = class_label_encoder.fit_transform(Data1['gender'])\n",
    "Data1['Partner'] = class_label_encoder.fit_transform(Data1['Partner'])\n",
    "Data1['Dependents'] = class_label_encoder.fit_transform(Data1['Dependents'])\n",
    "Data1['PhoneService'] = class_label_encoder.fit_transform(Data1['PhoneService'])\n",
    "Data1['MultipleLines'] = class_label_encoder.fit_transform(Data1['MultipleLines'])\n",
    "Data1['InternetService'] = class_label_encoder.fit_transform(Data1['InternetService'])\n",
    "Data1['OnlineSecurity'] = class_label_encoder.fit_transform(Data1['OnlineSecurity'])\n",
    "Data1['OnlineBackup'] = class_label_encoder.fit_transform(Data1['OnlineBackup'])\n",
    "Data1['DeviceProtection'] = class_label_encoder.fit_transform(Data1['DeviceProtection'])\n",
    "Data1['TechSupport'] = class_label_encoder.fit_transform(Data1['TechSupport'])\n",
    "Data1['StreamingTV'] = class_label_encoder.fit_transform(Data1['StreamingTV'])\n",
    "Data1['StreamingMovies'] = class_label_encoder.fit_transform(Data1['StreamingMovies'])\n",
    "Data1['Contract'] = class_label_encoder.fit_transform(Data1['Contract'])\n",
    "Data1['PaperlessBilling'] = class_label_encoder.fit_transform(Data1['PaperlessBilling'])\n",
    "Data1['PaymentMethod'] = class_label_encoder.fit_transform(Data1['PaymentMethod'])\n",
    "Data1['Churn'] = class_label_encoder.fit_transform(Data1['Churn'])"
   ]
  },
  {
   "cell_type": "code",
   "execution_count": 110,
   "id": "894cf84c",
   "metadata": {},
   "outputs": [],
   "source": [
    "X = Data1.drop(['customerID','Churn'], axis=1)\n",
    "Y = Data1['Churn']\n",
    "X_train, X_test, Y_train, Y_test = train_test_split(X, Y, test_size=0.2, random_state=7) \n",
    "X_train_1 = X_train.copy()\n",
    "X_test_1 = X_test.copy() \n",
    "num_cols = ['tenure','MonthlyCharges','TotalCharges']\n",
    "# Scaling \n",
    "for i in num_cols:\n",
    "    scale = StandardScaler().fit(X_train_1[[i]])\n",
    "    X_train_1[i] = scale.transform(X_train_1[[i]])  \n",
    "    X_test_1[i] = scale.transform(X_test_1[[i]])"
   ]
  },
  {
   "cell_type": "code",
   "execution_count": 111,
   "id": "b0487e83",
   "metadata": {},
   "outputs": [],
   "source": [
    "from tpot import TPOTClassifier \n",
    "from sklearn.datasets import load_digits\n",
    "from sklearn.pipeline import make_pipeline, make_union\n",
    "from sklearn.preprocessing import PolynomialFeatures\n",
    "from tpot.builtins import StackingEstimator\n",
    "from tpot.export_utils import set_param_recursive"
   ]
  },
  {
   "cell_type": "code",
   "execution_count": 112,
   "id": "abd159aa",
   "metadata": {},
   "outputs": [],
   "source": [
    "tpot_data = Data1\n",
    "features = X_train_1 \n",
    "target = Y_train\n",
    "training_features, testing_features, training_target, testing_target = train_test_split(features, target, random_state=42)"
   ]
  },
  {
   "cell_type": "code",
   "execution_count": 113,
   "id": "2c5ac9b6",
   "metadata": {},
   "outputs": [
    {
     "data": {
      "application/vnd.jupyter.widget-view+json": {
       "model_id": "",
       "version_major": 2,
       "version_minor": 0
      },
      "text/plain": [
       "Optimization Progress:   0%|          | 0/300 [00:00<?, ?pipeline/s]"
      ]
     },
     "metadata": {},
     "output_type": "display_data"
    },
    {
     "name": "stdout",
     "output_type": "stream",
     "text": [
      "\n",
      "Generation 1 - Current best internal CV score: 0.8008512200926396\n",
      "\n",
      "Generation 2 - Current best internal CV score: 0.8028069301703228\n",
      "\n",
      "Generation 3 - Current best internal CV score: 0.8028069301703228\n",
      "\n",
      "Generation 4 - Current best internal CV score: 0.8028069301703228\n",
      "\n",
      "Generation 5 - Current best internal CV score: 0.8028069301703228\n",
      "\n",
      "Best pipeline: LinearSVC(LinearSVC(input_matrix, C=15.0, dual=False, loss=squared_hinge, penalty=l2, tol=0.01), C=0.1, dual=False, loss=squared_hinge, penalty=l1, tol=0.1)\n",
      "0.8076650106458482\n"
     ]
    }
   ],
   "source": [
    "# Automating the ML workflow post pre-processing \n",
    "tpot = TPOTClassifier(generations=5, population_size=50, verbosity=2, random_state=42)\n",
    "tpot.fit(X_train_1, Y_train)\n",
    "print(tpot.score(X_test_1, Y_test))\n",
    "tpot.export('tpot_Model_pipeline.py')"
   ]
  },
  {
   "cell_type": "code",
   "execution_count": 114,
   "id": "8abfbd45",
   "metadata": {},
   "outputs": [],
   "source": [
    "# On exporting the 'tpot_Model_pipeline.py' from above, we get the below pipeline used in TPOT "
   ]
  },
  {
   "cell_type": "markdown",
   "id": "17aa6b4b",
   "metadata": {},
   "source": [
    "import numpy as np\n",
    "import pandas as pd\n",
    "from sklearn.model_selection import train_test_split\n",
    "from sklearn.pipeline import make_pipeline, make_union\n",
    "from sklearn.svm import LinearSVC\n",
    "from tpot.builtins import StackingEstimator\n",
    "from tpot.export_utils import set_param_recursive\n",
    "\n",
    "tpot_data = pd.read_csv('PATH/TO/DATA/FILE', sep='COLUMN_SEPARATOR', dtype=np.float64)\n",
    "features = tpot_data.drop('target', axis=1)\n",
    "training_features, testing_features, training_target, testing_target = \\\n",
    "            train_test_split(features, tpot_data['target'], random_state=42)\n",
    "\n",
    "exported_pipeline = make_pipeline(\n",
    "    StackingEstimator(estimator=LinearSVC(C=15.0, dual=False, loss=\"squared_hinge\", penalty=\"l2\", tol=0.01)),\n",
    "    LinearSVC(C=0.1, dual=False, loss=\"squared_hinge\", penalty=\"l1\", tol=0.1)\n",
    ")\n",
    "\n",
    "set_param_recursive(exported_pipeline.steps, 'random_state', 42)\n",
    "\n",
    "exported_pipeline.fit(training_features, training_target)\n",
    "results = exported_pipeline.predict(testing_features)\n"
   ]
  },
  {
   "cell_type": "code",
   "execution_count": 115,
   "id": "a4647b36",
   "metadata": {},
   "outputs": [],
   "source": [
    "# Scikit Learn's Pipeline "
   ]
  },
  {
   "cell_type": "code",
   "execution_count": 187,
   "id": "3e08936b",
   "metadata": {},
   "outputs": [],
   "source": [
    "Data = TelcomCustomerChurn\n",
    "Data2 = Data.replace(r'^\\s*$', np.nan, regex=True)\n",
    "imputer = SimpleImputer(strategy='median', missing_values=np.nan)\n",
    "imputer = imputer.fit(Data2[['TotalCharges']])\n",
    "Data2[['TotalCharges']] = imputer.transform(Data2[['TotalCharges']])\n",
    "\n",
    "class MultiColumn(BaseEstimator, TransformerMixin):\n",
    "    def __init__(self,columns = None):\n",
    "        self.columns = columns # array of column names to encode\n",
    "    def fit(self,X,Y=None):\n",
    "        return self\n",
    "    def transform(self, X):                                     \n",
    "        return X[self.columns]\n",
    "\n",
    "Data2.drop(columns=['customerID'],inplace=True)\n",
    "X = Data2.drop('Churn', axis=1)\n",
    "Y = Data2['Churn']\n",
    "Y = LabelEncoder().fit_transform(Y)\n",
    "\n",
    "X_train, X_test, Y_train, Y_test = train_test_split(X,Y, test_size=0.2, random_state=7)\n",
    "\n",
    "transformers = []\n",
    "\n",
    "# Numerical and Categorical columns in the Dataframe \n",
    "numeric = ['tenure','MonthlyCharges','TotalCharges','SeniorCitizen'] # Datatype: Int64 \n",
    "categorical = ['gender','Partner','Dependents','PhoneService','MultipleLines','InternetService','OnlineSecurity',\n",
    "            'OnlineBackup','DeviceProtection','TechSupport','StreamingTV','StreamingMovies','Contract',\n",
    "            'PaperlessBilling','PaymentMethod']\n",
    "\n",
    "class Imputation(BaseEstimator, TransformerMixin):\n",
    "    def transform(self, X, Y=None, **fit_params):\n",
    "        return X.fillna(NUMERIC.median())\n",
    "    def fit_transform(self, X, Y=None, **fit_params):\n",
    "        self.fit(X, Y, **fit_params)\n",
    "        return self.transform(X)\n",
    "    def fit(self, X, Y=None, **fit_params):\n",
    "        return self\n",
    "\n",
    "class Cat(BaseEstimator, TransformerMixin):\n",
    "    def transform(self, X, Y=None, **fit_params):\n",
    "        Scaler = StandardScaler()\n",
    "        Scaler1 = Scaler.fit(numeric)\n",
    "        Scaler1_data = Scaler1.transform(numeric)\n",
    "        Scaler1_data[np.isnan(Scaler1_data)] = 1\n",
    "        return Scaler1_data\n",
    "\n",
    "    def transform(self, X, Y=None, **fit_params):    \n",
    "        Encoder = LabelEncoder()\n",
    "        Encoder1 = Encoderr.fit(categorical)\n",
    "        Encoder1_data = Encoder1.transform(categorical)\n",
    "        return Encoder1_data\n",
    "    \n",
    "    def fit(self, X, y=None, **fit_params):\n",
    "        return self"
   ]
  },
  {
   "cell_type": "code",
   "execution_count": 188,
   "id": "6830153f",
   "metadata": {},
   "outputs": [],
   "source": [
    "pipeline = Pipeline([\n",
    "\n",
    "# Use FeatureUnion to combine the features\n",
    "('union', FeatureUnion(\n",
    "    transformer_list=[\n",
    "                # numeric\n",
    "        ('numeric', Pipeline([\n",
    "        ('selector', MultiColumn(columns=['tenure','MonthlyCharges','TotalCharges','SeniorCitizen'])),\n",
    "        ('imputing', SimpleImputer(strategy ='median')),\n",
    "        ('scaling', preprocessing.StandardScaler())\n",
    "        ])),\n",
    "         # categorical\n",
    "        ('categorical', Pipeline([\n",
    "            ('selector', MultiColumn(columns=['gender','Partner','Dependents','PhoneService','MultipleLines','InternetService',\n",
    "                                              'OnlineSecurity','OnlineBackup','DeviceProtection','TechSupport','StreamingTV',\n",
    "                                              'StreamingMovies','Contract','PaperlessBilling','PaymentMethod'])),\n",
    "            ('Encoding', LabelEncoder())\n",
    "        ])),\n",
    "\n",
    "    ])),\n",
    "\n",
    "\n",
    " ('model_fitting', xgb.XGBClassifier()),\n",
    "])"
   ]
  }
 ],
 "metadata": {
  "kernelspec": {
   "display_name": "Python 3 (ipykernel)",
   "language": "python",
   "name": "python3"
  },
  "language_info": {
   "codemirror_mode": {
    "name": "ipython",
    "version": 3
   },
   "file_extension": ".py",
   "mimetype": "text/x-python",
   "name": "python",
   "nbconvert_exporter": "python",
   "pygments_lexer": "ipython3",
   "version": "3.9.12"
  }
 },
 "nbformat": 4,
 "nbformat_minor": 5
}
