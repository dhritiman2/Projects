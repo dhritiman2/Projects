{
 "cells": [
  {
   "cell_type": "code",
   "execution_count": null,
   "metadata": {
    "id": "AJj1HXVRfgMx"
   },
   "outputs": [],
   "source": [
    "# NLP Project 1 - Statistical NLP  "
   ]
  },
  {
   "cell_type": "code",
   "execution_count": null,
   "metadata": {
    "colab": {
     "base_uri": "https://localhost:8080/"
    },
    "id": "XDon_XrSCUVc",
    "outputId": "eaf135bd-5b85-46f5-9b18-75b7584bc06f"
   },
   "outputs": [
    {
     "name": "stdout",
     "output_type": "stream",
     "text": [
      "Mounted at /content/drive/\n"
     ]
    }
   ],
   "source": [
    "from google.colab import drive\n",
    "drive.mount(\"/content/drive/\", force_remount=True)"
   ]
  },
  {
   "cell_type": "code",
   "execution_count": null,
   "metadata": {
    "id": "TdZKtuEJR-3U"
   },
   "outputs": [],
   "source": [
    "# Import libraries \n",
    "import warnings\n",
    "warnings.filterwarnings('ignore')\n",
    "warnings.simplefilter('ignore')\n",
    "import os\n",
    "from time import time\n",
    "import pandas as pd \n",
    "import numpy as np\n",
    "import matplotlib\n",
    "import matplotlib.pyplot as plt\n",
    "%matplotlib inline\n",
    "from matplotlib import pyplot\n",
    "import seaborn as sns\n",
    "import csv\n",
    "import re\n",
    "from collections import defaultdict \n",
    "import nltk\n",
    "from nltk.stem.wordnet import WordNetLemmatizer\n",
    "from nltk.stem import PorterStemmer\n",
    "from nltk.stem.snowball import SnowballStemmer\n",
    "import spacy \n",
    "import logging \n",
    "logging.basicConfig(format=\"%(levelname)s - %(asctime)s: %(message)s\", datefmt= '%H:%M:%S', level=logging.INFO)\n",
    "import string\n",
    "from string import punctuation\n",
    "from nltk.corpus import stopwords \n",
    "from nltk.tokenize import punkt\n",
    "from nltk import word_tokenize \n",
    "from sklearn.feature_extraction.text import CountVectorizer \n",
    "from sklearn.feature_extraction.text import TfidfVectorizer  \n",
    "from sklearn.preprocessing import MultiLabelBinarizer \n",
    "from sklearn.multiclass import OneVsRestClassifier\n",
    "from sklearn.linear_model import LogisticRegression\n",
    "from sklearn.model_selection import train_test_split\n",
    "from sklearn.metrics import accuracy_score\n",
    "from sklearn.metrics import f1_score\n",
    "from sklearn.metrics import average_precision_score\n",
    "from sklearn.metrics import recall_score"
   ]
  },
  {
   "cell_type": "code",
   "execution_count": null,
   "metadata": {
    "id": "q5sAzHOrVJaR"
   },
   "outputs": [],
   "source": [
    "import gensim\n",
    "from gensim import corpora, models, similarities, downloader\n",
    "from gensim.models.phrases import Phrases, Phraser\n",
    "from gensim.models import KeyedVectors \n",
    "from gensim.models import Word2Vec \n",
    "from gensim.scripts.glove2word2vec import glove2word2vec\n",
    "from gensim.test.utils import datapath, get_tmpfile"
   ]
  },
  {
   "cell_type": "code",
   "execution_count": null,
   "metadata": {
    "colab": {
     "base_uri": "https://localhost:8080/"
    },
    "id": "yGuZ6PAFaeEM",
    "outputId": "853c2bb3-0691-4dea-d67a-a93f4134a634"
   },
   "outputs": [
    {
     "name": "stderr",
     "output_type": "stream",
     "text": [
      "[nltk_data] Downloading package averaged_perceptron_tagger to\n",
      "[nltk_data]     /root/nltk_data...\n",
      "[nltk_data]   Unzipping taggers/averaged_perceptron_tagger.zip.\n"
     ]
    },
    {
     "data": {
      "text/plain": [
       "True"
      ]
     },
     "execution_count": 5,
     "metadata": {},
     "output_type": "execute_result"
    }
   ],
   "source": [
    "nltk.download('averaged_perceptron_tagger')"
   ]
  },
  {
   "cell_type": "code",
   "execution_count": null,
   "metadata": {
    "id": "--sfbandV9UF"
   },
   "outputs": [],
   "source": [
    "# Part A\n",
    "# DOMAIN: Digital content management\n",
    "# PROJECT OBJECTIVE: To build a NLP classifier which can use input text parameters to determine the label/s of the blog"
   ]
  },
  {
   "cell_type": "code",
   "execution_count": null,
   "metadata": {
    "id": "D6mOFRBTkAVO"
   },
   "outputs": [],
   "source": [
    "# Q1. Read and Analyse Dataset."
   ]
  },
  {
   "cell_type": "code",
   "execution_count": null,
   "metadata": {
    "id": "BFC2oo8ZkfU8"
   },
   "outputs": [],
   "source": [
    "# Q1 A\n",
    "# Clearly write outcome of data analysis"
   ]
  },
  {
   "cell_type": "code",
   "execution_count": null,
   "metadata": {
    "id": "AweC5lSHmVDL"
   },
   "outputs": [],
   "source": [
    "# Solution \n",
    "base_path = '/content/drive/My Drive/'\n",
    "files = 'blogs.zip'\n",
    "extract_path = base_path+'Data/Extracted/' \n",
    "save_extracted = base_path+'Data/Save/'"
   ]
  },
  {
   "cell_type": "code",
   "execution_count": null,
   "metadata": {
    "id": "1RGf-jL_mzHw"
   },
   "outputs": [],
   "source": [
    "from zipfile import ZipFile\n",
    "blogs_zip_path = os.path.join(base_path, files)\n",
    "with ZipFile(blogs_zip_path, 'r') as z:\n",
    "  z.extractall(extract_path)"
   ]
  },
  {
   "cell_type": "code",
   "execution_count": null,
   "metadata": {
    "id": "Sn4XeIuKMoIo"
   },
   "outputs": [],
   "source": [
    "path = '/content/drive/My Drive/blogtext.csv'"
   ]
  },
  {
   "cell_type": "code",
   "execution_count": null,
   "metadata": {
    "id": "96GL52ALrMHR"
   },
   "outputs": [],
   "source": [
    "blog_df = pd.read_csv(path)   "
   ]
  },
  {
   "cell_type": "code",
   "execution_count": null,
   "metadata": {
    "colab": {
     "base_uri": "https://localhost:8080/"
    },
    "id": "GKVArdDGsiDL",
    "outputId": "8873733a-1cd2-40ac-8870-5e532ea7e857"
   },
   "outputs": [
    {
     "data": {
      "text/plain": [
       "(681284, 7)"
      ]
     },
     "execution_count": 13,
     "metadata": {},
     "output_type": "execute_result"
    }
   ],
   "source": [
    "blog_df.shape "
   ]
  },
  {
   "cell_type": "code",
   "execution_count": null,
   "metadata": {
    "id": "Llt_OPKX3Yvu"
   },
   "outputs": [],
   "source": [
    "# Truncating the dataset\n",
    "# As the number of rows in the dataset is too large, we will truncate the dataset in order to mitigate the risks of system crash due to usage of all available RAM. \n",
    "# Using fewer data during development phase will augment execution speed too. "
   ]
  },
  {
   "cell_type": "code",
   "execution_count": null,
   "metadata": {
    "id": "f8Q_AFm04MOc"
   },
   "outputs": [],
   "source": [
    "# Truncated dataset using the first 3000 rows \n",
    "blog_df = blog_df.head(3000) "
   ]
  },
  {
   "cell_type": "code",
   "execution_count": null,
   "metadata": {
    "colab": {
     "base_uri": "https://localhost:8080/"
    },
    "id": "SPOwP_H04pRy",
    "outputId": "d12350b8-a7d7-40ed-d3fd-1ca22e0cae17"
   },
   "outputs": [
    {
     "data": {
      "text/plain": [
       "(3000, 7)"
      ]
     },
     "execution_count": 16,
     "metadata": {},
     "output_type": "execute_result"
    }
   ],
   "source": [
    "blog_df.shape "
   ]
  },
  {
   "cell_type": "code",
   "execution_count": null,
   "metadata": {
    "colab": {
     "base_uri": "https://localhost:8080/"
    },
    "id": "4ZS2MKLbyuRE",
    "outputId": "930be835-f5d0-4371-d8e2-f6728be5c3b7"
   },
   "outputs": [
    {
     "data": {
      "text/plain": [
       "Index(['id', 'gender', 'age', 'topic', 'sign', 'date', 'text'], dtype='object')"
      ]
     },
     "execution_count": 17,
     "metadata": {},
     "output_type": "execute_result"
    }
   ],
   "source": [
    "blog_df.columns "
   ]
  },
  {
   "cell_type": "code",
   "execution_count": null,
   "metadata": {
    "colab": {
     "base_uri": "https://localhost:8080/",
     "height": 206
    },
    "id": "wSwAo8ZO04Cn",
    "outputId": "5ebcf160-02ca-4b8e-e7a2-a9fa515ca943"
   },
   "outputs": [
    {
     "data": {
      "text/html": [
       "\n",
       "  <div id=\"df-dd09e164-1242-4cec-8b33-432a43750995\">\n",
       "    <div class=\"colab-df-container\">\n",
       "      <div>\n",
       "<style scoped>\n",
       "    .dataframe tbody tr th:only-of-type {\n",
       "        vertical-align: middle;\n",
       "    }\n",
       "\n",
       "    .dataframe tbody tr th {\n",
       "        vertical-align: top;\n",
       "    }\n",
       "\n",
       "    .dataframe thead th {\n",
       "        text-align: right;\n",
       "    }\n",
       "</style>\n",
       "<table border=\"1\" class=\"dataframe\">\n",
       "  <thead>\n",
       "    <tr style=\"text-align: right;\">\n",
       "      <th></th>\n",
       "      <th>id</th>\n",
       "      <th>gender</th>\n",
       "      <th>age</th>\n",
       "      <th>topic</th>\n",
       "      <th>sign</th>\n",
       "      <th>date</th>\n",
       "      <th>text</th>\n",
       "    </tr>\n",
       "  </thead>\n",
       "  <tbody>\n",
       "    <tr>\n",
       "      <th>0</th>\n",
       "      <td>2059027</td>\n",
       "      <td>male</td>\n",
       "      <td>15</td>\n",
       "      <td>Student</td>\n",
       "      <td>Leo</td>\n",
       "      <td>14,May,2004</td>\n",
       "      <td>Info has been found (+/- 100 pages,...</td>\n",
       "    </tr>\n",
       "    <tr>\n",
       "      <th>1</th>\n",
       "      <td>2059027</td>\n",
       "      <td>male</td>\n",
       "      <td>15</td>\n",
       "      <td>Student</td>\n",
       "      <td>Leo</td>\n",
       "      <td>13,May,2004</td>\n",
       "      <td>These are the team members:   Drewe...</td>\n",
       "    </tr>\n",
       "    <tr>\n",
       "      <th>2</th>\n",
       "      <td>2059027</td>\n",
       "      <td>male</td>\n",
       "      <td>15</td>\n",
       "      <td>Student</td>\n",
       "      <td>Leo</td>\n",
       "      <td>12,May,2004</td>\n",
       "      <td>In het kader van kernfusie op aarde...</td>\n",
       "    </tr>\n",
       "    <tr>\n",
       "      <th>3</th>\n",
       "      <td>2059027</td>\n",
       "      <td>male</td>\n",
       "      <td>15</td>\n",
       "      <td>Student</td>\n",
       "      <td>Leo</td>\n",
       "      <td>12,May,2004</td>\n",
       "      <td>testing!!!  testing!!!</td>\n",
       "    </tr>\n",
       "    <tr>\n",
       "      <th>4</th>\n",
       "      <td>3581210</td>\n",
       "      <td>male</td>\n",
       "      <td>33</td>\n",
       "      <td>InvestmentBanking</td>\n",
       "      <td>Aquarius</td>\n",
       "      <td>11,June,2004</td>\n",
       "      <td>Thanks to Yahoo!'s Toolbar I can ...</td>\n",
       "    </tr>\n",
       "  </tbody>\n",
       "</table>\n",
       "</div>\n",
       "      <button class=\"colab-df-convert\" onclick=\"convertToInteractive('df-dd09e164-1242-4cec-8b33-432a43750995')\"\n",
       "              title=\"Convert this dataframe to an interactive table.\"\n",
       "              style=\"display:none;\">\n",
       "        \n",
       "  <svg xmlns=\"http://www.w3.org/2000/svg\" height=\"24px\"viewBox=\"0 0 24 24\"\n",
       "       width=\"24px\">\n",
       "    <path d=\"M0 0h24v24H0V0z\" fill=\"none\"/>\n",
       "    <path d=\"M18.56 5.44l.94 2.06.94-2.06 2.06-.94-2.06-.94-.94-2.06-.94 2.06-2.06.94zm-11 1L8.5 8.5l.94-2.06 2.06-.94-2.06-.94L8.5 2.5l-.94 2.06-2.06.94zm10 10l.94 2.06.94-2.06 2.06-.94-2.06-.94-.94-2.06-.94 2.06-2.06.94z\"/><path d=\"M17.41 7.96l-1.37-1.37c-.4-.4-.92-.59-1.43-.59-.52 0-1.04.2-1.43.59L10.3 9.45l-7.72 7.72c-.78.78-.78 2.05 0 2.83L4 21.41c.39.39.9.59 1.41.59.51 0 1.02-.2 1.41-.59l7.78-7.78 2.81-2.81c.8-.78.8-2.07 0-2.86zM5.41 20L4 18.59l7.72-7.72 1.47 1.35L5.41 20z\"/>\n",
       "  </svg>\n",
       "      </button>\n",
       "      \n",
       "  <style>\n",
       "    .colab-df-container {\n",
       "      display:flex;\n",
       "      flex-wrap:wrap;\n",
       "      gap: 12px;\n",
       "    }\n",
       "\n",
       "    .colab-df-convert {\n",
       "      background-color: #E8F0FE;\n",
       "      border: none;\n",
       "      border-radius: 50%;\n",
       "      cursor: pointer;\n",
       "      display: none;\n",
       "      fill: #1967D2;\n",
       "      height: 32px;\n",
       "      padding: 0 0 0 0;\n",
       "      width: 32px;\n",
       "    }\n",
       "\n",
       "    .colab-df-convert:hover {\n",
       "      background-color: #E2EBFA;\n",
       "      box-shadow: 0px 1px 2px rgba(60, 64, 67, 0.3), 0px 1px 3px 1px rgba(60, 64, 67, 0.15);\n",
       "      fill: #174EA6;\n",
       "    }\n",
       "\n",
       "    [theme=dark] .colab-df-convert {\n",
       "      background-color: #3B4455;\n",
       "      fill: #D2E3FC;\n",
       "    }\n",
       "\n",
       "    [theme=dark] .colab-df-convert:hover {\n",
       "      background-color: #434B5C;\n",
       "      box-shadow: 0px 1px 3px 1px rgba(0, 0, 0, 0.15);\n",
       "      filter: drop-shadow(0px 1px 2px rgba(0, 0, 0, 0.3));\n",
       "      fill: #FFFFFF;\n",
       "    }\n",
       "  </style>\n",
       "\n",
       "      <script>\n",
       "        const buttonEl =\n",
       "          document.querySelector('#df-dd09e164-1242-4cec-8b33-432a43750995 button.colab-df-convert');\n",
       "        buttonEl.style.display =\n",
       "          google.colab.kernel.accessAllowed ? 'block' : 'none';\n",
       "\n",
       "        async function convertToInteractive(key) {\n",
       "          const element = document.querySelector('#df-dd09e164-1242-4cec-8b33-432a43750995');\n",
       "          const dataTable =\n",
       "            await google.colab.kernel.invokeFunction('convertToInteractive',\n",
       "                                                     [key], {});\n",
       "          if (!dataTable) return;\n",
       "\n",
       "          const docLinkHtml = 'Like what you see? Visit the ' +\n",
       "            '<a target=\"_blank\" href=https://colab.research.google.com/notebooks/data_table.ipynb>data table notebook</a>'\n",
       "            + ' to learn more about interactive tables.';\n",
       "          element.innerHTML = '';\n",
       "          dataTable['output_type'] = 'display_data';\n",
       "          await google.colab.output.renderOutput(dataTable, element);\n",
       "          const docLink = document.createElement('div');\n",
       "          docLink.innerHTML = docLinkHtml;\n",
       "          element.appendChild(docLink);\n",
       "        }\n",
       "      </script>\n",
       "    </div>\n",
       "  </div>\n",
       "  "
      ],
      "text/plain": [
       "        id gender  age              topic      sign          date  \\\n",
       "0  2059027   male   15            Student       Leo   14,May,2004   \n",
       "1  2059027   male   15            Student       Leo   13,May,2004   \n",
       "2  2059027   male   15            Student       Leo   12,May,2004   \n",
       "3  2059027   male   15            Student       Leo   12,May,2004   \n",
       "4  3581210   male   33  InvestmentBanking  Aquarius  11,June,2004   \n",
       "\n",
       "                                                text  \n",
       "0             Info has been found (+/- 100 pages,...  \n",
       "1             These are the team members:   Drewe...  \n",
       "2             In het kader van kernfusie op aarde...  \n",
       "3                   testing!!!  testing!!!            \n",
       "4               Thanks to Yahoo!'s Toolbar I can ...  "
      ]
     },
     "execution_count": 18,
     "metadata": {},
     "output_type": "execute_result"
    }
   ],
   "source": [
    "# Checking the first 5 rows of the truncated dataset\n",
    "blog_df.head() "
   ]
  },
  {
   "cell_type": "code",
   "execution_count": null,
   "metadata": {
    "colab": {
     "base_uri": "https://localhost:8080/",
     "height": 206
    },
    "id": "QOPNwyBfz6rL",
    "outputId": "36fe1885-d800-4485-ae42-7143ff610b24"
   },
   "outputs": [
    {
     "data": {
      "text/html": [
       "\n",
       "  <div id=\"df-363d4283-897b-4398-9d77-a6bb61387deb\">\n",
       "    <div class=\"colab-df-container\">\n",
       "      <div>\n",
       "<style scoped>\n",
       "    .dataframe tbody tr th:only-of-type {\n",
       "        vertical-align: middle;\n",
       "    }\n",
       "\n",
       "    .dataframe tbody tr th {\n",
       "        vertical-align: top;\n",
       "    }\n",
       "\n",
       "    .dataframe thead th {\n",
       "        text-align: right;\n",
       "    }\n",
       "</style>\n",
       "<table border=\"1\" class=\"dataframe\">\n",
       "  <thead>\n",
       "    <tr style=\"text-align: right;\">\n",
       "      <th></th>\n",
       "      <th>id</th>\n",
       "      <th>gender</th>\n",
       "      <th>age</th>\n",
       "      <th>topic</th>\n",
       "      <th>sign</th>\n",
       "      <th>date</th>\n",
       "      <th>text</th>\n",
       "    </tr>\n",
       "  </thead>\n",
       "  <tbody>\n",
       "    <tr>\n",
       "      <th>2995</th>\n",
       "      <td>589736</td>\n",
       "      <td>male</td>\n",
       "      <td>35</td>\n",
       "      <td>Technology</td>\n",
       "      <td>Aries</td>\n",
       "      <td>05,August,2004</td>\n",
       "      <td>but that zoo exhibit thing was much...</td>\n",
       "    </tr>\n",
       "    <tr>\n",
       "      <th>2996</th>\n",
       "      <td>589736</td>\n",
       "      <td>male</td>\n",
       "      <td>35</td>\n",
       "      <td>Technology</td>\n",
       "      <td>Aries</td>\n",
       "      <td>05,August,2004</td>\n",
       "      <td>my fave song for the day: Aimee Man...</td>\n",
       "    </tr>\n",
       "    <tr>\n",
       "      <th>2997</th>\n",
       "      <td>589736</td>\n",
       "      <td>male</td>\n",
       "      <td>35</td>\n",
       "      <td>Technology</td>\n",
       "      <td>Aries</td>\n",
       "      <td>05,August,2004</td>\n",
       "      <td>urlLink America's Best Zoo Exhibit...</td>\n",
       "    </tr>\n",
       "    <tr>\n",
       "      <th>2998</th>\n",
       "      <td>589736</td>\n",
       "      <td>male</td>\n",
       "      <td>35</td>\n",
       "      <td>Technology</td>\n",
       "      <td>Aries</td>\n",
       "      <td>05,August,2004</td>\n",
       "      <td>'The less one makes declaritive sta...</td>\n",
       "    </tr>\n",
       "    <tr>\n",
       "      <th>2999</th>\n",
       "      <td>589736</td>\n",
       "      <td>male</td>\n",
       "      <td>35</td>\n",
       "      <td>Technology</td>\n",
       "      <td>Aries</td>\n",
       "      <td>05,August,2004</td>\n",
       "      <td>While his status as a media persona...</td>\n",
       "    </tr>\n",
       "  </tbody>\n",
       "</table>\n",
       "</div>\n",
       "      <button class=\"colab-df-convert\" onclick=\"convertToInteractive('df-363d4283-897b-4398-9d77-a6bb61387deb')\"\n",
       "              title=\"Convert this dataframe to an interactive table.\"\n",
       "              style=\"display:none;\">\n",
       "        \n",
       "  <svg xmlns=\"http://www.w3.org/2000/svg\" height=\"24px\"viewBox=\"0 0 24 24\"\n",
       "       width=\"24px\">\n",
       "    <path d=\"M0 0h24v24H0V0z\" fill=\"none\"/>\n",
       "    <path d=\"M18.56 5.44l.94 2.06.94-2.06 2.06-.94-2.06-.94-.94-2.06-.94 2.06-2.06.94zm-11 1L8.5 8.5l.94-2.06 2.06-.94-2.06-.94L8.5 2.5l-.94 2.06-2.06.94zm10 10l.94 2.06.94-2.06 2.06-.94-2.06-.94-.94-2.06-.94 2.06-2.06.94z\"/><path d=\"M17.41 7.96l-1.37-1.37c-.4-.4-.92-.59-1.43-.59-.52 0-1.04.2-1.43.59L10.3 9.45l-7.72 7.72c-.78.78-.78 2.05 0 2.83L4 21.41c.39.39.9.59 1.41.59.51 0 1.02-.2 1.41-.59l7.78-7.78 2.81-2.81c.8-.78.8-2.07 0-2.86zM5.41 20L4 18.59l7.72-7.72 1.47 1.35L5.41 20z\"/>\n",
       "  </svg>\n",
       "      </button>\n",
       "      \n",
       "  <style>\n",
       "    .colab-df-container {\n",
       "      display:flex;\n",
       "      flex-wrap:wrap;\n",
       "      gap: 12px;\n",
       "    }\n",
       "\n",
       "    .colab-df-convert {\n",
       "      background-color: #E8F0FE;\n",
       "      border: none;\n",
       "      border-radius: 50%;\n",
       "      cursor: pointer;\n",
       "      display: none;\n",
       "      fill: #1967D2;\n",
       "      height: 32px;\n",
       "      padding: 0 0 0 0;\n",
       "      width: 32px;\n",
       "    }\n",
       "\n",
       "    .colab-df-convert:hover {\n",
       "      background-color: #E2EBFA;\n",
       "      box-shadow: 0px 1px 2px rgba(60, 64, 67, 0.3), 0px 1px 3px 1px rgba(60, 64, 67, 0.15);\n",
       "      fill: #174EA6;\n",
       "    }\n",
       "\n",
       "    [theme=dark] .colab-df-convert {\n",
       "      background-color: #3B4455;\n",
       "      fill: #D2E3FC;\n",
       "    }\n",
       "\n",
       "    [theme=dark] .colab-df-convert:hover {\n",
       "      background-color: #434B5C;\n",
       "      box-shadow: 0px 1px 3px 1px rgba(0, 0, 0, 0.15);\n",
       "      filter: drop-shadow(0px 1px 2px rgba(0, 0, 0, 0.3));\n",
       "      fill: #FFFFFF;\n",
       "    }\n",
       "  </style>\n",
       "\n",
       "      <script>\n",
       "        const buttonEl =\n",
       "          document.querySelector('#df-363d4283-897b-4398-9d77-a6bb61387deb button.colab-df-convert');\n",
       "        buttonEl.style.display =\n",
       "          google.colab.kernel.accessAllowed ? 'block' : 'none';\n",
       "\n",
       "        async function convertToInteractive(key) {\n",
       "          const element = document.querySelector('#df-363d4283-897b-4398-9d77-a6bb61387deb');\n",
       "          const dataTable =\n",
       "            await google.colab.kernel.invokeFunction('convertToInteractive',\n",
       "                                                     [key], {});\n",
       "          if (!dataTable) return;\n",
       "\n",
       "          const docLinkHtml = 'Like what you see? Visit the ' +\n",
       "            '<a target=\"_blank\" href=https://colab.research.google.com/notebooks/data_table.ipynb>data table notebook</a>'\n",
       "            + ' to learn more about interactive tables.';\n",
       "          element.innerHTML = '';\n",
       "          dataTable['output_type'] = 'display_data';\n",
       "          await google.colab.output.renderOutput(dataTable, element);\n",
       "          const docLink = document.createElement('div');\n",
       "          docLink.innerHTML = docLinkHtml;\n",
       "          element.appendChild(docLink);\n",
       "        }\n",
       "      </script>\n",
       "    </div>\n",
       "  </div>\n",
       "  "
      ],
      "text/plain": [
       "          id gender  age       topic   sign            date  \\\n",
       "2995  589736   male   35  Technology  Aries  05,August,2004   \n",
       "2996  589736   male   35  Technology  Aries  05,August,2004   \n",
       "2997  589736   male   35  Technology  Aries  05,August,2004   \n",
       "2998  589736   male   35  Technology  Aries  05,August,2004   \n",
       "2999  589736   male   35  Technology  Aries  05,August,2004   \n",
       "\n",
       "                                                   text  \n",
       "2995             but that zoo exhibit thing was much...  \n",
       "2996             my fave song for the day: Aimee Man...  \n",
       "2997              urlLink America's Best Zoo Exhibit...  \n",
       "2998             'The less one makes declaritive sta...  \n",
       "2999             While his status as a media persona...  "
      ]
     },
     "execution_count": 19,
     "metadata": {},
     "output_type": "execute_result"
    }
   ],
   "source": [
    "# Checking the last 5 rows of the truncated dataset\n",
    "blog_df.tail()"
   ]
  },
  {
   "cell_type": "code",
   "execution_count": null,
   "metadata": {
    "colab": {
     "base_uri": "https://localhost:8080/"
    },
    "id": "O1WAKHC60yDn",
    "outputId": "669d17ab-c86c-47bc-8f5b-db9d31f87c91"
   },
   "outputs": [
    {
     "name": "stdout",
     "output_type": "stream",
     "text": [
      "<class 'pandas.core.frame.DataFrame'>\n",
      "RangeIndex: 3000 entries, 0 to 2999\n",
      "Data columns (total 7 columns):\n",
      " #   Column  Non-Null Count  Dtype \n",
      "---  ------  --------------  ----- \n",
      " 0   id      3000 non-null   int64 \n",
      " 1   gender  3000 non-null   object\n",
      " 2   age     3000 non-null   int64 \n",
      " 3   topic   3000 non-null   object\n",
      " 4   sign    3000 non-null   object\n",
      " 5   date    3000 non-null   object\n",
      " 6   text    3000 non-null   object\n",
      "dtypes: int64(2), object(5)\n",
      "memory usage: 164.2+ KB\n"
     ]
    }
   ],
   "source": [
    "# Checking count of null values and data type for each feature in the truncated dataset \n",
    "blog_df.info()"
   ]
  },
  {
   "cell_type": "code",
   "execution_count": null,
   "metadata": {
    "colab": {
     "base_uri": "https://localhost:8080/"
    },
    "id": "efXOOwMi1cD7",
    "outputId": "782118cf-47db-45fc-9da9-e372471578c7"
   },
   "outputs": [
    {
     "data": {
      "text/plain": [
       "male      2272\n",
       "female     728\n",
       "Name: gender, dtype: int64"
      ]
     },
     "execution_count": 21,
     "metadata": {},
     "output_type": "execute_result"
    }
   ],
   "source": [
    "# Checking gender wise distribution in the truncated dataset \n",
    "blog_df.gender.value_counts()"
   ]
  },
  {
   "cell_type": "code",
   "execution_count": null,
   "metadata": {
    "colab": {
     "base_uri": "https://localhost:8080/",
     "height": 311
    },
    "id": "U4MGMTjf3WPX",
    "outputId": "b5c3c672-ed8e-4a78-ab18-23bc3104b39e"
   },
   "outputs": [
    {
     "name": "stdout",
     "output_type": "stream",
     "text": [
      "Counter({'male': 2272, 'female': 728})\n"
     ]
    },
    {
     "data": {
      "image/png": "[encoded data removed]",
      "text/plain": [
       "<Figure size 1440x720 with 1 Axes>"
      ]
     },
     "metadata": {},
     "output_type": "display_data"
    }
   ],
   "source": [
    "from collections import Counter\n",
    "from matplotlib.gridspec import GridSpec\n",
    "print(Counter(blog_df['gender']))\n",
    "gender_1 = blog_df.groupby('gender').agg('count')\n",
    "gender_labels = gender_1.id.sort_values().index \n",
    "gender_counts = gender_1.id.sort_values()\n",
    "plt.figure(1, figsize=(20,10)) \n",
    "the_grid = GridSpec(2, 2)\n",
    "cmap = plt.get_cmap('Spectral')\n",
    "colors = [cmap(i) for i in np.linspace(0, 1, 8)]\n",
    "plt.subplot(the_grid[0, 1], aspect=1, title='gender')\n",
    "plt.pie(gender_counts, labels=gender_labels, autopct='%1.1f%%', shadow=True, colors=colors)\n",
    "plt.show()"
   ]
  },
  {
   "cell_type": "code",
   "execution_count": null,
   "metadata": {
    "colab": {
     "base_uri": "https://localhost:8080/"
    },
    "id": "T8gEWMPmB9Fb",
    "outputId": "cb7f479b-1139-4878-a5fd-eb7d8633151e"
   },
   "outputs": [
    {
     "data": {
      "text/plain": [
       "array(['Leo', 'Aquarius', 'Aries', 'Capricorn', 'Gemini', 'Cancer',\n",
       "       'Sagittarius', 'Scorpio', 'Libra', 'Virgo', 'Taurus', 'Pisces'],\n",
       "      dtype=object)"
      ]
     },
     "execution_count": 23,
     "metadata": {},
     "output_type": "execute_result"
    }
   ],
   "source": [
    "# Checking unique astrological signs in the truncated dataset \n",
    "blog_df['sign'].unique()"
   ]
  },
  {
   "cell_type": "code",
   "execution_count": null,
   "metadata": {
    "colab": {
     "base_uri": "https://localhost:8080/",
     "height": 143
    },
    "id": "agarGfAmYjNN",
    "outputId": "39708c3e-1085-4847-8c0a-406a74fe38b0"
   },
   "outputs": [
    {
     "data": {
      "text/html": [
       "\n",
       "  <div id=\"df-d0ca61e5-4855-43cd-8f41-df40d131edab\">\n",
       "    <div class=\"colab-df-container\">\n",
       "      <div>\n",
       "<style scoped>\n",
       "    .dataframe tbody tr th:only-of-type {\n",
       "        vertical-align: middle;\n",
       "    }\n",
       "\n",
       "    .dataframe tbody tr th {\n",
       "        vertical-align: top;\n",
       "    }\n",
       "\n",
       "    .dataframe thead th {\n",
       "        text-align: right;\n",
       "    }\n",
       "</style>\n",
       "<table border=\"1\" class=\"dataframe\">\n",
       "  <thead>\n",
       "    <tr style=\"text-align: right;\">\n",
       "      <th></th>\n",
       "      <th>Age_Mean</th>\n",
       "      <th>Age_Max</th>\n",
       "      <th>Age_Min</th>\n",
       "    </tr>\n",
       "    <tr>\n",
       "      <th>gender</th>\n",
       "      <th></th>\n",
       "      <th></th>\n",
       "      <th></th>\n",
       "    </tr>\n",
       "  </thead>\n",
       "  <tbody>\n",
       "    <tr>\n",
       "      <th>female</th>\n",
       "      <td>21.717033</td>\n",
       "      <td>45</td>\n",
       "      <td>14</td>\n",
       "    </tr>\n",
       "    <tr>\n",
       "      <th>male</th>\n",
       "      <td>31.599032</td>\n",
       "      <td>44</td>\n",
       "      <td>14</td>\n",
       "    </tr>\n",
       "  </tbody>\n",
       "</table>\n",
       "</div>\n",
       "      <button class=\"colab-df-convert\" onclick=\"convertToInteractive('df-d0ca61e5-4855-43cd-8f41-df40d131edab')\"\n",
       "              title=\"Convert this dataframe to an interactive table.\"\n",
       "              style=\"display:none;\">\n",
       "        \n",
       "  <svg xmlns=\"http://www.w3.org/2000/svg\" height=\"24px\"viewBox=\"0 0 24 24\"\n",
       "       width=\"24px\">\n",
       "    <path d=\"M0 0h24v24H0V0z\" fill=\"none\"/>\n",
       "    <path d=\"M18.56 5.44l.94 2.06.94-2.06 2.06-.94-2.06-.94-.94-2.06-.94 2.06-2.06.94zm-11 1L8.5 8.5l.94-2.06 2.06-.94-2.06-.94L8.5 2.5l-.94 2.06-2.06.94zm10 10l.94 2.06.94-2.06 2.06-.94-2.06-.94-.94-2.06-.94 2.06-2.06.94z\"/><path d=\"M17.41 7.96l-1.37-1.37c-.4-.4-.92-.59-1.43-.59-.52 0-1.04.2-1.43.59L10.3 9.45l-7.72 7.72c-.78.78-.78 2.05 0 2.83L4 21.41c.39.39.9.59 1.41.59.51 0 1.02-.2 1.41-.59l7.78-7.78 2.81-2.81c.8-.78.8-2.07 0-2.86zM5.41 20L4 18.59l7.72-7.72 1.47 1.35L5.41 20z\"/>\n",
       "  </svg>\n",
       "      </button>\n",
       "      \n",
       "  <style>\n",
       "    .colab-df-container {\n",
       "      display:flex;\n",
       "      flex-wrap:wrap;\n",
       "      gap: 12px;\n",
       "    }\n",
       "\n",
       "    .colab-df-convert {\n",
       "      background-color: #E8F0FE;\n",
       "      border: none;\n",
       "      border-radius: 50%;\n",
       "      cursor: pointer;\n",
       "      display: none;\n",
       "      fill: #1967D2;\n",
       "      height: 32px;\n",
       "      padding: 0 0 0 0;\n",
       "      width: 32px;\n",
       "    }\n",
       "\n",
       "    .colab-df-convert:hover {\n",
       "      background-color: #E2EBFA;\n",
       "      box-shadow: 0px 1px 2px rgba(60, 64, 67, 0.3), 0px 1px 3px 1px rgba(60, 64, 67, 0.15);\n",
       "      fill: #174EA6;\n",
       "    }\n",
       "\n",
       "    [theme=dark] .colab-df-convert {\n",
       "      background-color: #3B4455;\n",
       "      fill: #D2E3FC;\n",
       "    }\n",
       "\n",
       "    [theme=dark] .colab-df-convert:hover {\n",
       "      background-color: #434B5C;\n",
       "      box-shadow: 0px 1px 3px 1px rgba(0, 0, 0, 0.15);\n",
       "      filter: drop-shadow(0px 1px 2px rgba(0, 0, 0, 0.3));\n",
       "      fill: #FFFFFF;\n",
       "    }\n",
       "  </style>\n",
       "\n",
       "      <script>\n",
       "        const buttonEl =\n",
       "          document.querySelector('#df-d0ca61e5-4855-43cd-8f41-df40d131edab button.colab-df-convert');\n",
       "        buttonEl.style.display =\n",
       "          google.colab.kernel.accessAllowed ? 'block' : 'none';\n",
       "\n",
       "        async function convertToInteractive(key) {\n",
       "          const element = document.querySelector('#df-d0ca61e5-4855-43cd-8f41-df40d131edab');\n",
       "          const dataTable =\n",
       "            await google.colab.kernel.invokeFunction('convertToInteractive',\n",
       "                                                     [key], {});\n",
       "          if (!dataTable) return;\n",
       "\n",
       "          const docLinkHtml = 'Like what you see? Visit the ' +\n",
       "            '<a target=\"_blank\" href=https://colab.research.google.com/notebooks/data_table.ipynb>data table notebook</a>'\n",
       "            + ' to learn more about interactive tables.';\n",
       "          element.innerHTML = '';\n",
       "          dataTable['output_type'] = 'display_data';\n",
       "          await google.colab.output.renderOutput(dataTable, element);\n",
       "          const docLink = document.createElement('div');\n",
       "          docLink.innerHTML = docLinkHtml;\n",
       "          element.appendChild(docLink);\n",
       "        }\n",
       "      </script>\n",
       "    </div>\n",
       "  </div>\n",
       "  "
      ],
      "text/plain": [
       "         Age_Mean  Age_Max  Age_Min\n",
       "gender                             \n",
       "female  21.717033       45       14\n",
       "male    31.599032       44       14"
      ]
     },
     "execution_count": 24,
     "metadata": {},
     "output_type": "execute_result"
    }
   ],
   "source": [
    "grouped_single = blog_df.groupby('gender').agg(Age_Mean = ('age','mean'),Age_Max=('age',max),Age_Min=('age',min))\n",
    "grouped_single "
   ]
  },
  {
   "cell_type": "code",
   "execution_count": null,
   "metadata": {
    "colab": {
     "base_uri": "https://localhost:8080/",
     "height": 457
    },
    "id": "odHAVzW6ZV_O",
    "outputId": "9ad59c87-3ec4-4dc6-df01-5c765270add5"
   },
   "outputs": [
    {
     "data": {
      "text/html": [
       "\n",
       "  <div id=\"df-7fb6058d-df9e-49d1-9f91-f6d51bee4fcf\">\n",
       "    <div class=\"colab-df-container\">\n",
       "      <div>\n",
       "<style scoped>\n",
       "    .dataframe tbody tr th:only-of-type {\n",
       "        vertical-align: middle;\n",
       "    }\n",
       "\n",
       "    .dataframe tbody tr th {\n",
       "        vertical-align: top;\n",
       "    }\n",
       "\n",
       "    .dataframe thead th {\n",
       "        text-align: right;\n",
       "    }\n",
       "</style>\n",
       "<table border=\"1\" class=\"dataframe\">\n",
       "  <thead>\n",
       "    <tr style=\"text-align: right;\">\n",
       "      <th></th>\n",
       "      <th>Age_Mean</th>\n",
       "      <th>Age_Max</th>\n",
       "      <th>Age_Min</th>\n",
       "    </tr>\n",
       "    <tr>\n",
       "      <th>sign</th>\n",
       "      <th></th>\n",
       "      <th></th>\n",
       "      <th></th>\n",
       "    </tr>\n",
       "  </thead>\n",
       "  <tbody>\n",
       "    <tr>\n",
       "      <th>Aquarius</th>\n",
       "      <td>25.356643</td>\n",
       "      <td>37</td>\n",
       "      <td>15</td>\n",
       "    </tr>\n",
       "    <tr>\n",
       "      <th>Aries</th>\n",
       "      <td>34.051795</td>\n",
       "      <td>35</td>\n",
       "      <td>14</td>\n",
       "    </tr>\n",
       "    <tr>\n",
       "      <th>Cancer</th>\n",
       "      <td>23.500000</td>\n",
       "      <td>25</td>\n",
       "      <td>14</td>\n",
       "    </tr>\n",
       "    <tr>\n",
       "      <th>Capricorn</th>\n",
       "      <td>17.207792</td>\n",
       "      <td>25</td>\n",
       "      <td>17</td>\n",
       "    </tr>\n",
       "    <tr>\n",
       "      <th>Gemini</th>\n",
       "      <td>16.761905</td>\n",
       "      <td>27</td>\n",
       "      <td>15</td>\n",
       "    </tr>\n",
       "    <tr>\n",
       "      <th>Leo</th>\n",
       "      <td>25.600000</td>\n",
       "      <td>33</td>\n",
       "      <td>14</td>\n",
       "    </tr>\n",
       "    <tr>\n",
       "      <th>Libra</th>\n",
       "      <td>20.105431</td>\n",
       "      <td>41</td>\n",
       "      <td>15</td>\n",
       "    </tr>\n",
       "    <tr>\n",
       "      <th>Pisces</th>\n",
       "      <td>15.000000</td>\n",
       "      <td>15</td>\n",
       "      <td>15</td>\n",
       "    </tr>\n",
       "    <tr>\n",
       "      <th>Sagittarius</th>\n",
       "      <td>24.274336</td>\n",
       "      <td>45</td>\n",
       "      <td>17</td>\n",
       "    </tr>\n",
       "    <tr>\n",
       "      <th>Scorpio</th>\n",
       "      <td>22.353909</td>\n",
       "      <td>34</td>\n",
       "      <td>14</td>\n",
       "    </tr>\n",
       "    <tr>\n",
       "      <th>Taurus</th>\n",
       "      <td>23.013158</td>\n",
       "      <td>44</td>\n",
       "      <td>16</td>\n",
       "    </tr>\n",
       "    <tr>\n",
       "      <th>Virgo</th>\n",
       "      <td>35.358974</td>\n",
       "      <td>39</td>\n",
       "      <td>17</td>\n",
       "    </tr>\n",
       "  </tbody>\n",
       "</table>\n",
       "</div>\n",
       "      <button class=\"colab-df-convert\" onclick=\"convertToInteractive('df-7fb6058d-df9e-49d1-9f91-f6d51bee4fcf')\"\n",
       "              title=\"Convert this dataframe to an interactive table.\"\n",
       "              style=\"display:none;\">\n",
       "        \n",
       "  <svg xmlns=\"http://www.w3.org/2000/svg\" height=\"24px\"viewBox=\"0 0 24 24\"\n",
       "       width=\"24px\">\n",
       "    <path d=\"M0 0h24v24H0V0z\" fill=\"none\"/>\n",
       "    <path d=\"M18.56 5.44l.94 2.06.94-2.06 2.06-.94-2.06-.94-.94-2.06-.94 2.06-2.06.94zm-11 1L8.5 8.5l.94-2.06 2.06-.94-2.06-.94L8.5 2.5l-.94 2.06-2.06.94zm10 10l.94 2.06.94-2.06 2.06-.94-2.06-.94-.94-2.06-.94 2.06-2.06.94z\"/><path d=\"M17.41 7.96l-1.37-1.37c-.4-.4-.92-.59-1.43-.59-.52 0-1.04.2-1.43.59L10.3 9.45l-7.72 7.72c-.78.78-.78 2.05 0 2.83L4 21.41c.39.39.9.59 1.41.59.51 0 1.02-.2 1.41-.59l7.78-7.78 2.81-2.81c.8-.78.8-2.07 0-2.86zM5.41 20L4 18.59l7.72-7.72 1.47 1.35L5.41 20z\"/>\n",
       "  </svg>\n",
       "      </button>\n",
       "      \n",
       "  <style>\n",
       "    .colab-df-container {\n",
       "      display:flex;\n",
       "      flex-wrap:wrap;\n",
       "      gap: 12px;\n",
       "    }\n",
       "\n",
       "    .colab-df-convert {\n",
       "      background-color: #E8F0FE;\n",
       "      border: none;\n",
       "      border-radius: 50%;\n",
       "      cursor: pointer;\n",
       "      display: none;\n",
       "      fill: #1967D2;\n",
       "      height: 32px;\n",
       "      padding: 0 0 0 0;\n",
       "      width: 32px;\n",
       "    }\n",
       "\n",
       "    .colab-df-convert:hover {\n",
       "      background-color: #E2EBFA;\n",
       "      box-shadow: 0px 1px 2px rgba(60, 64, 67, 0.3), 0px 1px 3px 1px rgba(60, 64, 67, 0.15);\n",
       "      fill: #174EA6;\n",
       "    }\n",
       "\n",
       "    [theme=dark] .colab-df-convert {\n",
       "      background-color: #3B4455;\n",
       "      fill: #D2E3FC;\n",
       "    }\n",
       "\n",
       "    [theme=dark] .colab-df-convert:hover {\n",
       "      background-color: #434B5C;\n",
       "      box-shadow: 0px 1px 3px 1px rgba(0, 0, 0, 0.15);\n",
       "      filter: drop-shadow(0px 1px 2px rgba(0, 0, 0, 0.3));\n",
       "      fill: #FFFFFF;\n",
       "    }\n",
       "  </style>\n",
       "\n",
       "      <script>\n",
       "        const buttonEl =\n",
       "          document.querySelector('#df-7fb6058d-df9e-49d1-9f91-f6d51bee4fcf button.colab-df-convert');\n",
       "        buttonEl.style.display =\n",
       "          google.colab.kernel.accessAllowed ? 'block' : 'none';\n",
       "\n",
       "        async function convertToInteractive(key) {\n",
       "          const element = document.querySelector('#df-7fb6058d-df9e-49d1-9f91-f6d51bee4fcf');\n",
       "          const dataTable =\n",
       "            await google.colab.kernel.invokeFunction('convertToInteractive',\n",
       "                                                     [key], {});\n",
       "          if (!dataTable) return;\n",
       "\n",
       "          const docLinkHtml = 'Like what you see? Visit the ' +\n",
       "            '<a target=\"_blank\" href=https://colab.research.google.com/notebooks/data_table.ipynb>data table notebook</a>'\n",
       "            + ' to learn more about interactive tables.';\n",
       "          element.innerHTML = '';\n",
       "          dataTable['output_type'] = 'display_data';\n",
       "          await google.colab.output.renderOutput(dataTable, element);\n",
       "          const docLink = document.createElement('div');\n",
       "          docLink.innerHTML = docLinkHtml;\n",
       "          element.appendChild(docLink);\n",
       "        }\n",
       "      </script>\n",
       "    </div>\n",
       "  </div>\n",
       "  "
      ],
      "text/plain": [
       "              Age_Mean  Age_Max  Age_Min\n",
       "sign                                    \n",
       "Aquarius     25.356643       37       15\n",
       "Aries        34.051795       35       14\n",
       "Cancer       23.500000       25       14\n",
       "Capricorn    17.207792       25       17\n",
       "Gemini       16.761905       27       15\n",
       "Leo          25.600000       33       14\n",
       "Libra        20.105431       41       15\n",
       "Pisces       15.000000       15       15\n",
       "Sagittarius  24.274336       45       17\n",
       "Scorpio      22.353909       34       14\n",
       "Taurus       23.013158       44       16\n",
       "Virgo        35.358974       39       17"
      ]
     },
     "execution_count": 25,
     "metadata": {},
     "output_type": "execute_result"
    }
   ],
   "source": [
    "grouped_single = blog_df.groupby('sign').agg(Age_Mean = ('age','mean'),Age_Max=('age',max),Age_Min=('age',min))\n",
    "grouped_single"
   ]
  },
  {
   "cell_type": "code",
   "execution_count": null,
   "metadata": {
    "id": "odKS-VOo2KI9"
   },
   "outputs": [],
   "source": [
    "# Observation\n",
    "# 1. The truncated dataset consists of 3000 rows and 7 columns \n",
    "# 2. The gender distribution in the truncated dataset is skewed towards males \n",
    "# 3. Ignoring id, only age data is of integer type, rest of the columns' data are of object type \n",
    "# 4. Each of the 12 astrological signs is represented in the truncated dataset \n",
    "# 5. The average age of males is higher than that of the females. \n",
    "# 6. The average age is minimum in the case of bloggers with Pisces sign and maximum in the case of bloggers with Virgo sign "
   ]
  },
  {
   "cell_type": "code",
   "execution_count": null,
   "metadata": {
    "id": "rClY2rveKrDC"
   },
   "outputs": [],
   "source": [
    "# Q1 B\n",
    "# Clean the Structured Data"
   ]
  },
  {
   "cell_type": "code",
   "execution_count": null,
   "metadata": {
    "id": "P9ovurYQasoG"
   },
   "outputs": [],
   "source": [
    "# Q1 B (i) \n",
    "# Missing value analysis and imputation "
   ]
  },
  {
   "cell_type": "code",
   "execution_count": null,
   "metadata": {
    "colab": {
     "base_uri": "https://localhost:8080/"
    },
    "id": "bjo8xTrha8E9",
    "outputId": "18e9bcd9-c5c6-4a2a-837b-5c6f42b1bacc"
   },
   "outputs": [
    {
     "name": "stdout",
     "output_type": "stream",
     "text": [
      "<class 'pandas.core.frame.DataFrame'>\n",
      "RangeIndex: 3000 entries, 0 to 2999\n",
      "Data columns (total 7 columns):\n",
      " #   Column  Non-Null Count  Dtype \n",
      "---  ------  --------------  ----- \n",
      " 0   id      3000 non-null   int64 \n",
      " 1   gender  3000 non-null   object\n",
      " 2   age     3000 non-null   int64 \n",
      " 3   topic   3000 non-null   object\n",
      " 4   sign    3000 non-null   object\n",
      " 5   date    3000 non-null   object\n",
      " 6   text    3000 non-null   object\n",
      "dtypes: int64(2), object(5)\n",
      "memory usage: 164.2+ KB\n"
     ]
    }
   ],
   "source": [
    "# Solution\n",
    "blog_df.info()"
   ]
  },
  {
   "cell_type": "code",
   "execution_count": null,
   "metadata": {
    "colab": {
     "base_uri": "https://localhost:8080/"
    },
    "id": "vCnVsu86LCja",
    "outputId": "17397266-e75b-4f2e-8d8b-037193d90e34"
   },
   "outputs": [
    {
     "data": {
      "text/plain": [
       "id        0\n",
       "gender    0\n",
       "age       0\n",
       "topic     0\n",
       "sign      0\n",
       "date      0\n",
       "text      0\n",
       "dtype: int64"
      ]
     },
     "execution_count": 30,
     "metadata": {},
     "output_type": "execute_result"
    }
   ],
   "source": [
    "blog_df.isna().sum()"
   ]
  },
  {
   "cell_type": "code",
   "execution_count": null,
   "metadata": {
    "id": "0wrTDrUEbVvr"
   },
   "outputs": [],
   "source": [
    "# The dataset contains no missing values. Hence, there is no need for imputation  "
   ]
  },
  {
   "cell_type": "code",
   "execution_count": null,
   "metadata": {
    "id": "5CG58m-mbwBB"
   },
   "outputs": [],
   "source": [
    "# Q1 B (ii) \n",
    "# Eliminate Non-English textual data"
   ]
  },
  {
   "cell_type": "code",
   "execution_count": null,
   "metadata": {
    "colab": {
     "base_uri": "https://localhost:8080/"
    },
    "id": "J6-6AMxCb8GL",
    "outputId": "ede387cb-f506-419c-ee59-3a9e8d201c6d"
   },
   "outputs": [
    {
     "name": "stdout",
     "output_type": "stream",
     "text": [
      "Looking in indexes: https://pypi.org/simple, https://us-python.pkg.dev/colab-wheels/public/simple/\n",
      "Collecting langdetect\n",
      "  Downloading langdetect-1.0.9.tar.gz (981 kB)\n",
      "\u001b[K     |████████████████████████████████| 981 kB 2.1 MB/s \n",
      "\u001b[?25hRequirement already satisfied: six in /usr/local/lib/python3.7/dist-packages (from langdetect) (1.15.0)\n",
      "Building wheels for collected packages: langdetect\n",
      "  Building wheel for langdetect (setup.py) ... \u001b[?25l\u001b[?25hdone\n",
      "  Created wheel for langdetect: filename=langdetect-1.0.9-py3-none-any.whl size=993242 sha256=45b710ea61c30ee22e932a263008134cd1c68d974d96ee41051a4b19063721ad\n",
      "  Stored in directory: /root/.cache/pip/wheels/c5/96/8a/f90c59ed25d75e50a8c10a1b1c2d4c402e4dacfa87f3aff36a\n",
      "Successfully built langdetect\n",
      "Installing collected packages: langdetect\n",
      "Successfully installed langdetect-1.0.9\n"
     ]
    }
   ],
   "source": [
    "# Solution \n",
    "!pip install langdetect"
   ]
  },
  {
   "cell_type": "code",
   "execution_count": null,
   "metadata": {
    "id": "31rUqL79cJz2"
   },
   "outputs": [],
   "source": [
    "from langdetect import detect\n",
    "def detect_english(text):\n",
    "  try:\n",
    "    return detect(text) == 'en'\n",
    "  except:\n",
    "    return False"
   ]
  },
  {
   "cell_type": "code",
   "execution_count": null,
   "metadata": {
    "id": "yG24JAf7cQnO"
   },
   "outputs": [],
   "source": [
    "blog_df = blog_df[blog_df['text'].apply(detect_english)]"
   ]
  },
  {
   "cell_type": "code",
   "execution_count": null,
   "metadata": {
    "colab": {
     "base_uri": "https://localhost:8080/"
    },
    "id": "5OdcczV8cify",
    "outputId": "57ccaa2f-8ff6-4ef6-db12-7d3b1dd9bed4"
   },
   "outputs": [
    {
     "data": {
      "text/plain": [
       "(2816, 7)"
      ]
     },
     "execution_count": 36,
     "metadata": {},
     "output_type": "execute_result"
    }
   ],
   "source": [
    "blog_df.shape  "
   ]
  },
  {
   "cell_type": "code",
   "execution_count": null,
   "metadata": {
    "id": "pqhfDQAC9All"
   },
   "outputs": [],
   "source": [
    "# Q2\n",
    "# Preprocess unstructured data to make it consumable for model training."
   ]
  },
  {
   "cell_type": "code",
   "execution_count": null,
   "metadata": {
    "id": "jptBkWHg9TOo"
   },
   "outputs": [],
   "source": [
    "# Q2.A\n",
    "# Eliminate all special Characters and Numbers  "
   ]
  },
  {
   "cell_type": "code",
   "execution_count": null,
   "metadata": {
    "id": "bDehASYr9X9Q"
   },
   "outputs": [],
   "source": [
    "# Solution\n",
    "# Removing all numbers \n",
    "blog_df.text = blog_df.text.apply(lambda x: re.sub(\"[0-9]\",\"\", x))"
   ]
  },
  {
   "cell_type": "code",
   "execution_count": null,
   "metadata": {
    "colab": {
     "base_uri": "https://localhost:8080/",
     "height": 206
    },
    "id": "rleabqB6UHPv",
    "outputId": "8bf9eaba-a712-4da8-d820-9e00eec96914"
   },
   "outputs": [
    {
     "data": {
      "text/html": [
       "\n",
       "  <div id=\"df-3b967949-571d-40bd-b85c-805c78d7b5e2\">\n",
       "    <div class=\"colab-df-container\">\n",
       "      <div>\n",
       "<style scoped>\n",
       "    .dataframe tbody tr th:only-of-type {\n",
       "        vertical-align: middle;\n",
       "    }\n",
       "\n",
       "    .dataframe tbody tr th {\n",
       "        vertical-align: top;\n",
       "    }\n",
       "\n",
       "    .dataframe thead th {\n",
       "        text-align: right;\n",
       "    }\n",
       "</style>\n",
       "<table border=\"1\" class=\"dataframe\">\n",
       "  <thead>\n",
       "    <tr style=\"text-align: right;\">\n",
       "      <th></th>\n",
       "      <th>id</th>\n",
       "      <th>gender</th>\n",
       "      <th>age</th>\n",
       "      <th>topic</th>\n",
       "      <th>sign</th>\n",
       "      <th>date</th>\n",
       "      <th>text</th>\n",
       "    </tr>\n",
       "  </thead>\n",
       "  <tbody>\n",
       "    <tr>\n",
       "      <th>0</th>\n",
       "      <td>2059027</td>\n",
       "      <td>male</td>\n",
       "      <td>15</td>\n",
       "      <td>Student</td>\n",
       "      <td>Leo</td>\n",
       "      <td>14,May,2004</td>\n",
       "      <td>Info has been found (+/-  pages, an...</td>\n",
       "    </tr>\n",
       "    <tr>\n",
       "      <th>2</th>\n",
       "      <td>2059027</td>\n",
       "      <td>male</td>\n",
       "      <td>15</td>\n",
       "      <td>Student</td>\n",
       "      <td>Leo</td>\n",
       "      <td>12,May,2004</td>\n",
       "      <td>In het kader van kernfusie op aarde...</td>\n",
       "    </tr>\n",
       "    <tr>\n",
       "      <th>3</th>\n",
       "      <td>2059027</td>\n",
       "      <td>male</td>\n",
       "      <td>15</td>\n",
       "      <td>Student</td>\n",
       "      <td>Leo</td>\n",
       "      <td>12,May,2004</td>\n",
       "      <td>testing!!!  testing!!!</td>\n",
       "    </tr>\n",
       "    <tr>\n",
       "      <th>4</th>\n",
       "      <td>3581210</td>\n",
       "      <td>male</td>\n",
       "      <td>33</td>\n",
       "      <td>InvestmentBanking</td>\n",
       "      <td>Aquarius</td>\n",
       "      <td>11,June,2004</td>\n",
       "      <td>Thanks to Yahoo!'s Toolbar I can ...</td>\n",
       "    </tr>\n",
       "    <tr>\n",
       "      <th>5</th>\n",
       "      <td>3581210</td>\n",
       "      <td>male</td>\n",
       "      <td>33</td>\n",
       "      <td>InvestmentBanking</td>\n",
       "      <td>Aquarius</td>\n",
       "      <td>10,June,2004</td>\n",
       "      <td>I had an interesting conversation...</td>\n",
       "    </tr>\n",
       "  </tbody>\n",
       "</table>\n",
       "</div>\n",
       "      <button class=\"colab-df-convert\" onclick=\"convertToInteractive('df-3b967949-571d-40bd-b85c-805c78d7b5e2')\"\n",
       "              title=\"Convert this dataframe to an interactive table.\"\n",
       "              style=\"display:none;\">\n",
       "        \n",
       "  <svg xmlns=\"http://www.w3.org/2000/svg\" height=\"24px\"viewBox=\"0 0 24 24\"\n",
       "       width=\"24px\">\n",
       "    <path d=\"M0 0h24v24H0V0z\" fill=\"none\"/>\n",
       "    <path d=\"M18.56 5.44l.94 2.06.94-2.06 2.06-.94-2.06-.94-.94-2.06-.94 2.06-2.06.94zm-11 1L8.5 8.5l.94-2.06 2.06-.94-2.06-.94L8.5 2.5l-.94 2.06-2.06.94zm10 10l.94 2.06.94-2.06 2.06-.94-2.06-.94-.94-2.06-.94 2.06-2.06.94z\"/><path d=\"M17.41 7.96l-1.37-1.37c-.4-.4-.92-.59-1.43-.59-.52 0-1.04.2-1.43.59L10.3 9.45l-7.72 7.72c-.78.78-.78 2.05 0 2.83L4 21.41c.39.39.9.59 1.41.59.51 0 1.02-.2 1.41-.59l7.78-7.78 2.81-2.81c.8-.78.8-2.07 0-2.86zM5.41 20L4 18.59l7.72-7.72 1.47 1.35L5.41 20z\"/>\n",
       "  </svg>\n",
       "      </button>\n",
       "      \n",
       "  <style>\n",
       "    .colab-df-container {\n",
       "      display:flex;\n",
       "      flex-wrap:wrap;\n",
       "      gap: 12px;\n",
       "    }\n",
       "\n",
       "    .colab-df-convert {\n",
       "      background-color: #E8F0FE;\n",
       "      border: none;\n",
       "      border-radius: 50%;\n",
       "      cursor: pointer;\n",
       "      display: none;\n",
       "      fill: #1967D2;\n",
       "      height: 32px;\n",
       "      padding: 0 0 0 0;\n",
       "      width: 32px;\n",
       "    }\n",
       "\n",
       "    .colab-df-convert:hover {\n",
       "      background-color: #E2EBFA;\n",
       "      box-shadow: 0px 1px 2px rgba(60, 64, 67, 0.3), 0px 1px 3px 1px rgba(60, 64, 67, 0.15);\n",
       "      fill: #174EA6;\n",
       "    }\n",
       "\n",
       "    [theme=dark] .colab-df-convert {\n",
       "      background-color: #3B4455;\n",
       "      fill: #D2E3FC;\n",
       "    }\n",
       "\n",
       "    [theme=dark] .colab-df-convert:hover {\n",
       "      background-color: #434B5C;\n",
       "      box-shadow: 0px 1px 3px 1px rgba(0, 0, 0, 0.15);\n",
       "      filter: drop-shadow(0px 1px 2px rgba(0, 0, 0, 0.3));\n",
       "      fill: #FFFFFF;\n",
       "    }\n",
       "  </style>\n",
       "\n",
       "      <script>\n",
       "        const buttonEl =\n",
       "          document.querySelector('#df-3b967949-571d-40bd-b85c-805c78d7b5e2 button.colab-df-convert');\n",
       "        buttonEl.style.display =\n",
       "          google.colab.kernel.accessAllowed ? 'block' : 'none';\n",
       "\n",
       "        async function convertToInteractive(key) {\n",
       "          const element = document.querySelector('#df-3b967949-571d-40bd-b85c-805c78d7b5e2');\n",
       "          const dataTable =\n",
       "            await google.colab.kernel.invokeFunction('convertToInteractive',\n",
       "                                                     [key], {});\n",
       "          if (!dataTable) return;\n",
       "\n",
       "          const docLinkHtml = 'Like what you see? Visit the ' +\n",
       "            '<a target=\"_blank\" href=https://colab.research.google.com/notebooks/data_table.ipynb>data table notebook</a>'\n",
       "            + ' to learn more about interactive tables.';\n",
       "          element.innerHTML = '';\n",
       "          dataTable['output_type'] = 'display_data';\n",
       "          await google.colab.output.renderOutput(dataTable, element);\n",
       "          const docLink = document.createElement('div');\n",
       "          docLink.innerHTML = docLinkHtml;\n",
       "          element.appendChild(docLink);\n",
       "        }\n",
       "      </script>\n",
       "    </div>\n",
       "  </div>\n",
       "  "
      ],
      "text/plain": [
       "        id gender  age              topic      sign          date  \\\n",
       "0  2059027   male   15            Student       Leo   14,May,2004   \n",
       "2  2059027   male   15            Student       Leo   12,May,2004   \n",
       "3  2059027   male   15            Student       Leo   12,May,2004   \n",
       "4  3581210   male   33  InvestmentBanking  Aquarius  11,June,2004   \n",
       "5  3581210   male   33  InvestmentBanking  Aquarius  10,June,2004   \n",
       "\n",
       "                                                text  \n",
       "0             Info has been found (+/-  pages, an...  \n",
       "2             In het kader van kernfusie op aarde...  \n",
       "3                   testing!!!  testing!!!            \n",
       "4               Thanks to Yahoo!'s Toolbar I can ...  \n",
       "5               I had an interesting conversation...  "
      ]
     },
     "execution_count": 40,
     "metadata": {},
     "output_type": "execute_result"
    }
   ],
   "source": [
    "blog_df.head()"
   ]
  },
  {
   "cell_type": "code",
   "execution_count": null,
   "metadata": {
    "id": "8GdCpDGFPvBP"
   },
   "outputs": [],
   "source": [
    "# Select only alphabets\n",
    "blog_df.text = blog_df.text.apply(lambda x: re.sub('[^A-Za-z]+', ' ', x))"
   ]
  },
  {
   "cell_type": "code",
   "execution_count": null,
   "metadata": {
    "colab": {
     "base_uri": "https://localhost:8080/",
     "height": 206
    },
    "id": "5PKzSEBc97bi",
    "outputId": "28edfee6-1f7f-48db-e135-7c1733031cdf"
   },
   "outputs": [
    {
     "data": {
      "text/html": [
       "\n",
       "  <div id=\"df-5a39f119-12bb-4f37-ae8d-e252a8534330\">\n",
       "    <div class=\"colab-df-container\">\n",
       "      <div>\n",
       "<style scoped>\n",
       "    .dataframe tbody tr th:only-of-type {\n",
       "        vertical-align: middle;\n",
       "    }\n",
       "\n",
       "    .dataframe tbody tr th {\n",
       "        vertical-align: top;\n",
       "    }\n",
       "\n",
       "    .dataframe thead th {\n",
       "        text-align: right;\n",
       "    }\n",
       "</style>\n",
       "<table border=\"1\" class=\"dataframe\">\n",
       "  <thead>\n",
       "    <tr style=\"text-align: right;\">\n",
       "      <th></th>\n",
       "      <th>id</th>\n",
       "      <th>gender</th>\n",
       "      <th>age</th>\n",
       "      <th>topic</th>\n",
       "      <th>sign</th>\n",
       "      <th>date</th>\n",
       "      <th>text</th>\n",
       "    </tr>\n",
       "  </thead>\n",
       "  <tbody>\n",
       "    <tr>\n",
       "      <th>0</th>\n",
       "      <td>2059027</td>\n",
       "      <td>male</td>\n",
       "      <td>15</td>\n",
       "      <td>Student</td>\n",
       "      <td>Leo</td>\n",
       "      <td>14,May,2004</td>\n",
       "      <td>Info has been found pages and MB of pdf files...</td>\n",
       "    </tr>\n",
       "    <tr>\n",
       "      <th>2</th>\n",
       "      <td>2059027</td>\n",
       "      <td>male</td>\n",
       "      <td>15</td>\n",
       "      <td>Student</td>\n",
       "      <td>Leo</td>\n",
       "      <td>12,May,2004</td>\n",
       "      <td>In het kader van kernfusie op aarde MAAK JE E...</td>\n",
       "    </tr>\n",
       "    <tr>\n",
       "      <th>3</th>\n",
       "      <td>2059027</td>\n",
       "      <td>male</td>\n",
       "      <td>15</td>\n",
       "      <td>Student</td>\n",
       "      <td>Leo</td>\n",
       "      <td>12,May,2004</td>\n",
       "      <td>testing testing</td>\n",
       "    </tr>\n",
       "    <tr>\n",
       "      <th>4</th>\n",
       "      <td>3581210</td>\n",
       "      <td>male</td>\n",
       "      <td>33</td>\n",
       "      <td>InvestmentBanking</td>\n",
       "      <td>Aquarius</td>\n",
       "      <td>11,June,2004</td>\n",
       "      <td>Thanks to Yahoo s Toolbar I can now capture t...</td>\n",
       "    </tr>\n",
       "    <tr>\n",
       "      <th>5</th>\n",
       "      <td>3581210</td>\n",
       "      <td>male</td>\n",
       "      <td>33</td>\n",
       "      <td>InvestmentBanking</td>\n",
       "      <td>Aquarius</td>\n",
       "      <td>10,June,2004</td>\n",
       "      <td>I had an interesting conversation with my Dad...</td>\n",
       "    </tr>\n",
       "  </tbody>\n",
       "</table>\n",
       "</div>\n",
       "      <button class=\"colab-df-convert\" onclick=\"convertToInteractive('df-5a39f119-12bb-4f37-ae8d-e252a8534330')\"\n",
       "              title=\"Convert this dataframe to an interactive table.\"\n",
       "              style=\"display:none;\">\n",
       "        \n",
       "  <svg xmlns=\"http://www.w3.org/2000/svg\" height=\"24px\"viewBox=\"0 0 24 24\"\n",
       "       width=\"24px\">\n",
       "    <path d=\"M0 0h24v24H0V0z\" fill=\"none\"/>\n",
       "    <path d=\"M18.56 5.44l.94 2.06.94-2.06 2.06-.94-2.06-.94-.94-2.06-.94 2.06-2.06.94zm-11 1L8.5 8.5l.94-2.06 2.06-.94-2.06-.94L8.5 2.5l-.94 2.06-2.06.94zm10 10l.94 2.06.94-2.06 2.06-.94-2.06-.94-.94-2.06-.94 2.06-2.06.94z\"/><path d=\"M17.41 7.96l-1.37-1.37c-.4-.4-.92-.59-1.43-.59-.52 0-1.04.2-1.43.59L10.3 9.45l-7.72 7.72c-.78.78-.78 2.05 0 2.83L4 21.41c.39.39.9.59 1.41.59.51 0 1.02-.2 1.41-.59l7.78-7.78 2.81-2.81c.8-.78.8-2.07 0-2.86zM5.41 20L4 18.59l7.72-7.72 1.47 1.35L5.41 20z\"/>\n",
       "  </svg>\n",
       "      </button>\n",
       "      \n",
       "  <style>\n",
       "    .colab-df-container {\n",
       "      display:flex;\n",
       "      flex-wrap:wrap;\n",
       "      gap: 12px;\n",
       "    }\n",
       "\n",
       "    .colab-df-convert {\n",
       "      background-color: #E8F0FE;\n",
       "      border: none;\n",
       "      border-radius: 50%;\n",
       "      cursor: pointer;\n",
       "      display: none;\n",
       "      fill: #1967D2;\n",
       "      height: 32px;\n",
       "      padding: 0 0 0 0;\n",
       "      width: 32px;\n",
       "    }\n",
       "\n",
       "    .colab-df-convert:hover {\n",
       "      background-color: #E2EBFA;\n",
       "      box-shadow: 0px 1px 2px rgba(60, 64, 67, 0.3), 0px 1px 3px 1px rgba(60, 64, 67, 0.15);\n",
       "      fill: #174EA6;\n",
       "    }\n",
       "\n",
       "    [theme=dark] .colab-df-convert {\n",
       "      background-color: #3B4455;\n",
       "      fill: #D2E3FC;\n",
       "    }\n",
       "\n",
       "    [theme=dark] .colab-df-convert:hover {\n",
       "      background-color: #434B5C;\n",
       "      box-shadow: 0px 1px 3px 1px rgba(0, 0, 0, 0.15);\n",
       "      filter: drop-shadow(0px 1px 2px rgba(0, 0, 0, 0.3));\n",
       "      fill: #FFFFFF;\n",
       "    }\n",
       "  </style>\n",
       "\n",
       "      <script>\n",
       "        const buttonEl =\n",
       "          document.querySelector('#df-5a39f119-12bb-4f37-ae8d-e252a8534330 button.colab-df-convert');\n",
       "        buttonEl.style.display =\n",
       "          google.colab.kernel.accessAllowed ? 'block' : 'none';\n",
       "\n",
       "        async function convertToInteractive(key) {\n",
       "          const element = document.querySelector('#df-5a39f119-12bb-4f37-ae8d-e252a8534330');\n",
       "          const dataTable =\n",
       "            await google.colab.kernel.invokeFunction('convertToInteractive',\n",
       "                                                     [key], {});\n",
       "          if (!dataTable) return;\n",
       "\n",
       "          const docLinkHtml = 'Like what you see? Visit the ' +\n",
       "            '<a target=\"_blank\" href=https://colab.research.google.com/notebooks/data_table.ipynb>data table notebook</a>'\n",
       "            + ' to learn more about interactive tables.';\n",
       "          element.innerHTML = '';\n",
       "          dataTable['output_type'] = 'display_data';\n",
       "          await google.colab.output.renderOutput(dataTable, element);\n",
       "          const docLink = document.createElement('div');\n",
       "          docLink.innerHTML = docLinkHtml;\n",
       "          element.appendChild(docLink);\n",
       "        }\n",
       "      </script>\n",
       "    </div>\n",
       "  </div>\n",
       "  "
      ],
      "text/plain": [
       "        id gender  age              topic      sign          date  \\\n",
       "0  2059027   male   15            Student       Leo   14,May,2004   \n",
       "2  2059027   male   15            Student       Leo   12,May,2004   \n",
       "3  2059027   male   15            Student       Leo   12,May,2004   \n",
       "4  3581210   male   33  InvestmentBanking  Aquarius  11,June,2004   \n",
       "5  3581210   male   33  InvestmentBanking  Aquarius  10,June,2004   \n",
       "\n",
       "                                                text  \n",
       "0   Info has been found pages and MB of pdf files...  \n",
       "2   In het kader van kernfusie op aarde MAAK JE E...  \n",
       "3                                   testing testing   \n",
       "4   Thanks to Yahoo s Toolbar I can now capture t...  \n",
       "5   I had an interesting conversation with my Dad...  "
      ]
     },
     "execution_count": 42,
     "metadata": {},
     "output_type": "execute_result"
    }
   ],
   "source": [
    "blog_df.head()"
   ]
  },
  {
   "cell_type": "code",
   "execution_count": null,
   "metadata": {
    "id": "y2FOi3CwEgHN"
   },
   "outputs": [],
   "source": [
    "# Q2.B\n",
    "# Lowercase all textual data"
   ]
  },
  {
   "cell_type": "code",
   "execution_count": null,
   "metadata": {
    "id": "quAPMZGCEjsz"
   },
   "outputs": [],
   "source": [
    "# Solution \n",
    "# Converting text to lowercase\n",
    "blog_df.text = blog_df.text.apply(lambda x: x.lower())"
   ]
  },
  {
   "cell_type": "code",
   "execution_count": null,
   "metadata": {
    "colab": {
     "base_uri": "https://localhost:8080/",
     "height": 206
    },
    "id": "vkqjua_HEzGq",
    "outputId": "71ffc5a2-4c50-46e6-9ebf-8e71d76b41ff"
   },
   "outputs": [
    {
     "data": {
      "text/html": [
       "\n",
       "  <div id=\"df-85462b6e-076d-46b0-a5e2-e9f1788cd7d5\">\n",
       "    <div class=\"colab-df-container\">\n",
       "      <div>\n",
       "<style scoped>\n",
       "    .dataframe tbody tr th:only-of-type {\n",
       "        vertical-align: middle;\n",
       "    }\n",
       "\n",
       "    .dataframe tbody tr th {\n",
       "        vertical-align: top;\n",
       "    }\n",
       "\n",
       "    .dataframe thead th {\n",
       "        text-align: right;\n",
       "    }\n",
       "</style>\n",
       "<table border=\"1\" class=\"dataframe\">\n",
       "  <thead>\n",
       "    <tr style=\"text-align: right;\">\n",
       "      <th></th>\n",
       "      <th>id</th>\n",
       "      <th>gender</th>\n",
       "      <th>age</th>\n",
       "      <th>topic</th>\n",
       "      <th>sign</th>\n",
       "      <th>date</th>\n",
       "      <th>text</th>\n",
       "    </tr>\n",
       "  </thead>\n",
       "  <tbody>\n",
       "    <tr>\n",
       "      <th>0</th>\n",
       "      <td>2059027</td>\n",
       "      <td>male</td>\n",
       "      <td>15</td>\n",
       "      <td>Student</td>\n",
       "      <td>Leo</td>\n",
       "      <td>14,May,2004</td>\n",
       "      <td>info has been found pages and mb of pdf files...</td>\n",
       "    </tr>\n",
       "    <tr>\n",
       "      <th>2</th>\n",
       "      <td>2059027</td>\n",
       "      <td>male</td>\n",
       "      <td>15</td>\n",
       "      <td>Student</td>\n",
       "      <td>Leo</td>\n",
       "      <td>12,May,2004</td>\n",
       "      <td>in het kader van kernfusie op aarde maak je e...</td>\n",
       "    </tr>\n",
       "    <tr>\n",
       "      <th>3</th>\n",
       "      <td>2059027</td>\n",
       "      <td>male</td>\n",
       "      <td>15</td>\n",
       "      <td>Student</td>\n",
       "      <td>Leo</td>\n",
       "      <td>12,May,2004</td>\n",
       "      <td>testing testing</td>\n",
       "    </tr>\n",
       "    <tr>\n",
       "      <th>4</th>\n",
       "      <td>3581210</td>\n",
       "      <td>male</td>\n",
       "      <td>33</td>\n",
       "      <td>InvestmentBanking</td>\n",
       "      <td>Aquarius</td>\n",
       "      <td>11,June,2004</td>\n",
       "      <td>thanks to yahoo s toolbar i can now capture t...</td>\n",
       "    </tr>\n",
       "    <tr>\n",
       "      <th>5</th>\n",
       "      <td>3581210</td>\n",
       "      <td>male</td>\n",
       "      <td>33</td>\n",
       "      <td>InvestmentBanking</td>\n",
       "      <td>Aquarius</td>\n",
       "      <td>10,June,2004</td>\n",
       "      <td>i had an interesting conversation with my dad...</td>\n",
       "    </tr>\n",
       "  </tbody>\n",
       "</table>\n",
       "</div>\n",
       "      <button class=\"colab-df-convert\" onclick=\"convertToInteractive('df-85462b6e-076d-46b0-a5e2-e9f1788cd7d5')\"\n",
       "              title=\"Convert this dataframe to an interactive table.\"\n",
       "              style=\"display:none;\">\n",
       "        \n",
       "  <svg xmlns=\"http://www.w3.org/2000/svg\" height=\"24px\"viewBox=\"0 0 24 24\"\n",
       "       width=\"24px\">\n",
       "    <path d=\"M0 0h24v24H0V0z\" fill=\"none\"/>\n",
       "    <path d=\"M18.56 5.44l.94 2.06.94-2.06 2.06-.94-2.06-.94-.94-2.06-.94 2.06-2.06.94zm-11 1L8.5 8.5l.94-2.06 2.06-.94-2.06-.94L8.5 2.5l-.94 2.06-2.06.94zm10 10l.94 2.06.94-2.06 2.06-.94-2.06-.94-.94-2.06-.94 2.06-2.06.94z\"/><path d=\"M17.41 7.96l-1.37-1.37c-.4-.4-.92-.59-1.43-.59-.52 0-1.04.2-1.43.59L10.3 9.45l-7.72 7.72c-.78.78-.78 2.05 0 2.83L4 21.41c.39.39.9.59 1.41.59.51 0 1.02-.2 1.41-.59l7.78-7.78 2.81-2.81c.8-.78.8-2.07 0-2.86zM5.41 20L4 18.59l7.72-7.72 1.47 1.35L5.41 20z\"/>\n",
       "  </svg>\n",
       "      </button>\n",
       "      \n",
       "  <style>\n",
       "    .colab-df-container {\n",
       "      display:flex;\n",
       "      flex-wrap:wrap;\n",
       "      gap: 12px;\n",
       "    }\n",
       "\n",
       "    .colab-df-convert {\n",
       "      background-color: #E8F0FE;\n",
       "      border: none;\n",
       "      border-radius: 50%;\n",
       "      cursor: pointer;\n",
       "      display: none;\n",
       "      fill: #1967D2;\n",
       "      height: 32px;\n",
       "      padding: 0 0 0 0;\n",
       "      width: 32px;\n",
       "    }\n",
       "\n",
       "    .colab-df-convert:hover {\n",
       "      background-color: #E2EBFA;\n",
       "      box-shadow: 0px 1px 2px rgba(60, 64, 67, 0.3), 0px 1px 3px 1px rgba(60, 64, 67, 0.15);\n",
       "      fill: #174EA6;\n",
       "    }\n",
       "\n",
       "    [theme=dark] .colab-df-convert {\n",
       "      background-color: #3B4455;\n",
       "      fill: #D2E3FC;\n",
       "    }\n",
       "\n",
       "    [theme=dark] .colab-df-convert:hover {\n",
       "      background-color: #434B5C;\n",
       "      box-shadow: 0px 1px 3px 1px rgba(0, 0, 0, 0.15);\n",
       "      filter: drop-shadow(0px 1px 2px rgba(0, 0, 0, 0.3));\n",
       "      fill: #FFFFFF;\n",
       "    }\n",
       "  </style>\n",
       "\n",
       "      <script>\n",
       "        const buttonEl =\n",
       "          document.querySelector('#df-85462b6e-076d-46b0-a5e2-e9f1788cd7d5 button.colab-df-convert');\n",
       "        buttonEl.style.display =\n",
       "          google.colab.kernel.accessAllowed ? 'block' : 'none';\n",
       "\n",
       "        async function convertToInteractive(key) {\n",
       "          const element = document.querySelector('#df-85462b6e-076d-46b0-a5e2-e9f1788cd7d5');\n",
       "          const dataTable =\n",
       "            await google.colab.kernel.invokeFunction('convertToInteractive',\n",
       "                                                     [key], {});\n",
       "          if (!dataTable) return;\n",
       "\n",
       "          const docLinkHtml = 'Like what you see? Visit the ' +\n",
       "            '<a target=\"_blank\" href=https://colab.research.google.com/notebooks/data_table.ipynb>data table notebook</a>'\n",
       "            + ' to learn more about interactive tables.';\n",
       "          element.innerHTML = '';\n",
       "          dataTable['output_type'] = 'display_data';\n",
       "          await google.colab.output.renderOutput(dataTable, element);\n",
       "          const docLink = document.createElement('div');\n",
       "          docLink.innerHTML = docLinkHtml;\n",
       "          element.appendChild(docLink);\n",
       "        }\n",
       "      </script>\n",
       "    </div>\n",
       "  </div>\n",
       "  "
      ],
      "text/plain": [
       "        id gender  age              topic      sign          date  \\\n",
       "0  2059027   male   15            Student       Leo   14,May,2004   \n",
       "2  2059027   male   15            Student       Leo   12,May,2004   \n",
       "3  2059027   male   15            Student       Leo   12,May,2004   \n",
       "4  3581210   male   33  InvestmentBanking  Aquarius  11,June,2004   \n",
       "5  3581210   male   33  InvestmentBanking  Aquarius  10,June,2004   \n",
       "\n",
       "                                                text  \n",
       "0   info has been found pages and mb of pdf files...  \n",
       "2   in het kader van kernfusie op aarde maak je e...  \n",
       "3                                   testing testing   \n",
       "4   thanks to yahoo s toolbar i can now capture t...  \n",
       "5   i had an interesting conversation with my dad...  "
      ]
     },
     "execution_count": 45,
     "metadata": {},
     "output_type": "execute_result"
    }
   ],
   "source": [
    "blog_df.head()"
   ]
  },
  {
   "cell_type": "code",
   "execution_count": null,
   "metadata": {
    "id": "4BApw4TwE2pd"
   },
   "outputs": [],
   "source": [
    "# Q2.C\n",
    "# Remove all Stopwords"
   ]
  },
  {
   "cell_type": "code",
   "execution_count": null,
   "metadata": {
    "colab": {
     "base_uri": "https://localhost:8080/"
    },
    "id": "YwvfIVJ9Ffp0",
    "outputId": "65d096cc-cfb9-4b95-e648-b46ee994cfe6"
   },
   "outputs": [
    {
     "name": "stderr",
     "output_type": "stream",
     "text": [
      "[nltk_data] Downloading package stopwords to /root/nltk_data...\n",
      "[nltk_data]   Unzipping corpora/stopwords.zip.\n"
     ]
    },
    {
     "data": {
      "text/plain": [
       "True"
      ]
     },
     "execution_count": 47,
     "metadata": {},
     "output_type": "execute_result"
    }
   ],
   "source": [
    "# Solution\n",
    "nltk.download('stopwords')"
   ]
  },
  {
   "cell_type": "code",
   "execution_count": null,
   "metadata": {
    "id": "BDM7VCiDE8Tv"
   },
   "outputs": [],
   "source": [
    "stopwords = set(stopwords.words('english')) \n",
    "blog_df.text = blog_df.text.apply(lambda x: ' '.join([word for word in x.split() if word not in stopwords]))"
   ]
  },
  {
   "cell_type": "code",
   "execution_count": null,
   "metadata": {
    "colab": {
     "base_uri": "https://localhost:8080/",
     "height": 88
    },
    "id": "oQQUzMgzJXMY",
    "outputId": "0c1f323c-d8eb-4f16-d68b-93bdd612920d"
   },
   "outputs": [
    {
     "data": {
      "application/vnd.google.colaboratory.intrinsic+json": {
       "type": "string"
      },
      "text/plain": [
       "'somehow coca cola way summing things well early flagship jingle like buy world coke tune like teach world sing pretty much summed post woodstock era well add much sales catchy tune korea coke theme urllink stop thinking feel pretty much sums lot korea koreans look relaxed couple stopped thinking started feeling course high regard education math logic deep think many koreans really like work emotion anything else westerners seem sublimate moreso least display different way maybe scratch westerners koreans probably pretty similar context different anyways think losing korea repeat stop thinking feel stop thinking feel stop thinking feel everything alright'"
      ]
     },
     "execution_count": 49,
     "metadata": {},
     "output_type": "execute_result"
    }
   ],
   "source": [
    "blog_df.text[6]"
   ]
  },
  {
   "cell_type": "code",
   "execution_count": null,
   "metadata": {
    "id": "KqBEJPJcHoc9"
   },
   "outputs": [],
   "source": [
    "# Q2.D\n",
    "# Remove all extra white spaces"
   ]
  },
  {
   "cell_type": "code",
   "execution_count": null,
   "metadata": {
    "id": "cmhairtXLVGH"
   },
   "outputs": [],
   "source": [
    "# Solution\n",
    "blog_df.text = blog_df.text.apply(lambda x: x.strip())"
   ]
  },
  {
   "cell_type": "code",
   "execution_count": null,
   "metadata": {
    "colab": {
     "base_uri": "https://localhost:8080/",
     "height": 88
    },
    "id": "CF3C76gjLc8M",
    "outputId": "83805244-242e-4567-bac0-2d6b700fa978"
   },
   "outputs": [
    {
     "data": {
      "application/vnd.google.colaboratory.intrinsic+json": {
       "type": "string"
      },
      "text/plain": [
       "'somehow coca cola way summing things well early flagship jingle like buy world coke tune like teach world sing pretty much summed post woodstock era well add much sales catchy tune korea coke theme urllink stop thinking feel pretty much sums lot korea koreans look relaxed couple stopped thinking started feeling course high regard education math logic deep think many koreans really like work emotion anything else westerners seem sublimate moreso least display different way maybe scratch westerners koreans probably pretty similar context different anyways think losing korea repeat stop thinking feel stop thinking feel stop thinking feel everything alright'"
      ]
     },
     "execution_count": 52,
     "metadata": {},
     "output_type": "execute_result"
    }
   ],
   "source": [
    "blog_df.text[6]"
   ]
  },
  {
   "cell_type": "code",
   "execution_count": null,
   "metadata": {
    "id": "TWkES6_lLgA6"
   },
   "outputs": [],
   "source": [
    "# Q3\n",
    "# Build a base Classification model"
   ]
  },
  {
   "cell_type": "code",
   "execution_count": null,
   "metadata": {
    "id": "_JXMxsPlOVFT"
   },
   "outputs": [],
   "source": [
    "# Q3.A\n",
    "# Create dependent and independent variables"
   ]
  },
  {
   "cell_type": "code",
   "execution_count": null,
   "metadata": {
    "colab": {
     "base_uri": "https://localhost:8080/"
    },
    "id": "jbYvYQvTu1X5",
    "outputId": "c346cd1a-a046-4c7f-f46c-39131aaa26d5"
   },
   "outputs": [
    {
     "data": {
      "text/plain": [
       "(2816, 7)"
      ]
     },
     "execution_count": 55,
     "metadata": {},
     "output_type": "execute_result"
    }
   ],
   "source": [
    "blog_df.shape"
   ]
  },
  {
   "cell_type": "code",
   "execution_count": null,
   "metadata": {
    "id": "kE0qKOvZeBT7"
   },
   "outputs": [],
   "source": [
    "# As per directives, we will consider the text of the blog: ‘text’ feature as independent variable and ‘topic’ as dependent variable.\n",
    "# Selecting only required columns from the dataframe\n",
    "blog_df = blog_df[['text','topic']]"
   ]
  },
  {
   "cell_type": "code",
   "execution_count": null,
   "metadata": {
    "colab": {
     "base_uri": "https://localhost:8080/"
    },
    "id": "pFyIsa3poGsQ",
    "outputId": "84ae510b-8c3a-4b81-9a0e-c499213c6fc5"
   },
   "outputs": [
    {
     "data": {
      "text/plain": [
       "(2816, 2)"
      ]
     },
     "execution_count": 57,
     "metadata": {},
     "output_type": "execute_result"
    }
   ],
   "source": [
    "blog_df.shape"
   ]
  },
  {
   "cell_type": "code",
   "execution_count": null,
   "metadata": {
    "colab": {
     "base_uri": "https://localhost:8080/",
     "height": 206
    },
    "id": "PkQsbHluPqzI",
    "outputId": "b35d79dc-12d7-4324-9260-d60587f5a574"
   },
   "outputs": [
    {
     "data": {
      "text/html": [
       "\n",
       "  <div id=\"df-1040d7d8-825c-4d1e-987a-de5e08b943e9\">\n",
       "    <div class=\"colab-df-container\">\n",
       "      <div>\n",
       "<style scoped>\n",
       "    .dataframe tbody tr th:only-of-type {\n",
       "        vertical-align: middle;\n",
       "    }\n",
       "\n",
       "    .dataframe tbody tr th {\n",
       "        vertical-align: top;\n",
       "    }\n",
       "\n",
       "    .dataframe thead th {\n",
       "        text-align: right;\n",
       "    }\n",
       "</style>\n",
       "<table border=\"1\" class=\"dataframe\">\n",
       "  <thead>\n",
       "    <tr style=\"text-align: right;\">\n",
       "      <th></th>\n",
       "      <th>text</th>\n",
       "      <th>topic</th>\n",
       "    </tr>\n",
       "  </thead>\n",
       "  <tbody>\n",
       "    <tr>\n",
       "      <th>0</th>\n",
       "      <td>info found pages mb pdf files wait untill team...</td>\n",
       "      <td>Student</td>\n",
       "    </tr>\n",
       "    <tr>\n",
       "      <th>2</th>\n",
       "      <td>het kader van kernfusie op aarde maak je eigen...</td>\n",
       "      <td>Student</td>\n",
       "    </tr>\n",
       "    <tr>\n",
       "      <th>3</th>\n",
       "      <td>testing testing</td>\n",
       "      <td>Student</td>\n",
       "    </tr>\n",
       "    <tr>\n",
       "      <th>4</th>\n",
       "      <td>thanks yahoo toolbar capture urls popups means...</td>\n",
       "      <td>InvestmentBanking</td>\n",
       "    </tr>\n",
       "    <tr>\n",
       "      <th>5</th>\n",
       "      <td>interesting conversation dad morning talking k...</td>\n",
       "      <td>InvestmentBanking</td>\n",
       "    </tr>\n",
       "  </tbody>\n",
       "</table>\n",
       "</div>\n",
       "      <button class=\"colab-df-convert\" onclick=\"convertToInteractive('df-1040d7d8-825c-4d1e-987a-de5e08b943e9')\"\n",
       "              title=\"Convert this dataframe to an interactive table.\"\n",
       "              style=\"display:none;\">\n",
       "        \n",
       "  <svg xmlns=\"http://www.w3.org/2000/svg\" height=\"24px\"viewBox=\"0 0 24 24\"\n",
       "       width=\"24px\">\n",
       "    <path d=\"M0 0h24v24H0V0z\" fill=\"none\"/>\n",
       "    <path d=\"M18.56 5.44l.94 2.06.94-2.06 2.06-.94-2.06-.94-.94-2.06-.94 2.06-2.06.94zm-11 1L8.5 8.5l.94-2.06 2.06-.94-2.06-.94L8.5 2.5l-.94 2.06-2.06.94zm10 10l.94 2.06.94-2.06 2.06-.94-2.06-.94-.94-2.06-.94 2.06-2.06.94z\"/><path d=\"M17.41 7.96l-1.37-1.37c-.4-.4-.92-.59-1.43-.59-.52 0-1.04.2-1.43.59L10.3 9.45l-7.72 7.72c-.78.78-.78 2.05 0 2.83L4 21.41c.39.39.9.59 1.41.59.51 0 1.02-.2 1.41-.59l7.78-7.78 2.81-2.81c.8-.78.8-2.07 0-2.86zM5.41 20L4 18.59l7.72-7.72 1.47 1.35L5.41 20z\"/>\n",
       "  </svg>\n",
       "      </button>\n",
       "      \n",
       "  <style>\n",
       "    .colab-df-container {\n",
       "      display:flex;\n",
       "      flex-wrap:wrap;\n",
       "      gap: 12px;\n",
       "    }\n",
       "\n",
       "    .colab-df-convert {\n",
       "      background-color: #E8F0FE;\n",
       "      border: none;\n",
       "      border-radius: 50%;\n",
       "      cursor: pointer;\n",
       "      display: none;\n",
       "      fill: #1967D2;\n",
       "      height: 32px;\n",
       "      padding: 0 0 0 0;\n",
       "      width: 32px;\n",
       "    }\n",
       "\n",
       "    .colab-df-convert:hover {\n",
       "      background-color: #E2EBFA;\n",
       "      box-shadow: 0px 1px 2px rgba(60, 64, 67, 0.3), 0px 1px 3px 1px rgba(60, 64, 67, 0.15);\n",
       "      fill: #174EA6;\n",
       "    }\n",
       "\n",
       "    [theme=dark] .colab-df-convert {\n",
       "      background-color: #3B4455;\n",
       "      fill: #D2E3FC;\n",
       "    }\n",
       "\n",
       "    [theme=dark] .colab-df-convert:hover {\n",
       "      background-color: #434B5C;\n",
       "      box-shadow: 0px 1px 3px 1px rgba(0, 0, 0, 0.15);\n",
       "      filter: drop-shadow(0px 1px 2px rgba(0, 0, 0, 0.3));\n",
       "      fill: #FFFFFF;\n",
       "    }\n",
       "  </style>\n",
       "\n",
       "      <script>\n",
       "        const buttonEl =\n",
       "          document.querySelector('#df-1040d7d8-825c-4d1e-987a-de5e08b943e9 button.colab-df-convert');\n",
       "        buttonEl.style.display =\n",
       "          google.colab.kernel.accessAllowed ? 'block' : 'none';\n",
       "\n",
       "        async function convertToInteractive(key) {\n",
       "          const element = document.querySelector('#df-1040d7d8-825c-4d1e-987a-de5e08b943e9');\n",
       "          const dataTable =\n",
       "            await google.colab.kernel.invokeFunction('convertToInteractive',\n",
       "                                                     [key], {});\n",
       "          if (!dataTable) return;\n",
       "\n",
       "          const docLinkHtml = 'Like what you see? Visit the ' +\n",
       "            '<a target=\"_blank\" href=https://colab.research.google.com/notebooks/data_table.ipynb>data table notebook</a>'\n",
       "            + ' to learn more about interactive tables.';\n",
       "          element.innerHTML = '';\n",
       "          dataTable['output_type'] = 'display_data';\n",
       "          await google.colab.output.renderOutput(dataTable, element);\n",
       "          const docLink = document.createElement('div');\n",
       "          docLink.innerHTML = docLinkHtml;\n",
       "          element.appendChild(docLink);\n",
       "        }\n",
       "      </script>\n",
       "    </div>\n",
       "  </div>\n",
       "  "
      ],
      "text/plain": [
       "                                                text              topic\n",
       "0  info found pages mb pdf files wait untill team...            Student\n",
       "2  het kader van kernfusie op aarde maak je eigen...            Student\n",
       "3                                    testing testing            Student\n",
       "4  thanks yahoo toolbar capture urls popups means...  InvestmentBanking\n",
       "5  interesting conversation dad morning talking k...  InvestmentBanking"
      ]
     },
     "execution_count": 58,
     "metadata": {},
     "output_type": "execute_result"
    }
   ],
   "source": [
    "blog_df.head()"
   ]
  },
  {
   "cell_type": "code",
   "execution_count": null,
   "metadata": {
    "id": "SQmEXKSZPtPy"
   },
   "outputs": [],
   "source": [
    "# Independent variable\n",
    "X = blog_df.text.values\n",
    "# Dependent variable \n",
    "Y = blog_df.topic.values"
   ]
  },
  {
   "cell_type": "code",
   "execution_count": null,
   "metadata": {
    "colab": {
     "base_uri": "https://localhost:8080/"
    },
    "id": "MNqEPAqcwfKq",
    "outputId": "72599e1c-86c4-4bac-bc03-a86dede70c7b"
   },
   "outputs": [
    {
     "name": "stdout",
     "output_type": "stream",
     "text": [
      "(2816,) (2816,)\n"
     ]
    }
   ],
   "source": [
    "print(X.shape, Y.shape)"
   ]
  },
  {
   "cell_type": "code",
   "execution_count": null,
   "metadata": {
    "id": "GyYNN3B6Qjg-"
   },
   "outputs": [],
   "source": [
    "# Q3.B\n",
    "# Split data into train and test."
   ]
  },
  {
   "cell_type": "code",
   "execution_count": null,
   "metadata": {
    "id": "wwzD8RC-Q2o2"
   },
   "outputs": [],
   "source": [
    "# Solution\n",
    "X_train, X_test, y_train, y_test = train_test_split(X, Y, test_size = 0.20, random_state = 7, shuffle=True)"
   ]
  },
  {
   "cell_type": "code",
   "execution_count": null,
   "metadata": {
    "colab": {
     "base_uri": "https://localhost:8080/"
    },
    "id": "1qzG0WElRmHg",
    "outputId": "87d0e0a6-31b8-4e3a-899b-76cdb5d40bad"
   },
   "outputs": [
    {
     "name": "stdout",
     "output_type": "stream",
     "text": [
      "(2252,) (564,) (2252,) (564,)\n"
     ]
    }
   ],
   "source": [
    "print(X_train.shape, X_test.shape, y_train.shape, y_test.shape)"
   ]
  },
  {
   "cell_type": "code",
   "execution_count": null,
   "metadata": {
    "id": "3CX2tUSBRAbx"
   },
   "outputs": [],
   "source": [
    "# Q3.C\n",
    "# Vectorize data using any one vectorizer."
   ]
  },
  {
   "cell_type": "code",
   "execution_count": null,
   "metadata": {
    "id": "9rhZWFGkRQwc"
   },
   "outputs": [],
   "source": [
    "# Solution\n",
    "# Using Term Frequency-Inverse Document Frequency Vectorizer\n",
    "tfidf_vectorizer = TfidfVectorizer(ngram_range=(1,2))"
   ]
  },
  {
   "cell_type": "code",
   "execution_count": null,
   "metadata": {
    "id": "QhsORxg8SrSU"
   },
   "outputs": [],
   "source": [
    "X_train_tfidf = tfidf_vectorizer.fit_transform(X_train).toarray()\n",
    "X_test_tfidf = tfidf_vectorizer.transform(X_test).toarray()"
   ]
  },
  {
   "cell_type": "code",
   "execution_count": null,
   "metadata": {
    "colab": {
     "base_uri": "https://localhost:8080/"
    },
    "id": "q_yDq2dR0dzq",
    "outputId": "6ac23ad0-9335-48be-fc9c-975c8c2be0ad"
   },
   "outputs": [
    {
     "data": {
      "text/plain": [
       "numpy.ndarray"
      ]
     },
     "execution_count": 67,
     "metadata": {},
     "output_type": "execute_result"
    }
   ],
   "source": [
    "type(X_train_tfidf)"
   ]
  },
  {
   "cell_type": "code",
   "execution_count": null,
   "metadata": {
    "colab": {
     "base_uri": "https://localhost:8080/"
    },
    "id": "APlKBt7T0nUL",
    "outputId": "f1a094d9-ab48-49c3-88c2-b06dd1f076ed"
   },
   "outputs": [
    {
     "data": {
      "text/plain": [
       "numpy.ndarray"
      ]
     },
     "execution_count": 68,
     "metadata": {},
     "output_type": "execute_result"
    }
   ],
   "source": [
    "type(X_test_tfidf)"
   ]
  },
  {
   "cell_type": "code",
   "execution_count": null,
   "metadata": {
    "colab": {
     "base_uri": "https://localhost:8080/"
    },
    "id": "nVraUaOx0Fz6",
    "outputId": "19781583-0103-43ee-b008-45540790a347"
   },
   "outputs": [
    {
     "name": "stdout",
     "output_type": "stream",
     "text": [
      "(2252, 175155) (564, 175155)\n"
     ]
    }
   ],
   "source": [
    "print(X_train_tfidf.shape, X_test_tfidf.shape)"
   ]
  },
  {
   "cell_type": "code",
   "execution_count": null,
   "metadata": {
    "colab": {
     "base_uri": "https://localhost:8080/"
    },
    "id": "kCSCJ0Hbjuoq",
    "outputId": "12f2951f-2dc8-4085-9bd8-c8217540efaf"
   },
   "outputs": [
    {
     "data": {
      "text/plain": [
       "array([[0., 0., 0., ..., 0., 0., 0.],\n",
       "       [0., 0., 0., ..., 0., 0., 0.],\n",
       "       [0., 0., 0., ..., 0., 0., 0.],\n",
       "       ...,\n",
       "       [0., 0., 0., ..., 0., 0., 0.],\n",
       "       [0., 0., 0., ..., 0., 0., 0.],\n",
       "       [0., 0., 0., ..., 0., 0., 0.]])"
      ]
     },
     "execution_count": 70,
     "metadata": {},
     "output_type": "execute_result"
    }
   ],
   "source": [
    "X_train_tfidf"
   ]
  },
  {
   "cell_type": "code",
   "execution_count": null,
   "metadata": {
    "colab": {
     "base_uri": "https://localhost:8080/"
    },
    "id": "2f6OCcaKj08l",
    "outputId": "e046c697-1c34-49a1-80cb-eb76057593ba"
   },
   "outputs": [
    {
     "data": {
      "text/plain": [
       "array([[0., 0., 0., ..., 0., 0., 0.],\n",
       "       [0., 0., 0., ..., 0., 0., 0.],\n",
       "       [0., 0., 0., ..., 0., 0., 0.],\n",
       "       ...,\n",
       "       [0., 0., 0., ..., 0., 0., 0.],\n",
       "       [0., 0., 0., ..., 0., 0., 0.],\n",
       "       [0., 0., 0., ..., 0., 0., 0.]])"
      ]
     },
     "execution_count": 71,
     "metadata": {},
     "output_type": "execute_result"
    }
   ],
   "source": [
    "X_test_tfidf"
   ]
  },
  {
   "cell_type": "code",
   "execution_count": null,
   "metadata": {
    "colab": {
     "base_uri": "https://localhost:8080/"
    },
    "id": "ufuuGshp4-xM",
    "outputId": "8f704b9b-ec5a-4449-8bf2-328bda565f52"
   },
   "outputs": [
    {
     "data": {
      "text/plain": [
       "['aa', 'aa anger', 'aa compared', 'aa nice', 'aaa']"
      ]
     },
     "execution_count": 72,
     "metadata": {},
     "output_type": "execute_result"
    }
   ],
   "source": [
    "# Feature names \n",
    "tfidf_vectorizer.get_feature_names()[:5]"
   ]
  },
  {
   "cell_type": "code",
   "execution_count": null,
   "metadata": {
    "colab": {
     "base_uri": "https://localhost:8080/"
    },
    "id": "Sqp09VGS5ygg",
    "outputId": "76d02823-3798-40fe-846f-4c058274ce3e"
   },
   "outputs": [
    {
     "data": {
      "text/plain": [
       "array(['Student', 'Student', 'Student', ..., 'Technology', 'Technology',\n",
       "       'Technology'], dtype=object)"
      ]
     },
     "execution_count": 73,
     "metadata": {},
     "output_type": "execute_result"
    }
   ],
   "source": [
    "blog_df.topic.values "
   ]
  },
  {
   "cell_type": "code",
   "execution_count": null,
   "metadata": {
    "colab": {
     "base_uri": "https://localhost:8080/"
    },
    "id": "qSOI5ZmYXJME",
    "outputId": "fa761055-843b-4e54-89c0-d4b8971ec8f1"
   },
   "outputs": [
    {
     "data": {
      "text/plain": [
       "array(['Student', 'InvestmentBanking', 'indUnk', 'Non-Profit', 'Banking',\n",
       "       'Education', 'Engineering', 'Science', 'Communications-Media',\n",
       "       'BusinessServices', 'Sports-Recreation', 'Arts', 'Internet',\n",
       "       'Museums-Libraries', 'Accounting', 'Technology'], dtype=object)"
      ]
     },
     "execution_count": 74,
     "metadata": {},
     "output_type": "execute_result"
    }
   ],
   "source": [
    "blog_df.topic.unique()"
   ]
  },
  {
   "cell_type": "code",
   "execution_count": null,
   "metadata": {
    "colab": {
     "base_uri": "https://localhost:8080/"
    },
    "id": "h2tqYZBp7kGo",
    "outputId": "86327f68-2410-4226-9568-623ab34309b1"
   },
   "outputs": [
    {
     "name": "stdout",
     "output_type": "stream",
     "text": [
      "Student : 386\n",
      "InvestmentBanking : 70\n",
      "indUnk : 437\n",
      "Non-Profit : 45\n",
      "Banking : 16\n",
      "Education : 116\n",
      "Engineering : 119\n",
      "Science : 31\n",
      "Communications-Media : 14\n",
      "BusinessServices : 9\n",
      "Sports-Recreation : 75\n",
      "Arts : 2\n",
      "Internet : 20\n",
      "Museums-Libraries : 2\n",
      "Accounting : 2\n",
      "Technology : 1472\n"
     ]
    }
   ],
   "source": [
    "# Create a dictionary to get topic counts \n",
    "d = dict()\n",
    "for word in blog_df.topic.values:\n",
    "  if word in d:\n",
    "     d[word] = d[word] + 1\n",
    "  else:\n",
    "    d[word] = 1\n",
    "  \n",
    "# Print the contents of dictionary\n",
    "for key in list(d.keys()):\n",
    "    print(key, \":\", d[key])"
   ]
  },
  {
   "cell_type": "code",
   "execution_count": null,
   "metadata": {
    "id": "VGg100PQQI6q"
   },
   "outputs": [],
   "source": [
    "from sklearn.preprocessing import LabelEncoder\n",
    "encoder = LabelEncoder() \n",
    "y_train = encoder.fit_transform(y_train)\n",
    "y_test = encoder.transform(y_test)  "
   ]
  },
  {
   "cell_type": "code",
   "execution_count": null,
   "metadata": {
    "colab": {
     "base_uri": "https://localhost:8080/"
    },
    "id": "3w9k7iTtvJAm",
    "outputId": "4c566ea1-df37-4d5f-b247-7e73b8ba69f5"
   },
   "outputs": [
    {
     "data": {
      "text/plain": [
       "(numpy.ndarray, numpy.ndarray)"
      ]
     },
     "execution_count": 77,
     "metadata": {},
     "output_type": "execute_result"
    }
   ],
   "source": [
    "type(y_train), type(y_test)"
   ]
  },
  {
   "cell_type": "code",
   "execution_count": null,
   "metadata": {
    "colab": {
     "base_uri": "https://localhost:8080/"
    },
    "id": "Qu64uCkuGtEQ",
    "outputId": "554048af-56af-44a1-9090-bf7f5defa263"
   },
   "outputs": [
    {
     "name": "stdout",
     "output_type": "stream",
     "text": [
      "(2252,) (564,)\n"
     ]
    }
   ],
   "source": [
    "print(y_train.shape, y_test.shape)"
   ]
  },
  {
   "cell_type": "code",
   "execution_count": null,
   "metadata": {
    "colab": {
     "base_uri": "https://localhost:8080/"
    },
    "id": "BuXPgGAUkASY",
    "outputId": "1dd23259-3c5f-4990-cb96-2425471c15e1"
   },
   "outputs": [
    {
     "data": {
      "text/plain": [
       "array([13,  6, 13, ...,  5, 13, 10])"
      ]
     },
     "execution_count": 79,
     "metadata": {},
     "output_type": "execute_result"
    }
   ],
   "source": [
    "y_train "
   ]
  },
  {
   "cell_type": "code",
   "execution_count": null,
   "metadata": {
    "colab": {
     "base_uri": "https://localhost:8080/"
    },
    "id": "tTuLZKAUvV5-",
    "outputId": "f46c099a-c25d-4a66-9469-a5eaac025204"
   },
   "outputs": [
    {
     "data": {
      "text/plain": [
       "array([ 5, 14, 14, 12, 14,  2, 15, 14,  5, 15, 13, 15, 14, 14, 15, 13,  6,\n",
       "       14, 13, 10, 14, 14, 15, 15, 14, 13, 14, 14, 14, 15, 14, 14, 15, 14,\n",
       "       14, 14, 11, 15, 13, 13, 15, 13, 13, 14, 14, 14, 13, 15, 14, 13, 14,\n",
       "       15, 13, 12, 14,  5, 14, 14, 14, 15, 14,  3, 14, 14, 11, 14, 15, 13,\n",
       "       14, 13, 14, 12, 14, 15,  7, 15,  6, 14, 13, 14, 13, 14, 14, 12,  6,\n",
       "       14, 12, 14, 14, 14, 14, 14, 14, 14, 14, 14, 14, 14, 14, 14, 14, 14,\n",
       "        6, 15, 13, 14, 14,  6, 14, 13, 14, 13, 13,  5, 15, 14, 14,  6, 14,\n",
       "       15, 14,  6, 14,  6, 15, 14, 13, 12, 14,  5, 14, 14, 14, 14, 15, 14,\n",
       "       14, 15, 15, 14, 15, 14, 14, 15, 14,  8, 14, 14, 14, 12, 14, 15, 14,\n",
       "       13, 14, 14, 14, 13, 15, 14, 14, 14, 14, 13, 13, 14, 15, 15, 14,  5,\n",
       "       14, 14, 14, 14, 14, 15, 13, 14, 14, 14, 14, 14, 14, 12, 13, 15, 14,\n",
       "       14, 14, 13,  8, 14, 15, 14, 14, 14, 14, 14, 14, 14, 10,  8, 13, 14,\n",
       "       13, 14,  5, 14, 14, 14,  7, 13, 14,  7,  6, 14, 12, 14, 14, 14, 14,\n",
       "       15,  6, 13, 15, 14,  4, 14, 15, 14, 13,  3, 14, 13, 14, 14, 13, 13,\n",
       "       14, 14, 14,  6, 13, 13, 14, 14, 14, 14, 15,  6, 13, 14, 14, 13, 15,\n",
       "       14, 14, 12, 13, 14, 14, 14, 15,  5,  6, 14, 14, 14, 14, 13, 14, 15,\n",
       "       12, 14, 13, 14, 14, 13, 14,  6, 14, 13, 14, 15,  5,  2, 15, 14, 15,\n",
       "       14, 14, 14, 14, 15, 15, 15, 14, 14,  8, 14,  6, 12, 14,  4, 14, 14,\n",
       "       15, 14, 13, 14, 14, 14, 15, 12, 14, 14, 15, 14, 14, 15, 14, 12,  6,\n",
       "       14, 15, 14,  5, 14, 14, 14, 12, 14, 14, 14,  5, 14, 14, 14, 15, 11,\n",
       "       14, 14, 14, 14, 13, 13,  5, 13, 14, 14, 14, 13, 14, 14, 14, 14,  3,\n",
       "       13, 14, 14, 14, 14, 14, 14, 14,  8, 13, 13,  2, 14, 15, 10, 14, 14,\n",
       "        6, 14, 14, 13, 13, 15, 14, 13, 14, 14, 15, 15,  6, 15, 14, 15, 14,\n",
       "        3,  6, 14,  7, 13, 14, 14, 14, 14, 12, 15, 11,  6,  8, 14, 15, 10,\n",
       "       14, 11, 14, 15, 13, 14,  6, 14,  6, 14,  5, 14, 11,  6,  5, 14, 14,\n",
       "        6, 14, 13, 11, 13, 15, 14, 13,  5, 12, 14, 15, 14, 14, 14, 15,  4,\n",
       "        6,  8, 15, 14, 14, 14, 13, 14, 13, 13,  5, 13, 14, 14, 15, 13,  5,\n",
       "       15, 13, 14, 15, 10,  7, 14, 13,  6, 15, 14, 14, 14,  6,  5, 14, 14,\n",
       "       13,  8, 14, 14, 14, 15, 13,  5, 14, 13, 12, 13, 11, 15, 13, 15, 15,\n",
       "        6, 14, 14, 15, 15, 15, 14,  8, 14, 14, 14, 15, 14, 15, 14, 14, 11,\n",
       "       15, 14, 15, 14, 14, 14, 15, 14, 14,  6, 14, 13, 13, 14, 13, 14, 14,\n",
       "       14,  7,  4, 13, 14, 14, 14, 14, 13, 14, 14, 14, 13, 15, 14, 14, 14,\n",
       "       15, 14, 13, 15, 14, 15, 14, 15, 13, 14, 14,  5,  7, 15,  5,  5, 15,\n",
       "       14, 15, 14])"
      ]
     },
     "execution_count": 80,
     "metadata": {},
     "output_type": "execute_result"
    }
   ],
   "source": [
    "y_test"
   ]
  },
  {
   "cell_type": "code",
   "execution_count": null,
   "metadata": {
    "id": "Os2WUTCYXn8N"
   },
   "outputs": [],
   "source": [
    "# Q3.D\n",
    "# Build a base model for Supervised Learning - Classification."
   ]
  },
  {
   "cell_type": "code",
   "execution_count": null,
   "metadata": {
    "id": "oYlTznBIbNct"
   },
   "outputs": [],
   "source": [
    "# Solution\n",
    "# Base model = Logistic Regression\n",
    "from sklearn.linear_model import LogisticRegression\n",
    "from sklearn.multiclass import OneVsRestClassifier\n",
    "clf_logistic = LogisticRegression(solver = 'lbfgs', class_weight = 'balanced', random_state = 7)\n",
    "# class_weight = 'balanced' uses the values of y to automatically adjust weights inversely proportional to class frequencies in the input data\n",
    "clf_ovr = OneVsRestClassifier(clf_logistic) "
   ]
  },
  {
   "cell_type": "code",
   "execution_count": null,
   "metadata": {
    "id": "n0e73nmdBxc8"
   },
   "outputs": [],
   "source": [
    "# Using TF-IDF vectorizer \n",
    "# Fit the classifier \n",
    "clf_ovr.fit(X_train_tfidf, y_train) \n",
    "# Predict the response \n",
    "y_pred = clf_ovr.predict(X_test_tfidf)  "
   ]
  },
  {
   "cell_type": "code",
   "execution_count": null,
   "metadata": {
    "colab": {
     "base_uri": "https://localhost:8080/"
    },
    "id": "xIWy66vKGKSa",
    "outputId": "246fcb4a-f311-4df6-c63c-3be217887ddc"
   },
   "outputs": [
    {
     "data": {
      "text/plain": [
       "{'estimator__C': 1.0,\n",
       " 'estimator__class_weight': 'balanced',\n",
       " 'estimator__dual': False,\n",
       " 'estimator__fit_intercept': True,\n",
       " 'estimator__intercept_scaling': 1,\n",
       " 'estimator__l1_ratio': None,\n",
       " 'estimator__max_iter': 100,\n",
       " 'estimator__multi_class': 'auto',\n",
       " 'estimator__n_jobs': None,\n",
       " 'estimator__penalty': 'l2',\n",
       " 'estimator__random_state': 7,\n",
       " 'estimator__solver': 'lbfgs',\n",
       " 'estimator__tol': 0.0001,\n",
       " 'estimator__verbose': 0,\n",
       " 'estimator__warm_start': False,\n",
       " 'estimator': LogisticRegression(class_weight='balanced', random_state=7),\n",
       " 'n_jobs': None}"
      ]
     },
     "execution_count": 84,
     "metadata": {},
     "output_type": "execute_result"
    }
   ],
   "source": [
    "clf_ovr.get_params(deep = True)"
   ]
  },
  {
   "cell_type": "code",
   "execution_count": null,
   "metadata": {
    "id": "Nbw1lhAjlgS2"
   },
   "outputs": [],
   "source": [
    "# Q3.E\n",
    "# Clearly print Performance Metrics."
   ]
  },
  {
   "cell_type": "code",
   "execution_count": null,
   "metadata": {
    "id": "msHEB1BY0MyE"
   },
   "outputs": [],
   "source": [
    "# Solution\n",
    "# Performance Metrics"
   ]
  },
  {
   "cell_type": "code",
   "execution_count": null,
   "metadata": {
    "colab": {
     "base_uri": "https://localhost:8080/"
    },
    "id": "6WiJ0IDm9vw9",
    "outputId": "49f85886-5f36-4df9-d44d-444fc365475e"
   },
   "outputs": [
    {
     "name": "stdout",
     "output_type": "stream",
     "text": [
      "0.7801\n"
     ]
    }
   ],
   "source": [
    "# Precision score \n",
    "from sklearn.metrics import precision_score\n",
    "precision_Logistic_tfidf = precision_score(y_test, y_pred, average='micro')\n",
    "print('{:.4f}'.format(precision_Logistic_tfidf))"
   ]
  },
  {
   "cell_type": "code",
   "execution_count": null,
   "metadata": {
    "colab": {
     "base_uri": "https://localhost:8080/"
    },
    "id": "cCwDHyz7zlni",
    "outputId": "340fc79b-0aff-419d-a374-7b55e9d2293a"
   },
   "outputs": [
    {
     "name": "stdout",
     "output_type": "stream",
     "text": [
      "0.7801\n"
     ]
    }
   ],
   "source": [
    "# Recall score \n",
    "from sklearn.metrics import recall_score\n",
    "recall_Logistic_tfidf = recall_score(y_test, y_pred, average='micro')\n",
    "print('{:.4f}'.format(recall_Logistic_tfidf))"
   ]
  },
  {
   "cell_type": "code",
   "execution_count": null,
   "metadata": {
    "colab": {
     "base_uri": "https://localhost:8080/"
    },
    "id": "qvGD5mokRW86",
    "outputId": "51b3382b-4292-4d5e-cbf8-957903631e41"
   },
   "outputs": [
    {
     "name": "stdout",
     "output_type": "stream",
     "text": [
      "0.7801\n"
     ]
    }
   ],
   "source": [
    "# F1 score\n",
    "from sklearn.metrics import f1_score\n",
    "f1_score_Logistic_tfidf = f1_score(y_test, y_pred, average='micro')\n",
    "print('{:.4f}'.format(f1_score_Logistic_tfidf))"
   ]
  },
  {
   "cell_type": "code",
   "execution_count": null,
   "metadata": {
    "id": "PI_lFPrpsc-M"
   },
   "outputs": [],
   "source": [
    "# Q4\n",
    "# Improve Performance of model."
   ]
  },
  {
   "cell_type": "code",
   "execution_count": null,
   "metadata": {
    "id": "zYc7ZQYjtYe4"
   },
   "outputs": [],
   "source": [
    "# Q4.A\n",
    "# Experiment with other vectorisers."
   ]
  },
  {
   "cell_type": "code",
   "execution_count": null,
   "metadata": {
    "id": "CRaTg0pBtgam"
   },
   "outputs": [],
   "source": [
    "# Solution\n",
    "# Count vectorizer\n",
    "cv_vectorizer = CountVectorizer(ngram_range = (1,2))"
   ]
  },
  {
   "cell_type": "code",
   "execution_count": null,
   "metadata": {
    "id": "R5-cOrXV3Mo6"
   },
   "outputs": [],
   "source": [
    "X_train_cv = cv_vectorizer.fit_transform(X_train).toarray()\n",
    "X_test_cv = cv_vectorizer.transform(X_test).toarray() "
   ]
  },
  {
   "cell_type": "code",
   "execution_count": null,
   "metadata": {
    "colab": {
     "base_uri": "https://localhost:8080/"
    },
    "id": "8WrbRFTgKiZK",
    "outputId": "a1b204c8-b8c4-4c3f-8bc0-2748f092b3bb"
   },
   "outputs": [
    {
     "name": "stdout",
     "output_type": "stream",
     "text": [
      "(2252, 175155) (564, 175155)\n"
     ]
    }
   ],
   "source": [
    "print(X_train_cv.shape, X_test_cv.shape)"
   ]
  },
  {
   "cell_type": "code",
   "execution_count": null,
   "metadata": {
    "colab": {
     "base_uri": "https://localhost:8080/"
    },
    "id": "9j67ayuo57Fw",
    "outputId": "11d75b72-0518-4438-c9c5-f944de554d76"
   },
   "outputs": [
    {
     "name": "stdout",
     "output_type": "stream",
     "text": [
      "(2252,) (564,)\n"
     ]
    }
   ],
   "source": [
    "print(y_train.shape, y_test.shape)"
   ]
  },
  {
   "cell_type": "code",
   "execution_count": null,
   "metadata": {
    "id": "z_UOwdB13pK9"
   },
   "outputs": [],
   "source": [
    "# Base model = Logistic Regression\n",
    "clf_logistic = LogisticRegression(solver = 'lbfgs', class_weight = 'balanced', random_state = 7)\n",
    "clf_ovr = OneVsRestClassifier(clf_logistic)"
   ]
  },
  {
   "cell_type": "code",
   "execution_count": null,
   "metadata": {
    "id": "bT4UtnCY3yJe"
   },
   "outputs": [],
   "source": [
    "# Fit the classifier \n",
    "clf_ovr.fit(X_train_cv, y_train) \n",
    "# Predict the response \n",
    "y_pred = clf_ovr.predict(X_test_cv)  "
   ]
  },
  {
   "cell_type": "code",
   "execution_count": null,
   "metadata": {
    "colab": {
     "base_uri": "https://localhost:8080/"
    },
    "id": "htqys6FO4Vh1",
    "outputId": "c6cc7874-8404-45ed-b4f3-288fcadfafa2"
   },
   "outputs": [
    {
     "name": "stdout",
     "output_type": "stream",
     "text": [
      "0.7606\n",
      "0.7606\n",
      "0.7606\n"
     ]
    }
   ],
   "source": [
    "# Performance Metrics \n",
    "precision_Logistic_cv = precision_score(y_test, y_pred, average='micro')\n",
    "print('{:.4f}'.format(precision_Logistic_cv))\n",
    "recall_Logistic_cv = recall_score(y_test, y_pred, average='micro')\n",
    "print('{:.4f}'.format(recall_Logistic_cv))\n",
    "f1_score_Logistic_cv = f1_score(y_test, y_pred, average='micro')\n",
    "print('{:.4f}'.format(f1_score_Logistic_cv))"
   ]
  },
  {
   "cell_type": "code",
   "execution_count": null,
   "metadata": {
    "id": "jfCrIiAp9jGU"
   },
   "outputs": [],
   "source": [
    "# Observation \n",
    "# Logistic Regression with TF-IDF vectorizer produced better model outcomes. "
   ]
  },
  {
   "cell_type": "code",
   "execution_count": null,
   "metadata": {
    "id": "X81-nQVL6uHU"
   },
   "outputs": [],
   "source": [
    "# Q4.B\n",
    "# Build classifier Models using other algorithms than base model."
   ]
  },
  {
   "cell_type": "code",
   "execution_count": null,
   "metadata": {
    "id": "VO8uR_5p60NA"
   },
   "outputs": [],
   "source": [
    "# Solution\n",
    "# Base Model = Logistic regression \n",
    "# Models to train\n",
    "#1. K-Nearest Neighbours \n",
    "#2. Linear Support Vector Classifier\n",
    "#3. Multinomial Naive Bayes\n",
    "#4. XG Boost  \n",
    "#5. Random Forest \n",
    "#6. Neural Network"
   ]
  },
  {
   "cell_type": "code",
   "execution_count": null,
   "metadata": {
    "id": "jev6HHpdyXO6"
   },
   "outputs": [],
   "source": [
    "# K-Nearest Neighbours \n",
    "# Using TF-IDF vectoriser \n",
    "from sklearn.neighbors import KNeighborsClassifier \n",
    "knn = KNeighborsClassifier(n_neighbors = 3, weights = 'distance') \n",
    "knn.fit(X_train_tfidf, y_train)\n",
    "y_pred = knn.predict(X_test_tfidf)     "
   ]
  },
  {
   "cell_type": "code",
   "execution_count": null,
   "metadata": {
    "colab": {
     "base_uri": "https://localhost:8080/"
    },
    "id": "ESDaGVtM6pGg",
    "outputId": "d408e1d2-92df-4819-bc15-713ef6b11b8b"
   },
   "outputs": [
    {
     "name": "stdout",
     "output_type": "stream",
     "text": [
      "0.6525\n",
      "0.6525\n",
      "0.6525\n"
     ]
    }
   ],
   "source": [
    "# Performance Metrics \n",
    "precision_KNN_tfidf = precision_score(y_test, y_pred, average='micro')\n",
    "print('{:.4f}'.format(precision_KNN_tfidf))\n",
    "recall_KNN_tfidf = recall_score(y_test, y_pred, average='micro')\n",
    "print('{:.4f}'.format(recall_KNN_tfidf))\n",
    "f1_score_KNN_tfidf = f1_score(y_test, y_pred, average='micro')\n",
    "print('{:.4f}'.format(f1_score_KNN_tfidf))\n"
   ]
  },
  {
   "cell_type": "code",
   "execution_count": null,
   "metadata": {
    "id": "uIMx2zbQ_7DH"
   },
   "outputs": [],
   "source": [
    "# K-Nearest Neighbours \n",
    "# Using Count vectoriser \n",
    "knn = KNeighborsClassifier(n_neighbors = 3, weights = 'distance') \n",
    "knn.fit(X_train_cv, y_train)\n",
    "y_pred = knn.predict(X_test_cv)  "
   ]
  },
  {
   "cell_type": "code",
   "execution_count": null,
   "metadata": {
    "colab": {
     "base_uri": "https://localhost:8080/"
    },
    "id": "AU2y4jkaAXcG",
    "outputId": "27710cf1-a426-422d-9031-6375f213797f"
   },
   "outputs": [
    {
     "name": "stdout",
     "output_type": "stream",
     "text": [
      "0.5337\n",
      "0.5337\n",
      "0.5337\n"
     ]
    }
   ],
   "source": [
    "# Performance Metrics \n",
    "precision_KNN_cv = precision_score(y_test, y_pred, average='micro')\n",
    "print('{:.4f}'.format(precision_KNN_cv))\n",
    "recall_KNN_cv = recall_score(y_test, y_pred, average='micro')\n",
    "print('{:.4f}'.format(recall_KNN_cv))\n",
    "f1_score_KNN_cv = f1_score(y_test, y_pred, average='micro')\n",
    "print('{:.4f}'.format(f1_score_KNN_cv))"
   ]
  },
  {
   "cell_type": "code",
   "execution_count": null,
   "metadata": {
    "id": "JOO49foyA6Rr"
   },
   "outputs": [],
   "source": [
    "# Observation \n",
    "# Modeling by K-NN algorithm with TF-IDF vectorizer led to significantly better model outcomes.     "
   ]
  },
  {
   "cell_type": "code",
   "execution_count": null,
   "metadata": {
    "id": "bdZZhfNnB-QJ"
   },
   "outputs": [],
   "source": [
    "# Linear Support Vector Classifier\n",
    "# Using TF-IDF vectoriser \n",
    "from sklearn.svm import LinearSVC \n",
    "from sklearn.multiclass import OneVsRestClassifier\n",
    "clf_LinearSVC = LinearSVC (class_weight = 'balanced', random_state = 7)\n",
    "# class_weight = 'balanced' uses the values of y to automatically adjust weights inversely proportional to class frequencies in the input data\n",
    "clf_ovr_LinearSVC = OneVsRestClassifier(clf_LinearSVC)\n",
    "clf_ovr_LinearSVC.fit(X_train_tfidf, y_train)\n",
    "y_pred = clf_ovr_LinearSVC.predict(X_test_tfidf) "
   ]
  },
  {
   "cell_type": "code",
   "execution_count": null,
   "metadata": {
    "colab": {
     "base_uri": "https://localhost:8080/"
    },
    "id": "WFiJNA6BSpKO",
    "outputId": "183c2aec-b060-4032-e6bc-e57e1d9b37f2"
   },
   "outputs": [
    {
     "data": {
      "text/plain": [
       "{'estimator__C': 1.0,\n",
       " 'estimator__class_weight': 'balanced',\n",
       " 'estimator__dual': True,\n",
       " 'estimator__fit_intercept': True,\n",
       " 'estimator__intercept_scaling': 1,\n",
       " 'estimator__loss': 'squared_hinge',\n",
       " 'estimator__max_iter': 1000,\n",
       " 'estimator__multi_class': 'ovr',\n",
       " 'estimator__penalty': 'l2',\n",
       " 'estimator__random_state': 7,\n",
       " 'estimator__tol': 0.0001,\n",
       " 'estimator__verbose': 0,\n",
       " 'estimator': LinearSVC(class_weight='balanced', random_state=7),\n",
       " 'n_jobs': None}"
      ]
     },
     "execution_count": 108,
     "metadata": {},
     "output_type": "execute_result"
    }
   ],
   "source": [
    "clf_ovr_LinearSVC.get_params(deep = True)"
   ]
  },
  {
   "cell_type": "code",
   "execution_count": null,
   "metadata": {
    "colab": {
     "base_uri": "https://localhost:8080/"
    },
    "id": "ZtpV1H9BB-Tc",
    "outputId": "47f7e835-069d-4c9c-acc6-e11b69dff888"
   },
   "outputs": [
    {
     "name": "stdout",
     "output_type": "stream",
     "text": [
      "0.8138\n",
      "0.8138\n",
      "0.8138\n"
     ]
    }
   ],
   "source": [
    "# Performance Metrics \n",
    "precision_LinearSVC_tfidf = precision_score(y_test, y_pred, average='micro')\n",
    "print('{:.4f}'.format(precision_LinearSVC_tfidf))\n",
    "recall_LinearSVC_tfidf = recall_score(y_test, y_pred, average='micro')\n",
    "print('{:.4f}'.format(recall_LinearSVC_tfidf))\n",
    "f1_score_LinearSVC_tfidf = f1_score(y_test, y_pred, average='micro')\n",
    "print('{:.4f}'.format(f1_score_LinearSVC_tfidf))"
   ]
  },
  {
   "cell_type": "code",
   "execution_count": null,
   "metadata": {
    "id": "ncLhfWSmFYi8"
   },
   "outputs": [],
   "source": [
    "# Linear Support Vector Classifier\n",
    "# Using Count vectoriser \n",
    "clf_ovr_LinearSVC.fit(X_train_cv, y_train)\n",
    "y_pred = clf_ovr_LinearSVC.predict(X_test_cv) "
   ]
  },
  {
   "cell_type": "code",
   "execution_count": null,
   "metadata": {
    "colab": {
     "base_uri": "https://localhost:8080/"
    },
    "id": "57sffT7TFYlN",
    "outputId": "45294628-e854-437a-8c63-5886091ccd69"
   },
   "outputs": [
    {
     "name": "stdout",
     "output_type": "stream",
     "text": [
      "0.6986\n",
      "0.6986\n",
      "0.6986\n"
     ]
    }
   ],
   "source": [
    "# Performance Metrics \n",
    "precision_LinearSVC_cv = precision_score(y_test, y_pred, average='micro')\n",
    "print('{:.4f}'.format(precision_LinearSVC_cv))\n",
    "recall_LinearSVC_cv = recall_score(y_test, y_pred, average='micro')\n",
    "print('{:.4f}'.format(recall_LinearSVC_cv))\n",
    "f1_score_LinearSVC_cv = f1_score(y_test, y_pred, average='micro')\n",
    "print('{:.4f}'.format(f1_score_LinearSVC_cv)) "
   ]
  },
  {
   "cell_type": "code",
   "execution_count": null,
   "metadata": {
    "id": "WrFxLx6gY27T"
   },
   "outputs": [],
   "source": [
    "# Observation\n",
    "# Linear SVC with TF-IDF vectoriser produced significantly better model outcomes. "
   ]
  },
  {
   "cell_type": "code",
   "execution_count": null,
   "metadata": {
    "id": "UfxK_S_VIpK1"
   },
   "outputs": [],
   "source": [
    "# Multinomial Naive Bayes\n",
    "# Using TF-IDF vectoriser \n",
    "from sklearn.naive_bayes import MultinomialNB\n",
    "clf_MNB = MultinomialNB()\n",
    "clf_MNB.fit(X_train_tfidf, y_train)\n",
    "y_pred = clf_MNB.predict(X_test_tfidf) "
   ]
  },
  {
   "cell_type": "code",
   "execution_count": null,
   "metadata": {
    "colab": {
     "base_uri": "https://localhost:8080/"
    },
    "id": "2b6XFmM8IpMu",
    "outputId": "3402db2c-c353-4fb4-b60d-8238eda39f04"
   },
   "outputs": [
    {
     "name": "stdout",
     "output_type": "stream",
     "text": [
      "0.5106\n",
      "0.5106\n",
      "0.5106\n"
     ]
    }
   ],
   "source": [
    "# Performance Metrics \n",
    "precision_clf_MNB_tfidf = precision_score(y_test, y_pred, average='micro')\n",
    "print('{:.4f}'.format(precision_clf_MNB_tfidf))\n",
    "recall_clf_MNB_tfidf = recall_score(y_test, y_pred, average='micro')\n",
    "print('{:.4f}'.format(recall_clf_MNB_tfidf))\n",
    "f1_score_clf_MNB_tfidf = f1_score(y_test, y_pred, average='micro')\n",
    "print('{:.4f}'.format(f1_score_clf_MNB_tfidf))"
   ]
  },
  {
   "cell_type": "code",
   "execution_count": null,
   "metadata": {
    "id": "7KgY6a8qIpPN"
   },
   "outputs": [],
   "source": [
    "# Using Count vectoriser \n",
    "clf_MNB = MultinomialNB()\n",
    "clf_MNB.fit(X_train_cv, y_train)\n",
    "y_pred = clf_MNB.predict(X_test_cv) "
   ]
  },
  {
   "cell_type": "code",
   "execution_count": null,
   "metadata": {
    "colab": {
     "base_uri": "https://localhost:8080/"
    },
    "id": "sBZ5w8x6Ohj1",
    "outputId": "0f8ce735-8ea9-420a-ee01-0b84ff3bc53d"
   },
   "outputs": [
    {
     "name": "stdout",
     "output_type": "stream",
     "text": [
      "0.6277\n",
      "0.6277\n",
      "0.6277\n"
     ]
    }
   ],
   "source": [
    "# Performance Metrics \n",
    "precision_clf_MNB_cv = precision_score(y_test, y_pred, average='micro')\n",
    "print('{:.4f}'.format(precision_clf_MNB_cv))\n",
    "recall_clf_MNB_cv = recall_score(y_test, y_pred, average='micro')   \n",
    "print('{:.4f}'.format(recall_clf_MNB_cv))\n",
    "f1_score_clf_MNB_cv = f1_score(y_test, y_pred, average='micro')\n",
    "print('{:.4f}'.format(f1_score_clf_MNB_cv))"
   ]
  },
  {
   "cell_type": "code",
   "execution_count": null,
   "metadata": {
    "id": "EEx2n-_SZIA2"
   },
   "outputs": [],
   "source": [
    "# Observation\n",
    "#  Multinomial Naive Bayes model with Count Vectoriser yielded superior model oucomes. "
   ]
  },
  {
   "cell_type": "code",
   "execution_count": null,
   "metadata": {
    "colab": {
     "base_uri": "https://localhost:8080/"
    },
    "id": "xYbYiIaJiaqq",
    "outputId": "5eb19c67-993e-485e-efe0-e97a75759f6a"
   },
   "outputs": [
    {
     "name": "stdout",
     "output_type": "stream",
     "text": [
      "Looking in indexes: https://pypi.org/simple, https://us-python.pkg.dev/colab-wheels/public/simple/\n",
      "Requirement already satisfied: xgboost in /usr/local/lib/python3.7/dist-packages (0.90)\n",
      "Requirement already satisfied: scipy in /usr/local/lib/python3.7/dist-packages (from xgboost) (1.7.3)\n",
      "Requirement already satisfied: numpy in /usr/local/lib/python3.7/dist-packages (from xgboost) (1.21.6)\n"
     ]
    }
   ],
   "source": [
    "# XG Boost \n",
    "! pip install xgboost"
   ]
  },
  {
   "cell_type": "code",
   "execution_count": null,
   "metadata": {
    "id": "OQNak091hgNp"
   },
   "outputs": [],
   "source": [
    "# XG Boost \n",
    "# Using TF-IDF vectoriser \n",
    "import xgboost as xgb \n",
    "from xgboost import XGBClassifier \n",
    "xgb_model = XGBClassifier(tree_method = \"hist\", objective = 'multi:softprob', eval_metric = 'mlogloss', n_jobs=-1, verbose=True, random_state=7)\n",
    "xgb_model.fit(X_train_tfidf, y_train)\n",
    "y_pred = xgb_model.predict(X_test_tfidf)"
   ]
  },
  {
   "cell_type": "code",
   "execution_count": null,
   "metadata": {
    "colab": {
     "base_uri": "https://localhost:8080/"
    },
    "id": "09uTITqeA0zL",
    "outputId": "ceb3ed21-1d00-431c-c6b2-2ac9cb113c9b"
   },
   "outputs": [
    {
     "data": {
      "text/plain": [
       "{'base_score': 0.5,\n",
       " 'booster': 'gbtree',\n",
       " 'colsample_bylevel': 1,\n",
       " 'colsample_bynode': 1,\n",
       " 'colsample_bytree': 1,\n",
       " 'gamma': 0,\n",
       " 'learning_rate': 0.1,\n",
       " 'max_delta_step': 0,\n",
       " 'max_depth': 3,\n",
       " 'min_child_weight': 1,\n",
       " 'missing': None,\n",
       " 'n_estimators': 100,\n",
       " 'n_jobs': -1,\n",
       " 'nthread': None,\n",
       " 'objective': 'multi:softprob',\n",
       " 'random_state': 7,\n",
       " 'reg_alpha': 0,\n",
       " 'reg_lambda': 1,\n",
       " 'scale_pos_weight': 1,\n",
       " 'seed': None,\n",
       " 'silent': None,\n",
       " 'subsample': 1,\n",
       " 'verbosity': 1,\n",
       " 'tree_method': 'hist',\n",
       " 'eval_metric': 'mlogloss',\n",
       " 'verbose': True}"
      ]
     },
     "execution_count": 120,
     "metadata": {},
     "output_type": "execute_result"
    }
   ],
   "source": [
    "xgb_model.get_params()"
   ]
  },
  {
   "cell_type": "code",
   "execution_count": null,
   "metadata": {
    "colab": {
     "base_uri": "https://localhost:8080/"
    },
    "id": "Lgz_2wOzOhpd",
    "outputId": "5640c137-e99c-48cf-9200-fddc6a32c514"
   },
   "outputs": [
    {
     "name": "stdout",
     "output_type": "stream",
     "text": [
      "0.7323\n",
      "0.7323\n",
      "0.7323\n"
     ]
    }
   ],
   "source": [
    "# Performance Metrics \n",
    "precision_xgb_model_tfidf = precision_score(y_test, y_pred, average='micro')\n",
    "print('{:.4f}'.format(precision_xgb_model_tfidf))\n",
    "recall_xgb_model_tfidf = recall_score(y_test, y_pred, average='micro')\n",
    "print('{:.4f}'.format(recall_xgb_model_tfidf))\n",
    "f1_score_xgb_model_tfidf = f1_score(y_test, y_pred, average='micro')\n",
    "print('{:.4f}'.format(f1_score_xgb_model_tfidf))"
   ]
  },
  {
   "cell_type": "code",
   "execution_count": null,
   "metadata": {
    "id": "WZwj8JYR_9Xn"
   },
   "outputs": [],
   "source": [
    "# XG Boost \n",
    "# Using Count vectoriser \n",
    "xgb_model = XGBClassifier(tree_method = \"hist\", objective= 'multi:softprob', eval_metric = 'mlogloss', n_jobs=-1, verbose=True, random_state=7)\n",
    "xgb_model.fit(X_train_cv, y_train)\n",
    "y_pred = xgb_model.predict(X_test_cv) "
   ]
  },
  {
   "cell_type": "code",
   "execution_count": null,
   "metadata": {
    "colab": {
     "base_uri": "https://localhost:8080/"
    },
    "id": "m-D_t7N7v_Q4",
    "outputId": "3c5317d6-4127-4c60-d963-530b6748cdff"
   },
   "outputs": [
    {
     "name": "stdout",
     "output_type": "stream",
     "text": [
      "0.7110\n",
      "0.7110\n",
      "0.7110\n"
     ]
    }
   ],
   "source": [
    "# Performance Metrics \n",
    "precision_xgb_model_cv = precision_score(y_test, y_pred, average='micro')\n",
    "print('{:.4f}'.format(precision_xgb_model_cv))\n",
    "recall_xgb_model_cv = recall_score(y_test, y_pred, average='micro')\n",
    "print('{:.4f}'.format(recall_xgb_model_cv))\n",
    "f1_score_xgb_model_cv = f1_score(y_test, y_pred, average='micro')\n",
    "print('{:.4f}'.format(f1_score_xgb_model_cv))"
   ]
  },
  {
   "cell_type": "code",
   "execution_count": null,
   "metadata": {
    "id": "ePeZ42A4FYui"
   },
   "outputs": [],
   "source": [
    "# Observation\n",
    "# XG-Boost model with TF-IDF vectorizer produced better model outcomes. "
   ]
  },
  {
   "cell_type": "code",
   "execution_count": null,
   "metadata": {
    "colab": {
     "base_uri": "https://localhost:8080/"
    },
    "id": "552AGSoBJmEN",
    "outputId": "4f7ef39f-7e02-4b55-e7e0-9bb39b07076f"
   },
   "outputs": [
    {
     "name": "stderr",
     "output_type": "stream",
     "text": [
      "[Parallel(n_jobs=-1)]: Using backend ThreadingBackend with 8 concurrent workers.\n",
      "[Parallel(n_jobs=-1)]: Done  34 tasks      | elapsed:   24.4s\n",
      "[Parallel(n_jobs=-1)]: Done 100 out of 100 | elapsed:  1.1min finished\n",
      "[Parallel(n_jobs=8)]: Using backend ThreadingBackend with 8 concurrent workers.\n",
      "[Parallel(n_jobs=8)]: Done  34 tasks      | elapsed:    0.0s\n",
      "[Parallel(n_jobs=8)]: Done 100 out of 100 | elapsed:    0.1s finished\n"
     ]
    }
   ],
   "source": [
    "# Random Forest \n",
    "from sklearn.ensemble import RandomForestClassifier \n",
    "# Using TF-IDF vectoriser \n",
    "random_forest = RandomForestClassifier(n_jobs = -1, class_weight='balanced', verbose=True, random_state=7)\n",
    "random_forest.fit(X_train_tfidf, y_train)\n",
    "y_pred = random_forest.predict(X_test_tfidf)"
   ]
  },
  {
   "cell_type": "code",
   "execution_count": null,
   "metadata": {
    "colab": {
     "base_uri": "https://localhost:8080/"
    },
    "id": "S3YPExBIJmZ7",
    "outputId": "3dc2c5c1-b5bf-4c20-92af-87866d0d5e14"
   },
   "outputs": [
    {
     "name": "stdout",
     "output_type": "stream",
     "text": [
      "0.5603\n",
      "0.5603\n",
      "0.5603\n"
     ]
    }
   ],
   "source": [
    "# Performance Metrics \n",
    "precision_random_forest_tfidf = precision_score(y_test, y_pred, average='micro')\n",
    "print('{:.4f}'.format(precision_random_forest_tfidf)) \n",
    "recall_random_forest_tfidf = recall_score(y_test, y_pred, average='micro')\n",
    "print('{:.4f}'.format(recall_random_forest_tfidf))\n",
    "f1_score_random_forest_tfidf = f1_score(y_test, y_pred, average='micro')\n",
    "print('{:.4f}'.format(f1_score_random_forest_tfidf))"
   ]
  },
  {
   "cell_type": "code",
   "execution_count": null,
   "metadata": {
    "colab": {
     "base_uri": "https://localhost:8080/"
    },
    "id": "WU_V85shMWXf",
    "outputId": "85b587d3-f1c4-491f-8318-0daff6c6e977"
   },
   "outputs": [
    {
     "name": "stderr",
     "output_type": "stream",
     "text": [
      "[Parallel(n_jobs=-1)]: Using backend ThreadingBackend with 8 concurrent workers.\n",
      "[Parallel(n_jobs=-1)]: Done  34 tasks      | elapsed:   25.0s\n",
      "[Parallel(n_jobs=-1)]: Done 100 out of 100 | elapsed:  1.1min finished\n",
      "[Parallel(n_jobs=8)]: Using backend ThreadingBackend with 8 concurrent workers.\n",
      "[Parallel(n_jobs=8)]: Done  34 tasks      | elapsed:    0.0s\n",
      "[Parallel(n_jobs=8)]: Done 100 out of 100 | elapsed:    0.1s finished\n"
     ]
    }
   ],
   "source": [
    "# Random Forest \n",
    "from sklearn.ensemble import RandomForestClassifier \n",
    "# Using Count vectoriser \n",
    "random_forest = RandomForestClassifier(n_jobs = -1, class_weight='balanced', verbose=True, random_state=7)\n",
    "random_forest.fit(X_train_cv, y_train)\n",
    "y_pred = random_forest.predict(X_test_cv)"
   ]
  },
  {
   "cell_type": "code",
   "execution_count": null,
   "metadata": {
    "colab": {
     "base_uri": "https://localhost:8080/"
    },
    "id": "DNwOeT5IMWa8",
    "outputId": "bdef3561-f7bc-4213-e5b1-9af06f1412ca"
   },
   "outputs": [
    {
     "name": "stdout",
     "output_type": "stream",
     "text": [
      "0.5621\n",
      "0.5621\n",
      "0.5621\n"
     ]
    }
   ],
   "source": [
    "# Performance Metrics \n",
    "precision_random_forest_cv = precision_score(y_test, y_pred, average='micro')\n",
    "print('{:.4f}'.format(precision_random_forest_cv))\n",
    "recall_random_forest_cv = recall_score(y_test, y_pred, average='micro')\n",
    "print('{:.4f}'.format(recall_random_forest_cv))\n",
    "f1_score_random_forest_cv = f1_score(y_test, y_pred, average='micro')\n",
    "print('{:.4f}'.format(f1_score_random_forest_cv))"
   ]
  },
  {
   "cell_type": "code",
   "execution_count": null,
   "metadata": {
    "id": "zca8iCx7Jmdd"
   },
   "outputs": [],
   "source": [
    "# Observation\n",
    "# Random forest model with Count vectorizer and TF-IDF vectorizer generated identical model outcomes.  "
   ]
  },
  {
   "cell_type": "code",
   "execution_count": null,
   "metadata": {
    "id": "Sf-nzxJxNuGq"
   },
   "outputs": [],
   "source": [
    "# Neural Network \n",
    "import tensorflow as tf \n",
    "from keras.layers import  Dropout, Dense\n",
    "from keras.models import Sequential  \n",
    "from tensorflow.keras.layers import Activation\n",
    "from tensorflow.keras.utils import to_categorical    "
   ]
  },
  {
   "cell_type": "code",
   "execution_count": null,
   "metadata": {
    "colab": {
     "base_uri": "https://localhost:8080/",
     "height": 36
    },
    "id": "bx1RFxcmt_Ls",
    "outputId": "b43aa23d-726a-47e1-f626-116dd809123f"
   },
   "outputs": [
    {
     "data": {
      "application/vnd.google.colaboratory.intrinsic+json": {
       "type": "string"
      },
      "text/plain": [
       "'2.8.2'"
      ]
     },
     "execution_count": 131,
     "metadata": {},
     "output_type": "execute_result"
    }
   ],
   "source": [
    "tf.__version__"
   ]
  },
  {
   "cell_type": "code",
   "execution_count": null,
   "metadata": {
    "colab": {
     "base_uri": "https://localhost:8080/"
    },
    "id": "eaCKjrra3YEd",
    "outputId": "56651226-9754-466a-9730-095ebbf9bc48"
   },
   "outputs": [
    {
     "data": {
      "text/plain": [
       "15"
      ]
     },
     "execution_count": 132,
     "metadata": {},
     "output_type": "execute_result"
    }
   ],
   "source": [
    "np.max(y_train)"
   ]
  },
  {
   "cell_type": "code",
   "execution_count": null,
   "metadata": {
    "id": "6qJ5CBoZ3PUN"
   },
   "outputs": [],
   "source": [
    "num_classes = np.max(y_train) + 1\n",
    "y_train = to_categorical(y_train, num_classes)\n",
    "y_test = to_categorical(y_test, num_classes)"
   ]
  },
  {
   "cell_type": "code",
   "execution_count": null,
   "metadata": {
    "id": "1QI9xXtKduS7"
   },
   "outputs": [],
   "source": [
    "# Inputs\n",
    "# Using TF-IDF vectoriser \n",
    "# number of nodes\n",
    "node = 512 \n",
    "# number of  hidden layers \n",
    "nLayers = 4 \n",
    "# feature space of input  \n",
    "shape = X_train_tfidf.shape[1]"
   ]
  },
  {
   "cell_type": "code",
   "execution_count": null,
   "metadata": {
    "colab": {
     "base_uri": "https://localhost:8080/"
    },
    "id": "bvUYXDR6Z0J6",
    "outputId": "68c8d344-b874-4275-c3b0-d3648b2b6ec1"
   },
   "outputs": [
    {
     "name": "stdout",
     "output_type": "stream",
     "text": [
      "(2252, 175155) (2252, 16)\n"
     ]
    }
   ],
   "source": [
    "print(X_train_tfidf.shape, y_train.shape)"
   ]
  },
  {
   "cell_type": "code",
   "execution_count": null,
   "metadata": {
    "id": "JDoEd1Q_-XhO"
   },
   "outputs": [],
   "source": [
    "# Model architecture\n",
    "# Vectorizer = TFIDF  \n",
    "# Using Precision metric \n",
    "# Precision metric computes the precision of the predictions with respect to the labels.\n",
    "model = Sequential()\n",
    "tf.random.set_seed(7)\n",
    "model.add(Dense(512, input_shape = (X_train_tfidf.shape[1],))) \n",
    "model.add(Activation ('relu'))\n",
    "model.add(Dropout(0.5))\n",
    "model.add(Dense(512, input_shape = (X_train_tfidf.shape[1],))) \n",
    "model.add(Activation ('relu'))\n",
    "model.add(Dropout(0.5))\n",
    "model.add(Dense(num_classes))\n",
    "model.add(Activation('softmax'))\n",
    "adam = tf.keras.optimizers.Adam(learning_rate = 1e-4)\n",
    "model.compile(loss = 'categorical_crossentropy', optimizer = 'adam', metrics = ['Precision'])"
   ]
  },
  {
   "cell_type": "code",
   "execution_count": null,
   "metadata": {
    "colab": {
     "base_uri": "https://localhost:8080/"
    },
    "id": "VKhLQi-sOZTL",
    "outputId": "ffdfcb97-23a8-44eb-e3bc-7ce42cd0fc75"
   },
   "outputs": [
    {
     "name": "stdout",
     "output_type": "stream",
     "text": [
      "Epoch 1/30\n",
      "282/282 [==============================] - 38s 131ms/step - loss: 1.3460 - precision: 0.8177 - val_loss: 0.9899 - val_precision: 0.9121\n",
      "Epoch 2/30\n",
      "282/282 [==============================] - 40s 141ms/step - loss: 0.4945 - precision: 0.9728 - val_loss: 0.8825 - val_precision: 0.9257\n",
      "Epoch 3/30\n",
      "282/282 [==============================] - 39s 138ms/step - loss: 0.1791 - precision: 0.9915 - val_loss: 1.2779 - val_precision: 0.8728\n",
      "Epoch 4/30\n",
      "282/282 [==============================] - 38s 134ms/step - loss: 0.0867 - precision: 0.9954 - val_loss: 1.1086 - val_precision: 0.8910\n",
      "Epoch 5/30\n",
      "282/282 [==============================] - 37s 130ms/step - loss: 0.0447 - precision: 0.9991 - val_loss: 1.2594 - val_precision: 0.8491\n",
      "Epoch 6/30\n",
      "282/282 [==============================] - 37s 130ms/step - loss: 0.0246 - precision: 0.9991 - val_loss: 1.3720 - val_precision: 0.8356\n",
      "Epoch 7/30\n",
      "282/282 [==============================] - 37s 130ms/step - loss: 0.0182 - precision: 0.9991 - val_loss: 1.1951 - val_precision: 0.8191\n",
      "Epoch 8/30\n",
      "282/282 [==============================] - 37s 130ms/step - loss: 0.0130 - precision: 0.9996 - val_loss: 1.1039 - val_precision: 0.8741\n",
      "Epoch 9/30\n",
      "282/282 [==============================] - 37s 130ms/step - loss: 0.0087 - precision: 1.0000 - val_loss: 1.0292 - val_precision: 0.8649\n",
      "Epoch 10/30\n",
      "282/282 [==============================] - 37s 130ms/step - loss: 0.0058 - precision: 1.0000 - val_loss: 1.0614 - val_precision: 0.8578\n",
      "Epoch 11/30\n",
      "282/282 [==============================] - 37s 131ms/step - loss: 0.0056 - precision: 0.9996 - val_loss: 1.1548 - val_precision: 0.8197\n",
      "Epoch 12/30\n",
      "282/282 [==============================] - 37s 130ms/step - loss: 0.0040 - precision: 0.9987 - val_loss: 1.1245 - val_precision: 0.8321\n",
      "Epoch 13/30\n",
      "282/282 [==============================] - 37s 130ms/step - loss: 9.3536e-04 - precision: 1.0000 - val_loss: 1.0356 - val_precision: 0.8483\n",
      "Epoch 14/30\n",
      "282/282 [==============================] - 37s 130ms/step - loss: 8.0675e-04 - precision: 1.0000 - val_loss: 0.9930 - val_precision: 0.8539\n",
      "Epoch 15/30\n",
      "282/282 [==============================] - 37s 130ms/step - loss: 6.6982e-04 - precision: 1.0000 - val_loss: 1.0227 - val_precision: 0.8319\n",
      "Epoch 16/30\n",
      "282/282 [==============================] - 37s 130ms/step - loss: 0.0011 - precision: 0.9996 - val_loss: 1.0802 - val_precision: 0.8292\n",
      "Epoch 17/30\n",
      "282/282 [==============================] - 37s 131ms/step - loss: 3.3141e-04 - precision: 1.0000 - val_loss: 0.9803 - val_precision: 0.8458\n",
      "Epoch 18/30\n",
      "282/282 [==============================] - 37s 130ms/step - loss: 0.0015 - precision: 1.0000 - val_loss: 0.9892 - val_precision: 0.8399\n",
      "Epoch 19/30\n",
      "282/282 [==============================] - 37s 132ms/step - loss: 5.6192e-04 - precision: 1.0000 - val_loss: 1.1349 - val_precision: 0.8141\n",
      "Epoch 20/30\n",
      "282/282 [==============================] - 39s 139ms/step - loss: 2.1934e-04 - precision: 1.0000 - val_loss: 1.0241 - val_precision: 0.8251\n",
      "Epoch 21/30\n",
      "282/282 [==============================] - 39s 139ms/step - loss: 8.4206e-05 - precision: 1.0000 - val_loss: 0.9374 - val_precision: 0.8351\n",
      "Epoch 22/30\n",
      "282/282 [==============================] - 39s 138ms/step - loss: 8.5271e-05 - precision: 1.0000 - val_loss: 0.9235 - val_precision: 0.8368\n",
      "Epoch 23/30\n",
      "282/282 [==============================] - 39s 137ms/step - loss: 1.7930e-04 - precision: 1.0000 - val_loss: 1.0769 - val_precision: 0.8072\n",
      "Epoch 24/30\n",
      "282/282 [==============================] - 39s 137ms/step - loss: 1.1435e-04 - precision: 1.0000 - val_loss: 0.8210 - val_precision: 0.8489\n",
      "Epoch 25/30\n",
      "282/282 [==============================] - 39s 137ms/step - loss: 1.6206e-04 - precision: 1.0000 - val_loss: 0.8818 - val_precision: 0.8476\n",
      "Epoch 26/30\n",
      "282/282 [==============================] - 40s 141ms/step - loss: 5.4740e-05 - precision: 1.0000 - val_loss: 0.8802 - val_precision: 0.8482\n",
      "Epoch 27/30\n",
      "282/282 [==============================] - 40s 142ms/step - loss: 6.5103e-04 - precision: 1.0000 - val_loss: 0.8516 - val_precision: 0.8500\n",
      "Epoch 28/30\n",
      "282/282 [==============================] - 37s 131ms/step - loss: 9.5226e-05 - precision: 1.0000 - val_loss: 0.9327 - val_precision: 0.8280\n",
      "Epoch 29/30\n",
      "282/282 [==============================] - 37s 130ms/step - loss: 9.2116e-05 - precision: 1.0000 - val_loss: 0.8240 - val_precision: 0.8382\n",
      "Epoch 30/30\n",
      "282/282 [==============================] - 37s 131ms/step - loss: 3.6788e-05 - precision: 1.0000 - val_loss: 0.8284 - val_precision: 0.8135\n"
     ]
    }
   ],
   "source": [
    "history_tfidf_precision = model.fit(X_train_tfidf, y_train, validation_data=(X_test_tfidf, y_test), batch_size = 8, epochs = 30, verbose = 1)"
   ]
  },
  {
   "cell_type": "code",
   "execution_count": null,
   "metadata": {
    "colab": {
     "base_uri": "https://localhost:8080/"
    },
    "id": "dAN5HF11ir3C",
    "outputId": "c038086c-bfd6-4216-881b-436ccd93ec98"
   },
   "outputs": [
    {
     "name": "stdout",
     "output_type": "stream",
     "text": [
      "Evaluate on test data\n",
      "71/71 [==============================] - 2s 27ms/step - loss: 0.8284 - precision: 0.8135\n",
      "Test Precision: [0.828446626663208, 0.8135283589363098]\n"
     ]
    }
   ],
   "source": [
    "# Performance metric\n",
    "print(\"Evaluate on test data\")\n",
    "precision_NN_tfidf = model.evaluate(X_test_tfidf, y_test, batch_size=8)\n",
    "print(\"Test Precision:\", precision_NN_tfidf)"
   ]
  },
  {
   "cell_type": "code",
   "execution_count": null,
   "metadata": {
    "id": "CpDG6gLsfoXJ"
   },
   "outputs": [],
   "source": [
    "# Model architecture\n",
    "# Vectorizer = TFIDF  \n",
    "# Using Recall metric \n",
    "# Recall metric computes the recall of the predictions with respect to the labels.\n",
    "model = Sequential()\n",
    "tf.random.set_seed(7)\n",
    "model.add(Dense(512, input_shape = (X_train_tfidf.shape[1],))) \n",
    "model.add(Activation ('relu'))\n",
    "model.add(Dropout(0.5))\n",
    "model.add(Dense(512, input_shape = (X_train_tfidf.shape[1],))) \n",
    "model.add(Activation ('relu'))\n",
    "model.add(Dropout(0.5))\n",
    "model.add(Dense(num_classes))\n",
    "model.add(Activation('softmax'))\n",
    "adam = tf.keras.optimizers.Adam(learning_rate = 1e-4)\n",
    "model.compile(loss = 'categorical_crossentropy', optimizer = 'adam', metrics = ['Recall'])"
   ]
  },
  {
   "cell_type": "code",
   "execution_count": null,
   "metadata": {
    "colab": {
     "base_uri": "https://localhost:8080/"
    },
    "id": "rQsbKTHWeJmK",
    "outputId": "4ec31986-6a39-436d-afa6-63a05f79addd"
   },
   "outputs": [
    {
     "name": "stdout",
     "output_type": "stream",
     "text": [
      "Epoch 1/30\n",
      "282/282 [==============================] - 37s 130ms/step - loss: 1.3460 - recall: 0.4480 - val_loss: 0.9899 - val_recall: 0.5887\n",
      "Epoch 2/30\n",
      "282/282 [==============================] - 35s 124ms/step - loss: 0.4945 - recall: 0.7780 - val_loss: 0.8825 - val_recall: 0.6188\n",
      "Epoch 3/30\n",
      "282/282 [==============================] - 35s 124ms/step - loss: 0.1791 - recall: 0.9352 - val_loss: 1.2779 - val_recall: 0.5355\n",
      "Epoch 4/30\n",
      "282/282 [==============================] - 35s 124ms/step - loss: 0.0867 - recall: 0.9680 - val_loss: 1.1086 - val_recall: 0.5940\n",
      "Epoch 5/30\n",
      "282/282 [==============================] - 35s 124ms/step - loss: 0.0447 - recall: 0.9827 - val_loss: 1.2594 - val_recall: 0.5585\n",
      "Epoch 6/30\n",
      "282/282 [==============================] - 35s 123ms/step - loss: 0.0246 - recall: 0.9911 - val_loss: 1.3720 - val_recall: 0.5408\n",
      "Epoch 7/30\n",
      "282/282 [==============================] - 36s 129ms/step - loss: 0.0182 - recall: 0.9956 - val_loss: 1.1951 - val_recall: 0.5940\n",
      "Epoch 8/30\n",
      "282/282 [==============================] - 35s 125ms/step - loss: 0.0130 - recall: 0.9960 - val_loss: 1.1039 - val_recall: 0.6277\n",
      "Epoch 9/30\n",
      "282/282 [==============================] - 35s 124ms/step - loss: 0.0087 - recall: 0.9969 - val_loss: 1.0292 - val_recall: 0.6472\n",
      "Epoch 10/30\n",
      "282/282 [==============================] - 35s 125ms/step - loss: 0.0058 - recall: 0.9969 - val_loss: 1.0614 - val_recall: 0.6418\n",
      "Epoch 11/30\n",
      "282/282 [==============================] - 35s 126ms/step - loss: 0.0056 - recall: 0.9982 - val_loss: 1.1548 - val_recall: 0.6206\n",
      "Epoch 12/30\n",
      "282/282 [==============================] - 35s 125ms/step - loss: 0.0040 - recall: 0.9978 - val_loss: 1.1245 - val_recall: 0.6152\n",
      "Epoch 13/30\n",
      "282/282 [==============================] - 36s 128ms/step - loss: 9.3536e-04 - recall: 1.0000 - val_loss: 1.0356 - val_recall: 0.6543\n",
      "Epoch 14/30\n",
      "282/282 [==============================] - 39s 137ms/step - loss: 8.0675e-04 - recall: 1.0000 - val_loss: 0.9930 - val_recall: 0.6738\n",
      "Epoch 15/30\n",
      "282/282 [==============================] - 38s 137ms/step - loss: 6.6982e-04 - recall: 1.0000 - val_loss: 1.0227 - val_recall: 0.6667\n",
      "Epoch 16/30\n",
      "282/282 [==============================] - 41s 145ms/step - loss: 0.0011 - recall: 0.9991 - val_loss: 1.0802 - val_recall: 0.6543\n",
      "Epoch 17/30\n",
      "282/282 [==============================] - 42s 149ms/step - loss: 3.3141e-04 - recall: 1.0000 - val_loss: 0.9803 - val_recall: 0.6809\n",
      "Epoch 18/30\n",
      "282/282 [==============================] - 42s 148ms/step - loss: 0.0015 - recall: 0.9991 - val_loss: 0.9892 - val_recall: 0.6791\n",
      "Epoch 19/30\n",
      "282/282 [==============================] - 42s 150ms/step - loss: 5.6192e-04 - recall: 1.0000 - val_loss: 1.1349 - val_recall: 0.6365\n",
      "Epoch 20/30\n",
      "282/282 [==============================] - 43s 153ms/step - loss: 2.1934e-04 - recall: 1.0000 - val_loss: 1.0241 - val_recall: 0.6773\n",
      "Epoch 21/30\n",
      "282/282 [==============================] - 36s 127ms/step - loss: 8.4206e-05 - recall: 1.0000 - val_loss: 0.9374 - val_recall: 0.7092\n",
      "Epoch 22/30\n",
      "282/282 [==============================] - 35s 125ms/step - loss: 8.5271e-05 - recall: 1.0000 - val_loss: 0.9235 - val_recall: 0.7181\n",
      "Epoch 23/30\n",
      "282/282 [==============================] - 35s 125ms/step - loss: 1.7930e-04 - recall: 1.0000 - val_loss: 1.0769 - val_recall: 0.6755\n",
      "Epoch 24/30\n",
      "282/282 [==============================] - 35s 125ms/step - loss: 1.1435e-04 - recall: 1.0000 - val_loss: 0.8210 - val_recall: 0.7571\n",
      "Epoch 25/30\n",
      "282/282 [==============================] - 35s 125ms/step - loss: 1.6206e-04 - recall: 1.0000 - val_loss: 0.8818 - val_recall: 0.7394\n",
      "Epoch 26/30\n",
      "282/282 [==============================] - 35s 124ms/step - loss: 5.4740e-05 - recall: 1.0000 - val_loss: 0.8802 - val_recall: 0.7429\n",
      "Epoch 27/30\n",
      "282/282 [==============================] - 35s 124ms/step - loss: 6.5103e-04 - recall: 0.9996 - val_loss: 0.8516 - val_recall: 0.7535\n",
      "Epoch 28/30\n",
      "282/282 [==============================] - 35s 124ms/step - loss: 9.5226e-05 - recall: 1.0000 - val_loss: 0.9327 - val_recall: 0.7340\n",
      "Epoch 29/30\n",
      "282/282 [==============================] - 35s 125ms/step - loss: 9.2116e-05 - recall: 1.0000 - val_loss: 0.8240 - val_recall: 0.7624\n",
      "Epoch 30/30\n",
      "282/282 [==============================] - 35s 125ms/step - loss: 3.6788e-05 - recall: 1.0000 - val_loss: 0.8284 - val_recall: 0.7890\n"
     ]
    }
   ],
   "source": [
    "history_tfidf_recall = model.fit(X_train_tfidf, y_train, validation_data=(X_test_tfidf, y_test), batch_size = 8, epochs = 30, verbose = 1)"
   ]
  },
  {
   "cell_type": "code",
   "execution_count": null,
   "metadata": {
    "colab": {
     "base_uri": "https://localhost:8080/"
    },
    "id": "ZPThVzCAqrHM",
    "outputId": "04a20738-e646-4911-d588-327fea654fda"
   },
   "outputs": [
    {
     "name": "stdout",
     "output_type": "stream",
     "text": [
      "Evaluate on test data\n",
      "71/71 [==============================] - 2s 26ms/step - loss: 0.8284 - recall: 0.7890\n",
      "Test Recall: [0.828446626663208, 0.7890070676803589]\n"
     ]
    }
   ],
   "source": [
    "# Performance metric \n",
    "print(\"Evaluate on test data\")\n",
    "recall_NN_tfidf = model.evaluate(X_test_tfidf, y_test, batch_size=8)\n",
    "print(\"Test Recall:\", recall_NN_tfidf)"
   ]
  },
  {
   "cell_type": "code",
   "execution_count": null,
   "metadata": {
    "id": "mkChpJqJeJoG"
   },
   "outputs": [],
   "source": [
    "# Model architecture\n",
    "# Vectorizer = Count vectorizer \n",
    "# Using Precision metric \n",
    "# Precision metric computes the precision of the predictions with respect to the labels.\n",
    "model = Sequential()\n",
    "tf.random.set_seed(7)\n",
    "model.add(Dense(512, input_shape = (X_train_cv.shape[1],))) \n",
    "model.add(Activation ('relu'))\n",
    "model.add(Dropout(0.5))\n",
    "model.add(Dense(512, input_shape = (X_train_cv.shape[1],))) \n",
    "model.add(Activation ('relu'))\n",
    "model.add(Dropout(0.5))\n",
    "model.add(Dense(num_classes))\n",
    "model.add(Activation('softmax'))\n",
    "adam = tf.keras.optimizers.Adam(learning_rate = 1e-4)\n",
    "model.compile(loss = 'categorical_crossentropy', optimizer = 'adam', metrics = ['Precision'])"
   ]
  },
  {
   "cell_type": "code",
   "execution_count": null,
   "metadata": {
    "colab": {
     "base_uri": "https://localhost:8080/"
    },
    "id": "H8NvmVH5bQ9a",
    "outputId": "13132c94-d9cd-4e4e-832f-1d1e1bfc012f"
   },
   "outputs": [
    {
     "name": "stdout",
     "output_type": "stream",
     "text": [
      "Epoch 1/30\n",
      "282/282 [==============================] - 37s 129ms/step - loss: 1.2548 - precision: 0.8376 - val_loss: 0.7502 - val_precision: 0.8821\n",
      "Epoch 2/30\n",
      "282/282 [==============================] - 36s 129ms/step - loss: 0.3495 - precision: 0.9492 - val_loss: 0.6723 - val_precision: 0.8938\n",
      "Epoch 3/30\n",
      "282/282 [==============================] - 37s 131ms/step - loss: 0.1771 - precision: 0.9788 - val_loss: 0.6897 - val_precision: 0.9180\n",
      "Epoch 4/30\n",
      "282/282 [==============================] - 42s 149ms/step - loss: 0.1331 - precision: 0.9835 - val_loss: 0.7461 - val_precision: 0.9137\n",
      "Epoch 5/30\n",
      "282/282 [==============================] - 43s 154ms/step - loss: 0.2015 - precision: 0.9902 - val_loss: 0.8752 - val_precision: 0.9093\n",
      "Epoch 6/30\n",
      "282/282 [==============================] - 43s 151ms/step - loss: 0.1010 - precision: 0.9871 - val_loss: 0.9910 - val_precision: 0.8584\n",
      "Epoch 7/30\n",
      "282/282 [==============================] - 44s 155ms/step - loss: 0.0577 - precision: 0.9924 - val_loss: 1.0137 - val_precision: 0.8608\n",
      "Epoch 8/30\n",
      "282/282 [==============================] - 43s 152ms/step - loss: 0.0196 - precision: 0.9947 - val_loss: 1.0458 - val_precision: 0.8530\n",
      "Epoch 9/30\n",
      "282/282 [==============================] - 41s 145ms/step - loss: 0.0951 - precision: 0.9902 - val_loss: 1.9870 - val_precision: 0.7059\n",
      "Epoch 10/30\n",
      "282/282 [==============================] - 42s 148ms/step - loss: 0.0492 - precision: 0.9942 - val_loss: 0.9787 - val_precision: 0.8228\n",
      "Epoch 11/30\n",
      "282/282 [==============================] - 38s 135ms/step - loss: 0.1057 - precision: 0.9920 - val_loss: 0.9399 - val_precision: 0.8607\n",
      "Epoch 12/30\n",
      "282/282 [==============================] - 43s 152ms/step - loss: 0.0219 - precision: 0.9973 - val_loss: 1.1532 - val_precision: 0.8273\n",
      "Epoch 13/30\n",
      "282/282 [==============================] - 42s 147ms/step - loss: 0.1139 - precision: 0.9925 - val_loss: 1.0763 - val_precision: 0.7900\n",
      "Epoch 14/30\n",
      "282/282 [==============================] - 42s 147ms/step - loss: 0.0805 - precision: 0.9938 - val_loss: 1.3465 - val_precision: 0.7956\n",
      "Epoch 15/30\n",
      "282/282 [==============================] - 40s 140ms/step - loss: 0.0489 - precision: 0.9951 - val_loss: 1.6646 - val_precision: 0.7910\n",
      "Epoch 16/30\n",
      "282/282 [==============================] - 39s 137ms/step - loss: 0.0815 - precision: 0.9938 - val_loss: 1.2390 - val_precision: 0.8212\n",
      "Epoch 17/30\n",
      "282/282 [==============================] - 39s 137ms/step - loss: 0.1088 - precision: 0.9938 - val_loss: 1.6738 - val_precision: 0.7634\n",
      "Epoch 18/30\n",
      "282/282 [==============================] - 39s 137ms/step - loss: 0.0474 - precision: 0.9960 - val_loss: 2.1268 - val_precision: 0.7481\n",
      "Epoch 19/30\n",
      "282/282 [==============================] - 39s 140ms/step - loss: 0.0746 - precision: 0.9964 - val_loss: 1.4163 - val_precision: 0.8046\n",
      "Epoch 20/30\n",
      "282/282 [==============================] - 45s 158ms/step - loss: 0.0138 - precision: 0.9973 - val_loss: 1.5068 - val_precision: 0.7922\n",
      "Epoch 21/30\n",
      "282/282 [==============================] - 44s 158ms/step - loss: 0.0458 - precision: 0.9951 - val_loss: 1.4013 - val_precision: 0.8089\n",
      "Epoch 22/30\n",
      "282/282 [==============================] - 43s 152ms/step - loss: 0.0283 - precision: 0.9987 - val_loss: 1.4014 - val_precision: 0.7942\n",
      "Epoch 23/30\n",
      "282/282 [==============================] - 42s 150ms/step - loss: 0.0368 - precision: 0.9969 - val_loss: 1.3872 - val_precision: 0.8142\n",
      "Epoch 24/30\n",
      "282/282 [==============================] - 41s 145ms/step - loss: 0.0620 - precision: 0.9956 - val_loss: 2.2034 - val_precision: 0.7085\n",
      "Epoch 25/30\n",
      "282/282 [==============================] - 38s 135ms/step - loss: 0.0356 - precision: 0.9973 - val_loss: 1.6476 - val_precision: 0.7746\n",
      "Epoch 26/30\n",
      "282/282 [==============================] - 42s 148ms/step - loss: 0.0343 - precision: 0.9956 - val_loss: 2.5309 - val_precision: 0.7119\n",
      "Epoch 27/30\n",
      "282/282 [==============================] - 44s 155ms/step - loss: 0.0282 - precision: 0.9973 - val_loss: 2.4130 - val_precision: 0.7443\n",
      "Epoch 28/30\n",
      "282/282 [==============================] - 42s 149ms/step - loss: 0.0585 - precision: 0.9969 - val_loss: 2.2977 - val_precision: 0.7332\n",
      "Epoch 29/30\n",
      "282/282 [==============================] - 43s 152ms/step - loss: 0.0260 - precision: 0.9978 - val_loss: 2.2723 - val_precision: 0.7672\n",
      "Epoch 30/30\n",
      "282/282 [==============================] - 47s 167ms/step - loss: 0.1156 - precision: 0.9942 - val_loss: 1.7380 - val_precision: 0.7623\n"
     ]
    }
   ],
   "source": [
    "history_cv_precision = model.fit(X_train_cv, y_train, validation_data=(X_test_cv, y_test), batch_size = 8, epochs = 30, verbose = 1)"
   ]
  },
  {
   "cell_type": "code",
   "execution_count": null,
   "metadata": {
    "colab": {
     "base_uri": "https://localhost:8080/"
    },
    "id": "Y3q7_XR0nYu_",
    "outputId": "6dc3710d-816f-489f-eb15-4d6ee2e40adb"
   },
   "outputs": [
    {
     "name": "stdout",
     "output_type": "stream",
     "text": [
      "Evaluate on test data\n",
      "71/71 [==============================] - 3s 41ms/step - loss: 1.7380 - precision: 0.7623\n",
      "Test Precision: [1.738016128540039, 0.7622641324996948]\n"
     ]
    }
   ],
   "source": [
    "# Performance metric\n",
    "print(\"Evaluate on test data\")\n",
    "precision_NN_cv = model.evaluate(X_test_cv, y_test, batch_size=8)\n",
    "print(\"Test Precision:\", precision_NN_cv)"
   ]
  },
  {
   "cell_type": "code",
   "execution_count": null,
   "metadata": {
    "id": "Erkngp84hpZg"
   },
   "outputs": [],
   "source": [
    "# Model architecture\n",
    "# Vectorizer = Count vectorizer   \n",
    "# Using Recall metric \n",
    "# Recall metric computes the recall of the predictions with respect to the labels.\n",
    "model = Sequential()\n",
    "tf.random.set_seed(7)\n",
    "model.add(Dense(512, input_shape = (X_train_cv.shape[1],))) \n",
    "model.add(Activation ('relu'))\n",
    "model.add(Dropout(0.5))\n",
    "model.add(Dense(512, input_shape = (X_train_cv.shape[1],))) \n",
    "model.add(Activation ('relu'))\n",
    "model.add(Dropout(0.5))\n",
    "model.add(Dense(num_classes))\n",
    "model.add(Activation('softmax'))\n",
    "adam = tf.keras.optimizers.Adam(learning_rate = 1e-4)\n",
    "model.compile(loss = 'categorical_crossentropy', optimizer = 'adam', metrics = ['Recall'])"
   ]
  },
  {
   "cell_type": "code",
   "execution_count": null,
   "metadata": {
    "colab": {
     "base_uri": "https://localhost:8080/"
    },
    "id": "nVoMsY5UfIpf",
    "outputId": "84126843-3a9b-47d0-f44f-60d94f635c04"
   },
   "outputs": [
    {
     "name": "stdout",
     "output_type": "stream",
     "text": [
      "Epoch 1/30\n",
      "282/282 [==============================] - 42s 145ms/step - loss: 1.2548 - recall: 0.4969 - val_loss: 0.7502 - val_recall: 0.6897\n",
      "Epoch 2/30\n",
      "282/282 [==============================] - 40s 143ms/step - loss: 0.3495 - recall: 0.8885 - val_loss: 0.6723 - val_recall: 0.7163\n",
      "Epoch 3/30\n",
      "282/282 [==============================] - 39s 138ms/step - loss: 0.1771 - recall: 0.9618 - val_loss: 0.6897 - val_recall: 0.6950\n",
      "Epoch 4/30\n",
      "282/282 [==============================] - 39s 139ms/step - loss: 0.1331 - recall: 0.9778 - val_loss: 0.7461 - val_recall: 0.6755\n",
      "Epoch 5/30\n",
      "282/282 [==============================] - 40s 143ms/step - loss: 0.2015 - recall: 0.9858 - val_loss: 0.8752 - val_recall: 0.6578\n",
      "Epoch 6/30\n",
      "282/282 [==============================] - 36s 129ms/step - loss: 0.1010 - recall: 0.9849 - val_loss: 0.9910 - val_recall: 0.6879\n",
      "Epoch 7/30\n",
      "282/282 [==============================] - 37s 130ms/step - loss: 0.0577 - recall: 0.9907 - val_loss: 1.0137 - val_recall: 0.6578\n",
      "Epoch 8/30\n",
      "282/282 [==============================] - 37s 130ms/step - loss: 0.0196 - recall: 0.9933 - val_loss: 1.0458 - val_recall: 0.6277\n",
      "Epoch 9/30\n",
      "282/282 [==============================] - 37s 131ms/step - loss: 0.0951 - recall: 0.9898 - val_loss: 1.9870 - val_recall: 0.5957\n",
      "Epoch 10/30\n",
      "282/282 [==============================] - 39s 137ms/step - loss: 0.0492 - recall: 0.9925 - val_loss: 0.9787 - val_recall: 0.7411\n",
      "Epoch 11/30\n",
      "282/282 [==============================] - 44s 157ms/step - loss: 0.1057 - recall: 0.9920 - val_loss: 0.9399 - val_recall: 0.7447\n",
      "Epoch 12/30\n",
      "282/282 [==============================] - 43s 153ms/step - loss: 0.0219 - recall: 0.9969 - val_loss: 1.1532 - val_recall: 0.7305\n",
      "Epoch 13/30\n",
      "282/282 [==============================] - 44s 155ms/step - loss: 0.1139 - recall: 0.9925 - val_loss: 1.0763 - val_recall: 0.7270\n",
      "Epoch 14/30\n",
      "282/282 [==============================] - 43s 154ms/step - loss: 0.0805 - recall: 0.9938 - val_loss: 1.3465 - val_recall: 0.7110\n",
      "Epoch 15/30\n",
      "282/282 [==============================] - 40s 143ms/step - loss: 0.0489 - recall: 0.9947 - val_loss: 1.6646 - val_recall: 0.6844\n",
      "Epoch 16/30\n",
      "282/282 [==============================] - 36s 128ms/step - loss: 0.0815 - recall: 0.9938 - val_loss: 1.2390 - val_recall: 0.7004\n",
      "Epoch 17/30\n",
      "282/282 [==============================] - 36s 128ms/step - loss: 0.1088 - recall: 0.9933 - val_loss: 1.6738 - val_recall: 0.7092\n",
      "Epoch 18/30\n",
      "282/282 [==============================] - 36s 128ms/step - loss: 0.0474 - recall: 0.9960 - val_loss: 2.1268 - val_recall: 0.7110\n",
      "Epoch 19/30\n",
      "282/282 [==============================] - 36s 128ms/step - loss: 0.0746 - recall: 0.9964 - val_loss: 1.4163 - val_recall: 0.7376\n",
      "Epoch 20/30\n",
      "282/282 [==============================] - 36s 128ms/step - loss: 0.0138 - recall: 0.9973 - val_loss: 1.5068 - val_recall: 0.7234\n",
      "Epoch 21/30\n",
      "282/282 [==============================] - 36s 128ms/step - loss: 0.0458 - recall: 0.9947 - val_loss: 1.4013 - val_recall: 0.7128\n",
      "Epoch 22/30\n",
      "282/282 [==============================] - 36s 128ms/step - loss: 0.0283 - recall: 0.9987 - val_loss: 1.4014 - val_recall: 0.7252\n",
      "Epoch 23/30\n",
      "282/282 [==============================] - 36s 128ms/step - loss: 0.0368 - recall: 0.9969 - val_loss: 1.3872 - val_recall: 0.7535\n",
      "Epoch 24/30\n",
      "282/282 [==============================] - 36s 128ms/step - loss: 0.0620 - recall: 0.9951 - val_loss: 2.2034 - val_recall: 0.6507\n",
      "Epoch 25/30\n",
      "282/282 [==============================] - 36s 128ms/step - loss: 0.0356 - recall: 0.9973 - val_loss: 1.6476 - val_recall: 0.7128\n",
      "Epoch 26/30\n",
      "282/282 [==============================] - 36s 128ms/step - loss: 0.0343 - recall: 0.9951 - val_loss: 2.5309 - val_recall: 0.6702\n",
      "Epoch 27/30\n",
      "282/282 [==============================] - 36s 128ms/step - loss: 0.0282 - recall: 0.9973 - val_loss: 2.4130 - val_recall: 0.6915\n",
      "Epoch 28/30\n",
      "282/282 [==============================] - 36s 128ms/step - loss: 0.0585 - recall: 0.9969 - val_loss: 2.2977 - val_recall: 0.7163\n",
      "Epoch 29/30\n",
      "282/282 [==============================] - 36s 128ms/step - loss: 0.0260 - recall: 0.9973 - val_loss: 2.2723 - val_recall: 0.7305\n",
      "Epoch 30/30\n",
      "282/282 [==============================] - 36s 128ms/step - loss: 0.1156 - recall: 0.9942 - val_loss: 1.7380 - val_recall: 0.7163\n"
     ]
    }
   ],
   "source": [
    "history_cv_recall = model.fit(X_train_cv, y_train, validation_data=(X_test_cv, y_test), batch_size = 8, epochs = 30, verbose = 1)"
   ]
  },
  {
   "cell_type": "code",
   "execution_count": null,
   "metadata": {
    "colab": {
     "base_uri": "https://localhost:8080/"
    },
    "id": "lFSGsqV9vB-b",
    "outputId": "a634fabc-c882-43ec-e941-a925d9fc892a"
   },
   "outputs": [
    {
     "name": "stdout",
     "output_type": "stream",
     "text": [
      "Evaluate on test data\n",
      "71/71 [==============================] - 2s 28ms/step - loss: 1.7380 - recall: 0.7163\n",
      "Test Recall: [1.738016128540039, 0.716312050819397]\n"
     ]
    }
   ],
   "source": [
    "# Performance metric \n",
    "print(\"Evaluate on test data\")\n",
    "recall_NN_cv = model.evaluate(X_test_cv, y_test, batch_size=8)\n",
    "print(\"Test Recall:\", recall_NN_cv)"
   ]
  },
  {
   "cell_type": "code",
   "execution_count": null,
   "metadata": {
    "id": "SUTORLR9UyXG"
   },
   "outputs": [],
   "source": [
    "# Observation \n",
    "# Neural Network model with TF-IDF vectorizer generated superior model outcomes. "
   ]
  },
  {
   "cell_type": "code",
   "execution_count": null,
   "metadata": {
    "colab": {
     "base_uri": "https://localhost:8080/",
     "height": 313
    },
    "id": "06J7xrdbxR4i",
    "outputId": "1c4b49c3-9e47-4cff-f283-814fc253d772"
   },
   "outputs": [
    {
     "data": {
      "text/html": [
       "\n",
       "  <div id=\"df-3a8df69e-600d-4f47-9a7a-928f30d22ea9\">\n",
       "    <div class=\"colab-df-container\">\n",
       "      <div>\n",
       "<style scoped>\n",
       "    .dataframe tbody tr th:only-of-type {\n",
       "        vertical-align: middle;\n",
       "    }\n",
       "\n",
       "    .dataframe tbody tr th {\n",
       "        vertical-align: top;\n",
       "    }\n",
       "\n",
       "    .dataframe thead th {\n",
       "        text-align: right;\n",
       "    }\n",
       "</style>\n",
       "<table border=\"1\" class=\"dataframe\">\n",
       "  <thead>\n",
       "    <tr style=\"text-align: right;\">\n",
       "      <th></th>\n",
       "      <th>Model</th>\n",
       "      <th>Precision_tfidf</th>\n",
       "      <th>Precision_cv</th>\n",
       "      <th>Recall_tfidf</th>\n",
       "      <th>Recall_cv</th>\n",
       "    </tr>\n",
       "  </thead>\n",
       "  <tbody>\n",
       "    <tr>\n",
       "      <th>0</th>\n",
       "      <td>Logistic Regression</td>\n",
       "      <td>0.780142</td>\n",
       "      <td>0.760638</td>\n",
       "      <td>0.780142</td>\n",
       "      <td>0.760638</td>\n",
       "    </tr>\n",
       "    <tr>\n",
       "      <th>1</th>\n",
       "      <td>K-Nearest Neighbours</td>\n",
       "      <td>0.652482</td>\n",
       "      <td>0.533688</td>\n",
       "      <td>0.652482</td>\n",
       "      <td>0.533688</td>\n",
       "    </tr>\n",
       "    <tr>\n",
       "      <th>2</th>\n",
       "      <td>Linear Support Vector Classifier</td>\n",
       "      <td>0.81383</td>\n",
       "      <td>0.698582</td>\n",
       "      <td>0.81383</td>\n",
       "      <td>0.698582</td>\n",
       "    </tr>\n",
       "    <tr>\n",
       "      <th>3</th>\n",
       "      <td>Multinomial Naive Bayes</td>\n",
       "      <td>0.510638</td>\n",
       "      <td>0.62766</td>\n",
       "      <td>0.510638</td>\n",
       "      <td>0.62766</td>\n",
       "    </tr>\n",
       "    <tr>\n",
       "      <th>4</th>\n",
       "      <td>XG Boost</td>\n",
       "      <td>0.73227</td>\n",
       "      <td>0.710993</td>\n",
       "      <td>0.73227</td>\n",
       "      <td>0.710993</td>\n",
       "    </tr>\n",
       "    <tr>\n",
       "      <th>5</th>\n",
       "      <td>Random Forest</td>\n",
       "      <td>0.560284</td>\n",
       "      <td>0.562057</td>\n",
       "      <td>0.560284</td>\n",
       "      <td>0.562057</td>\n",
       "    </tr>\n",
       "    <tr>\n",
       "      <th>6</th>\n",
       "      <td>Neural Network</td>\n",
       "      <td>[0.828446626663208, 0.8135283589363098]</td>\n",
       "      <td>[1.738016128540039, 0.7622641324996948]</td>\n",
       "      <td>[0.828446626663208, 0.7890070676803589]</td>\n",
       "      <td>[1.738016128540039, 0.716312050819397]</td>\n",
       "    </tr>\n",
       "  </tbody>\n",
       "</table>\n",
       "</div>\n",
       "      <button class=\"colab-df-convert\" onclick=\"convertToInteractive('df-3a8df69e-600d-4f47-9a7a-928f30d22ea9')\"\n",
       "              title=\"Convert this dataframe to an interactive table.\"\n",
       "              style=\"display:none;\">\n",
       "        \n",
       "  <svg xmlns=\"http://www.w3.org/2000/svg\" height=\"24px\"viewBox=\"0 0 24 24\"\n",
       "       width=\"24px\">\n",
       "    <path d=\"M0 0h24v24H0V0z\" fill=\"none\"/>\n",
       "    <path d=\"M18.56 5.44l.94 2.06.94-2.06 2.06-.94-2.06-.94-.94-2.06-.94 2.06-2.06.94zm-11 1L8.5 8.5l.94-2.06 2.06-.94-2.06-.94L8.5 2.5l-.94 2.06-2.06.94zm10 10l.94 2.06.94-2.06 2.06-.94-2.06-.94-.94-2.06-.94 2.06-2.06.94z\"/><path d=\"M17.41 7.96l-1.37-1.37c-.4-.4-.92-.59-1.43-.59-.52 0-1.04.2-1.43.59L10.3 9.45l-7.72 7.72c-.78.78-.78 2.05 0 2.83L4 21.41c.39.39.9.59 1.41.59.51 0 1.02-.2 1.41-.59l7.78-7.78 2.81-2.81c.8-.78.8-2.07 0-2.86zM5.41 20L4 18.59l7.72-7.72 1.47 1.35L5.41 20z\"/>\n",
       "  </svg>\n",
       "      </button>\n",
       "      \n",
       "  <style>\n",
       "    .colab-df-container {\n",
       "      display:flex;\n",
       "      flex-wrap:wrap;\n",
       "      gap: 12px;\n",
       "    }\n",
       "\n",
       "    .colab-df-convert {\n",
       "      background-color: #E8F0FE;\n",
       "      border: none;\n",
       "      border-radius: 50%;\n",
       "      cursor: pointer;\n",
       "      display: none;\n",
       "      fill: #1967D2;\n",
       "      height: 32px;\n",
       "      padding: 0 0 0 0;\n",
       "      width: 32px;\n",
       "    }\n",
       "\n",
       "    .colab-df-convert:hover {\n",
       "      background-color: #E2EBFA;\n",
       "      box-shadow: 0px 1px 2px rgba(60, 64, 67, 0.3), 0px 1px 3px 1px rgba(60, 64, 67, 0.15);\n",
       "      fill: #174EA6;\n",
       "    }\n",
       "\n",
       "    [theme=dark] .colab-df-convert {\n",
       "      background-color: #3B4455;\n",
       "      fill: #D2E3FC;\n",
       "    }\n",
       "\n",
       "    [theme=dark] .colab-df-convert:hover {\n",
       "      background-color: #434B5C;\n",
       "      box-shadow: 0px 1px 3px 1px rgba(0, 0, 0, 0.15);\n",
       "      filter: drop-shadow(0px 1px 2px rgba(0, 0, 0, 0.3));\n",
       "      fill: #FFFFFF;\n",
       "    }\n",
       "  </style>\n",
       "\n",
       "      <script>\n",
       "        const buttonEl =\n",
       "          document.querySelector('#df-3a8df69e-600d-4f47-9a7a-928f30d22ea9 button.colab-df-convert');\n",
       "        buttonEl.style.display =\n",
       "          google.colab.kernel.accessAllowed ? 'block' : 'none';\n",
       "\n",
       "        async function convertToInteractive(key) {\n",
       "          const element = document.querySelector('#df-3a8df69e-600d-4f47-9a7a-928f30d22ea9');\n",
       "          const dataTable =\n",
       "            await google.colab.kernel.invokeFunction('convertToInteractive',\n",
       "                                                     [key], {});\n",
       "          if (!dataTable) return;\n",
       "\n",
       "          const docLinkHtml = 'Like what you see? Visit the ' +\n",
       "            '<a target=\"_blank\" href=https://colab.research.google.com/notebooks/data_table.ipynb>data table notebook</a>'\n",
       "            + ' to learn more about interactive tables.';\n",
       "          element.innerHTML = '';\n",
       "          dataTable['output_type'] = 'display_data';\n",
       "          await google.colab.output.renderOutput(dataTable, element);\n",
       "          const docLink = document.createElement('div');\n",
       "          docLink.innerHTML = docLinkHtml;\n",
       "          element.appendChild(docLink);\n",
       "        }\n",
       "      </script>\n",
       "    </div>\n",
       "  </div>\n",
       "  "
      ],
      "text/plain": [
       "                              Model                          Precision_tfidf  \\\n",
       "0               Logistic Regression                                 0.780142   \n",
       "1              K-Nearest Neighbours                                 0.652482   \n",
       "2  Linear Support Vector Classifier                                  0.81383   \n",
       "3           Multinomial Naive Bayes                                 0.510638   \n",
       "4                          XG Boost                                  0.73227   \n",
       "5                     Random Forest                                 0.560284   \n",
       "6                    Neural Network  [0.828446626663208, 0.8135283589363098]   \n",
       "\n",
       "                              Precision_cv  \\\n",
       "0                                 0.760638   \n",
       "1                                 0.533688   \n",
       "2                                 0.698582   \n",
       "3                                  0.62766   \n",
       "4                                 0.710993   \n",
       "5                                 0.562057   \n",
       "6  [1.738016128540039, 0.7622641324996948]   \n",
       "\n",
       "                              Recall_tfidf  \\\n",
       "0                                 0.780142   \n",
       "1                                 0.652482   \n",
       "2                                  0.81383   \n",
       "3                                 0.510638   \n",
       "4                                  0.73227   \n",
       "5                                 0.560284   \n",
       "6  [0.828446626663208, 0.7890070676803589]   \n",
       "\n",
       "                                Recall_cv  \n",
       "0                                0.760638  \n",
       "1                                0.533688  \n",
       "2                                0.698582  \n",
       "3                                 0.62766  \n",
       "4                                0.710993  \n",
       "5                                0.562057  \n",
       "6  [1.738016128540039, 0.716312050819397]  "
      ]
     },
     "execution_count": 149,
     "metadata": {},
     "output_type": "execute_result"
    }
   ],
   "source": [
    "# Model outputs \n",
    "output = pd.DataFrame({'Model': ['Logistic Regression', 'K-Nearest Neighbours', \n",
    "                                  'Linear Support Vector Classifier','Multinomial Naive Bayes','XG Boost','Random Forest','Neural Network'], \n",
    "                       'Precision_tfidf': [precision_Logistic_tfidf, precision_KNN_tfidf, precision_LinearSVC_tfidf, precision_clf_MNB_tfidf,\n",
    "                                          precision_xgb_model_tfidf, precision_random_forest_tfidf, precision_NN_tfidf],\n",
    "                       'Precision_cv': [precision_Logistic_cv, precision_KNN_cv, precision_LinearSVC_cv, precision_clf_MNB_cv, precision_xgb_model_cv,\n",
    "                                        precision_random_forest_cv, precision_NN_cv],\n",
    "                       'Recall_tfidf': [recall_Logistic_tfidf, recall_KNN_tfidf, recall_LinearSVC_tfidf, recall_clf_MNB_tfidf, recall_xgb_model_tfidf, \n",
    "                                        recall_random_forest_tfidf, recall_NN_tfidf],\n",
    "                       'Recall_cv' : [recall_Logistic_cv, recall_KNN_cv, recall_LinearSVC_cv, recall_clf_MNB_cv, recall_xgb_model_cv, \n",
    "                                      recall_random_forest_cv, recall_NN_cv]})\n",
    "output"
   ]
  },
  {
   "cell_type": "code",
   "execution_count": null,
   "metadata": {
    "id": "OQmQjj4YWsJd"
   },
   "outputs": [],
   "source": [
    "# PS: In the case of NN, The 2nd numerical data within the parenthesis denotes model precision  "
   ]
  },
  {
   "cell_type": "code",
   "execution_count": null,
   "metadata": {
    "id": "MlRsANdO-bDO"
   },
   "outputs": [],
   "source": [
    "# Q4.C\n",
    "# Tune Parameters/Hyperparameters of the model/s."
   ]
  },
  {
   "cell_type": "code",
   "execution_count": null,
   "metadata": {
    "id": "AwIDaveENHv3"
   },
   "outputs": [],
   "source": [
    "# Solution\n",
    "# In terms of precision, the 2 best models that out-performed the other base models are \n",
    "#1. Linear SVC with TF-IDF vectorizer\n",
    "#2. Neural Network with TF-IDF vectorizer\n",
    "# We will do hyper-parameter tuning of the above models\n",
    "\n"
   ]
  },
  {
   "cell_type": "code",
   "execution_count": null,
   "metadata": {
    "id": "8e6E0hqfkrMK"
   },
   "outputs": [],
   "source": [
    "# Neural Network\n",
    "# Hyper-parameter tuning using Randomised Search CV  "
   ]
  },
  {
   "cell_type": "code",
   "execution_count": null,
   "metadata": {
    "id": "nfu8onQc6PYd"
   },
   "outputs": [],
   "source": [
    "# Architecture of the Neural Network model with TF-IDF vectorizer and Precision metric \n",
    "def define_model(learning_rate = 1e-4, optimizer = 'adam'):\n",
    "  model = Sequential()\n",
    "  tf.random.set_seed(7)\n",
    "  model.add(Dense(512, input_shape = (X_train_tfidf.shape[1],))) \n",
    "  model.add(Activation ('relu'))\n",
    "  model.add(Dropout(0.5))\n",
    "  model.add(Dense(512, input_shape = (X_train_tfidf.shape[1],))) \n",
    "  model.add(Activation ('relu'))\n",
    "  model.add(Dropout(0.5))\n",
    "  model.add(Dense(num_classes))\n",
    "  model.add(Activation('softmax'))\n",
    "  adam = tf.keras.optimizers.Adam(learning_rate = learning_rate)\n",
    "  model.compile(loss = 'categorical_crossentropy', optimizer = optimizer, metrics = ['Precision'])\n",
    "  return model "
   ]
  },
  {
   "cell_type": "code",
   "execution_count": null,
   "metadata": {
    "id": "8Ijdj-eS6Pbx"
   },
   "outputs": [],
   "source": [
    "from sklearn.model_selection import RandomizedSearchCV \n",
    "from keras.wrappers.scikit_learn import KerasClassifier "
   ]
  },
  {
   "cell_type": "code",
   "execution_count": null,
   "metadata": {
    "id": "S4czaKR2_M5o"
   },
   "outputs": [],
   "source": [
    "model_CV = KerasClassifier(build_fn= define_model, epochs=30, \n",
    "                           batch_size=8, verbose=1)"
   ]
  },
  {
   "cell_type": "code",
   "execution_count": null,
   "metadata": {
    "colab": {
     "base_uri": "https://localhost:8080/"
    },
    "id": "LrOGuoo08nu9",
    "outputId": "b666e5f4-6df3-4a1c-99eb-f4fbb6e7d08c"
   },
   "outputs": [
    {
     "name": "stdout",
     "output_type": "stream",
     "text": [
      "Epoch 1/30\n",
      "188/188 [==============================] - 23s 116ms/step - loss: 1.4875 - precision: 0.7810\n",
      "Epoch 2/30\n",
      "188/188 [==============================] - 22s 116ms/step - loss: 0.6405 - precision: 0.9681\n",
      "Epoch 3/30\n",
      "188/188 [==============================] - 22s 115ms/step - loss: 0.2669 - precision: 0.9947\n",
      "Epoch 4/30\n",
      "188/188 [==============================] - 22s 116ms/step - loss: 0.1200 - precision: 0.9945\n",
      "Epoch 5/30\n",
      "188/188 [==============================] - 22s 115ms/step - loss: 0.0677 - precision: 0.9986\n",
      "Epoch 6/30\n",
      "188/188 [==============================] - 22s 115ms/step - loss: 0.0408 - precision: 0.9993\n",
      "Epoch 7/30\n",
      "188/188 [==============================] - 22s 115ms/step - loss: 0.0260 - precision: 0.9993\n",
      "Epoch 8/30\n",
      "188/188 [==============================] - 22s 116ms/step - loss: 0.0163 - precision: 0.9987\n",
      "Epoch 9/30\n",
      "188/188 [==============================] - 22s 116ms/step - loss: 0.0091 - precision: 1.0000\n",
      "Epoch 10/30\n",
      "188/188 [==============================] - 22s 115ms/step - loss: 0.0074 - precision: 1.0000\n",
      "Epoch 11/30\n",
      "188/188 [==============================] - 22s 116ms/step - loss: 0.0057 - precision: 0.9993\n",
      "Epoch 12/30\n",
      "188/188 [==============================] - 22s 116ms/step - loss: 0.0018 - precision: 1.0000\n",
      "Epoch 13/30\n",
      "188/188 [==============================] - 22s 116ms/step - loss: 0.0031 - precision: 1.0000\n",
      "Epoch 14/30\n",
      "188/188 [==============================] - 22s 115ms/step - loss: 0.0018 - precision: 1.0000\n",
      "Epoch 15/30\n",
      "188/188 [==============================] - 22s 115ms/step - loss: 0.0016 - precision: 1.0000\n",
      "Epoch 16/30\n",
      "188/188 [==============================] - 22s 116ms/step - loss: 0.0017 - precision: 0.9993\n",
      "Epoch 17/30\n",
      "188/188 [==============================] - 22s 118ms/step - loss: 0.0014 - precision: 1.0000\n",
      "Epoch 18/30\n",
      "188/188 [==============================] - 22s 116ms/step - loss: 0.0018 - precision: 0.9993\n",
      "Epoch 19/30\n",
      "188/188 [==============================] - 22s 116ms/step - loss: 0.0020 - precision: 1.0000\n",
      "Epoch 20/30\n",
      "188/188 [==============================] - 22s 115ms/step - loss: 7.1701e-04 - precision: 1.0000\n",
      "Epoch 21/30\n",
      "188/188 [==============================] - 22s 116ms/step - loss: 2.4939e-04 - precision: 1.0000\n",
      "Epoch 22/30\n",
      "188/188 [==============================] - 22s 115ms/step - loss: 2.0102e-04 - precision: 1.0000\n",
      "Epoch 23/30\n",
      "188/188 [==============================] - 22s 116ms/step - loss: 6.1560e-05 - precision: 1.0000\n",
      "Epoch 24/30\n",
      "188/188 [==============================] - 22s 116ms/step - loss: 6.9918e-04 - precision: 1.0000\n",
      "Epoch 25/30\n",
      "188/188 [==============================] - 22s 115ms/step - loss: 2.5398e-04 - precision: 1.0000\n",
      "Epoch 26/30\n",
      "188/188 [==============================] - 22s 115ms/step - loss: 3.6220e-04 - precision: 1.0000\n",
      "Epoch 27/30\n",
      "188/188 [==============================] - 22s 115ms/step - loss: 9.3466e-05 - precision: 1.0000\n",
      "Epoch 28/30\n",
      "188/188 [==============================] - 23s 123ms/step - loss: 5.0030e-05 - precision: 1.0000\n",
      "Epoch 29/30\n",
      "188/188 [==============================] - 22s 115ms/step - loss: 1.6911e-04 - precision: 1.0000\n",
      "Epoch 30/30\n",
      "188/188 [==============================] - 22s 116ms/step - loss: 4.6943e-04 - precision: 1.0000\n",
      "Epoch 1/30\n",
      "188/188 [==============================] - 23s 117ms/step - loss: 1.4715 - precision: 0.7975\n",
      "Epoch 2/30\n",
      "188/188 [==============================] - 24s 129ms/step - loss: 0.6078 - precision: 0.9732\n",
      "Epoch 3/30\n",
      "188/188 [==============================] - 27s 143ms/step - loss: 0.2832 - precision: 0.9946\n",
      "Epoch 4/30\n",
      "188/188 [==============================] - 22s 117ms/step - loss: 0.1358 - precision: 0.9965\n",
      "Epoch 5/30\n",
      "188/188 [==============================] - 22s 116ms/step - loss: 0.0727 - precision: 0.9973\n",
      "Epoch 6/30\n",
      "188/188 [==============================] - 22s 117ms/step - loss: 0.0451 - precision: 0.9993\n",
      "Epoch 7/30\n",
      "188/188 [==============================] - 22s 117ms/step - loss: 0.0271 - precision: 0.9980\n",
      "Epoch 8/30\n",
      "188/188 [==============================] - 22s 116ms/step - loss: 0.0196 - precision: 1.0000\n",
      "Epoch 9/30\n",
      "188/188 [==============================] - 23s 125ms/step - loss: 0.0115 - precision: 1.0000\n",
      "Epoch 10/30\n",
      "188/188 [==============================] - 22s 117ms/step - loss: 0.0105 - precision: 1.0000\n",
      "Epoch 11/30\n",
      "188/188 [==============================] - 22s 116ms/step - loss: 0.0088 - precision: 1.0000\n",
      "Epoch 12/30\n",
      "188/188 [==============================] - 22s 117ms/step - loss: 0.0041 - precision: 1.0000\n",
      "Epoch 13/30\n",
      "188/188 [==============================] - 22s 116ms/step - loss: 0.0063 - precision: 1.0000\n",
      "Epoch 14/30\n",
      "188/188 [==============================] - 22s 116ms/step - loss: 0.0030 - precision: 1.0000\n",
      "Epoch 15/30\n",
      "188/188 [==============================] - 22s 116ms/step - loss: 0.0028 - precision: 1.0000\n",
      "Epoch 16/30\n",
      "188/188 [==============================] - 22s 116ms/step - loss: 0.0013 - precision: 1.0000\n",
      "Epoch 17/30\n",
      "188/188 [==============================] - 22s 116ms/step - loss: 0.0027 - precision: 1.0000\n",
      "Epoch 18/30\n",
      "188/188 [==============================] - 22s 116ms/step - loss: 0.0014 - precision: 1.0000\n",
      "Epoch 19/30\n",
      "188/188 [==============================] - 22s 116ms/step - loss: 0.0015 - precision: 1.0000\n",
      "Epoch 20/30\n",
      "188/188 [==============================] - 22s 116ms/step - loss: 0.0012 - precision: 1.0000\n",
      "Epoch 21/30\n",
      "188/188 [==============================] - 22s 116ms/step - loss: 2.9199e-04 - precision: 1.0000\n",
      "Epoch 22/30\n",
      "188/188 [==============================] - 22s 116ms/step - loss: 1.5296e-04 - precision: 1.0000\n",
      "Epoch 23/30\n",
      "188/188 [==============================] - 22s 116ms/step - loss: 6.4745e-04 - precision: 1.0000\n",
      "Epoch 24/30\n",
      "188/188 [==============================] - 22s 116ms/step - loss: 1.2974e-04 - precision: 1.0000\n",
      "Epoch 25/30\n",
      "188/188 [==============================] - 22s 116ms/step - loss: 1.5371e-04 - precision: 1.0000\n",
      "Epoch 26/30\n",
      "188/188 [==============================] - 22s 116ms/step - loss: 1.7149e-04 - precision: 1.0000\n",
      "Epoch 27/30\n",
      "188/188 [==============================] - 22s 116ms/step - loss: 0.0010 - precision: 1.0000\n",
      "Epoch 28/30\n",
      "188/188 [==============================] - 22s 116ms/step - loss: 3.2912e-04 - precision: 1.0000\n",
      "Epoch 29/30\n",
      "188/188 [==============================] - 22s 116ms/step - loss: 1.4485e-04 - precision: 1.0000\n",
      "Epoch 30/30\n",
      "188/188 [==============================] - 22s 116ms/step - loss: 2.3066e-04 - precision: 1.0000\n",
      "Epoch 1/30\n",
      "188/188 [==============================] - 22s 112ms/step - loss: 1.4856 - precision: 0.7795\n",
      "Epoch 2/30\n",
      "188/188 [==============================] - 21s 109ms/step - loss: 0.6439 - precision: 0.9723\n",
      "Epoch 3/30\n",
      "188/188 [==============================] - 20s 109ms/step - loss: 0.2615 - precision: 0.9940\n",
      "Epoch 4/30\n",
      "188/188 [==============================] - 21s 109ms/step - loss: 0.1146 - precision: 0.9951\n",
      "Epoch 5/30\n",
      "188/188 [==============================] - 20s 109ms/step - loss: 0.0638 - precision: 0.9986\n",
      "Epoch 6/30\n",
      "188/188 [==============================] - 21s 109ms/step - loss: 0.0389 - precision: 0.9993\n",
      "Epoch 7/30\n",
      "188/188 [==============================] - 21s 109ms/step - loss: 0.0206 - precision: 1.0000\n",
      "Epoch 8/30\n",
      "188/188 [==============================] - 20s 109ms/step - loss: 0.0144 - precision: 1.0000\n",
      "Epoch 9/30\n",
      "188/188 [==============================] - 21s 109ms/step - loss: 0.0110 - precision: 0.9993\n",
      "Epoch 10/30\n",
      "188/188 [==============================] - 21s 109ms/step - loss: 0.0070 - precision: 1.0000\n",
      "Epoch 11/30\n",
      "188/188 [==============================] - 20s 108ms/step - loss: 0.0069 - precision: 1.0000\n",
      "Epoch 12/30\n",
      "188/188 [==============================] - 21s 111ms/step - loss: 0.0036 - precision: 1.0000\n",
      "Epoch 13/30\n",
      "188/188 [==============================] - 20s 109ms/step - loss: 0.0042 - precision: 1.0000\n",
      "Epoch 14/30\n",
      "188/188 [==============================] - 21s 109ms/step - loss: 0.0029 - precision: 1.0000\n",
      "Epoch 15/30\n",
      "188/188 [==============================] - 21s 109ms/step - loss: 0.0032 - precision: 1.0000\n",
      "Epoch 16/30\n",
      "188/188 [==============================] - 21s 109ms/step - loss: 0.0015 - precision: 1.0000\n",
      "Epoch 17/30\n",
      "188/188 [==============================] - 20s 109ms/step - loss: 8.6756e-04 - precision: 1.0000\n",
      "Epoch 18/30\n",
      "188/188 [==============================] - 21s 109ms/step - loss: 3.8834e-04 - precision: 1.0000\n",
      "Epoch 19/30\n",
      "188/188 [==============================] - 21s 109ms/step - loss: 4.8022e-04 - precision: 1.0000\n",
      "Epoch 20/30\n",
      "188/188 [==============================] - 21s 109ms/step - loss: 4.4061e-04 - precision: 1.0000\n",
      "Epoch 21/30\n",
      "188/188 [==============================] - 21s 109ms/step - loss: 6.3727e-04 - precision: 1.0000\n",
      "Epoch 22/30\n",
      "188/188 [==============================] - 21s 109ms/step - loss: 1.2913e-04 - precision: 1.0000\n",
      "Epoch 23/30\n",
      "188/188 [==============================] - 21s 109ms/step - loss: 1.0336e-04 - precision: 1.0000\n",
      "Epoch 24/30\n",
      "188/188 [==============================] - 21s 109ms/step - loss: 0.0019 - precision: 0.9993\n",
      "Epoch 25/30\n",
      "188/188 [==============================] - 21s 109ms/step - loss: 8.5197e-04 - precision: 0.9993\n",
      "Epoch 26/30\n",
      "188/188 [==============================] - 20s 109ms/step - loss: 6.1241e-05 - precision: 1.0000\n",
      "Epoch 27/30\n",
      "188/188 [==============================] - 20s 109ms/step - loss: 2.9485e-04 - precision: 1.0000\n",
      "Epoch 28/30\n",
      "188/188 [==============================] - 20s 109ms/step - loss: 5.8506e-04 - precision: 1.0000\n",
      "Epoch 29/30\n",
      "188/188 [==============================] - 20s 109ms/step - loss: 7.9901e-05 - precision: 1.0000\n",
      "Epoch 30/30\n",
      "188/188 [==============================] - 20s 109ms/step - loss: 5.7376e-05 - precision: 1.0000\n",
      "Epoch 1/30\n",
      "188/188 [==============================] - 23s 115ms/step - loss: 1.4875 - precision: 0.7810\n",
      "Epoch 2/30\n",
      "188/188 [==============================] - 22s 115ms/step - loss: 0.6405 - precision: 0.9681\n",
      "Epoch 3/30\n",
      "188/188 [==============================] - 22s 115ms/step - loss: 0.2669 - precision: 0.9947\n",
      "Epoch 4/30\n",
      "188/188 [==============================] - 21s 114ms/step - loss: 0.1200 - precision: 0.9945\n",
      "Epoch 5/30\n",
      "188/188 [==============================] - 22s 115ms/step - loss: 0.0677 - precision: 0.9986\n",
      "Epoch 6/30\n",
      "188/188 [==============================] - 22s 115ms/step - loss: 0.0408 - precision: 0.9993\n",
      "Epoch 7/30\n",
      "188/188 [==============================] - 22s 114ms/step - loss: 0.0260 - precision: 0.9993\n",
      "Epoch 8/30\n",
      "188/188 [==============================] - 22s 115ms/step - loss: 0.0163 - precision: 0.9987\n",
      "Epoch 9/30\n",
      "188/188 [==============================] - 22s 115ms/step - loss: 0.0091 - precision: 1.0000\n",
      "Epoch 10/30\n",
      "188/188 [==============================] - 22s 115ms/step - loss: 0.0074 - precision: 1.0000\n",
      "Epoch 11/30\n",
      "188/188 [==============================] - 22s 115ms/step - loss: 0.0057 - precision: 0.9993\n",
      "Epoch 12/30\n",
      "188/188 [==============================] - 22s 115ms/step - loss: 0.0018 - precision: 1.0000\n",
      "Epoch 13/30\n",
      "188/188 [==============================] - 22s 114ms/step - loss: 0.0031 - precision: 1.0000\n",
      "Epoch 14/30\n",
      "188/188 [==============================] - 22s 115ms/step - loss: 0.0018 - precision: 1.0000\n",
      "Epoch 15/30\n",
      "188/188 [==============================] - 22s 115ms/step - loss: 0.0016 - precision: 1.0000\n",
      "Epoch 16/30\n",
      "188/188 [==============================] - 23s 123ms/step - loss: 0.0017 - precision: 0.9993\n",
      "Epoch 17/30\n",
      "188/188 [==============================] - 22s 115ms/step - loss: 0.0014 - precision: 1.0000\n",
      "Epoch 18/30\n",
      "188/188 [==============================] - 22s 115ms/step - loss: 0.0018 - precision: 0.9993\n",
      "Epoch 19/30\n",
      "188/188 [==============================] - 22s 115ms/step - loss: 0.0020 - precision: 1.0000\n",
      "Epoch 20/30\n",
      "188/188 [==============================] - 22s 115ms/step - loss: 7.1701e-04 - precision: 1.0000\n",
      "Epoch 21/30\n",
      "188/188 [==============================] - 22s 115ms/step - loss: 2.4939e-04 - precision: 1.0000\n",
      "Epoch 22/30\n",
      "188/188 [==============================] - 21s 114ms/step - loss: 2.0102e-04 - precision: 1.0000\n",
      "Epoch 23/30\n",
      "188/188 [==============================] - 22s 115ms/step - loss: 6.1560e-05 - precision: 1.0000\n",
      "Epoch 24/30\n",
      "188/188 [==============================] - 22s 114ms/step - loss: 6.9918e-04 - precision: 1.0000\n",
      "Epoch 25/30\n",
      "188/188 [==============================] - 22s 115ms/step - loss: 2.5398e-04 - precision: 1.0000\n",
      "Epoch 26/30\n",
      "188/188 [==============================] - 22s 115ms/step - loss: 3.6220e-04 - precision: 1.0000\n",
      "Epoch 27/30\n",
      "188/188 [==============================] - 22s 115ms/step - loss: 9.3466e-05 - precision: 1.0000\n",
      "Epoch 28/30\n",
      "188/188 [==============================] - 22s 116ms/step - loss: 5.0030e-05 - precision: 1.0000\n",
      "Epoch 29/30\n",
      "188/188 [==============================] - 22s 115ms/step - loss: 1.6911e-04 - precision: 1.0000\n",
      "Epoch 30/30\n",
      "188/188 [==============================] - 22s 115ms/step - loss: 4.6943e-04 - precision: 1.0000\n",
      "Epoch 1/30\n",
      "188/188 [==============================] - 24s 124ms/step - loss: 1.4715 - precision: 0.7975\n",
      "Epoch 2/30\n",
      "188/188 [==============================] - 23s 124ms/step - loss: 0.6078 - precision: 0.9732\n",
      "Epoch 3/30\n",
      "188/188 [==============================] - 23s 124ms/step - loss: 0.2832 - precision: 0.9946\n",
      "Epoch 4/30\n",
      "188/188 [==============================] - 23s 124ms/step - loss: 0.1358 - precision: 0.9965\n",
      "Epoch 5/30\n",
      "188/188 [==============================] - 23s 123ms/step - loss: 0.0727 - precision: 0.9973\n",
      "Epoch 6/30\n",
      "188/188 [==============================] - 23s 124ms/step - loss: 0.0451 - precision: 0.9993\n",
      "Epoch 7/30\n",
      "188/188 [==============================] - 24s 126ms/step - loss: 0.0271 - precision: 0.9980\n",
      "Epoch 8/30\n",
      "188/188 [==============================] - 23s 124ms/step - loss: 0.0196 - precision: 1.0000\n",
      "Epoch 9/30\n",
      "188/188 [==============================] - 23s 125ms/step - loss: 0.0115 - precision: 1.0000\n",
      "Epoch 10/30\n",
      "188/188 [==============================] - 23s 124ms/step - loss: 0.0105 - precision: 1.0000\n",
      "Epoch 11/30\n",
      "188/188 [==============================] - 23s 124ms/step - loss: 0.0088 - precision: 1.0000\n",
      "Epoch 12/30\n",
      "188/188 [==============================] - 23s 123ms/step - loss: 0.0041 - precision: 1.0000\n",
      "Epoch 13/30\n",
      "188/188 [==============================] - 23s 123ms/step - loss: 0.0063 - precision: 1.0000\n",
      "Epoch 14/30\n",
      "188/188 [==============================] - 23s 122ms/step - loss: 0.0030 - precision: 1.0000\n",
      "Epoch 15/30\n",
      "188/188 [==============================] - 23s 122ms/step - loss: 0.0028 - precision: 1.0000\n",
      "Epoch 16/30\n",
      "188/188 [==============================] - 23s 121ms/step - loss: 0.0013 - precision: 1.0000\n",
      "Epoch 17/30\n",
      "188/188 [==============================] - 23s 121ms/step - loss: 0.0027 - precision: 1.0000\n",
      "Epoch 18/30\n",
      "188/188 [==============================] - 24s 128ms/step - loss: 0.0014 - precision: 1.0000\n",
      "Epoch 19/30\n",
      "188/188 [==============================] - 22s 119ms/step - loss: 0.0015 - precision: 1.0000\n",
      "Epoch 20/30\n",
      "188/188 [==============================] - 22s 119ms/step - loss: 0.0012 - precision: 1.0000\n",
      "Epoch 21/30\n",
      "188/188 [==============================] - 22s 119ms/step - loss: 2.9199e-04 - precision: 1.0000\n",
      "Epoch 22/30\n",
      "188/188 [==============================] - 22s 119ms/step - loss: 1.5296e-04 - precision: 1.0000\n",
      "Epoch 23/30\n",
      "188/188 [==============================] - 22s 119ms/step - loss: 6.4745e-04 - precision: 1.0000\n",
      "Epoch 24/30\n",
      "188/188 [==============================] - 22s 119ms/step - loss: 1.2974e-04 - precision: 1.0000\n",
      "Epoch 25/30\n",
      "188/188 [==============================] - 22s 119ms/step - loss: 1.5371e-04 - precision: 1.0000\n",
      "Epoch 26/30\n",
      "188/188 [==============================] - 22s 119ms/step - loss: 1.7149e-04 - precision: 1.0000\n",
      "Epoch 27/30\n",
      "188/188 [==============================] - 22s 119ms/step - loss: 0.0010 - precision: 1.0000\n",
      "Epoch 28/30\n",
      "188/188 [==============================] - 22s 119ms/step - loss: 3.2912e-04 - precision: 1.0000\n",
      "Epoch 29/30\n",
      "188/188 [==============================] - 23s 120ms/step - loss: 1.4485e-04 - precision: 1.0000\n",
      "Epoch 30/30\n",
      "188/188 [==============================] - 22s 119ms/step - loss: 2.3066e-04 - precision: 1.0000\n",
      "Epoch 1/30\n",
      "188/188 [==============================] - 23s 116ms/step - loss: 1.4856 - precision: 0.7795\n",
      "Epoch 2/30\n",
      "188/188 [==============================] - 22s 116ms/step - loss: 0.6439 - precision: 0.9723\n",
      "Epoch 3/30\n",
      "188/188 [==============================] - 22s 115ms/step - loss: 0.2615 - precision: 0.9940\n",
      "Epoch 4/30\n",
      "188/188 [==============================] - 22s 116ms/step - loss: 0.1146 - precision: 0.9951\n",
      "Epoch 5/30\n",
      "188/188 [==============================] - 22s 116ms/step - loss: 0.0638 - precision: 0.9986\n",
      "Epoch 6/30\n",
      "188/188 [==============================] - 22s 116ms/step - loss: 0.0389 - precision: 0.9993\n",
      "Epoch 7/30\n",
      "188/188 [==============================] - 22s 116ms/step - loss: 0.0206 - precision: 1.0000\n",
      "Epoch 8/30\n",
      "188/188 [==============================] - 22s 116ms/step - loss: 0.0144 - precision: 1.0000\n",
      "Epoch 9/30\n",
      "188/188 [==============================] - 22s 116ms/step - loss: 0.0110 - precision: 0.9993\n",
      "Epoch 10/30\n",
      "188/188 [==============================] - 22s 116ms/step - loss: 0.0070 - precision: 1.0000\n",
      "Epoch 11/30\n",
      "188/188 [==============================] - 22s 116ms/step - loss: 0.0069 - precision: 1.0000\n",
      "Epoch 12/30\n",
      "188/188 [==============================] - 22s 115ms/step - loss: 0.0036 - precision: 1.0000\n",
      "Epoch 13/30\n",
      "188/188 [==============================] - 22s 116ms/step - loss: 0.0042 - precision: 1.0000\n",
      "Epoch 14/30\n",
      "188/188 [==============================] - 22s 116ms/step - loss: 0.0029 - precision: 1.0000\n",
      "Epoch 15/30\n",
      "188/188 [==============================] - 22s 116ms/step - loss: 0.0032 - precision: 1.0000\n",
      "Epoch 16/30\n",
      "188/188 [==============================] - 22s 116ms/step - loss: 0.0015 - precision: 1.0000\n",
      "Epoch 17/30\n",
      "188/188 [==============================] - 22s 116ms/step - loss: 8.6756e-04 - precision: 1.0000\n",
      "Epoch 18/30\n",
      "188/188 [==============================] - 22s 116ms/step - loss: 3.8834e-04 - precision: 1.0000\n",
      "Epoch 19/30\n",
      "188/188 [==============================] - 22s 115ms/step - loss: 4.8022e-04 - precision: 1.0000\n",
      "Epoch 20/30\n",
      "188/188 [==============================] - 22s 116ms/step - loss: 4.4061e-04 - precision: 1.0000\n",
      "Epoch 21/30\n",
      "188/188 [==============================] - 22s 116ms/step - loss: 6.3727e-04 - precision: 1.0000\n",
      "Epoch 22/30\n",
      "188/188 [==============================] - 22s 116ms/step - loss: 1.2913e-04 - precision: 1.0000\n",
      "Epoch 23/30\n",
      "188/188 [==============================] - 22s 115ms/step - loss: 1.0336e-04 - precision: 1.0000\n",
      "Epoch 24/30\n",
      "188/188 [==============================] - 22s 116ms/step - loss: 0.0019 - precision: 0.9993\n",
      "Epoch 25/30\n",
      "188/188 [==============================] - 22s 116ms/step - loss: 8.5197e-04 - precision: 0.9993\n",
      "Epoch 26/30\n",
      "188/188 [==============================] - 22s 116ms/step - loss: 6.1241e-05 - precision: 1.0000\n",
      "Epoch 27/30\n",
      "188/188 [==============================] - 22s 116ms/step - loss: 2.9485e-04 - precision: 1.0000\n",
      "Epoch 28/30\n",
      "188/188 [==============================] - 22s 116ms/step - loss: 5.8506e-04 - precision: 1.0000\n",
      "Epoch 29/30\n",
      "188/188 [==============================] - 22s 116ms/step - loss: 7.9901e-05 - precision: 1.0000\n",
      "Epoch 30/30\n",
      "188/188 [==============================] - 22s 116ms/step - loss: 5.7376e-05 - precision: 1.0000\n",
      "Epoch 1/30\n",
      "188/188 [==============================] - 27s 133ms/step - loss: 1.4875 - precision: 0.7810\n",
      "Epoch 2/30\n",
      "188/188 [==============================] - 20s 104ms/step - loss: 0.6405 - precision: 0.9681\n",
      "Epoch 3/30\n",
      "188/188 [==============================] - 19s 104ms/step - loss: 0.2669 - precision: 0.9947\n",
      "Epoch 4/30\n",
      "188/188 [==============================] - 19s 103ms/step - loss: 0.1200 - precision: 0.9945\n",
      "Epoch 5/30\n",
      "188/188 [==============================] - 19s 103ms/step - loss: 0.0677 - precision: 0.9986\n",
      "Epoch 6/30\n",
      "188/188 [==============================] - 19s 104ms/step - loss: 0.0408 - precision: 0.9993\n",
      "Epoch 7/30\n",
      "188/188 [==============================] - 19s 104ms/step - loss: 0.0260 - precision: 0.9993\n",
      "Epoch 8/30\n",
      "188/188 [==============================] - 19s 104ms/step - loss: 0.0163 - precision: 0.9987\n",
      "Epoch 9/30\n",
      "188/188 [==============================] - 20s 104ms/step - loss: 0.0091 - precision: 1.0000\n",
      "Epoch 10/30\n",
      "188/188 [==============================] - 19s 103ms/step - loss: 0.0074 - precision: 1.0000\n",
      "Epoch 11/30\n",
      "188/188 [==============================] - 19s 103ms/step - loss: 0.0057 - precision: 0.9993\n",
      "Epoch 12/30\n",
      "188/188 [==============================] - 19s 103ms/step - loss: 0.0018 - precision: 1.0000\n",
      "Epoch 13/30\n",
      "188/188 [==============================] - 19s 104ms/step - loss: 0.0031 - precision: 1.0000\n",
      "Epoch 14/30\n",
      "188/188 [==============================] - 21s 110ms/step - loss: 0.0018 - precision: 1.0000\n",
      "Epoch 15/30\n",
      "188/188 [==============================] - 20s 104ms/step - loss: 0.0016 - precision: 1.0000\n",
      "Epoch 16/30\n",
      "188/188 [==============================] - 19s 104ms/step - loss: 0.0017 - precision: 0.9993\n",
      "Epoch 17/30\n",
      "188/188 [==============================] - 19s 104ms/step - loss: 0.0014 - precision: 1.0000\n",
      "Epoch 18/30\n",
      "188/188 [==============================] - 19s 104ms/step - loss: 0.0018 - precision: 0.9993\n",
      "Epoch 19/30\n",
      "188/188 [==============================] - 19s 104ms/step - loss: 0.0020 - precision: 1.0000\n",
      "Epoch 20/30\n",
      "188/188 [==============================] - 20s 104ms/step - loss: 7.1701e-04 - precision: 1.0000\n",
      "Epoch 21/30\n",
      "188/188 [==============================] - 19s 104ms/step - loss: 2.4939e-04 - precision: 1.0000\n",
      "Epoch 22/30\n",
      "188/188 [==============================] - 19s 104ms/step - loss: 2.0102e-04 - precision: 1.0000\n",
      "Epoch 23/30\n",
      "188/188 [==============================] - 19s 103ms/step - loss: 6.1560e-05 - precision: 1.0000\n",
      "Epoch 24/30\n",
      "188/188 [==============================] - 19s 103ms/step - loss: 6.9918e-04 - precision: 1.0000\n",
      "Epoch 25/30\n",
      "188/188 [==============================] - 19s 104ms/step - loss: 2.5398e-04 - precision: 1.0000\n",
      "Epoch 26/30\n",
      "188/188 [==============================] - 21s 111ms/step - loss: 3.6220e-04 - precision: 1.0000\n",
      "Epoch 27/30\n",
      "188/188 [==============================] - 19s 103ms/step - loss: 9.3466e-05 - precision: 1.0000\n",
      "Epoch 28/30\n",
      "188/188 [==============================] - 20s 104ms/step - loss: 5.0030e-05 - precision: 1.0000\n",
      "Epoch 29/30\n",
      "188/188 [==============================] - 20s 104ms/step - loss: 1.6911e-04 - precision: 1.0000\n",
      "Epoch 30/30\n",
      "188/188 [==============================] - 19s 104ms/step - loss: 4.6943e-04 - precision: 1.0000\n",
      "Epoch 1/30\n",
      "188/188 [==============================] - 21s 106ms/step - loss: 1.4715 - precision: 0.7975\n",
      "Epoch 2/30\n",
      "188/188 [==============================] - 20s 106ms/step - loss: 0.6078 - precision: 0.9732\n",
      "Epoch 3/30\n",
      "188/188 [==============================] - 20s 106ms/step - loss: 0.2832 - precision: 0.9946\n",
      "Epoch 4/30\n",
      "188/188 [==============================] - 20s 106ms/step - loss: 0.1358 - precision: 0.9965\n",
      "Epoch 5/30\n",
      "188/188 [==============================] - 20s 106ms/step - loss: 0.0727 - precision: 0.9973\n",
      "Epoch 6/30\n",
      "188/188 [==============================] - 20s 106ms/step - loss: 0.0451 - precision: 0.9993\n",
      "Epoch 7/30\n",
      "188/188 [==============================] - 20s 106ms/step - loss: 0.0271 - precision: 0.9980\n",
      "Epoch 8/30\n",
      "188/188 [==============================] - 20s 107ms/step - loss: 0.0196 - precision: 1.0000\n",
      "Epoch 9/30\n",
      "188/188 [==============================] - 20s 106ms/step - loss: 0.0115 - precision: 1.0000\n",
      "Epoch 10/30\n",
      "188/188 [==============================] - 20s 106ms/step - loss: 0.0105 - precision: 1.0000\n",
      "Epoch 11/30\n",
      "188/188 [==============================] - 20s 106ms/step - loss: 0.0088 - precision: 1.0000\n",
      "Epoch 12/30\n",
      "188/188 [==============================] - 20s 106ms/step - loss: 0.0041 - precision: 1.0000\n",
      "Epoch 13/30\n",
      "188/188 [==============================] - 20s 106ms/step - loss: 0.0063 - precision: 1.0000\n",
      "Epoch 14/30\n",
      "188/188 [==============================] - 20s 106ms/step - loss: 0.0030 - precision: 1.0000\n",
      "Epoch 15/30\n",
      "188/188 [==============================] - 20s 106ms/step - loss: 0.0028 - precision: 1.0000\n",
      "Epoch 16/30\n",
      "188/188 [==============================] - 20s 106ms/step - loss: 0.0013 - precision: 1.0000\n",
      "Epoch 17/30\n",
      "188/188 [==============================] - 20s 106ms/step - loss: 0.0027 - precision: 1.0000\n",
      "Epoch 18/30\n",
      "188/188 [==============================] - 20s 106ms/step - loss: 0.0014 - precision: 1.0000\n",
      "Epoch 19/30\n",
      "188/188 [==============================] - 20s 106ms/step - loss: 0.0015 - precision: 1.0000\n",
      "Epoch 20/30\n",
      "188/188 [==============================] - 20s 106ms/step - loss: 0.0012 - precision: 1.0000\n",
      "Epoch 21/30\n",
      "188/188 [==============================] - 20s 106ms/step - loss: 2.9199e-04 - precision: 1.0000\n",
      "Epoch 22/30\n",
      "188/188 [==============================] - 20s 106ms/step - loss: 1.5296e-04 - precision: 1.0000\n",
      "Epoch 23/30\n",
      "188/188 [==============================] - 20s 107ms/step - loss: 6.4745e-04 - precision: 1.0000\n",
      "Epoch 24/30\n",
      "188/188 [==============================] - 20s 106ms/step - loss: 1.2974e-04 - precision: 1.0000\n",
      "Epoch 25/30\n",
      "188/188 [==============================] - 20s 106ms/step - loss: 1.5371e-04 - precision: 1.0000\n",
      "Epoch 26/30\n",
      "188/188 [==============================] - 20s 106ms/step - loss: 1.7149e-04 - precision: 1.0000\n",
      "Epoch 27/30\n",
      "188/188 [==============================] - 20s 106ms/step - loss: 0.0010 - precision: 1.0000\n",
      "Epoch 28/30\n",
      "188/188 [==============================] - 20s 106ms/step - loss: 3.2912e-04 - precision: 1.0000\n",
      "Epoch 29/30\n",
      "188/188 [==============================] - 20s 106ms/step - loss: 1.4485e-04 - precision: 1.0000\n",
      "Epoch 30/30\n",
      "188/188 [==============================] - 20s 106ms/step - loss: 2.3066e-04 - precision: 1.0000\n",
      "Epoch 1/30\n",
      "188/188 [==============================] - 23s 119ms/step - loss: 1.4856 - precision: 0.7795\n",
      "Epoch 2/30\n",
      "188/188 [==============================] - 25s 135ms/step - loss: 0.6439 - precision: 0.9723\n",
      "Epoch 3/30\n",
      "188/188 [==============================] - 22s 119ms/step - loss: 0.2615 - precision: 0.9940\n",
      "Epoch 4/30\n",
      "188/188 [==============================] - 23s 120ms/step - loss: 0.1146 - precision: 0.9951\n",
      "Epoch 5/30\n",
      "188/188 [==============================] - 22s 119ms/step - loss: 0.0638 - precision: 0.9986\n",
      "Epoch 6/30\n",
      "188/188 [==============================] - 22s 119ms/step - loss: 0.0389 - precision: 0.9993\n",
      "Epoch 7/30\n",
      "188/188 [==============================] - 22s 120ms/step - loss: 0.0206 - precision: 1.0000\n",
      "Epoch 8/30\n",
      "188/188 [==============================] - 22s 119ms/step - loss: 0.0144 - precision: 1.0000\n",
      "Epoch 9/30\n",
      "188/188 [==============================] - 22s 120ms/step - loss: 0.0110 - precision: 0.9993\n",
      "Epoch 10/30\n",
      "188/188 [==============================] - 23s 120ms/step - loss: 0.0070 - precision: 1.0000\n",
      "Epoch 11/30\n",
      "188/188 [==============================] - 23s 120ms/step - loss: 0.0069 - precision: 1.0000\n",
      "Epoch 12/30\n",
      "188/188 [==============================] - 22s 120ms/step - loss: 0.0036 - precision: 1.0000\n",
      "Epoch 13/30\n",
      "188/188 [==============================] - 23s 120ms/step - loss: 0.0042 - precision: 1.0000\n",
      "Epoch 14/30\n",
      "188/188 [==============================] - 23s 120ms/step - loss: 0.0029 - precision: 1.0000\n",
      "Epoch 15/30\n",
      "188/188 [==============================] - 23s 120ms/step - loss: 0.0032 - precision: 1.0000\n",
      "Epoch 16/30\n",
      "188/188 [==============================] - 23s 121ms/step - loss: 0.0015 - precision: 1.0000\n",
      "Epoch 17/30\n",
      "188/188 [==============================] - 23s 120ms/step - loss: 8.6756e-04 - precision: 1.0000\n",
      "Epoch 18/30\n",
      "188/188 [==============================] - 23s 123ms/step - loss: 3.8834e-04 - precision: 1.0000\n",
      "Epoch 19/30\n",
      "188/188 [==============================] - 23s 120ms/step - loss: 4.8022e-04 - precision: 1.0000\n",
      "Epoch 20/30\n",
      "188/188 [==============================] - 23s 120ms/step - loss: 4.4061e-04 - precision: 1.0000\n",
      "Epoch 21/30\n",
      "188/188 [==============================] - 23s 120ms/step - loss: 6.3727e-04 - precision: 1.0000\n",
      "Epoch 22/30\n",
      "188/188 [==============================] - 23s 120ms/step - loss: 1.2913e-04 - precision: 1.0000\n",
      "Epoch 23/30\n",
      "188/188 [==============================] - 23s 122ms/step - loss: 1.0336e-04 - precision: 1.0000\n",
      "Epoch 24/30\n",
      "188/188 [==============================] - 23s 120ms/step - loss: 0.0019 - precision: 0.9993\n",
      "Epoch 25/30\n",
      "188/188 [==============================] - 23s 123ms/step - loss: 8.5197e-04 - precision: 0.9993\n",
      "Epoch 26/30\n",
      "188/188 [==============================] - 23s 123ms/step - loss: 6.1241e-05 - precision: 1.0000\n",
      "Epoch 27/30\n",
      "188/188 [==============================] - 23s 123ms/step - loss: 2.9485e-04 - precision: 1.0000\n",
      "Epoch 28/30\n",
      "188/188 [==============================] - 23s 120ms/step - loss: 5.8506e-04 - precision: 1.0000\n",
      "Epoch 29/30\n",
      "188/188 [==============================] - 23s 120ms/step - loss: 7.9901e-05 - precision: 1.0000\n",
      "Epoch 30/30\n",
      "188/188 [==============================] - 23s 120ms/step - loss: 5.7376e-05 - precision: 1.0000\n",
      "Epoch 1/30\n",
      "282/282 [==============================] - 36s 124ms/step - loss: 1.3460 - precision: 0.8177\n",
      "Epoch 2/30\n",
      "282/282 [==============================] - 35s 124ms/step - loss: 0.4945 - precision: 0.9728\n",
      "Epoch 3/30\n",
      "282/282 [==============================] - 35s 124ms/step - loss: 0.1791 - precision: 0.9915\n",
      "Epoch 4/30\n",
      "282/282 [==============================] - 35s 124ms/step - loss: 0.0867 - precision: 0.9954\n",
      "Epoch 5/30\n",
      "282/282 [==============================] - 35s 124ms/step - loss: 0.0447 - precision: 0.9991\n",
      "Epoch 6/30\n",
      "282/282 [==============================] - 35s 124ms/step - loss: 0.0246 - precision: 0.9991\n",
      "Epoch 7/30\n",
      "282/282 [==============================] - 35s 124ms/step - loss: 0.0182 - precision: 0.9991\n",
      "Epoch 8/30\n",
      "282/282 [==============================] - 35s 124ms/step - loss: 0.0130 - precision: 0.9996\n",
      "Epoch 9/30\n",
      "282/282 [==============================] - 35s 125ms/step - loss: 0.0087 - precision: 1.0000\n",
      "Epoch 10/30\n",
      "282/282 [==============================] - 36s 129ms/step - loss: 0.0058 - precision: 1.0000\n",
      "Epoch 11/30\n",
      "282/282 [==============================] - 35s 124ms/step - loss: 0.0056 - precision: 0.9996\n",
      "Epoch 12/30\n",
      "282/282 [==============================] - 35s 124ms/step - loss: 0.0040 - precision: 0.9987\n",
      "Epoch 13/30\n",
      "282/282 [==============================] - 35s 124ms/step - loss: 9.3536e-04 - precision: 1.0000\n",
      "Epoch 14/30\n",
      "282/282 [==============================] - 35s 124ms/step - loss: 8.0675e-04 - precision: 1.0000\n",
      "Epoch 15/30\n",
      "282/282 [==============================] - 35s 124ms/step - loss: 6.6982e-04 - precision: 1.0000\n",
      "Epoch 16/30\n",
      "282/282 [==============================] - 35s 124ms/step - loss: 0.0011 - precision: 0.9996\n",
      "Epoch 17/30\n",
      "282/282 [==============================] - 35s 124ms/step - loss: 3.3141e-04 - precision: 1.0000\n",
      "Epoch 18/30\n",
      "282/282 [==============================] - 35s 124ms/step - loss: 0.0015 - precision: 1.0000\n",
      "Epoch 19/30\n",
      "282/282 [==============================] - 35s 124ms/step - loss: 5.6192e-04 - precision: 1.0000\n",
      "Epoch 20/30\n",
      "282/282 [==============================] - 35s 124ms/step - loss: 2.1934e-04 - precision: 1.0000\n",
      "Epoch 21/30\n",
      "282/282 [==============================] - 35s 124ms/step - loss: 8.4206e-05 - precision: 1.0000\n",
      "Epoch 22/30\n",
      "282/282 [==============================] - 35s 123ms/step - loss: 8.5271e-05 - precision: 1.0000\n",
      "Epoch 23/30\n",
      "282/282 [==============================] - 35s 124ms/step - loss: 1.7930e-04 - precision: 1.0000\n",
      "Epoch 24/30\n",
      "282/282 [==============================] - 35s 124ms/step - loss: 1.1435e-04 - precision: 1.0000\n",
      "Epoch 25/30\n",
      "282/282 [==============================] - 35s 123ms/step - loss: 1.6206e-04 - precision: 1.0000\n",
      "Epoch 26/30\n",
      "282/282 [==============================] - 35s 123ms/step - loss: 5.4740e-05 - precision: 1.0000\n",
      "Epoch 27/30\n",
      "282/282 [==============================] - 35s 124ms/step - loss: 6.5103e-04 - precision: 1.0000\n",
      "Epoch 28/30\n",
      "282/282 [==============================] - 35s 123ms/step - loss: 9.5226e-05 - precision: 1.0000\n",
      "Epoch 29/30\n",
      "282/282 [==============================] - 35s 123ms/step - loss: 9.2116e-05 - precision: 1.0000\n",
      "Epoch 30/30\n",
      "282/282 [==============================] - 35s 125ms/step - loss: 3.6788e-05 - precision: 1.0000\n",
      "{'learning_rate': 0.01}\n",
      "<keras.wrappers.scikit_learn.KerasClassifier object at 0x7f6d6ec2c990>\n"
     ]
    }
   ],
   "source": [
    "# Randomised Search CV with scoring = Precision\n",
    "# define the random search parameters \n",
    "param_dist = {'learning_rate': [1e-2, 1e-3, 1e-4]}\n",
    "# Number of random samples \n",
    "samples = 10  \n",
    "randomCV = RandomizedSearchCV(estimator = model_CV, param_distributions = param_dist, n_iter = samples, refit = True, \n",
    "                              scoring = 'precision', cv = 3, random_state =7)\n",
    "result = randomCV.fit(X_train_tfidf, y_train)  \n",
    "# Print best parameter after tuning\n",
    "print(randomCV.best_params_)\n",
    "# Print how our model looks after hyper-parameter tuning\n",
    "print(randomCV.best_estimator_)"
   ]
  },
  {
   "cell_type": "code",
   "execution_count": null,
   "metadata": {
    "id": "ir8MmPaw6zkD"
   },
   "outputs": [],
   "source": [
    "# Refitting the NN model with the best hyper-parameters \n",
    "# Learning rate = 0.01"
   ]
  },
  {
   "cell_type": "code",
   "execution_count": null,
   "metadata": {
    "id": "K5H0XG9l5BrW"
   },
   "outputs": [],
   "source": [
    "# With TF-IDF vectoriser and Precision metric  \n",
    "## Using the best hyper-parameters from Randomised search CV \n",
    "model = Sequential()\n",
    "tf.random.set_seed(7)\n",
    "model.add(Dense(512, input_shape = (X_train_tfidf.shape[1],))) \n",
    "model.add(Activation ('relu'))\n",
    "model.add(Dropout(0.5))\n",
    "model.add(Dense(512, input_shape = (X_train_tfidf.shape[1],))) \n",
    "model.add(Activation ('relu'))\n",
    "model.add(Dropout(0.5))\n",
    "model.add(Dense(num_classes))\n",
    "model.add(Activation('softmax'))\n",
    "adam = tf.keras.optimizers.Adam(learning_rate = 0.01)\n",
    "model.compile(loss = 'categorical_crossentropy', optimizer = 'adam', metrics = ['Precision'])\n"
   ]
  },
  {
   "cell_type": "code",
   "execution_count": null,
   "metadata": {
    "colab": {
     "base_uri": "https://localhost:8080/"
    },
    "id": "G-9SOCWncf2N",
    "outputId": "581c26c0-c1ca-48a6-8bcc-5a8ea4c90407"
   },
   "outputs": [
    {
     "name": "stdout",
     "output_type": "stream",
     "text": [
      "Epoch 1/30\n",
      "282/282 [==============================] - 36s 127ms/step - loss: 1.3460 - precision: 0.8177 - val_loss: 0.9899 - val_precision: 0.9121\n",
      "Epoch 2/30\n",
      "282/282 [==============================] - 32s 115ms/step - loss: 0.4945 - precision: 0.9728 - val_loss: 0.8825 - val_precision: 0.9257\n",
      "Epoch 3/30\n",
      "282/282 [==============================] - 32s 115ms/step - loss: 0.1791 - precision: 0.9915 - val_loss: 1.2779 - val_precision: 0.8728\n",
      "Epoch 4/30\n",
      "282/282 [==============================] - 32s 115ms/step - loss: 0.0867 - precision: 0.9954 - val_loss: 1.1086 - val_precision: 0.8910\n",
      "Epoch 5/30\n",
      "282/282 [==============================] - 32s 114ms/step - loss: 0.0447 - precision: 0.9991 - val_loss: 1.2594 - val_precision: 0.8491\n",
      "Epoch 6/30\n",
      "282/282 [==============================] - 32s 114ms/step - loss: 0.0246 - precision: 0.9991 - val_loss: 1.3720 - val_precision: 0.8356\n",
      "Epoch 7/30\n",
      "282/282 [==============================] - 33s 116ms/step - loss: 0.0182 - precision: 0.9991 - val_loss: 1.1951 - val_precision: 0.8191\n",
      "Epoch 8/30\n",
      "282/282 [==============================] - 34s 121ms/step - loss: 0.0130 - precision: 0.9996 - val_loss: 1.1039 - val_precision: 0.8741\n",
      "Epoch 9/30\n",
      "282/282 [==============================] - 37s 132ms/step - loss: 0.0087 - precision: 1.0000 - val_loss: 1.0292 - val_precision: 0.8649\n",
      "Epoch 10/30\n",
      "282/282 [==============================] - 43s 151ms/step - loss: 0.0058 - precision: 1.0000 - val_loss: 1.0614 - val_precision: 0.8578\n",
      "Epoch 11/30\n",
      "282/282 [==============================] - 37s 130ms/step - loss: 0.0056 - precision: 0.9996 - val_loss: 1.1548 - val_precision: 0.8197\n",
      "Epoch 12/30\n",
      "282/282 [==============================] - 37s 133ms/step - loss: 0.0040 - precision: 0.9987 - val_loss: 1.1245 - val_precision: 0.8321\n",
      "Epoch 13/30\n",
      "282/282 [==============================] - 37s 130ms/step - loss: 9.3536e-04 - precision: 1.0000 - val_loss: 1.0356 - val_precision: 0.8483\n",
      "Epoch 14/30\n",
      "282/282 [==============================] - 36s 129ms/step - loss: 8.0675e-04 - precision: 1.0000 - val_loss: 0.9930 - val_precision: 0.8539\n",
      "Epoch 15/30\n",
      "282/282 [==============================] - 36s 128ms/step - loss: 6.6982e-04 - precision: 1.0000 - val_loss: 1.0227 - val_precision: 0.8319\n",
      "Epoch 16/30\n",
      "282/282 [==============================] - 36s 127ms/step - loss: 0.0011 - precision: 0.9996 - val_loss: 1.0802 - val_precision: 0.8292\n",
      "Epoch 17/30\n",
      "282/282 [==============================] - 36s 127ms/step - loss: 3.3141e-04 - precision: 1.0000 - val_loss: 0.9803 - val_precision: 0.8458\n",
      "Epoch 18/30\n",
      "282/282 [==============================] - 35s 126ms/step - loss: 0.0015 - precision: 1.0000 - val_loss: 0.9892 - val_precision: 0.8399\n",
      "Epoch 19/30\n",
      "282/282 [==============================] - 36s 127ms/step - loss: 5.6192e-04 - precision: 1.0000 - val_loss: 1.1349 - val_precision: 0.8141\n",
      "Epoch 20/30\n",
      "282/282 [==============================] - 36s 128ms/step - loss: 2.1934e-04 - precision: 1.0000 - val_loss: 1.0241 - val_precision: 0.8251\n",
      "Epoch 21/30\n",
      "282/282 [==============================] - 36s 129ms/step - loss: 8.4206e-05 - precision: 1.0000 - val_loss: 0.9374 - val_precision: 0.8351\n",
      "Epoch 22/30\n",
      "282/282 [==============================] - 36s 127ms/step - loss: 8.5271e-05 - precision: 1.0000 - val_loss: 0.9235 - val_precision: 0.8368\n",
      "Epoch 23/30\n",
      "282/282 [==============================] - 36s 128ms/step - loss: 1.7930e-04 - precision: 1.0000 - val_loss: 1.0769 - val_precision: 0.8072\n",
      "Epoch 24/30\n",
      "282/282 [==============================] - 36s 127ms/step - loss: 1.1435e-04 - precision: 1.0000 - val_loss: 0.8210 - val_precision: 0.8489\n",
      "Epoch 25/30\n",
      "282/282 [==============================] - 36s 128ms/step - loss: 1.6206e-04 - precision: 1.0000 - val_loss: 0.8818 - val_precision: 0.8476\n",
      "Epoch 26/30\n",
      "282/282 [==============================] - 36s 127ms/step - loss: 5.4740e-05 - precision: 1.0000 - val_loss: 0.8802 - val_precision: 0.8482\n",
      "Epoch 27/30\n",
      "282/282 [==============================] - 36s 127ms/step - loss: 6.5103e-04 - precision: 1.0000 - val_loss: 0.8516 - val_precision: 0.8500\n",
      "Epoch 28/30\n",
      "282/282 [==============================] - 36s 127ms/step - loss: 9.5226e-05 - precision: 1.0000 - val_loss: 0.9327 - val_precision: 0.8280\n",
      "Epoch 29/30\n",
      "282/282 [==============================] - 36s 129ms/step - loss: 9.2116e-05 - precision: 1.0000 - val_loss: 0.8240 - val_precision: 0.8382\n",
      "Epoch 30/30\n",
      "282/282 [==============================] - 36s 128ms/step - loss: 3.6788e-05 - precision: 1.0000 - val_loss: 0.8284 - val_precision: 0.8135\n"
     ]
    }
   ],
   "source": [
    "history_tfidf_precision = model.fit(X_train_tfidf, y_train, validation_data=(X_test_tfidf, y_test), batch_size = 8, epochs = 30, verbose = 1)"
   ]
  },
  {
   "cell_type": "code",
   "execution_count": null,
   "metadata": {
    "colab": {
     "base_uri": "https://localhost:8080/"
    },
    "id": "yvewGg0GA6uM",
    "outputId": "a03b14a2-1306-4e91-9890-5cb0d56bd9b3"
   },
   "outputs": [
    {
     "name": "stdout",
     "output_type": "stream",
     "text": [
      "Evaluate on test data\n",
      "71/71 [==============================] - 2s 29ms/step - loss: 0.8284 - precision: 0.8135\n",
      "Test Precision: [0.828446626663208, 0.8135283589363098]\n"
     ]
    }
   ],
   "source": [
    "# Performance metric\n",
    "print(\"Evaluate on test data\")\n",
    "precision_NN_tuned_tfidf = model.evaluate(X_test_tfidf, y_test, batch_size=8)\n",
    "print(\"Test Precision:\", precision_NN_tuned_tfidf)  "
   ]
  },
  {
   "cell_type": "code",
   "execution_count": null,
   "metadata": {
    "id": "feuGfnkX_mWZ"
   },
   "outputs": [],
   "source": [
    "# With TF-IDF vectoriser and Recall metric  \n",
    "## Using the best hyper-parameters from Randomised search CV \n",
    "model = Sequential()\n",
    "tf.random.set_seed(7)\n",
    "model.add(Dense(512, input_shape = (X_train_tfidf.shape[1],))) \n",
    "model.add(Activation ('relu'))\n",
    "model.add(Dropout(0.5))\n",
    "model.add(Dense(512, input_shape = (X_train_tfidf.shape[1],))) \n",
    "model.add(Activation ('relu'))\n",
    "model.add(Dropout(0.5))\n",
    "model.add(Dense(num_classes))\n",
    "model.add(Activation('softmax'))\n",
    "adam = tf.keras.optimizers.Adam(learning_rate = 0.01)\n",
    "model.compile(loss = 'categorical_crossentropy', optimizer = 'adam', metrics = ['Recall'])"
   ]
  },
  {
   "cell_type": "code",
   "execution_count": null,
   "metadata": {
    "colab": {
     "base_uri": "https://localhost:8080/"
    },
    "id": "7ql0VA0l_moc",
    "outputId": "faff8092-453a-498b-89bc-a93619e2d615"
   },
   "outputs": [
    {
     "name": "stdout",
     "output_type": "stream",
     "text": [
      "Epoch 1/30\n",
      "282/282 [==============================] - 41s 141ms/step - loss: 1.3460 - recall: 0.4480 - val_loss: 0.9899 - val_recall: 0.5887\n",
      "Epoch 2/30\n",
      "282/282 [==============================] - 39s 138ms/step - loss: 0.4945 - recall: 0.7780 - val_loss: 0.8825 - val_recall: 0.6188\n",
      "Epoch 3/30\n",
      "282/282 [==============================] - 39s 138ms/step - loss: 0.1791 - recall: 0.9352 - val_loss: 1.2779 - val_recall: 0.5355\n",
      "Epoch 4/30\n",
      "282/282 [==============================] - 39s 137ms/step - loss: 0.0867 - recall: 0.9680 - val_loss: 1.1086 - val_recall: 0.5940\n",
      "Epoch 5/30\n",
      "282/282 [==============================] - 39s 139ms/step - loss: 0.0447 - recall: 0.9827 - val_loss: 1.2594 - val_recall: 0.5585\n",
      "Epoch 6/30\n",
      "282/282 [==============================] - 39s 138ms/step - loss: 0.0246 - recall: 0.9911 - val_loss: 1.3720 - val_recall: 0.5408\n",
      "Epoch 7/30\n",
      "282/282 [==============================] - 39s 138ms/step - loss: 0.0182 - recall: 0.9956 - val_loss: 1.1951 - val_recall: 0.5940\n",
      "Epoch 8/30\n",
      "282/282 [==============================] - 39s 138ms/step - loss: 0.0130 - recall: 0.9960 - val_loss: 1.1039 - val_recall: 0.6277\n",
      "Epoch 9/30\n",
      "282/282 [==============================] - 39s 137ms/step - loss: 0.0087 - recall: 0.9969 - val_loss: 1.0292 - val_recall: 0.6472\n",
      "Epoch 10/30\n",
      "282/282 [==============================] - 41s 147ms/step - loss: 0.0058 - recall: 0.9969 - val_loss: 1.0614 - val_recall: 0.6418\n",
      "Epoch 11/30\n",
      "282/282 [==============================] - 39s 138ms/step - loss: 0.0056 - recall: 0.9982 - val_loss: 1.1548 - val_recall: 0.6206\n",
      "Epoch 12/30\n",
      "282/282 [==============================] - 39s 137ms/step - loss: 0.0040 - recall: 0.9978 - val_loss: 1.1245 - val_recall: 0.6152\n",
      "Epoch 13/30\n",
      "282/282 [==============================] - 39s 138ms/step - loss: 9.3536e-04 - recall: 1.0000 - val_loss: 1.0356 - val_recall: 0.6543\n",
      "Epoch 14/30\n",
      "282/282 [==============================] - 39s 140ms/step - loss: 8.0675e-04 - recall: 1.0000 - val_loss: 0.9930 - val_recall: 0.6738\n",
      "Epoch 15/30\n",
      "282/282 [==============================] - 39s 139ms/step - loss: 6.6982e-04 - recall: 1.0000 - val_loss: 1.0227 - val_recall: 0.6667\n",
      "Epoch 16/30\n",
      "282/282 [==============================] - 40s 141ms/step - loss: 0.0011 - recall: 0.9991 - val_loss: 1.0802 - val_recall: 0.6543\n",
      "Epoch 17/30\n",
      "282/282 [==============================] - 40s 141ms/step - loss: 3.3141e-04 - recall: 1.0000 - val_loss: 0.9803 - val_recall: 0.6809\n",
      "Epoch 18/30\n",
      "282/282 [==============================] - 39s 140ms/step - loss: 0.0015 - recall: 0.9991 - val_loss: 0.9892 - val_recall: 0.6791\n",
      "Epoch 19/30\n",
      "282/282 [==============================] - 40s 141ms/step - loss: 5.6192e-04 - recall: 1.0000 - val_loss: 1.1349 - val_recall: 0.6365\n",
      "Epoch 20/30\n",
      "282/282 [==============================] - 40s 141ms/step - loss: 2.1934e-04 - recall: 1.0000 - val_loss: 1.0241 - val_recall: 0.6773\n",
      "Epoch 21/30\n",
      "282/282 [==============================] - 40s 141ms/step - loss: 8.4206e-05 - recall: 1.0000 - val_loss: 0.9374 - val_recall: 0.7092\n",
      "Epoch 22/30\n",
      "282/282 [==============================] - 39s 140ms/step - loss: 8.5271e-05 - recall: 1.0000 - val_loss: 0.9235 - val_recall: 0.7181\n",
      "Epoch 23/30\n",
      "282/282 [==============================] - 39s 140ms/step - loss: 1.7930e-04 - recall: 1.0000 - val_loss: 1.0769 - val_recall: 0.6755\n",
      "Epoch 24/30\n",
      "282/282 [==============================] - 39s 139ms/step - loss: 1.1435e-04 - recall: 1.0000 - val_loss: 0.8210 - val_recall: 0.7571\n",
      "Epoch 25/30\n",
      "282/282 [==============================] - 39s 138ms/step - loss: 1.6206e-04 - recall: 1.0000 - val_loss: 0.8818 - val_recall: 0.7394\n",
      "Epoch 26/30\n",
      "282/282 [==============================] - 39s 138ms/step - loss: 5.4740e-05 - recall: 1.0000 - val_loss: 0.8802 - val_recall: 0.7429\n",
      "Epoch 27/30\n",
      "282/282 [==============================] - 39s 139ms/step - loss: 6.5103e-04 - recall: 0.9996 - val_loss: 0.8516 - val_recall: 0.7535\n",
      "Epoch 28/30\n",
      "282/282 [==============================] - 41s 144ms/step - loss: 9.5226e-05 - recall: 1.0000 - val_loss: 0.9327 - val_recall: 0.7340\n",
      "Epoch 29/30\n",
      "282/282 [==============================] - 39s 139ms/step - loss: 9.2116e-05 - recall: 1.0000 - val_loss: 0.8240 - val_recall: 0.7624\n",
      "Epoch 30/30\n",
      "282/282 [==============================] - 39s 139ms/step - loss: 3.6788e-05 - recall: 1.0000 - val_loss: 0.8284 - val_recall: 0.7890\n"
     ]
    }
   ],
   "source": [
    "history_tfidf_recall = model.fit(X_train_tfidf, y_train, validation_data = (X_test_tfidf, y_test), batch_size = 8, epochs = 30, verbose = 1)"
   ]
  },
  {
   "cell_type": "code",
   "execution_count": null,
   "metadata": {
    "colab": {
     "base_uri": "https://localhost:8080/"
    },
    "id": "eenMhzuIA9dZ",
    "outputId": "abde0b8f-54f4-4df0-b8de-a74df386e024"
   },
   "outputs": [
    {
     "name": "stdout",
     "output_type": "stream",
     "text": [
      "Evaluate on test data\n",
      "71/71 [==============================] - 2s 30ms/step - loss: 0.8284 - recall: 0.7890\n",
      "Test Recall [0.828446626663208, 0.7890070676803589]\n"
     ]
    }
   ],
   "source": [
    "# Performance metric\n",
    "print(\"Evaluate on test data\")\n",
    "recall_NN_tuned_tfidf = model.evaluate(X_test_tfidf, y_test, batch_size = 8)\n",
    "print(\"Test Recall\", recall_NN_tuned_tfidf) "
   ]
  },
  {
   "cell_type": "code",
   "execution_count": null,
   "metadata": {
    "id": "zB3zMUspiquc"
   },
   "outputs": [],
   "source": [
    "# Linear SVC\n",
    "# # Hyper-parameter tuning using Randomised Search CV   "
   ]
  },
  {
   "cell_type": "code",
   "execution_count": null,
   "metadata": {
    "id": "FIUCRNxLiZ28"
   },
   "outputs": [],
   "source": [
    "# Base model\n",
    "from sklearn.svm import LinearSVC \n",
    "from sklearn.multiclass import OneVsRestClassifier\n",
    "clf_LinearSVC = LinearSVC (class_weight = 'balanced', random_state = 7)\n",
    "# class_weight = 'balanced' uses the values of y to automatically adjust weights inversely proportional to class frequencies in the input data\n",
    "clf_ovr_LinearSVC = OneVsRestClassifier(clf_LinearSVC)\n",
    "clf_ovr_LinearSVC.fit(X_train_tfidf, y_train)\n",
    "y_pred = clf_ovr_LinearSVC.predict(X_test_tfidf) "
   ]
  },
  {
   "cell_type": "code",
   "execution_count": null,
   "metadata": {
    "colab": {
     "base_uri": "https://localhost:8080/"
    },
    "id": "abjy0jvMQw6d",
    "outputId": "f4dda8e7-dcec-4529-9cc7-6264ab905e94"
   },
   "outputs": [
    {
     "data": {
      "text/plain": [
       "{'estimator__C': 1.0,\n",
       " 'estimator__class_weight': 'balanced',\n",
       " 'estimator__dual': True,\n",
       " 'estimator__fit_intercept': True,\n",
       " 'estimator__intercept_scaling': 1,\n",
       " 'estimator__loss': 'squared_hinge',\n",
       " 'estimator__max_iter': 1000,\n",
       " 'estimator__multi_class': 'ovr',\n",
       " 'estimator__penalty': 'l2',\n",
       " 'estimator__random_state': 7,\n",
       " 'estimator__tol': 0.0001,\n",
       " 'estimator__verbose': 0,\n",
       " 'estimator': LinearSVC(class_weight='balanced', random_state=7),\n",
       " 'n_jobs': None}"
      ]
     },
     "execution_count": 167,
     "metadata": {},
     "output_type": "execute_result"
    }
   ],
   "source": [
    "clf_ovr_LinearSVC.get_params (deep = True)"
   ]
  },
  {
   "cell_type": "code",
   "execution_count": null,
   "metadata": {
    "colab": {
     "base_uri": "https://localhost:8080/"
    },
    "id": "rKjX9ghyi4Bb",
    "outputId": "9532b2d4-95b7-4f8f-8ced-4859222525a9"
   },
   "outputs": [
    {
     "name": "stdout",
     "output_type": "stream",
     "text": [
      "Fitting 3 folds for each of 5 candidates, totalling 15 fits\n",
      "{'estimator__C': 0.1}\n",
      "OneVsRestClassifier(estimator=LinearSVC(C=0.1, class_weight='balanced',\n",
      "                                        random_state=7))\n"
     ]
    }
   ],
   "source": [
    "# Randomised Search CV with scoring = Precision\n",
    "# define the random search parameters \n",
    "param_dist = {'estimator__C': [0.1, 0.5, 1, 1.5, 2]}\n",
    "# Number of random samples \n",
    "samples = 10  \n",
    "randomCV = RandomizedSearchCV(estimator = clf_ovr_LinearSVC, param_distributions = param_dist, n_iter = samples, refit = True, \n",
    "                              scoring = 'precision', cv = 3, random_state = 7, verbose = 1)\n",
    "result = randomCV.fit(X_train_tfidf, y_train)  \n",
    "# Print best parameter after tuning\n",
    "print(randomCV.best_params_)\n",
    "# Print how our model looks after hyper-parameter tuning\n",
    "print(randomCV.best_estimator_)"
   ]
  },
  {
   "cell_type": "code",
   "execution_count": null,
   "metadata": {
    "id": "-7oak4B4NMXE"
   },
   "outputs": [],
   "source": [
    "# Best parameters \n",
    "C = 0.1  "
   ]
  },
  {
   "cell_type": "code",
   "execution_count": null,
   "metadata": {
    "id": "V4_G39S7S5MT"
   },
   "outputs": [],
   "source": [
    "# Refitting the model with the best hyper-parameters \n",
    "clf_LinearSVC = LinearSVC (class_weight = 'balanced', C = 0.1, random_state = 7)\n",
    "clf_ovr_LinearSVC = OneVsRestClassifier(clf_LinearSVC)\n",
    "clf_ovr_LinearSVC.fit(X_train_tfidf, y_train)\n",
    "y_pred = clf_ovr_LinearSVC.predict(X_test_tfidf)"
   ]
  },
  {
   "cell_type": "code",
   "execution_count": null,
   "metadata": {
    "colab": {
     "base_uri": "https://localhost:8080/"
    },
    "id": "Y-FoUYPVHKpg",
    "outputId": "02cd34a1-79b0-4ae2-8b14-a6593d89b50d"
   },
   "outputs": [
    {
     "name": "stdout",
     "output_type": "stream",
     "text": [
      "0.7222\n",
      "0.7145\n"
     ]
    }
   ],
   "source": [
    "precision_LinearSVC_tuned_tfidf = precision_score(y_test, y_pred, average='micro')\n",
    "print('{:.4f}'.format(precision_LinearSVC_tuned_tfidf))\n",
    "recall_LinearSVC_tuned_tfidf = recall_score(y_test, y_pred, average='micro')\n",
    "print('{:.4f}'.format(recall_LinearSVC_tuned_tfidf))"
   ]
  },
  {
   "cell_type": "code",
   "execution_count": null,
   "metadata": {
    "id": "EL03HEJsB9Mk"
   },
   "outputs": [],
   "source": [
    "# The precision and accuracy deteriorated post hyper-parameter tuning. Probably we need to increase the K in K-fold cross validation. However, increasing the K leads to repeated system crash\n",
    "# as RAM exhauted. \n",
    "# Hence, we will use hyper-parameeter, C = 1"
   ]
  },
  {
   "cell_type": "code",
   "execution_count": null,
   "metadata": {
    "id": "9t9TXGEcCvVr"
   },
   "outputs": [],
   "source": [
    "# Refitting the model with hyper-parameter, C = 1\n",
    "clf_LinearSVC = LinearSVC (class_weight = 'balanced', C = 1, random_state = 7)\n",
    "clf_ovr_LinearSVC = OneVsRestClassifier(clf_LinearSVC)\n",
    "clf_ovr_LinearSVC.fit(X_train_tfidf, y_train)\n",
    "y_pred = clf_ovr_LinearSVC.predict(X_test_tfidf)"
   ]
  },
  {
   "cell_type": "code",
   "execution_count": null,
   "metadata": {
    "colab": {
     "base_uri": "https://localhost:8080/"
    },
    "id": "GYuLozYuC8DP",
    "outputId": "dccdef1b-4e5e-40b3-cde2-8f1d2ea58591"
   },
   "outputs": [
    {
     "name": "stdout",
     "output_type": "stream",
     "text": [
      "0.8836\n",
      "0.6596\n"
     ]
    }
   ],
   "source": [
    "precision_LinearSVC_tuned_tfidf_New = precision_score(y_test, y_pred, average='micro')\n",
    "print('{:.4f}'.format(precision_LinearSVC_tuned_tfidf_New))\n",
    "recall_LinearSVC_tuned_tfidf_New = recall_score(y_test, y_pred, average='micro')\n",
    "print('{:.4f}'.format(recall_LinearSVC_tuned_tfidf_New))"
   ]
  },
  {
   "cell_type": "code",
   "execution_count": null,
   "metadata": {
    "id": "PAlIZCH-RBF7"
   },
   "outputs": [],
   "source": [
    "# Q4.D\n",
    "# Clearly print Performance Metrics."
   ]
  },
  {
   "cell_type": "code",
   "execution_count": null,
   "metadata": {
    "colab": {
     "base_uri": "https://localhost:8080/",
     "height": 313
    },
    "id": "Co4_t0O8Bzjt",
    "outputId": "9fbe6812-572e-4481-9ee8-1808f326b0f2"
   },
   "outputs": [
    {
     "data": {
      "text/html": [
       "\n",
       "  <div id=\"df-8c8f0e42-a778-425d-abd8-1501a5de9980\">\n",
       "    <div class=\"colab-df-container\">\n",
       "      <div>\n",
       "<style scoped>\n",
       "    .dataframe tbody tr th:only-of-type {\n",
       "        vertical-align: middle;\n",
       "    }\n",
       "\n",
       "    .dataframe tbody tr th {\n",
       "        vertical-align: top;\n",
       "    }\n",
       "\n",
       "    .dataframe thead th {\n",
       "        text-align: right;\n",
       "    }\n",
       "</style>\n",
       "<table border=\"1\" class=\"dataframe\">\n",
       "  <thead>\n",
       "    <tr style=\"text-align: right;\">\n",
       "      <th></th>\n",
       "      <th>Model</th>\n",
       "      <th>Precision_tfidf</th>\n",
       "      <th>Precision_cv</th>\n",
       "      <th>Recall_tfidf</th>\n",
       "      <th>Recall_cv</th>\n",
       "    </tr>\n",
       "  </thead>\n",
       "  <tbody>\n",
       "    <tr>\n",
       "      <th>0</th>\n",
       "      <td>Logistic Regression</td>\n",
       "      <td>0.780142</td>\n",
       "      <td>0.760638</td>\n",
       "      <td>0.780142</td>\n",
       "      <td>0.760638</td>\n",
       "    </tr>\n",
       "    <tr>\n",
       "      <th>1</th>\n",
       "      <td>K-Nearest Neighbours</td>\n",
       "      <td>0.652482</td>\n",
       "      <td>0.533688</td>\n",
       "      <td>0.652482</td>\n",
       "      <td>0.533688</td>\n",
       "    </tr>\n",
       "    <tr>\n",
       "      <th>2</th>\n",
       "      <td>Linear Support Vector Classifier</td>\n",
       "      <td>0.81383</td>\n",
       "      <td>0.698582</td>\n",
       "      <td>0.81383</td>\n",
       "      <td>0.698582</td>\n",
       "    </tr>\n",
       "    <tr>\n",
       "      <th>3</th>\n",
       "      <td>Multinomial Naive Bayes</td>\n",
       "      <td>0.510638</td>\n",
       "      <td>0.62766</td>\n",
       "      <td>0.510638</td>\n",
       "      <td>0.62766</td>\n",
       "    </tr>\n",
       "    <tr>\n",
       "      <th>4</th>\n",
       "      <td>XG Boost</td>\n",
       "      <td>0.73227</td>\n",
       "      <td>0.710993</td>\n",
       "      <td>0.73227</td>\n",
       "      <td>0.710993</td>\n",
       "    </tr>\n",
       "    <tr>\n",
       "      <th>5</th>\n",
       "      <td>Random Forest</td>\n",
       "      <td>0.560284</td>\n",
       "      <td>0.562057</td>\n",
       "      <td>0.560284</td>\n",
       "      <td>0.562057</td>\n",
       "    </tr>\n",
       "    <tr>\n",
       "      <th>6</th>\n",
       "      <td>Neural Network</td>\n",
       "      <td>[0.828446626663208, 0.8135283589363098]</td>\n",
       "      <td>[1.738016128540039, 0.7622641324996948]</td>\n",
       "      <td>[0.828446626663208, 0.7890070676803589]</td>\n",
       "      <td>[1.738016128540039, 0.716312050819397]</td>\n",
       "    </tr>\n",
       "  </tbody>\n",
       "</table>\n",
       "</div>\n",
       "      <button class=\"colab-df-convert\" onclick=\"convertToInteractive('df-8c8f0e42-a778-425d-abd8-1501a5de9980')\"\n",
       "              title=\"Convert this dataframe to an interactive table.\"\n",
       "              style=\"display:none;\">\n",
       "        \n",
       "  <svg xmlns=\"http://www.w3.org/2000/svg\" height=\"24px\"viewBox=\"0 0 24 24\"\n",
       "       width=\"24px\">\n",
       "    <path d=\"M0 0h24v24H0V0z\" fill=\"none\"/>\n",
       "    <path d=\"M18.56 5.44l.94 2.06.94-2.06 2.06-.94-2.06-.94-.94-2.06-.94 2.06-2.06.94zm-11 1L8.5 8.5l.94-2.06 2.06-.94-2.06-.94L8.5 2.5l-.94 2.06-2.06.94zm10 10l.94 2.06.94-2.06 2.06-.94-2.06-.94-.94-2.06-.94 2.06-2.06.94z\"/><path d=\"M17.41 7.96l-1.37-1.37c-.4-.4-.92-.59-1.43-.59-.52 0-1.04.2-1.43.59L10.3 9.45l-7.72 7.72c-.78.78-.78 2.05 0 2.83L4 21.41c.39.39.9.59 1.41.59.51 0 1.02-.2 1.41-.59l7.78-7.78 2.81-2.81c.8-.78.8-2.07 0-2.86zM5.41 20L4 18.59l7.72-7.72 1.47 1.35L5.41 20z\"/>\n",
       "  </svg>\n",
       "      </button>\n",
       "      \n",
       "  <style>\n",
       "    .colab-df-container {\n",
       "      display:flex;\n",
       "      flex-wrap:wrap;\n",
       "      gap: 12px;\n",
       "    }\n",
       "\n",
       "    .colab-df-convert {\n",
       "      background-color: #E8F0FE;\n",
       "      border: none;\n",
       "      border-radius: 50%;\n",
       "      cursor: pointer;\n",
       "      display: none;\n",
       "      fill: #1967D2;\n",
       "      height: 32px;\n",
       "      padding: 0 0 0 0;\n",
       "      width: 32px;\n",
       "    }\n",
       "\n",
       "    .colab-df-convert:hover {\n",
       "      background-color: #E2EBFA;\n",
       "      box-shadow: 0px 1px 2px rgba(60, 64, 67, 0.3), 0px 1px 3px 1px rgba(60, 64, 67, 0.15);\n",
       "      fill: #174EA6;\n",
       "    }\n",
       "\n",
       "    [theme=dark] .colab-df-convert {\n",
       "      background-color: #3B4455;\n",
       "      fill: #D2E3FC;\n",
       "    }\n",
       "\n",
       "    [theme=dark] .colab-df-convert:hover {\n",
       "      background-color: #434B5C;\n",
       "      box-shadow: 0px 1px 3px 1px rgba(0, 0, 0, 0.15);\n",
       "      filter: drop-shadow(0px 1px 2px rgba(0, 0, 0, 0.3));\n",
       "      fill: #FFFFFF;\n",
       "    }\n",
       "  </style>\n",
       "\n",
       "      <script>\n",
       "        const buttonEl =\n",
       "          document.querySelector('#df-8c8f0e42-a778-425d-abd8-1501a5de9980 button.colab-df-convert');\n",
       "        buttonEl.style.display =\n",
       "          google.colab.kernel.accessAllowed ? 'block' : 'none';\n",
       "\n",
       "        async function convertToInteractive(key) {\n",
       "          const element = document.querySelector('#df-8c8f0e42-a778-425d-abd8-1501a5de9980');\n",
       "          const dataTable =\n",
       "            await google.colab.kernel.invokeFunction('convertToInteractive',\n",
       "                                                     [key], {});\n",
       "          if (!dataTable) return;\n",
       "\n",
       "          const docLinkHtml = 'Like what you see? Visit the ' +\n",
       "            '<a target=\"_blank\" href=https://colab.research.google.com/notebooks/data_table.ipynb>data table notebook</a>'\n",
       "            + ' to learn more about interactive tables.';\n",
       "          element.innerHTML = '';\n",
       "          dataTable['output_type'] = 'display_data';\n",
       "          await google.colab.output.renderOutput(dataTable, element);\n",
       "          const docLink = document.createElement('div');\n",
       "          docLink.innerHTML = docLinkHtml;\n",
       "          element.appendChild(docLink);\n",
       "        }\n",
       "      </script>\n",
       "    </div>\n",
       "  </div>\n",
       "  "
      ],
      "text/plain": [
       "                              Model                          Precision_tfidf  \\\n",
       "0               Logistic Regression                                 0.780142   \n",
       "1              K-Nearest Neighbours                                 0.652482   \n",
       "2  Linear Support Vector Classifier                                  0.81383   \n",
       "3           Multinomial Naive Bayes                                 0.510638   \n",
       "4                          XG Boost                                  0.73227   \n",
       "5                     Random Forest                                 0.560284   \n",
       "6                    Neural Network  [0.828446626663208, 0.8135283589363098]   \n",
       "\n",
       "                              Precision_cv  \\\n",
       "0                                 0.760638   \n",
       "1                                 0.533688   \n",
       "2                                 0.698582   \n",
       "3                                  0.62766   \n",
       "4                                 0.710993   \n",
       "5                                 0.562057   \n",
       "6  [1.738016128540039, 0.7622641324996948]   \n",
       "\n",
       "                              Recall_tfidf  \\\n",
       "0                                 0.780142   \n",
       "1                                 0.652482   \n",
       "2                                  0.81383   \n",
       "3                                 0.510638   \n",
       "4                                  0.73227   \n",
       "5                                 0.560284   \n",
       "6  [0.828446626663208, 0.7890070676803589]   \n",
       "\n",
       "                                Recall_cv  \n",
       "0                                0.760638  \n",
       "1                                0.533688  \n",
       "2                                0.698582  \n",
       "3                                 0.62766  \n",
       "4                                0.710993  \n",
       "5                                0.562057  \n",
       "6  [1.738016128540039, 0.716312050819397]  "
      ]
     },
     "execution_count": 176,
     "metadata": {},
     "output_type": "execute_result"
    }
   ],
   "source": [
    "# Solution\n",
    "# Peformance of the base models \n",
    "Performance_Metrics = output \n",
    "Performance_Metrics"
   ]
  },
  {
   "cell_type": "code",
   "execution_count": null,
   "metadata": {
    "id": "xIql2INiCA5Q"
   },
   "outputs": [],
   "source": [
    "# In terms of precision, 2 best base models are \n",
    "# Neural Network with TF-IDF vectorizer \n",
    "# Linear SVC with TF-IDF vectorizer"
   ]
  },
  {
   "cell_type": "code",
   "execution_count": null,
   "metadata": {
    "id": "sd-xB8MgFb6H"
   },
   "outputs": [],
   "source": [
    "# Performanace of the 2 best base models post hyper-parameter tuning "
   ]
  },
  {
   "cell_type": "code",
   "execution_count": null,
   "metadata": {
    "colab": {
     "base_uri": "https://localhost:8080/",
     "height": 112
    },
    "id": "PDRYTf2y9mxa",
    "outputId": "74a1d451-fb59-4023-b5e0-13df445c585e"
   },
   "outputs": [
    {
     "data": {
      "text/html": [
       "\n",
       "  <div id=\"df-adde7a22-0ca1-4b8d-b1f3-dbb14c22b683\">\n",
       "    <div class=\"colab-df-container\">\n",
       "      <div>\n",
       "<style scoped>\n",
       "    .dataframe tbody tr th:only-of-type {\n",
       "        vertical-align: middle;\n",
       "    }\n",
       "\n",
       "    .dataframe tbody tr th {\n",
       "        vertical-align: top;\n",
       "    }\n",
       "\n",
       "    .dataframe thead th {\n",
       "        text-align: right;\n",
       "    }\n",
       "</style>\n",
       "<table border=\"1\" class=\"dataframe\">\n",
       "  <thead>\n",
       "    <tr style=\"text-align: right;\">\n",
       "      <th></th>\n",
       "      <th>Model</th>\n",
       "      <th>Precision_tfidf</th>\n",
       "      <th>Recall_tfidf</th>\n",
       "    </tr>\n",
       "  </thead>\n",
       "  <tbody>\n",
       "    <tr>\n",
       "      <th>0</th>\n",
       "      <td>Linear Support Vector Classifier</td>\n",
       "      <td>0.88361</td>\n",
       "      <td>0.659574</td>\n",
       "    </tr>\n",
       "    <tr>\n",
       "      <th>1</th>\n",
       "      <td>Neural Network</td>\n",
       "      <td>[0.828446626663208, 0.8135283589363098]</td>\n",
       "      <td>[0.828446626663208, 0.7890070676803589]</td>\n",
       "    </tr>\n",
       "  </tbody>\n",
       "</table>\n",
       "</div>\n",
       "      <button class=\"colab-df-convert\" onclick=\"convertToInteractive('df-adde7a22-0ca1-4b8d-b1f3-dbb14c22b683')\"\n",
       "              title=\"Convert this dataframe to an interactive table.\"\n",
       "              style=\"display:none;\">\n",
       "        \n",
       "  <svg xmlns=\"http://www.w3.org/2000/svg\" height=\"24px\"viewBox=\"0 0 24 24\"\n",
       "       width=\"24px\">\n",
       "    <path d=\"M0 0h24v24H0V0z\" fill=\"none\"/>\n",
       "    <path d=\"M18.56 5.44l.94 2.06.94-2.06 2.06-.94-2.06-.94-.94-2.06-.94 2.06-2.06.94zm-11 1L8.5 8.5l.94-2.06 2.06-.94-2.06-.94L8.5 2.5l-.94 2.06-2.06.94zm10 10l.94 2.06.94-2.06 2.06-.94-2.06-.94-.94-2.06-.94 2.06-2.06.94z\"/><path d=\"M17.41 7.96l-1.37-1.37c-.4-.4-.92-.59-1.43-.59-.52 0-1.04.2-1.43.59L10.3 9.45l-7.72 7.72c-.78.78-.78 2.05 0 2.83L4 21.41c.39.39.9.59 1.41.59.51 0 1.02-.2 1.41-.59l7.78-7.78 2.81-2.81c.8-.78.8-2.07 0-2.86zM5.41 20L4 18.59l7.72-7.72 1.47 1.35L5.41 20z\"/>\n",
       "  </svg>\n",
       "      </button>\n",
       "      \n",
       "  <style>\n",
       "    .colab-df-container {\n",
       "      display:flex;\n",
       "      flex-wrap:wrap;\n",
       "      gap: 12px;\n",
       "    }\n",
       "\n",
       "    .colab-df-convert {\n",
       "      background-color: #E8F0FE;\n",
       "      border: none;\n",
       "      border-radius: 50%;\n",
       "      cursor: pointer;\n",
       "      display: none;\n",
       "      fill: #1967D2;\n",
       "      height: 32px;\n",
       "      padding: 0 0 0 0;\n",
       "      width: 32px;\n",
       "    }\n",
       "\n",
       "    .colab-df-convert:hover {\n",
       "      background-color: #E2EBFA;\n",
       "      box-shadow: 0px 1px 2px rgba(60, 64, 67, 0.3), 0px 1px 3px 1px rgba(60, 64, 67, 0.15);\n",
       "      fill: #174EA6;\n",
       "    }\n",
       "\n",
       "    [theme=dark] .colab-df-convert {\n",
       "      background-color: #3B4455;\n",
       "      fill: #D2E3FC;\n",
       "    }\n",
       "\n",
       "    [theme=dark] .colab-df-convert:hover {\n",
       "      background-color: #434B5C;\n",
       "      box-shadow: 0px 1px 3px 1px rgba(0, 0, 0, 0.15);\n",
       "      filter: drop-shadow(0px 1px 2px rgba(0, 0, 0, 0.3));\n",
       "      fill: #FFFFFF;\n",
       "    }\n",
       "  </style>\n",
       "\n",
       "      <script>\n",
       "        const buttonEl =\n",
       "          document.querySelector('#df-adde7a22-0ca1-4b8d-b1f3-dbb14c22b683 button.colab-df-convert');\n",
       "        buttonEl.style.display =\n",
       "          google.colab.kernel.accessAllowed ? 'block' : 'none';\n",
       "\n",
       "        async function convertToInteractive(key) {\n",
       "          const element = document.querySelector('#df-adde7a22-0ca1-4b8d-b1f3-dbb14c22b683');\n",
       "          const dataTable =\n",
       "            await google.colab.kernel.invokeFunction('convertToInteractive',\n",
       "                                                     [key], {});\n",
       "          if (!dataTable) return;\n",
       "\n",
       "          const docLinkHtml = 'Like what you see? Visit the ' +\n",
       "            '<a target=\"_blank\" href=https://colab.research.google.com/notebooks/data_table.ipynb>data table notebook</a>'\n",
       "            + ' to learn more about interactive tables.';\n",
       "          element.innerHTML = '';\n",
       "          dataTable['output_type'] = 'display_data';\n",
       "          await google.colab.output.renderOutput(dataTable, element);\n",
       "          const docLink = document.createElement('div');\n",
       "          docLink.innerHTML = docLinkHtml;\n",
       "          element.appendChild(docLink);\n",
       "        }\n",
       "      </script>\n",
       "    </div>\n",
       "  </div>\n",
       "  "
      ],
      "text/plain": [
       "                              Model                          Precision_tfidf  \\\n",
       "0  Linear Support Vector Classifier                                  0.88361   \n",
       "1                    Neural Network  [0.828446626663208, 0.8135283589363098]   \n",
       "\n",
       "                              Recall_tfidf  \n",
       "0                                 0.659574  \n",
       "1  [0.828446626663208, 0.7890070676803589]  "
      ]
     },
     "execution_count": 179,
     "metadata": {},
     "output_type": "execute_result"
    }
   ],
   "source": [
    "tuned_result = pd.DataFrame({'Model': ['Linear Support Vector Classifier','Neural Network'], \n",
    "                       'Precision_tfidf': [precision_LinearSVC_tuned_tfidf_New, precision_NN_tuned_tfidf],\n",
    "                       'Recall_tfidf': [recall_LinearSVC_tuned_tfidf_New, recall_NN_tuned_tfidf]})\n",
    "tuned_result"
   ]
  },
  {
   "cell_type": "code",
   "execution_count": null,
   "metadata": {
    "id": "tc-gcYDbsI6B"
   },
   "outputs": [],
   "source": [
    "# # PS: In the case of NN, The 2nd numerical data within the parenthesis denotes model precision "
   ]
  },
  {
   "cell_type": "code",
   "execution_count": null,
   "metadata": {
    "id": "Rd5tHWYFexDP"
   },
   "outputs": [],
   "source": [
    "# Between the 2 models, Linear SVC with TF-IDF vectorizer produced superior precision than NN\n",
    "# However, in terms of recall, NN model with TF-IDF vectorizer outstripped the Linear SVC model "
   ]
  },
  {
   "cell_type": "code",
   "execution_count": null,
   "metadata": {
    "id": "07PtEMZ-SgQd"
   },
   "outputs": [],
   "source": [
    "# Q5\n",
    "# Share insights on relative performance comparison"
   ]
  },
  {
   "cell_type": "code",
   "execution_count": null,
   "metadata": {
    "id": "5orp5txlTDzl"
   },
   "outputs": [],
   "source": [
    "# Q5.A\n",
    "# Which vectorizer performed better? Probable reason?."
   ]
  },
  {
   "cell_type": "code",
   "execution_count": null,
   "metadata": {
    "id": "50qC_UkCIxo6"
   },
   "outputs": [],
   "source": [
    "# Solution \n",
    "# Term Frequency - Inverse Document Frequency (TF-IDF) vectorizer produced better model outcomes relative to Count vectorizer \n",
    "# For both NN and Linear SVC models, the TF-IDF vectorizer produced superior outcomes \n",
    "\n",
    "# Reasons \n",
    "# Count-vectorizer performs tokenisation and counting of words while TF-IDF vectorizer normalizes the data as well \n",
    "# While Count vectorizer is focused solely on the frequency of words, the TF-IDF vectorizer considers the importance of words too\n",
    "# The Inverse Document Frequency (IDF) part of the TF-IDF vectorizer essentially de-emphasises the most commonly occurring words and emphasises the not so commonly occurring words\n",
    "# IDF (Inverse document frequency) penalizes terms that occur often in all documents\n",
    "# Thus, the IDF for stop words like 'is', 'the' etc is 0. If IDF is 0 then the TF-IDF will be 0 \n",
    "# Removing the stop words reduces the dimensions of the vocabulary\n",
    "# Dimensionality reduction is a prudent approach to reduce model complexity and generate superior model outcomes "
   ]
  },
  {
   "cell_type": "code",
   "execution_count": null,
   "metadata": {
    "id": "byX6wUaXTKU6"
   },
   "outputs": [],
   "source": [
    "# Q5.B\n",
    "# Which model outperformed? Probable reason?"
   ]
  },
  {
   "cell_type": "code",
   "execution_count": null,
   "metadata": {
    "id": "sFPZuGKsTfo9"
   },
   "outputs": [],
   "source": [
    "# Solution\n",
    "# Base scenario\n",
    "# 1. In terms of Precision, the NN with TF-IDF vectorizer and Linear SVC model with TF-IDF vectorizer produced identical model outcomes \n",
    "# 2. In terms of Recall, the best performing model is Linear SVC with TF-IDF vectorizer\n",
    "\n",
    "# Post hyper-parameter tuning \n",
    "# 1. In terms of Precision, the best model outcome is produced by Linear SVC with TF-IDF vectorizer  \n",
    "# 2. In terms of Recall, the best performing model is Neural Network with TF-IDF vectorizer\n",
    "\n",
    "# Why Linear SVC? \n",
    "# Linear SVC is one of the best ML methods to classify text. The algorithm draws a hyper-plane that divides a space into multiple sub-spaces\n",
    "# 1. The Linear Support Vector Classifier (SVC) method applies a linear kernel function to perform classification\n",
    "# Text is mostly linearly separable. Linear kernel works well with linearly separable spaces\n",
    "# 2. Linear SVC performs well with a large number of samples. In text classification, the number of features (words) and instances (documents) are large. Empirical research lends credence to the fact that\n",
    "# projecting the data to a high dimensional space doesn't help when the data space is linearly separable. \n",
    "# Hence projecting data to higher dimensional spaces using kernels like RBF (Radial Basis Function) doesn't improve model performance. Linear kernel is apt for the same \n",
    "# 3. With Linear SVC, we need to regularise hyper-parameter 'C' only whereas with other SVCs we need to regularise the gamma, 'γ' hyper-parameter too. This ensures faster execution especially during \n",
    "# hyper-parameter tuning using Grid Search CV or Randomised Search CV\n",
    "\n",
    "# Why Neural Network? \n",
    "# 1. Like Linear SVC, NN is one of the best algorithms to classify text. It is a hierarchical ML process that employs different algorithms in a progressive chain of events\n",
    "# 2. ML algorithms like logistic regression etc uses a threshold for learning from training data. For example, in order to classify whether an email is spam or not spam, a classification \n",
    "# threshold must be defined. NNs, on the contrary, don’t need a threshold for learning from training data\n",
    "# 3. Neural networks are a high-variance low-bias method. They perform well on large training datasets. With more training data, the model learns to generalize better. This leads to lower variance. \n",
    "# In this case, the presence of a large dataset helps the NN model to generalise better and generate superior model outcomes "
   ]
  },
  {
   "cell_type": "code",
   "execution_count": null,
   "metadata": {
    "id": "nWmw0Oj5TOl4"
   },
   "outputs": [],
   "source": [
    "# Q5.C\n",
    "# Which parameter/hyperparameter significantly helped to improve performance?Probable reason?."
   ]
  },
  {
   "cell_type": "code",
   "execution_count": null,
   "metadata": {
    "id": "_892f6OZTgSZ"
   },
   "outputs": [],
   "source": [
    "# Solution\n",
    "# In the case of Linear SVC, the C hyper-parameter improved the model performance. C is regularization parameter. The strength of the regularization is inversely proportional to C\n",
    "# C parameter adds a penalty for each misclassified data point. Low C means low penalty for mis-classification. For small C, the optimizer choses a larger margin hyperplane \n",
    "\n",
    "# In the case of NN, tuning the learning rate hyper-parameter helped improve the model performance\n",
    "# Here, we used Adam optimiser which is an extension of stochastic gradient descent optimiser \n",
    "# Stochastic gradient descent is an optimization algorithm that estimates the error gradient of the model using the training dataset, then updates the weights of the model using back-propagation\n",
    "# The learning rate is a hyper-parameter in an optimization algorithm that determines the step size at each iteration while moving toward a minimum of a loss function\n",
    "# The learning rate hyperparameter controls the rate or speed at which the model learns\n",
    "# A large learning rate allows the model to learn faster at the cost of arriving at sub-optimal weights. On the contrary, a small learning rate may led to locally or even globally optimum weights \n",
    "# at the cost of higher computation time\n",
    "# Adam optimiser uses adaptive learning rates. Here the algorithm monitors the model performance and adapts the learning rates accordingly \n",
    "# Here, we input the Initial step size (learning rate) and the algorithm adaptively changes the learning rates basis model outcomes "
   ]
  },
  {
   "cell_type": "code",
   "execution_count": null,
   "metadata": {
    "id": "2Wba2jNnTVXL"
   },
   "outputs": [],
   "source": [
    "# Q5.D\n",
    "# According to you, which performance metric should be given most importance, why?."
   ]
  },
  {
   "cell_type": "code",
   "execution_count": null,
   "metadata": {
    "id": "59fm1GoTThHD"
   },
   "outputs": [],
   "source": [
    "# Solution\n",
    "# We have used 2 model evaluation metrics viz, Precision and Recall\n",
    "# The current dataset is characterised by skewed class distributions hence, accuracy metric was not used\n",
    "\n",
    "# Precision quantifies the number of positive class predictions that actually belong to the positive class\n",
    "# Recall quantifies the number of positive class predictions made out of all positive examples in the dataset\n",
    "# Whether Precision is more important than Precision or vice versa depends entirely on the problem at hand\n",
    "# In this case where the task is to build an NLP classifier which uses the input text parameters to determine the label/s of the blog\n",
    "# Here, we felt that Precision metric holds more imprtance tha Recall\n",
    "# Precision holds more significance than recall when we would like to have less False Positives in trade off to have more False Negatives\n",
    "# In this case, getting a False Positive looks costly while a False Negative is not as much costly\n",
    "# Hence, Precision metric outweighed Recall metric in terms of relevance "
   ]
  },
  {
   "cell_type": "code",
   "execution_count": null,
   "metadata": {
    "id": "davn7G4xThwE"
   },
   "outputs": [],
   "source": [
    "# Part B\n",
    "# DOMAIN: Customer support\n",
    "# PROJECT OBJECTIVE: Design a python based interactive semi - rule based chatbot which can do the following:"
   ]
  },
  {
   "cell_type": "code",
   "execution_count": null,
   "metadata": {
    "id": "fJJ71H5ysl7v"
   },
   "outputs": [],
   "source": [
    "# Import necessary libraries\n",
    "import io\n",
    "import random\n",
    "import string # to process standard python strings\n",
    "import warnings\n",
    "import numpy as np\n",
    "from sklearn.feature_extraction.text import TfidfVectorizer\n",
    "from sklearn.metrics.pairwise import cosine_similarity\n",
    "import warnings\n",
    "warnings.filterwarnings('ignore')"
   ]
  },
  {
   "cell_type": "code",
   "execution_count": null,
   "metadata": {
    "colab": {
     "base_uri": "https://localhost:8080/"
    },
    "id": "xWBaybqnxRoJ",
    "outputId": "20a6c34c-0b10-4852-cd03-2b08a1677cd2"
   },
   "outputs": [
    {
     "name": "stdout",
     "output_type": "stream",
     "text": [
      "Looking in indexes: https://pypi.org/simple, https://us-python.pkg.dev/colab-wheels/public/simple/\n",
      "Requirement already satisfied: nltk in /usr/local/lib/python3.7/dist-packages (3.7)\n",
      "Requirement already satisfied: click in /usr/local/lib/python3.7/dist-packages (from nltk) (7.1.2)\n",
      "Requirement already satisfied: tqdm in /usr/local/lib/python3.7/dist-packages (from nltk) (4.64.1)\n",
      "Requirement already satisfied: regex>=2021.8.3 in /usr/local/lib/python3.7/dist-packages (from nltk) (2022.6.2)\n",
      "Requirement already satisfied: joblib in /usr/local/lib/python3.7/dist-packages (from nltk) (1.1.0)\n"
     ]
    },
    {
     "data": {
      "text/plain": [
       "True"
      ]
     },
     "execution_count": 193,
     "metadata": {},
     "output_type": "execute_result"
    }
   ],
   "source": [
    "! pip install nltk\n",
    "import nltk\n",
    "import re\n",
    "from nltk.stem import WordNetLemmatizer\n",
    "nltk.download('popular', quiet=True) # for downloading packages\n",
    "#nltk.download('punkt') \n",
    "#nltk.download('wordnet')"
   ]
  },
  {
   "cell_type": "code",
   "execution_count": null,
   "metadata": {
    "id": "1ZJxwOmxVq4F"
   },
   "outputs": [],
   "source": [
    "# Reading the corpus file \n",
    "path = '/content/drive/My Drive/GL_Bot.json'\n",
    "import json\n",
    "f = open(path)\n",
    "f = open(path,'r',errors = 'ignore')\n",
    "raw = f.read()"
   ]
  },
  {
   "cell_type": "code",
   "execution_count": null,
   "metadata": {
    "colab": {
     "base_uri": "https://localhost:8080/"
    },
    "id": "ackV34GWJ45g",
    "outputId": "c3c89a23-b7c4-43ca-80cb-8c8871188fc8"
   },
   "outputs": [
    {
     "name": "stdout",
     "output_type": "stream",
     "text": [
      "{\"intents\": [\n",
      "        {\"tag\": \"Intro\",\n",
      "         \"patterns\": [\"hi\", \n",
      "                      \"how are you\", \n",
      "                      \"is anyone there\", \n",
      "                      \"hello\", \n",
      "                      \"whats up\",\n",
      "                      \"hey\",\n",
      "                      \"yo\",\n",
      "                      \"listen\", \n",
      "                      \"please help me\",\n",
      "                      \"i am learner from\",\n",
      "                      \"i belong to\",\n",
      "                      \"aiml batch\",\n",
      "                      \"aifl batch\",\n",
      "                      \"i am from\",\n",
      "                      \"my pm is\",\n",
      "                      \"blended\",\n",
      "                      \"online\",\n",
      "                      \"i am from\",\n",
      "                      \"hey ya\",\n",
      "                      \"talking to you for first time\"],\n",
      "         \"responses\": [\"Hello! how can i help you ?\"],\n",
      "         \"context_set\": \"\"\n",
      "        },\n",
      "        {\"tag\": \"Exit\",\n",
      "         \"patterns\": [\"thank you\", \n",
      "                      \"thanks\", \n",
      "                      \"cya\",\n",
      "                      \"see you\",\n",
      "                      \"later\", \n",
      "                      \"see you later\", \n",
      "                      \"goodbye\", \n",
      "                      \"i am leaving\", \n",
      "                      \"have a Good day\",\n",
      "                      \"you helped me\",\n",
      "                      \"thanks a lot\",\n",
      "                      \"thanks a ton\",\n",
      "                      \"you are the best\",\n",
      "                      \"great help\",\n",
      "                      \"too good\",\n",
      "                      \"you are a good learning buddy\"],\n",
      "         \"responses\": [\"I hope I was able to assist you, Good Bye\"],\n",
      "         \"context_set\": \"\"\n",
      "        },\n",
      "        {\"tag\": \"Olympus\",\n",
      "         \"patterns\": [\"olympus\",\n",
      "                      \"explain me how olympus works\",\n",
      "                      \"I am not able to understand olympus\",\n",
      "                      \"olympus window not working\",\n",
      "                      \"no access to olympus\",\n",
      "                      \"unable to see link in olympus\",\n",
      "                      \"no link visible on olympus\",\n",
      "                      \"whom to contact for olympus\",\n",
      "                      \"lot of problem with olympus\",\n",
      "                      \"olypus is not a good tool\",\n",
      "                      \"lot of problems with olympus\",\n",
      "                      \"how to use olympus\",\n",
      "                      \"teach me olympus\"],\n",
      "         \"responses\": [\"Link: Olympus wiki\"],\n",
      "         \"context_set\": \"\"\n",
      "        },\n",
      "        {\"tag\": \"SL\",\n",
      "         \"patterns\": [\"i am not able to understand svm\", \n",
      "                      \"explain me how machine learning works\",\n",
      "                      \"i am not able to understand naive bayes\",\n",
      "                      \"i am not able to understand logistic regression\",\n",
      "                      \"i am not able to understand ensemble techb=niques\",\n",
      "                      \"i am not able to understand knn\",\n",
      "                      \"i am not able to understand knn imputer\",\n",
      "                      \"i am not able to understand cross validation\",\n",
      "                      \"i am not able to understand boosting\",\n",
      "                      \"i am not able to understand random forest\",\n",
      "                      \"i am not able to understand ada boosting\",\n",
      "                      \"i am not able to understand gradient boosting\",\n",
      "                      \"machine learning\",\n",
      "                      \"ML\",\n",
      "                      \"SL\", \n",
      "                      \"supervised learning\",\n",
      "                      \"knn\",\n",
      "                      \"logistic regression\",\n",
      "                      \"regression\",\n",
      "                      \"classification\",\n",
      "                      \"naive bayes\",\n",
      "                      \"nb\",\n",
      "                      \"ensemble techniques\",\n",
      "                      \"bagging\",\n",
      "                      \"boosting\",\n",
      "                      \"ada boosting\",\n",
      "                      \"ada\",\n",
      "                      \"gradient boosting\",\n",
      "                      \"hyper parameters\"],\n",
      "         \"responses\": [\"Link: Machine Learning wiki \"],\n",
      "         \"context_set\": \"\"\n",
      "        },\n",
      "    \n",
      "        {\"tag\": \"NN\",\n",
      "         \"patterns\": [\"what is deep learning\", \n",
      "                      \"unable to understand deep learning\",\n",
      "                      \"explain me how deep learning works\",\n",
      "                      \"i am not able to understand deep learning\",\n",
      "                      \"not able to understand neural nets\",\n",
      "                      \"very diffult to understand neural nets\",\n",
      "                      \"unable to understand neural nets\",\n",
      "                      \"ann\", \n",
      "                      \"artificial intelligence\", \n",
      "                      \"artificial neural networks\",\n",
      "                      \"weights\",\n",
      "                      \"activation function\",\n",
      "                      \"hidden layers\",\n",
      "                      \"softmax\",\n",
      "                      \"sigmoid\",\n",
      "                      \"relu\",\n",
      "                      \"otimizer\",\n",
      "                      \"forward propagation\",\n",
      "                      \"backward propagation\",\n",
      "                      \"epochs\",\n",
      "                      \"epoch\",\n",
      "                      \"what is an epoch\",\n",
      "                      \"adam\",\n",
      "                      \"sgd\"],\n",
      "         \"responses\": [\"Link: Neural Nets wiki\"],\n",
      "         \"context_set\": \"\"\n",
      "        },\n",
      "        \n",
      "        {\"tag\": \"Bot\",\n",
      "         \"patterns\": [\"what is your name\",\n",
      "                      \"who are you\",\n",
      "                      \"name please\",\n",
      "                      \"when are your hours of opertions\", \n",
      "                      \"what are your working hours\", \n",
      "                      \"hours of operation\",\n",
      "                      \"working hours\",\n",
      "                      \"hours\"],\n",
      "         \"responses\": [\"I am your virtual learning assistant\"],\n",
      "         \"context_set\": \"\"\n",
      "        },\n",
      "    \n",
      "    {\"tag\": \"Profane\",\n",
      "         \"patterns\": [\"what the hell\",\n",
      "                      \"bloody stupid bot\",\n",
      "                      \"do you think you are very smart\",\n",
      "                      \"screw you\", \n",
      "                      \"i hate you\", \n",
      "                      \"you are stupid\",\n",
      "                      \"jerk\",\n",
      "                      \"you are a joke\",\n",
      "                      \"useless piece of shit\"],\n",
      "         \"responses\": [\"Please use respectful words\"],\n",
      "         \"context_set\": \"\"\n",
      "        },\n",
      "    \n",
      "        {\"tag\": \"Ticket\",\n",
      "         \"patterns\": [\"my problem is not solved\", \n",
      "                      \"you did not help me\", \n",
      "                      \"not a good solution\",\n",
      "                      \"bad solution\",\n",
      "                      \"not good solution\",\n",
      "                      \"no help\",\n",
      "                      \"wasted my time\",\n",
      "                      \"useless bot\",\n",
      "                      \"create a ticket\"],\n",
      "         \"responses\": [\"Tarnsferring the request to your PM\"],\n",
      "         \"context_set\": \"\"\n",
      "        }\n",
      "   ]\n",
      "}\n"
     ]
    }
   ],
   "source": [
    "# Corpus file\n",
    "print (raw)"
   ]
  },
  {
   "cell_type": "code",
   "execution_count": null,
   "metadata": {
    "id": "nRtBGBMGv5cP"
   },
   "outputs": [],
   "source": [
    "# Pre-processing\n",
    "# Converting to lowercase\n",
    "raw = raw.lower() "
   ]
  },
  {
   "cell_type": "code",
   "execution_count": null,
   "metadata": {
    "id": "hMzPIn8axo_u"
   },
   "outputs": [],
   "source": [
    "# Tokenisation\n",
    "sent_tokens = nltk.sent_tokenize(raw) # sentence tokenisation\n",
    "word_tokens = nltk.word_tokenize(raw) # word tokenisation "
   ]
  },
  {
   "cell_type": "code",
   "execution_count": null,
   "metadata": {
    "id": "I2IL5FMexOK1"
   },
   "outputs": [],
   "source": [
    "# Lemmatization\n",
    "lemmer = nltk.stem.WordNetLemmatizer()\n",
    "def LemTokens(tokens):\n",
    "    return [lemmer.lemmatize(token) for token in tokens]\n",
    "remove_punct_dict = dict((ord(punct), None) for punct in string.punctuation)\n",
    "def LemNormalize(text):\n",
    "    return LemTokens(nltk.word_tokenize(text.lower().translate(remove_punct_dict)))"
   ]
  },
  {
   "cell_type": "code",
   "execution_count": null,
   "metadata": {
    "id": "Mbmo11mUT0qd"
   },
   "outputs": [],
   "source": [
    "# Q1. Start chat session with greetings and ask what the user is looking for."
   ]
  },
  {
   "cell_type": "code",
   "execution_count": null,
   "metadata": {
    "id": "pM3nN0vOIe25"
   },
   "outputs": [],
   "source": [
    "greeting_inputs = (\"hello\", \"hi\", \"greetings\", \"sup\", \"what's up\",\"hey\", \"good morning\", \"good evening\", \"morning\", \"evening\", \"whatsup\") \n",
    "greeting_responses = [\"hi, how can I help you today?\", \"hey, how can I help you today?\", \"hey, how can I help you today?\", \"hi there, how can I help you today?\", \n",
    "                      \"hello, how can I help you today?\", \"hey, how can I help you today?\", \"hey, how can I help you today?\", \"hi, how can I help you today?\", \n",
    "                      \"hey, how can I help you today?\", \"hey, how can I help you today?\", \"hello, how can I help you today?\"]\n",
    "    \n",
    "def generate_greeting_response(greeting):\n",
    "    for word in greeting.split():\n",
    "        if word.lower() in greeting_inputs:\n",
    "            return random.choice(greeting_responses)\n"
   ]
  },
  {
   "cell_type": "code",
   "execution_count": null,
   "metadata": {
    "id": "7j24J7H6IbUr"
   },
   "outputs": [],
   "source": [
    "# Q2. Accept dynamic text based questions from the user. Reply back with relevant answer from the designed corpus."
   ]
  },
  {
   "cell_type": "code",
   "execution_count": null,
   "metadata": {
    "id": "XUrujbFSPV3J"
   },
   "outputs": [],
   "source": [
    "# Solution\n",
    "# To generate a response from the chat bot for input questions, the concept of document similarity is used\n",
    "# A function is defined which searches the user’s input for one or more known keywords and returns one of several possible responses\n",
    "# If the chatbot doesn’t find the input matching any of the keywords, it returns a response:\"I am sorry! I don’t understand you\" "
   ]
  },
  {
   "cell_type": "code",
   "execution_count": null,
   "metadata": {
    "id": "kVu1luAGj78c"
   },
   "outputs": [],
   "source": [
    "# Importing the necessary libraries \n",
    "from sklearn.feature_extraction.text import TfidfVectorizer\n",
    "from sklearn.metrics.pairwise import cosine_similarity"
   ]
  },
  {
   "cell_type": "code",
   "execution_count": null,
   "metadata": {
    "id": "PQptawozUAbg"
   },
   "outputs": [],
   "source": [
    "# Function for generating user's response  \n",
    "def response(user_input): \n",
    "  GLrobo_response = ''\n",
    "  sent_tokens.append(user_input)\n",
    "  \n",
    "  TfidfVec = TfidfVectorizer (tokenizer = LemNormalize, stop_words='english')\n",
    "  tfidf = TfidfVec.fit_transform (sent_tokens)\n",
    "  vals = cosine_similarity (tfidf[-1], tfidf)\n",
    "  idx = vals.argsort()[0][-2]\n",
    "  flat = vals.flatten()\n",
    "  flat.sort()\n",
    "  req_tfidf = flat[-2]\n",
    "  if(req_tfidf == 0):\n",
    "    GLrobo_response = GLrobo_response + \"I am sorry! I don't understand you\"\n",
    "    return GLrobo_response\n",
    "  else:\n",
    "    GLrobo_response = GLrobo_response + sent_tokens[idx]\n",
    "    return GLrobo_response "
   ]
  },
  {
   "cell_type": "code",
   "execution_count": null,
   "metadata": {
    "id": "jWvrk0bLWbAT"
   },
   "outputs": [],
   "source": [
    "# Test 1\n",
    "user_input = \"Hi\"\n"
   ]
  },
  {
   "cell_type": "code",
   "execution_count": null,
   "metadata": {
    "colab": {
     "base_uri": "https://localhost:8080/",
     "height": 105
    },
    "id": "Y_IdktOGWwOd",
    "outputId": "c8655601-3b40-4a56-a9d1-b6e5e4da6d96"
   },
   "outputs": [
    {
     "data": {
      "application/vnd.google.colaboratory.intrinsic+json": {
       "type": "string"
      },
      "text/plain": [
       "'{\"intents\": [\\n        {\"tag\": \"intro\",\\n         \"patterns\": [\"hi\", \\n                      \"how are you\", \\n                      \"is anyone there\", \\n                      \"hello\", \\n                      \"whats up\",\\n                      \"hey\",\\n                      \"yo\",\\n                      \"listen\", \\n                      \"please help me\",\\n                      \"i am learner from\",\\n                      \"i belong to\",\\n                      \"aiml batch\",\\n                      \"aifl batch\",\\n                      \"i am from\",\\n                      \"my pm is\",\\n                      \"blended\",\\n                      \"online\",\\n                      \"i am from\",\\n                      \"hey ya\",\\n                      \"talking to you for first time\"],\\n         \"responses\": [\"hello!'"
      ]
     },
     "execution_count": 206,
     "metadata": {},
     "output_type": "execute_result"
    }
   ],
   "source": [
    "response(user_input)"
   ]
  },
  {
   "cell_type": "code",
   "execution_count": null,
   "metadata": {
    "id": "OHJR15bbXFig"
   },
   "outputs": [],
   "source": [
    "# Test 2\n",
    "user_input = \"thank you\""
   ]
  },
  {
   "cell_type": "code",
   "execution_count": null,
   "metadata": {
    "colab": {
     "base_uri": "https://localhost:8080/",
     "height": 123
    },
    "id": "esRZjufWXSV-",
    "outputId": "62d042ea-a423-4a0a-cab7-eac394976f1c"
   },
   "outputs": [
    {
     "data": {
      "application/vnd.google.colaboratory.intrinsic+json": {
       "type": "string"
      },
      "text/plain": [
       "'\"],\\n         \"context_set\": \"\"\\n        },\\n        {\"tag\": \"exit\",\\n         \"patterns\": [\"thank you\", \\n                      \"thanks\", \\n                      \"cya\",\\n                      \"see you\",\\n                      \"later\", \\n                      \"see you later\", \\n                      \"goodbye\", \\n                      \"i am leaving\", \\n                      \"have a good day\",\\n                      \"you helped me\",\\n                      \"thanks a lot\",\\n                      \"thanks a ton\",\\n                      \"you are the best\",\\n                      \"great help\",\\n                      \"too good\",\\n                      \"you are a good learning buddy\"],\\n         \"responses\": [\"i hope i was able to assist you, good bye\"],\\n         \"context_set\": \"\"\\n        },\\n        {\"tag\": \"olympus\",\\n         \"patterns\": [\"olympus\",\\n                      \"explain me how olympus works\",\\n                      \"i am not able to understand olympus\",\\n                      \"olympus window not working\",\\n                      \"no access to olympus\",\\n                      \"unable to see link in olympus\",\\n                      \"no link visible on olympus\",\\n                      \"whom to contact for olympus\",\\n                      \"lot of problem with olympus\",\\n                      \"olypus is not a good tool\",\\n                      \"lot of problems with olympus\",\\n                      \"how to use olympus\",\\n                      \"teach me olympus\"],\\n         \"responses\": [\"link: olympus wiki\"],\\n         \"context_set\": \"\"\\n        },\\n        {\"tag\": \"sl\",\\n         \"patterns\": [\"i am not able to understand svm\", \\n                      \"explain me how machine learning works\",\\n                      \"i am not able to understand naive bayes\",\\n                      \"i am not able to understand logistic regression\",\\n                      \"i am not able to understand ensemble techb=niques\",\\n                      \"i am not able to understand knn\",\\n                      \"i am not able to understand knn imputer\",\\n                      \"i am not able to understand cross validation\",\\n                      \"i am not able to understand boosting\",\\n                      \"i am not able to understand random forest\",\\n                      \"i am not able to understand ada boosting\",\\n                      \"i am not able to understand gradient boosting\",\\n                      \"machine learning\",\\n                      \"ml\",\\n                      \"sl\", \\n                      \"supervised learning\",\\n                      \"knn\",\\n                      \"logistic regression\",\\n                      \"regression\",\\n                      \"classification\",\\n                      \"naive bayes\",\\n                      \"nb\",\\n                      \"ensemble techniques\",\\n                      \"bagging\",\\n                      \"boosting\",\\n                      \"ada boosting\",\\n                      \"ada\",\\n                      \"gradient boosting\",\\n                      \"hyper parameters\"],\\n         \"responses\": [\"link: machine learning wiki \"],\\n         \"context_set\": \"\"\\n        },\\n    \\n        {\"tag\": \"nn\",\\n         \"patterns\": [\"what is deep learning\", \\n                      \"unable to understand deep learning\",\\n                      \"explain me how deep learning works\",\\n                      \"i am not able to understand deep learning\",\\n                      \"not able to understand neural nets\",\\n                      \"very diffult to understand neural nets\",\\n                      \"unable to understand neural nets\",\\n                      \"ann\", \\n                      \"artificial intelligence\", \\n                      \"artificial neural networks\",\\n                      \"weights\",\\n                      \"activation function\",\\n                      \"hidden layers\",\\n                      \"softmax\",\\n                      \"sigmoid\",\\n                      \"relu\",\\n                      \"otimizer\",\\n                      \"forward propagation\",\\n                      \"backward propagation\",\\n                      \"epochs\",\\n                      \"epoch\",\\n                      \"what is an epoch\",\\n                      \"adam\",\\n                      \"sgd\"],\\n         \"responses\": [\"link: neural nets wiki\"],\\n         \"context_set\": \"\"\\n        },\\n        \\n        {\"tag\": \"bot\",\\n         \"patterns\": [\"what is your name\",\\n                      \"who are you\",\\n                      \"name please\",\\n                      \"when are your hours of opertions\", \\n                      \"what are your working hours\", \\n                      \"hours of operation\",\\n                      \"working hours\",\\n                      \"hours\"],\\n         \"responses\": [\"i am your virtual learning assistant\"],\\n         \"context_set\": \"\"\\n        },\\n    \\n    {\"tag\": \"profane\",\\n         \"patterns\": [\"what the hell\",\\n                      \"bloody stupid bot\",\\n                      \"do you think you are very smart\",\\n                      \"screw you\", \\n                      \"i hate you\", \\n                      \"you are stupid\",\\n                      \"jerk\",\\n                      \"you are a joke\",\\n                      \"useless piece of shit\"],\\n         \"responses\": [\"please use respectful words\"],\\n         \"context_set\": \"\"\\n        },\\n    \\n        {\"tag\": \"ticket\",\\n         \"patterns\": [\"my problem is not solved\", \\n                      \"you did not help me\", \\n                      \"not a good solution\",\\n                      \"bad solution\",\\n                      \"not good solution\",\\n                      \"no help\",\\n                      \"wasted my time\",\\n                      \"useless bot\",\\n                      \"create a ticket\"],\\n         \"responses\": [\"tarnsferring the request to your pm\"],\\n         \"context_set\": \"\"\\n        }\\n   ]\\n}'"
      ]
     },
     "execution_count": 208,
     "metadata": {},
     "output_type": "execute_result"
    }
   ],
   "source": [
    "response(user_input)"
   ]
  },
  {
   "cell_type": "code",
   "execution_count": null,
   "metadata": {
    "id": "WWGu3vbVUxmg"
   },
   "outputs": [],
   "source": [
    "# Q3. End the chat session only if the user requests to end else ask what the user is looking for. Loop continues till the user asks to end it."
   ]
  },
  {
   "cell_type": "code",
   "execution_count": null,
   "metadata": {
    "colab": {
     "base_uri": "https://localhost:8080/"
    },
    "id": "KuBK93UZU-sp",
    "outputId": "4d3177c4-2c8d-401e-f190-61e9868868b5"
   },
   "outputs": [
    {
     "name": "stdout",
     "output_type": "stream",
     "text": [
      "GLBOT: My name is GLBot. How can I help you today? Also, if you want to exit any time, just type Bye!\n",
      "Hi\n",
      "GLBOT: hey, how can I help you today?\n",
      "Bye\n",
      "GLBOT: Goodbye! Take care...\n"
     ]
    }
   ],
   "source": [
    "# Solution\n",
    "# Defining conversation start/end protocols\n",
    "flag = True\n",
    "print(\"GLBOT: My name is GLBot. How can I help you today? Also, if you want to exit any time, just type Bye!\")\n",
    "while (flag == True): \n",
    "    user_input = input()\n",
    "    user_input = user_input.lower()\n",
    "    if(user_input!='bye'):\n",
    "        if(user_input == 'thanks' or user_input == 'thank you' or user_input == 'thank you very much' ):\n",
    "            flag = False\n",
    "            print(\"GLBOT: You are welcome\")\n",
    "        else:\n",
    "            if(generate_greeting_response(user_input)!= None):\n",
    "                print(\"GLBOT: \"+ generate_greeting_response (user_input))\n",
    "            else:\n",
    "                sent_tokens.append (user_input)\n",
    "                word_tokens = word_tokens + nltk.word_tokenize(user_input)\n",
    "                final_words = list(set(word_tokens))\n",
    "                print(\"GLBOT: \", end = \"\")\n",
    "                print(response(user_input))\n",
    "                sent_tokens.remove(user_input)\n",
    "    else:\n",
    "        flag = False\n",
    "        print(\"GLBOT: Goodbye! Take care...\")\n"
   ]
  }
 ],
 "metadata": {
  "colab": {
   "background_execution": "on",
   "collapsed_sections": [],
   "machine_shape": "hm",
   "provenance": []
  },
  "gpuClass": "standard",
  "kernelspec": {
   "display_name": "Python 3 (ipykernel)",
   "language": "python",
   "name": "python3"
  },
  "language_info": {
   "codemirror_mode": {
    "name": "ipython",
    "version": 3
   },
   "file_extension": ".py",
   "mimetype": "text/x-python",
   "name": "python",
   "nbconvert_exporter": "python",
   "pygments_lexer": "ipython3",
   "version": "3.9.12"
  }
 },
 "nbformat": 4,
 "nbformat_minor": 1
}
